{
 "cells": [
  {
   "cell_type": "markdown",
   "id": "caaab754",
   "metadata": {},
   "source": [
    "# Portfolio Ideas\n",
    "A notebook to explore different investment portfolio ideas and compare their historic returns, inclusive of fees"
   ]
  },
  {
   "cell_type": "code",
   "execution_count": 61,
   "id": "1f86dcda",
   "metadata": {},
   "outputs": [],
   "source": [
    "%matplotlib inline"
   ]
  },
  {
   "cell_type": "markdown",
   "id": "cab0e0d0",
   "metadata": {},
   "source": [
    "## Vanguard LifeStrategy 100%\n",
    "First we just plot the price of the index over the maximum duration."
   ]
  },
  {
   "cell_type": "code",
   "execution_count": 62,
   "id": "32f64053",
   "metadata": {},
   "outputs": [
    {
     "data": {
      "image/png": "[encoded data removed]",
      "text/plain": [
       "<Figure size 432x288 with 1 Axes>"
      ]
     },
     "metadata": {
      "needs_background": "light"
     },
     "output_type": "display_data"
    }
   ],
   "source": [
    "import yfinance as yf\n",
    "import pendulum\n",
    "import matplotlib.pyplot as plt\n",
    "from matplotlib.dates import YearLocator, MonthLocator, DateFormatter\n",
    "price_history = yf.Ticker('0P0000TKZO.L').history(period='max', # valid periods: 1d,5d,1mo,3mo,6mo,1y,2y,5y,10y,ytd,max\n",
    "                                                  interval='1d', # valid intervals: 1m,2m,5m,15m,30m,60m,90m,1h,1d,5d,1wk,1mo,3mo\n",
    "                                                  actions=False)\n",
    "price_history = price_history[price_history['Close']>300]\n",
    "plt.plot(price_history['Close'])\n",
    "plt.xticks(rotation = 90)\n",
    "plt.title('Vanguard LifeStrategy 100%')\n",
    "ax = plt.gca()\n",
    "ax.xaxis.set_major_locator(MonthLocator(1,6))"
   ]
  },
  {
   "cell_type": "markdown",
   "id": "0bf6f239",
   "metadata": {},
   "source": [
    "Now we construct our investment scenario of a regular investment that maximises the UK ISA allowance."
   ]
  },
  {
   "cell_type": "code",
   "execution_count": null,
   "id": "ea8a2e3a",
   "metadata": {},
   "outputs": [],
   "source": [
    "price_history['deposits']=[20000/365,]*len(price_history)\n",
    "price_history.head()"
   ]
  },
  {
   "cell_type": "code",
   "execution_count": null,
   "id": "a47a88ec",
   "metadata": {},
   "outputs": [],
   "source": [
    "price_history['units'] = price_history['deposits']/price_history['Close']\n",
    "price_history['cum_units'] = price_history['units'].cumsum()\n",
    "price_history['cum_value'] =  price_history['cum_units']*price_history['Close']\n",
    "price_history['fees'] = ((1+0.22/100)**(1/365)-1)*price_history['cum_value']"
   ]
  },
  {
   "cell_type": "code",
   "execution_count": null,
   "id": "68e0643e",
   "metadata": {},
   "outputs": [],
   "source": [
    "plt.plot(price_history['cum_value']-price_history['fees'].cumsum())\n",
    "plt.plot(price_history['deposits'].cumsum())\n",
    "plt.xticks(rotation = 90)\n",
    "plt.title('Vanguard LifeStrategy 100%')\n",
    "ax = plt.gca()\n",
    "ax.xaxis.set_major_locator(MonthLocator(1,6))\n",
    "profit = price_history.iloc[-1,price_history.columns.get_loc(\"cum_value\")]-price_history['deposits'].sum()-price_history['fees'].sum()\n",
    "print(profit)"
   ]
  },
  {
   "cell_type": "markdown",
   "id": "3f908f0e",
   "metadata": {},
   "source": [
    "# Portfolio Modelling\n",
    "For portfolio analysis, I'd like to explore the following features:\n",
    "* Modelling a porfolio consisting of multiple funds.\n",
    "* Rebalancing to target allocations.\n",
    "* Rebalancing at given frequency.\n",
    "    \n",
    "Proposed structure would be lists of fund names, tickers, allocations and ongoing charges. A deposit rate would also need to be defined. Rebalancing times could be specified as a date series.\n",
    "\n",
    "Future functionality might include:\n",
    "* Variable allocation.\n",
    "* Definition of deposits in time."
   ]
  },
  {
   "cell_type": "code",
   "execution_count": 97,
   "id": "f591b46f",
   "metadata": {},
   "outputs": [
    {
     "name": "stdout",
     "output_type": "stream",
     "text": [
      "[31408857.228515822, 606.3291997202998]\n",
      "[-15841184.392968947, 15378290.114985485]\n",
      "[-222615.18434755027, -220524.21586171456]\n",
      "[-237226.5219643248, -228920.81458265655]\n",
      "[-249874.89029293516, -246777.08019522394]\n",
      "[-258323.6009129918, -253076.59006903743]\n",
      "[-257278.0842211635, -261590.854463049]\n",
      "[-270956.155367305, -266842.19130023225]\n",
      "[-263553.98649854364, -268637.1591186009]\n",
      "[-232767.6772054088, -249206.78667106706]\n",
      "[-247773.5068508299, -248307.76863295483]\n",
      "[-233307.8045977805, -230494.30518260095]\n",
      "[-239579.29393059012, -241181.25329544433]\n",
      "[-244876.48953317705, -250510.19415503892]\n",
      "[-257202.24634875392, -262909.45197827276]\n",
      "[-265608.39611581876, -264108.0444189927]\n",
      "[-252966.3928893766, -267628.26235930435]\n",
      "[-282386.34726431104, -272468.62808883504]\n",
      "[-285714.4218612582, -289178.89873946225]\n",
      "[-264924.6503881276, -285065.61074960197]\n",
      "[-265706.9522764825, -265587.51645949855]\n",
      "[-266054.90187333216, -258429.96437053866]\n",
      "[-274582.9980469126, -267558.10509083234]\n",
      "[-296105.8469406548, -271130.57745400636]\n",
      "[-284005.48931768344, -290714.76251629187]\n",
      "[-276974.24813616934, -267120.03326565685]\n",
      "[-277470.2198644662, -261466.28570983696]\n",
      "[-311394.87359115813, -291911.185175864]\n",
      "[-336283.7762497018, -322736.66655434546]\n",
      "[-364684.19277455786, -330320.65661489667]\n",
      "[-367652.9480552383, -349722.90312581306]\n",
      "[-398530.2008636179, -370003.6789624508]\n",
      "[-393199.8003710158, -388593.3553364048]\n",
      "[-391692.6649396918, -381389.53796778206]\n",
      "[-426003.9708432366, -404830.28035171743]\n",
      "[-459538.685487074, -422021.7797450262]\n",
      "[-464155.4922879251, -424404.62595964904]\n",
      "[-410809.88073759846, -453286.3851408829]\n",
      "[-413939.4315115562, -442134.3011976412]\n",
      "[-473401.17100550164, -454026.21977066377]\n",
      "[-443253.7977067223, -460880.9257463181]\n",
      "[-499543.6174334876, -478956.2299617113]\n",
      "[-483319.0643915357, -503246.5515442347]\n",
      "[-512370.74937070004, -503967.851879744]\n",
      "[-529455.7429909612, -489567.33631661726]\n",
      "[-535456.8025715521, -517208.9639035319]\n",
      "[-521911.27741150855, -533913.5088978031]\n",
      "[-473321.45616080373, -543309.1310668851]\n",
      "[-409551.0289789036, -459439.2024946726]\n",
      "[-405978.34762871364, -416289.533986978]\n",
      "[-417178.19214388524, -426874.2295582141]\n",
      "[-375453.73886472156, -415306.6000154715]\n",
      "[-348328.6413129212, -376353.1545171555]\n",
      "[-321665.56943957665, -350948.3336402725]\n",
      "[-410672.1669139348, -359965.08453697467]\n",
      "[-354312.9972882922, -382282.8057908951]\n"
     ]
    }
   ],
   "source": [
    "funds = [\"Scottish Mortgage Ord\",\"Fundsmith Equity I Acc\"];\n",
    "tickers = [\"GB00BLDYK618\",\"GB00B41YBW71\"]\n",
    "allocation = [0.5, 0.5]\n",
    "annual_deposit = 20000\n",
    "rebalance_rate = \"monthly\"\n",
    "product_cost = [0.66, 0.99]\n",
    "\n",
    "# Create data frames for each allocation\n",
    "price_history_list = list()\n",
    "for i in range(len(funds)):\n",
    "    price_history = yf.Ticker(tickers[i]).history(period='max', # valid periods: 1d,5d,1mo,3mo,6mo,1y,2y,5y,10y,ytd,max\n",
    "                                                  interval='1d', # valid intervals: 1m,2m,5m,15m,30m,60m,90m,1h,1d,5d,1wk,1mo,3mo\n",
    "                                                  actions=False)\n",
    "    price_history['deposits']=[annual_deposit/365*allocation[i],]*len(price_history)\n",
    "    price_history['units'] = price_history['deposits']/price_history['Close']\n",
    "    price_history['cum_units'] = price_history['units'].cumsum()\n",
    "    price_history['cum_value'] =  price_history['cum_units']*price_history['Close']\n",
    "    price_history_list.append(price_history)\n",
    "\n",
    "# Trim price_history_list to earliest date in portfolio\n",
    "# Start by finding the first date data was available for each portfolio\n",
    "first_timestamp = list ()\n",
    "for price_history in price_history_list:\n",
    "    first_timestamp.append(price_history.index[1])\n",
    "start_date = max(first_timestamp)\n",
    "    \n",
    "# Now trim data\n",
    "for i in range(len(price_history_list)):\n",
    "    price_history_list[i] = price_history_list[i][price_history_list[i].index >= start_date]\n",
    "\n",
    "price_history_list[0].head()\n",
    "\n",
    "# Rebalance\n",
    "# Start by creating rebalance series\n",
    "from datetime import datetime\n",
    "import pandas as pd\n",
    "rebalance_dates = pd.date_range(start_date,datetime.now(tz=None), freq='M')\n",
    "\n",
    "# Find allocation of rebalance dates\n",
    "for i_date in range(len(rebalance_dates)):\n",
    "#for i_date in [0]:\n",
    "    # Find current asset allocation\n",
    "    value_breakdown = list()\n",
    "    for i_fund in range(len(price_history_list)):\n",
    "        price_history = price_history_list[i_fund]\n",
    "        matching_row = price_history.index.get_indexer([rebalance_dates[i_date]],method='nearest')[0]\n",
    "        value_breakdown.append(price_history.iloc[matching_row].loc['cum_value']) # Include fees here?\n",
    "    \n",
    "    print(value_breakdown)\n",
    "    \n",
    "\n",
    "    # Computer targer allocations based on asset weightings\n",
    "    target_allocation = [allocation_fraction*sum(value_breakdown) for allocation_fraction in allocation]\n",
    "\n",
    "    \n",
    "    # Update units, cum_units and cum_value in light of the new breakdown\n",
    "    for i_fund in range(len(price_history_list)):\n",
    "        \n",
    "        # Extract df of interest\n",
    "        price_history = price_history_list[i_fund]\n",
    "        \n",
    "        # Find index locations for cells of interest\n",
    "        matching_row = price_history.index.get_indexer([rebalance_dates[i_date]],method='nearest')[0]\n",
    "        cum_value_idx = price_history.columns.get_loc(\"cum_value\")\n",
    "        units_idx = price_history.columns.get_loc(\"units\")\n",
    "        \n",
    "        # Compute units deviation from the target\n",
    "        units_delta = (price_history.iloc[matching_row,cum_value_idx] - target_allocation[i_fund])/price_history.iloc[matching_row]['Close']\n",
    "        \n",
    "        # Update units entry to match target allocation\n",
    "        price_history.iloc[matching_row,units_idx] -= units_delta\n",
    "        \n",
    "        # Update remaining rows\n",
    "        price_history['cum_units'] = price_history['units'].cumsum()\n",
    "        price_history['cum_value'] =  price_history['cum_units']*price_history['Close']\n",
    "        price_history['fees'] = ((1+product_cost[i_fund]/100)**(1/365)-1)*price_history['cum_value']\n",
    "        \n",
    "        # Update list with data frame including the new \n",
    "        price_history_list[i_fund] = price_history"
   ]
  },
  {
   "cell_type": "code",
   "execution_count": 111,
   "id": "9638a383",
   "metadata": {},
   "outputs": [
    {
     "data": {
      "text/plain": [
       "[<matplotlib.lines.Line2D at 0x24bf8e5fdf0>]"
      ]
     },
     "execution_count": 111,
     "metadata": {},
     "output_type": "execute_result"
    },
    {
     "data": {
      "image/png": "[encoded data removed]",
      "text/plain": [
       "<Figure size 432x288 with 1 Axes>"
      ]
     },
     "metadata": {
      "needs_background": "light"
     },
     "output_type": "display_data"
    }
   ],
   "source": [
    "plt.plot(price_history_list[1].cum_units)"
   ]
  },
  {
   "cell_type": "code",
   "execution_count": 70,
   "id": "fc1dece5",
   "metadata": {},
   "outputs": [
    {
     "data": {
      "text/html": [
       "<div>\n",
       "<style scoped>\n",
       "    .dataframe tbody tr th:only-of-type {\n",
       "        vertical-align: middle;\n",
       "    }\n",
       "\n",
       "    .dataframe tbody tr th {\n",
       "        vertical-align: top;\n",
       "    }\n",
       "\n",
       "    .dataframe thead th {\n",
       "        text-align: right;\n",
       "    }\n",
       "</style>\n",
       "<table border=\"1\" class=\"dataframe\">\n",
       "  <thead>\n",
       "    <tr style=\"text-align: right;\">\n",
       "      <th></th>\n",
       "      <th>Open</th>\n",
       "      <th>High</th>\n",
       "      <th>Low</th>\n",
       "      <th>Close</th>\n",
       "      <th>Volume</th>\n",
       "      <th>deposits</th>\n",
       "      <th>units</th>\n",
       "      <th>cum_units</th>\n",
       "      <th>cum_value</th>\n",
       "      <th>fees</th>\n",
       "    </tr>\n",
       "    <tr>\n",
       "      <th>Date</th>\n",
       "      <th></th>\n",
       "      <th></th>\n",
       "      <th></th>\n",
       "      <th></th>\n",
       "      <th></th>\n",
       "      <th></th>\n",
       "      <th></th>\n",
       "      <th></th>\n",
       "      <th></th>\n",
       "      <th></th>\n",
       "    </tr>\n",
       "  </thead>\n",
       "  <tbody>\n",
       "    <tr>\n",
       "      <th>2018-01-03</th>\n",
       "      <td>439.467470</td>\n",
       "      <td>447.297625</td>\n",
       "      <td>439.467470</td>\n",
       "      <td>446.710358</td>\n",
       "      <td>1664865</td>\n",
       "      <td>54.794521</td>\n",
       "      <td>0.061331</td>\n",
       "      <td>0.061331</td>\n",
       "      <td>54.794521</td>\n",
       "      <td>0.001233</td>\n",
       "    </tr>\n",
       "    <tr>\n",
       "      <th>2018-01-04</th>\n",
       "      <td>446.514614</td>\n",
       "      <td>451.212695</td>\n",
       "      <td>446.514614</td>\n",
       "      <td>450.625427</td>\n",
       "      <td>2309974</td>\n",
       "      <td>54.794521</td>\n",
       "      <td>0.060798</td>\n",
       "      <td>0.122129</td>\n",
       "      <td>110.033923</td>\n",
       "      <td>0.002476</td>\n",
       "    </tr>\n",
       "    <tr>\n",
       "      <th>2018-01-05</th>\n",
       "      <td>451.799965</td>\n",
       "      <td>453.953240</td>\n",
       "      <td>451.604200</td>\n",
       "      <td>452.191467</td>\n",
       "      <td>2721809</td>\n",
       "      <td>54.794521</td>\n",
       "      <td>0.060588</td>\n",
       "      <td>0.182717</td>\n",
       "      <td>165.426215</td>\n",
       "      <td>0.003724</td>\n",
       "    </tr>\n",
       "    <tr>\n",
       "      <th>2018-01-08</th>\n",
       "      <td>451.799996</td>\n",
       "      <td>457.476847</td>\n",
       "      <td>451.799996</td>\n",
       "      <td>456.498077</td>\n",
       "      <td>2239863</td>\n",
       "      <td>54.794521</td>\n",
       "      <td>0.060016</td>\n",
       "      <td>0.242733</td>\n",
       "      <td>221.507146</td>\n",
       "      <td>0.004985</td>\n",
       "    </tr>\n",
       "    <tr>\n",
       "      <th>2018-01-09</th>\n",
       "      <td>456.302329</td>\n",
       "      <td>460.804645</td>\n",
       "      <td>456.302329</td>\n",
       "      <td>460.217407</td>\n",
       "      <td>2563447</td>\n",
       "      <td>54.794521</td>\n",
       "      <td>0.059531</td>\n",
       "      <td>0.302264</td>\n",
       "      <td>277.306135</td>\n",
       "      <td>0.006237</td>\n",
       "    </tr>\n",
       "  </tbody>\n",
       "</table>\n",
       "</div>"
      ],
      "text/plain": [
       "                  Open        High         Low       Close   Volume  \\\n",
       "Date                                                                  \n",
       "2018-01-03  439.467470  447.297625  439.467470  446.710358  1664865   \n",
       "2018-01-04  446.514614  451.212695  446.514614  450.625427  2309974   \n",
       "2018-01-05  451.799965  453.953240  451.604200  452.191467  2721809   \n",
       "2018-01-08  451.799996  457.476847  451.799996  456.498077  2239863   \n",
       "2018-01-09  456.302329  460.804645  456.302329  460.217407  2563447   \n",
       "\n",
       "             deposits     units  cum_units   cum_value      fees  \n",
       "Date                                                              \n",
       "2018-01-03  54.794521  0.061331   0.061331   54.794521  0.001233  \n",
       "2018-01-04  54.794521  0.060798   0.122129  110.033923  0.002476  \n",
       "2018-01-05  54.794521  0.060588   0.182717  165.426215  0.003724  \n",
       "2018-01-08  54.794521  0.060016   0.242733  221.507146  0.004985  \n",
       "2018-01-09  54.794521  0.059531   0.302264  277.306135  0.006237  "
      ]
     },
     "execution_count": 70,
     "metadata": {},
     "output_type": "execute_result"
    }
   ],
   "source": [
    "# Compute final value\n",
    "price_history = price_history_list[0]\n",
    "for i_fund in range(1,len(price_history_list)):\n",
    "    price_history['cum_value'] += price_history_list[i_fund]['cum_value']\n",
    "    price_history['fees'] += price_history_list[i_fund]['fees']\n",
    "    price_history['deposits'] += price_history_list[i_fund]['deposits']\n",
    "    \n",
    "price_history.head()"
   ]
  },
  {
   "cell_type": "code",
   "execution_count": 89,
   "id": "1c7c8fee",
   "metadata": {},
   "outputs": [
    {
     "name": "stdout",
     "output_type": "stream",
     "text": [
      "-404397.9024003859\n"
     ]
    },
    {
     "data": {
      "image/png": "[encoded data removed]",
      "text/plain": [
       "<Figure size 432x288 with 1 Axes>"
      ]
     },
     "metadata": {
      "needs_background": "light"
     },
     "output_type": "display_data"
    }
   ],
   "source": [
    "plt.plot(price_history['cum_value'])\n",
    "plt.plot()\n",
    "plt.plot(price_history['deposits'].cumsum())\n",
    "plt.xticks(rotation = 90)\n",
    "plt.title('Current Portfolio')\n",
    "ax = plt.gca()\n",
    "ax.xaxis.set_major_locator(MonthLocator(1,6))\n",
    "profit = price_history.iloc[-1,price_history.columns.get_loc(\"cum_value\")]-price_history['deposits'].sum()-price_history['fees'].sum()\n",
    "print(profit)"
   ]
  },
  {
   "cell_type": "code",
   "execution_count": null,
   "id": "9cef6158",
   "metadata": {},
   "outputs": [],
   "source": []
  }
 ],
 "metadata": {
  "kernelspec": {
   "display_name": "Python 3 (ipykernel)",
   "language": "python",
   "name": "python3"
  },
  "language_info": {
   "codemirror_mode": {
    "name": "ipython",
    "version": 3
   },
   "file_extension": ".py",
   "mimetype": "text/x-python",
   "name": "python",
   "nbconvert_exporter": "python",
   "pygments_lexer": "ipython3",
   "version": "3.10.2"
  }
 },
 "nbformat": 4,
 "nbformat_minor": 5
}
