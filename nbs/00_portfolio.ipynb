{
 "cells": [
  {
   "cell_type": "markdown",
   "id": "caaab754",
   "metadata": {},
   "source": [
    "# portfolio\n",
    "\n",
    "> A module to model a portfolio's performance over the available time-scale including the impact of fees.\n",
    "\n",
    "A notebook to explore different investment portfolio ideas and compare their historic returns, inclusive of fees"
   ]
  },
  {
   "cell_type": "code",
   "execution_count": 1,
   "id": "225debc8",
   "metadata": {},
   "outputs": [],
   "source": [
    "#| default_exp portfolio"
   ]
  },
  {
   "cell_type": "code",
   "execution_count": 2,
   "id": "88040eaa",
   "metadata": {},
   "outputs": [],
   "source": [
    "#| hide\n",
    "from nbdev.showdoc import *"
   ]
  },
  {
   "cell_type": "code",
   "execution_count": 3,
   "id": "1f86dcda",
   "metadata": {},
   "outputs": [],
   "source": [
    "import yfinance as yf\n",
    "import pendulum\n",
    "%matplotlib inline"
   ]
  },
  {
   "cell_type": "markdown",
   "id": "c274b552",
   "metadata": {},
   "source": [
    "# Holding\n",
    "A holding is an asset that can be bought. We need to track it's value and how much of it we own over time. We therefore need financial data which can be provided by yfinance for free."
   ]
  },
  {
   "cell_type": "markdown",
   "id": "54ad90c8",
   "metadata": {},
   "source": [
    "Let's import the package and have a play. Remembering that when we are using `nbdev` we have to have imports in their own cells."
   ]
  },
  {
   "cell_type": "code",
   "execution_count": 4,
   "id": "7f4c5806",
   "metadata": {},
   "outputs": [],
   "source": [
    "import yfinance as yf"
   ]
  },
  {
   "cell_type": "code",
   "execution_count": 5,
   "id": "83d0007f",
   "metadata": {},
   "outputs": [
    {
     "data": {
      "text/html": [
       "<div>\n",
       "<style scoped>\n",
       "    .dataframe tbody tr th:only-of-type {\n",
       "        vertical-align: middle;\n",
       "    }\n",
       "\n",
       "    .dataframe tbody tr th {\n",
       "        vertical-align: top;\n",
       "    }\n",
       "\n",
       "    .dataframe thead th {\n",
       "        text-align: right;\n",
       "    }\n",
       "</style>\n",
       "<table border=\"1\" class=\"dataframe\">\n",
       "  <thead>\n",
       "    <tr style=\"text-align: right;\">\n",
       "      <th></th>\n",
       "      <th>Open</th>\n",
       "      <th>High</th>\n",
       "      <th>Low</th>\n",
       "      <th>Close</th>\n",
       "      <th>Volume</th>\n",
       "    </tr>\n",
       "    <tr>\n",
       "      <th>Date</th>\n",
       "      <th></th>\n",
       "      <th></th>\n",
       "      <th></th>\n",
       "      <th></th>\n",
       "      <th></th>\n",
       "    </tr>\n",
       "  </thead>\n",
       "  <tbody>\n",
       "    <tr>\n",
       "      <th>1980-01-02</th>\n",
       "      <td>0.560007</td>\n",
       "      <td>0.560007</td>\n",
       "      <td>0.560007</td>\n",
       "      <td>0.560007</td>\n",
       "      <td>0</td>\n",
       "    </tr>\n",
       "    <tr>\n",
       "      <th>1980-01-03</th>\n",
       "      <td>0.557518</td>\n",
       "      <td>0.557518</td>\n",
       "      <td>0.557518</td>\n",
       "      <td>0.557518</td>\n",
       "      <td>0</td>\n",
       "    </tr>\n",
       "    <tr>\n",
       "      <th>1980-01-04</th>\n",
       "      <td>0.560629</td>\n",
       "      <td>0.560629</td>\n",
       "      <td>0.560629</td>\n",
       "      <td>0.560629</td>\n",
       "      <td>0</td>\n",
       "    </tr>\n",
       "    <tr>\n",
       "      <th>1980-01-07</th>\n",
       "      <td>0.560629</td>\n",
       "      <td>0.560629</td>\n",
       "      <td>0.560629</td>\n",
       "      <td>0.560629</td>\n",
       "      <td>0</td>\n",
       "    </tr>\n",
       "    <tr>\n",
       "      <th>1980-01-08</th>\n",
       "      <td>0.567473</td>\n",
       "      <td>0.567473</td>\n",
       "      <td>0.567473</td>\n",
       "      <td>0.567473</td>\n",
       "      <td>0</td>\n",
       "    </tr>\n",
       "  </tbody>\n",
       "</table>\n",
       "</div>"
      ],
      "text/plain": [
       "                Open      High       Low     Close  Volume\n",
       "Date                                                      \n",
       "1980-01-02  0.560007  0.560007  0.560007  0.560007       0\n",
       "1980-01-03  0.557518  0.557518  0.557518  0.557518       0\n",
       "1980-01-04  0.560629  0.560629  0.560629  0.560629       0\n",
       "1980-01-07  0.560629  0.560629  0.560629  0.560629       0\n",
       "1980-01-08  0.567473  0.567473  0.567473  0.567473       0"
      ]
     },
     "execution_count": 5,
     "metadata": {},
     "output_type": "execute_result"
    }
   ],
   "source": [
    "price_history = yf.Ticker('VWELX').history(period='max', # valid periods: 1d,5d,1mo,3mo,6mo,1y,2y,5y,10y,ytd,max\n",
    "                                           interval='1d', # valid intervals: 1m,2m,5m,15m,30m,60m,90m,1h,1d,5d,1wk,1mo,3mo\n",
    "                                           actions=False)\n",
    "price_history.head()"
   ]
  },
  {
   "cell_type": "markdown",
   "id": "5d865dbd",
   "metadata": {},
   "source": [
    "yfinance appears to be a good option as it has price information. One concern would be what units these are but that doesn't matter as we will convert back to cash at the end."
   ]
  },
  {
   "cell_type": "code",
   "execution_count": 6,
   "id": "3e3166b7",
   "metadata": {},
   "outputs": [
    {
     "data": {
      "text/markdown": [
       "---\n",
       "\n",
       "### TickerBase.history\n",
       "\n",
       ">      TickerBase.history (period='1mo', interval='1d', start=None, end=None,\n",
       ">                          prepost=False, actions=True, auto_adjust=True,\n",
       ">                          back_adjust=False, proxy=None, rounding=False,\n",
       ">                          tz=None, timeout=None, **kwargs)\n",
       "\n",
       ":Parameters:\n",
       "    period : str\n",
       "        Valid periods: 1d,5d,1mo,3mo,6mo,1y,2y,5y,10y,ytd,max\n",
       "        Either Use period parameter or use start and end\n",
       "    interval : str\n",
       "        Valid intervals: 1m,2m,5m,15m,30m,60m,90m,1h,1d,5d,1wk,1mo,3mo\n",
       "        Intraday data cannot extend last 60 days\n",
       "    start: str\n",
       "        Download start date string (YYYY-MM-DD) or _datetime.\n",
       "        Default is 1900-01-01\n",
       "    end: str\n",
       "        Download end date string (YYYY-MM-DD) or _datetime.\n",
       "        Default is now\n",
       "    prepost : bool\n",
       "        Include Pre and Post market data in results?\n",
       "        Default is False\n",
       "    auto_adjust: bool\n",
       "        Adjust all OHLC automatically? Default is True\n",
       "    back_adjust: bool\n",
       "        Back-adjusted data to mimic true historical prices\n",
       "    proxy: str\n",
       "        Optional. Proxy server URL scheme. Default is None\n",
       "    rounding: bool\n",
       "        Round values to 2 decimal places?\n",
       "        Optional. Default is False = precision suggested by Yahoo!\n",
       "    tz: str\n",
       "        Optional timezone locale for dates.\n",
       "        (default data is returned as non-localized dates)\n",
       "    timeout: None or float\n",
       "        If not None stops waiting for a response after given number of\n",
       "        seconds. (Can also be a fraction of a second e.g. 0.01)\n",
       "        Default is None.\n",
       "    **kwargs: dict\n",
       "        debug: bool\n",
       "            Optional. If passed as False, will suppress\n",
       "            error message printing to console."
      ],
      "text/plain": [
       "---\n",
       "\n",
       "### TickerBase.history\n",
       "\n",
       ">      TickerBase.history (period='1mo', interval='1d', start=None, end=None,\n",
       ">                          prepost=False, actions=True, auto_adjust=True,\n",
       ">                          back_adjust=False, proxy=None, rounding=False,\n",
       ">                          tz=None, timeout=None, **kwargs)\n",
       "\n",
       ":Parameters:\n",
       "    period : str\n",
       "        Valid periods: 1d,5d,1mo,3mo,6mo,1y,2y,5y,10y,ytd,max\n",
       "        Either Use period parameter or use start and end\n",
       "    interval : str\n",
       "        Valid intervals: 1m,2m,5m,15m,30m,60m,90m,1h,1d,5d,1wk,1mo,3mo\n",
       "        Intraday data cannot extend last 60 days\n",
       "    start: str\n",
       "        Download start date string (YYYY-MM-DD) or _datetime.\n",
       "        Default is 1900-01-01\n",
       "    end: str\n",
       "        Download end date string (YYYY-MM-DD) or _datetime.\n",
       "        Default is now\n",
       "    prepost : bool\n",
       "        Include Pre and Post market data in results?\n",
       "        Default is False\n",
       "    auto_adjust: bool\n",
       "        Adjust all OHLC automatically? Default is True\n",
       "    back_adjust: bool\n",
       "        Back-adjusted data to mimic true historical prices\n",
       "    proxy: str\n",
       "        Optional. Proxy server URL scheme. Default is None\n",
       "    rounding: bool\n",
       "        Round values to 2 decimal places?\n",
       "        Optional. Default is False = precision suggested by Yahoo!\n",
       "    tz: str\n",
       "        Optional timezone locale for dates.\n",
       "        (default data is returned as non-localized dates)\n",
       "    timeout: None or float\n",
       "        If not None stops waiting for a response after given number of\n",
       "        seconds. (Can also be a fraction of a second e.g. 0.01)\n",
       "        Default is None.\n",
       "    **kwargs: dict\n",
       "        debug: bool\n",
       "            Optional. If passed as False, will suppress\n",
       "            error message printing to console."
      ]
     },
     "execution_count": 6,
     "metadata": {},
     "output_type": "execute_result"
    }
   ],
   "source": [
    "show_doc(yf.Ticker.history)"
   ]
  },
  {
   "cell_type": "markdown",
   "id": "8a2407df",
   "metadata": {},
   "source": [
    "## Deposits\n",
    "\n",
    "Deposits to our fund could be naturally specified as time series of deposits. A helper function is provided to support the creation of monthly deposits. However, this could be extended to different time periods."
   ]
  },
  {
   "cell_type": "code",
   "execution_count": 27,
   "id": "0fb052a2",
   "metadata": {},
   "outputs": [],
   "source": [
    "import pandas as pd\n",
    "from datetime import datetime"
   ]
  },
  {
   "cell_type": "code",
   "execution_count": 35,
   "id": "25e4b822",
   "metadata": {},
   "outputs": [],
   "source": [
    "def create_monthly_deposits(start:str,        # Date of the first montly deposit.\n",
    "                            end:str,          # Date of the last monthly deposit\n",
    "                            deposit:float):    # Value of monthly deposit\n",
    "    to_datetime = lambda date_string: datetime.strptime(date_string,\"%d/%m/%Y\")\n",
    "    dti = pd.date_range(start=to_datetime(start),end=to_datetime(end),freq='M')\n",
    "    deposits = [deposit]*len(dti)\n",
    "    return pd.Series([deposit]*len(dti), index=dti)"
   ]
  },
  {
   "cell_type": "markdown",
   "id": "1dc78d9a",
   "metadata": {},
   "source": [
    "We call our function as follows."
   ]
  },
  {
   "cell_type": "code",
   "execution_count": 34,
   "id": "50dae246",
   "metadata": {},
   "outputs": [
    {
     "data": {
      "text/plain": [
       "1999-01-31    10\n",
       "1999-02-28    10\n",
       "1999-03-31    10\n",
       "1999-04-30    10\n",
       "1999-05-31    10\n",
       "              ..\n",
       "2022-06-30    10\n",
       "2022-07-31    10\n",
       "2022-08-31    10\n",
       "2022-09-30    10\n",
       "2022-10-31    10\n",
       "Freq: M, Length: 286, dtype: int64"
      ]
     },
     "execution_count": 34,
     "metadata": {},
     "output_type": "execute_result"
    }
   ],
   "source": [
    "create_monthly_deposits('21/01/1999','02/11/2022',10)"
   ]
  },
  {
   "cell_type": "markdown",
   "id": "cab0e0d0",
   "metadata": {},
   "source": [
    "## Single Holding\n",
    "First we create a portfolio consisting of a single holding."
   ]
  },
  {
   "cell_type": "code",
   "execution_count": 36,
   "id": "ca55ca20",
   "metadata": {},
   "outputs": [],
   "source": [
    "import matplotlib.pyplot as plt"
   ]
  },
  {
   "cell_type": "code",
   "execution_count": 61,
   "id": "35791738",
   "metadata": {},
   "outputs": [],
   "source": [
    "class Holding:\n",
    "    \"A holding for fund with data available on yfinance\"\n",
    "    def __init__(self,\n",
    "                 fund:str,                      # Name of the fund\n",
    "                 ticker:str,                    # Ticker symbol for the stock\n",
    "                 product_cost:float,            # Sum of all fees expressed as a percentage\n",
    "                 deposits:list)                 # Timeseries dataframe of deposits\n",
    "                 \n",
    "        \n",
    "        self.fund = fund\n",
    "        self.history = yf.Ticker(ticker).history(period='max', # valid periods: 1d,5d,1mo,3mo,6mo,1y,2y,5y,10y,ytd,max\n",
    "                                                 interval='1d', # valid intervals: 1m,2m,5m,15m,30m,60m,90m,1h,1d,5d,1wk,1mo,3mo\n",
    "                                                 actions=False)\n",
    "        self.history['deposits']  = [annual_deposit/365,]*len(self.history)\n",
    "        self.history['units']     = self.history['deposits']/self.history['Close']\n",
    "        self.history['cum_units'] = self.history['units'].cumsum()\n",
    "        self.history['cum_value'] = self.history['cum_units']*self.history['Close']\n",
    "        self.history['fees'] = ((1+product_cost/100)**(1/365)-1)*self.history['cum_value']\n",
    "        \n",
    "    def profit(self):\n",
    "        return self.history['cum_value'][-1]-sum(self.history['deposits'])\n",
    "        \n",
    "    def plot(self):\n",
    "        'Plot value of the holding'\n",
    "        plt.plot(price_history['Close'])\n",
    "        plt.xticks(rotation = 90)\n",
    "        plt.title(self.fund)\n",
    "        return plt"
   ]
  },
  {
   "cell_type": "code",
   "execution_count": 74,
   "id": "f8c4d655",
   "metadata": {},
   "outputs": [],
   "source": [
    "from matplotlib.dates import YearLocator, MonthLocator, DateFormatter"
   ]
  },
  {
   "cell_type": "markdown",
   "id": "e64eb116",
   "metadata": {},
   "source": [
    "We can plot the value of a holding over a time sp"
   ]
  },
  {
   "cell_type": "code",
   "execution_count": 72,
   "id": "10b81767",
   "metadata": {},
   "outputs": [
    {
     "data": {
      "image/png": "[encoded data removed]",
      "text/plain": [
       "<Figure size 432x288 with 1 Axes>"
      ]
     },
     "metadata": {
      "needs_background": "light"
     },
     "output_type": "display_data"
    }
   ],
   "source": [
    "single_holding = Holding('Vanguard LifeStrategy 100%','0P0000TKZO.L',0.22)\n",
    "plt = single_holding.plot()\n",
    "ax = plt.gca()\n",
    "ax.xaxis.set_major_locator(MonthLocator(1,6))"
   ]
  },
  {
   "cell_type": "code",
   "execution_count": 73,
   "id": "8bbd5005",
   "metadata": {},
   "outputs": [
    {
     "data": {
      "text/plain": [
       "17551"
      ]
     },
     "execution_count": 73,
     "metadata": {},
     "output_type": "execute_result"
    }
   ],
   "source": [
    "round(single_holding.profit())"
   ]
  },
  {
   "cell_type": "code",
   "execution_count": 70,
   "id": "32f64053",
   "metadata": {},
   "outputs": [
    {
     "data": {
      "image/png": "[encoded data removed]",
      "text/plain": [
       "<Figure size 432x288 with 1 Axes>"
      ]
     },
     "metadata": {
      "needs_background": "light"
     },
     "output_type": "display_data"
    }
   ],
   "source": [
    "price_history = yf.Ticker('0P0000TKZO.L').history(period='max', # valid periods: 1d,5d,1mo,3mo,6mo,1y,2y,5y,10y,ytd,max\n",
    "                                                  interval='1d', # valid intervals: 1m,2m,5m,15m,30m,60m,90m,1h,1d,5d,1wk,1mo,3mo\n",
    "                                                  actions=False)\n",
    "price_history = price_history[price_history['Close']>300]\n",
    "plt.plot(price_history['Close'])\n",
    "plt.xticks(rotation = 90)\n",
    "plt.title('Vanguard LifeStrategy 100%')\n",
    "ax = plt.gca()\n",
    "ax.xaxis.set_major_locator(MonthLocator(1,6))"
   ]
  },
  {
   "cell_type": "markdown",
   "id": "0bf6f239",
   "metadata": {},
   "source": [
    "Now we construct our investment scenario of a regular investment that maximises the UK ISA allowance."
   ]
  },
  {
   "cell_type": "code",
   "execution_count": 68,
   "id": "ea8a2e3a",
   "metadata": {},
   "outputs": [
    {
     "data": {
      "text/html": [
       "<div>\n",
       "<style scoped>\n",
       "    .dataframe tbody tr th:only-of-type {\n",
       "        vertical-align: middle;\n",
       "    }\n",
       "\n",
       "    .dataframe tbody tr th {\n",
       "        vertical-align: top;\n",
       "    }\n",
       "\n",
       "    .dataframe thead th {\n",
       "        text-align: right;\n",
       "    }\n",
       "</style>\n",
       "<table border=\"1\" class=\"dataframe\">\n",
       "  <thead>\n",
       "    <tr style=\"text-align: right;\">\n",
       "      <th></th>\n",
       "      <th>Open</th>\n",
       "      <th>High</th>\n",
       "      <th>Low</th>\n",
       "      <th>Close</th>\n",
       "      <th>Volume</th>\n",
       "      <th>deposits</th>\n",
       "    </tr>\n",
       "    <tr>\n",
       "      <th>Date</th>\n",
       "      <th></th>\n",
       "      <th></th>\n",
       "      <th></th>\n",
       "      <th></th>\n",
       "      <th></th>\n",
       "      <th></th>\n",
       "    </tr>\n",
       "  </thead>\n",
       "  <tbody>\n",
       "    <tr>\n",
       "      <th>2018-01-02</th>\n",
       "      <td>20677.300781</td>\n",
       "      <td>20677.300781</td>\n",
       "      <td>20677.300781</td>\n",
       "      <td>20677.300781</td>\n",
       "      <td>0</td>\n",
       "      <td>54.794521</td>\n",
       "    </tr>\n",
       "    <tr>\n",
       "      <th>2018-01-03</th>\n",
       "      <td>20863.699219</td>\n",
       "      <td>20863.699219</td>\n",
       "      <td>20863.699219</td>\n",
       "      <td>20863.699219</td>\n",
       "      <td>0</td>\n",
       "      <td>54.794521</td>\n",
       "    </tr>\n",
       "    <tr>\n",
       "      <th>2018-01-04</th>\n",
       "      <td>20965.300781</td>\n",
       "      <td>20965.300781</td>\n",
       "      <td>20965.300781</td>\n",
       "      <td>20965.300781</td>\n",
       "      <td>0</td>\n",
       "      <td>54.794521</td>\n",
       "    </tr>\n",
       "    <tr>\n",
       "      <th>2018-01-05</th>\n",
       "      <td>21076.099609</td>\n",
       "      <td>21076.099609</td>\n",
       "      <td>21076.099609</td>\n",
       "      <td>21076.099609</td>\n",
       "      <td>0</td>\n",
       "      <td>54.794521</td>\n",
       "    </tr>\n",
       "    <tr>\n",
       "      <th>2018-01-08</th>\n",
       "      <td>21060.300781</td>\n",
       "      <td>21060.300781</td>\n",
       "      <td>21060.300781</td>\n",
       "      <td>21060.300781</td>\n",
       "      <td>0</td>\n",
       "      <td>54.794521</td>\n",
       "    </tr>\n",
       "  </tbody>\n",
       "</table>\n",
       "</div>"
      ],
      "text/plain": [
       "                    Open          High           Low         Close  Volume  \\\n",
       "Date                                                                         \n",
       "2018-01-02  20677.300781  20677.300781  20677.300781  20677.300781       0   \n",
       "2018-01-03  20863.699219  20863.699219  20863.699219  20863.699219       0   \n",
       "2018-01-04  20965.300781  20965.300781  20965.300781  20965.300781       0   \n",
       "2018-01-05  21076.099609  21076.099609  21076.099609  21076.099609       0   \n",
       "2018-01-08  21060.300781  21060.300781  21060.300781  21060.300781       0   \n",
       "\n",
       "             deposits  \n",
       "Date                   \n",
       "2018-01-02  54.794521  \n",
       "2018-01-03  54.794521  \n",
       "2018-01-04  54.794521  \n",
       "2018-01-05  54.794521  \n",
       "2018-01-08  54.794521  "
      ]
     },
     "execution_count": 68,
     "metadata": {},
     "output_type": "execute_result"
    }
   ],
   "source": [
    "price_history['deposits']=[20000/365,]*len(price_history)\n",
    "price_history.head()"
   ]
  },
  {
   "cell_type": "code",
   "execution_count": 69,
   "id": "a47a88ec",
   "metadata": {},
   "outputs": [],
   "source": []
  },
  {
   "cell_type": "code",
   "execution_count": 70,
   "id": "68e0643e",
   "metadata": {},
   "outputs": [
    {
     "name": "stdout",
     "output_type": "stream",
     "text": [
      "12520.006478919051\n"
     ]
    },
    {
     "data": {
      "image/png": "[encoded data removed]",
      "text/plain": [
       "<Figure size 432x288 with 1 Axes>"
      ]
     },
     "metadata": {
      "needs_background": "light"
     },
     "output_type": "display_data"
    }
   ],
   "source": [
    "plt.plot(price_history['cum_value']-price_history['fees'].cumsum())\n",
    "plt.plot(price_history['deposits'].cumsum())\n",
    "plt.xticks(rotation = 90)\n",
    "plt.title('Vanguard LifeStrategy 100%')\n",
    "ax = plt.gca()\n",
    "ax.xaxis.set_major_locator(MonthLocator(1,6))\n",
    "profit = price_history.iloc[-1,price_history.columns.get_loc(\"cum_value\")]-price_history['deposits'].sum()-price_history['fees'].sum()\n",
    "print(profit)"
   ]
  },
  {
   "cell_type": "markdown",
   "id": "3f908f0e",
   "metadata": {},
   "source": [
    "# Portfolio Modelling\n",
    "For portfolio analysis, I'd like to explore the following features:\n",
    "* Modelling a porfolio consisting of multiple funds.\n",
    "* Rebalancing to target allocations.\n",
    "* Rebalancing at given frequency.\n",
    "    \n",
    "Proposed structure would be lists of fund names, tickers, allocations and ongoing charges. A deposit rate would also need to be defined. Rebalancing times could be specified as a date series.\n",
    "\n",
    "Future functionality might include:\n",
    "* Variable allocation.\n",
    "* Definition of deposits in time."
   ]
  },
  {
   "cell_type": "code",
   "execution_count": 54,
   "id": "6c6b6c03",
   "metadata": {},
   "outputs": [],
   "source": [
    "funds = [\"Scottish Mortgage Ord\",\"Fundsmith Equity I Acc\"];\n",
    "tickers = [\"GB00BLDYK618\",\"GB00B41YBW71\"]\n",
    "allocation = [0.5, 0.5]\n",
    "annual_deposit = 20000\n",
    "rebalance_rate = \"monthly\"\n",
    "product_cost = [0.66, 0.99]\n",
    "\n",
    "# Create data frames for each allocation\n",
    "price_history_list = list()\n",
    "for i in range(len(funds)):\n",
    "    price_history = yf.Ticker(tickers[i]).history(period='max', # valid periods: 1d,5d,1mo,3mo,6mo,1y,2y,5y,10y,ytd,max\n",
    "                                                  interval='1d', # valid intervals: 1m,2m,5m,15m,30m,60m,90m,1h,1d,5d,1wk,1mo,3mo\n",
    "                                                  actions=False)\n",
    "    price_history['deposits']=[annual_deposit/365*allocation[i],]*len(price_history)\n",
    "    price_history['units'] = price_history['deposits']/price_history['Close']\n",
    "    price_history_list.append(price_history)\n",
    "\n",
    "# Trim price_history_list to earliest date in portfolio\n",
    "# Start by finding the first date data was available for each portfolio\n",
    "first_timestamp = list ()\n",
    "for price_history in price_history_list:\n",
    "    first_timestamp.append(price_history.index[1])\n",
    "start_date = max(first_timestamp)\n",
    "    \n",
    "# Now trim data and compute cumulutative values\n",
    "for i in range(len(price_history_list)):\n",
    "    price_history_list[i] = price_history_list[i][price_history_list[i].index >= start_date]\n",
    "    price_history_list[i].insert(0,'cum_units',price_history_list[i]['units'].cumsum())\n",
    "    price_history_list[i].insert(0,'cum_value',price_history_list[i]['cum_units']*price_history_list[i]['Close'])\n",
    "\n",
    "# Rebalance\n",
    "# Start by creating rebalance series\n",
    "from datetime import datetime\n",
    "import pandas as pd\n",
    "rebalance_dates = pd.date_range(start_date,datetime.now(tz=None), freq='M')\n",
    "\n",
    "# Find allocation of rebalance dates\n",
    "for i_date in range(len(rebalance_dates)):\n",
    "    \n",
    "    # Find current asset allocation\n",
    "    value_breakdown = list()\n",
    "    for i_fund in range(len(price_history_list)):\n",
    "        price_history = price_history_list[i_fund]\n",
    "        matching_row = price_history.index.get_indexer([rebalance_dates[i_date]],method='nearest')[0]\n",
    "        value_breakdown.append(price_history.iloc[matching_row].loc['cum_value']) # Include fees here?\n",
    "\n",
    "    # Computer targer allocations based on asset weightings\n",
    "    target_allocation = [allocation_fraction*sum(value_breakdown) for allocation_fraction in allocation]\n",
    "    \n",
    "    # Update units, cum_units and cum_value in light of the new breakdown\n",
    "    for i_fund in range(len(price_history_list)):\n",
    "        \n",
    "        # Extract df of interest\n",
    "        price_history = price_history_list[i_fund]\n",
    "        \n",
    "        # Find index locations for cells of interest\n",
    "        matching_row = price_history.index.get_indexer([rebalance_dates[i_date]],method='nearest')[0]\n",
    "        cum_value_idx = price_history.columns.get_loc(\"cum_value\")\n",
    "        units_idx = price_history.columns.get_loc(\"units\")\n",
    "        cum_units_idx = price_history.columns.get_loc(\"cum_units\")\n",
    "        \n",
    "        # Compute units deviation from the target\n",
    "        units_delta = (price_history.iloc[matching_row,cum_value_idx] - target_allocation[i_fund])/price_history.iloc[matching_row]['Close']\n",
    "        \n",
    "        # Update units entry to match target allocation\n",
    "        price_history.iloc[matching_row,units_idx] -= units_delta\n",
    "         \n",
    "        # Update remaining rows\n",
    "        price_history['cum_units'] = price_history['units'].cumsum()        \n",
    "        price_history['cum_value'] =  price_history['cum_units']*price_history['Close']\n",
    "        price_history['fees'] = ((1+product_cost[i_fund]/100)**(1/365)-1)*price_history['cum_value']\n",
    "        \n",
    "        # Update list with data frame including the new \n",
    "        price_history_list[i_fund] = price_history"
   ]
  },
  {
   "cell_type": "code",
   "execution_count": 55,
   "id": "9638a383",
   "metadata": {},
   "outputs": [
    {
     "data": {
      "text/plain": [
       "[<matplotlib.lines.Line2D at 0x17de2173580>]"
      ]
     },
     "execution_count": 55,
     "metadata": {},
     "output_type": "execute_result"
    },
    {
     "data": {
      "image/png": "[encoded data removed]",
      "text/plain": [
       "<Figure size 432x288 with 1 Axes>"
      ]
     },
     "metadata": {
      "needs_background": "light"
     },
     "output_type": "display_data"
    }
   ],
   "source": [
    "plt.plot(price_history_list[0].cum_units)"
   ]
  },
  {
   "cell_type": "code",
   "execution_count": 56,
   "id": "fc1dece5",
   "metadata": {},
   "outputs": [
    {
     "data": {
      "text/html": [
       "<div>\n",
       "<style scoped>\n",
       "    .dataframe tbody tr th:only-of-type {\n",
       "        vertical-align: middle;\n",
       "    }\n",
       "\n",
       "    .dataframe tbody tr th {\n",
       "        vertical-align: top;\n",
       "    }\n",
       "\n",
       "    .dataframe thead th {\n",
       "        text-align: right;\n",
       "    }\n",
       "</style>\n",
       "<table border=\"1\" class=\"dataframe\">\n",
       "  <thead>\n",
       "    <tr style=\"text-align: right;\">\n",
       "      <th></th>\n",
       "      <th>cum_value</th>\n",
       "      <th>cum_units</th>\n",
       "      <th>Open</th>\n",
       "      <th>High</th>\n",
       "      <th>Low</th>\n",
       "      <th>Close</th>\n",
       "      <th>Volume</th>\n",
       "      <th>deposits</th>\n",
       "      <th>units</th>\n",
       "      <th>fees</th>\n",
       "    </tr>\n",
       "    <tr>\n",
       "      <th>Date</th>\n",
       "      <th></th>\n",
       "      <th></th>\n",
       "      <th></th>\n",
       "      <th></th>\n",
       "      <th></th>\n",
       "      <th></th>\n",
       "      <th></th>\n",
       "      <th></th>\n",
       "      <th></th>\n",
       "      <th></th>\n",
       "    </tr>\n",
       "  </thead>\n",
       "  <tbody>\n",
       "    <tr>\n",
       "      <th>2018-01-03</th>\n",
       "      <td>54.794521</td>\n",
       "      <td>0.061331</td>\n",
       "      <td>439.467500</td>\n",
       "      <td>447.297656</td>\n",
       "      <td>439.467500</td>\n",
       "      <td>446.710388</td>\n",
       "      <td>1664865</td>\n",
       "      <td>54.794521</td>\n",
       "      <td>0.061331</td>\n",
       "      <td>0.001233</td>\n",
       "    </tr>\n",
       "    <tr>\n",
       "      <th>2018-01-04</th>\n",
       "      <td>110.033925</td>\n",
       "      <td>0.122129</td>\n",
       "      <td>446.514674</td>\n",
       "      <td>451.212756</td>\n",
       "      <td>446.514674</td>\n",
       "      <td>450.625488</td>\n",
       "      <td>2309974</td>\n",
       "      <td>54.794521</td>\n",
       "      <td>0.060798</td>\n",
       "      <td>0.002476</td>\n",
       "    </tr>\n",
       "    <tr>\n",
       "      <th>2018-01-05</th>\n",
       "      <td>165.426214</td>\n",
       "      <td>0.182717</td>\n",
       "      <td>451.799996</td>\n",
       "      <td>453.953271</td>\n",
       "      <td>451.604230</td>\n",
       "      <td>452.191498</td>\n",
       "      <td>2721809</td>\n",
       "      <td>54.794521</td>\n",
       "      <td>0.060588</td>\n",
       "      <td>0.003724</td>\n",
       "    </tr>\n",
       "    <tr>\n",
       "      <th>2018-01-08</th>\n",
       "      <td>221.507139</td>\n",
       "      <td>0.242733</td>\n",
       "      <td>451.799996</td>\n",
       "      <td>457.476847</td>\n",
       "      <td>451.799996</td>\n",
       "      <td>456.498077</td>\n",
       "      <td>2239863</td>\n",
       "      <td>54.794521</td>\n",
       "      <td>0.060016</td>\n",
       "      <td>0.004985</td>\n",
       "    </tr>\n",
       "    <tr>\n",
       "      <th>2018-01-09</th>\n",
       "      <td>277.306135</td>\n",
       "      <td>0.302264</td>\n",
       "      <td>456.302360</td>\n",
       "      <td>460.804676</td>\n",
       "      <td>456.302360</td>\n",
       "      <td>460.217438</td>\n",
       "      <td>2563447</td>\n",
       "      <td>54.794521</td>\n",
       "      <td>0.059531</td>\n",
       "      <td>0.006237</td>\n",
       "    </tr>\n",
       "  </tbody>\n",
       "</table>\n",
       "</div>"
      ],
      "text/plain": [
       "             cum_value  cum_units        Open        High         Low  \\\n",
       "Date                                                                    \n",
       "2018-01-03   54.794521   0.061331  439.467500  447.297656  439.467500   \n",
       "2018-01-04  110.033925   0.122129  446.514674  451.212756  446.514674   \n",
       "2018-01-05  165.426214   0.182717  451.799996  453.953271  451.604230   \n",
       "2018-01-08  221.507139   0.242733  451.799996  457.476847  451.799996   \n",
       "2018-01-09  277.306135   0.302264  456.302360  460.804676  456.302360   \n",
       "\n",
       "                 Close   Volume   deposits     units      fees  \n",
       "Date                                                            \n",
       "2018-01-03  446.710388  1664865  54.794521  0.061331  0.001233  \n",
       "2018-01-04  450.625488  2309974  54.794521  0.060798  0.002476  \n",
       "2018-01-05  452.191498  2721809  54.794521  0.060588  0.003724  \n",
       "2018-01-08  456.498077  2239863  54.794521  0.060016  0.004985  \n",
       "2018-01-09  460.217438  2563447  54.794521  0.059531  0.006237  "
      ]
     },
     "execution_count": 56,
     "metadata": {},
     "output_type": "execute_result"
    }
   ],
   "source": [
    "# Compute final value\n",
    "price_history = price_history_list[0]\n",
    "for i_fund in range(1,len(price_history_list)):\n",
    "    price_history['cum_value'] += price_history_list[i_fund]['cum_value']\n",
    "    price_history['fees'] += price_history_list[i_fund]['fees']\n",
    "    price_history['deposits'] += price_history_list[i_fund]['deposits']\n",
    "    \n",
    "price_history.head()"
   ]
  },
  {
   "cell_type": "code",
   "execution_count": 66,
   "id": "1c7c8fee",
   "metadata": {},
   "outputs": [
    {
     "name": "stdout",
     "output_type": "stream",
     "text": [
      "11837.442023712914\n"
     ]
    },
    {
     "data": {
      "image/png": "[encoded data removed]",
      "text/plain": [
       "<Figure size 432x288 with 1 Axes>"
      ]
     },
     "metadata": {
      "needs_background": "light"
     },
     "output_type": "display_data"
    }
   ],
   "source": [
    "plt.plot(price_history['cum_value'])\n",
    "plt.plot()\n",
    "plt.plot(price_history['deposits'].cumsum())\n",
    "plt.xticks(rotation = 90)\n",
    "plt.title('Current Portfolio')\n",
    "ax = plt.gca()\n",
    "ax.xaxis.set_major_locator(MonthLocator(1,6))\n",
    "profit = price_history[\"cum_value\"][-2]-price_history['deposits'].sum()-price_history['fees'].sum()\n",
    "print(profit)"
   ]
  }
 ],
 "metadata": {
  "kernelspec": {
   "display_name": "Python 3 (ipykernel)",
   "language": "python",
   "name": "python3"
  },
  "language_info": {
   "codemirror_mode": {
    "name": "ipython",
    "version": 3
   },
   "file_extension": ".py",
   "mimetype": "text/x-python",
   "name": "python",
   "nbconvert_exporter": "python",
   "pygments_lexer": "ipython3",
   "version": "3.10.7"
  }
 },
 "nbformat": 4,
 "nbformat_minor": 5
}
