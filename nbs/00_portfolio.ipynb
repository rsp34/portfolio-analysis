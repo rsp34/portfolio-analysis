{
 "cells": [
  {
   "cell_type": "markdown",
   "id": "caaab754",
   "metadata": {},
   "source": [
    "# portfolio\n",
    "\n",
    "> A module to model a portfolio's performance over the available time-scale including the impact of fees.\n",
    "\n",
    "A notebook to explore different investment portfolio ideas and compare their historic returns, inclusive of fees"
   ]
  },
  {
   "cell_type": "code",
   "execution_count": null,
   "id": "225debc8",
   "metadata": {},
   "outputs": [],
   "source": [
    "#| default_exp portfolio"
   ]
  },
  {
   "cell_type": "code",
   "execution_count": null,
   "id": "88040eaa",
   "metadata": {},
   "outputs": [],
   "source": [
    "#| hide\n",
    "from nbdev.showdoc import *\n",
    "from fastcore.test import *\n",
    "import pdb\n",
    "from datetime import date"
   ]
  },
  {
   "cell_type": "code",
   "execution_count": null,
   "id": "269ffa28",
   "metadata": {},
   "outputs": [],
   "source": [
    "#| export\n",
    "import pytz\n",
    "from fastcore.utils import *"
   ]
  },
  {
   "cell_type": "markdown",
   "id": "c274b552",
   "metadata": {},
   "source": [
    "# Holding\n",
    "A holding is an asset that can be bought. We need to track it's value and how much of it we own over time. We therefore need financial data which can be provided by yfinance for free."
   ]
  },
  {
   "cell_type": "markdown",
   "id": "54ad90c8",
   "metadata": {},
   "source": [
    "Let's import the package and have a play. Remembering that when we are using `nbdev` we have to have imports in their own cells."
   ]
  },
  {
   "cell_type": "code",
   "execution_count": null,
   "id": "7f4c5806",
   "metadata": {},
   "outputs": [],
   "source": [
    "#| export\n",
    "import yfinance as yf"
   ]
  },
  {
   "cell_type": "code",
   "execution_count": null,
   "id": "83d0007f",
   "metadata": {},
   "outputs": [
    {
     "data": {
      "text/html": [
       "<div>\n",
       "<style scoped>\n",
       "    .dataframe tbody tr th:only-of-type {\n",
       "        vertical-align: middle;\n",
       "    }\n",
       "\n",
       "    .dataframe tbody tr th {\n",
       "        vertical-align: top;\n",
       "    }\n",
       "\n",
       "    .dataframe thead th {\n",
       "        text-align: right;\n",
       "    }\n",
       "</style>\n",
       "<table border=\"1\" class=\"dataframe\">\n",
       "  <thead>\n",
       "    <tr style=\"text-align: right;\">\n",
       "      <th></th>\n",
       "      <th>Open</th>\n",
       "      <th>High</th>\n",
       "      <th>Low</th>\n",
       "      <th>Close</th>\n",
       "      <th>Volume</th>\n",
       "    </tr>\n",
       "    <tr>\n",
       "      <th>Date</th>\n",
       "      <th></th>\n",
       "      <th></th>\n",
       "      <th></th>\n",
       "      <th></th>\n",
       "      <th></th>\n",
       "    </tr>\n",
       "  </thead>\n",
       "  <tbody>\n",
       "    <tr>\n",
       "      <th>1980-01-02 00:00:00-05:00</th>\n",
       "      <td>0.522507</td>\n",
       "      <td>0.522507</td>\n",
       "      <td>0.522507</td>\n",
       "      <td>0.522507</td>\n",
       "      <td>0</td>\n",
       "    </tr>\n",
       "    <tr>\n",
       "      <th>1980-01-03 00:00:00-05:00</th>\n",
       "      <td>0.520185</td>\n",
       "      <td>0.520185</td>\n",
       "      <td>0.520185</td>\n",
       "      <td>0.520185</td>\n",
       "      <td>0</td>\n",
       "    </tr>\n",
       "    <tr>\n",
       "      <th>1980-01-04 00:00:00-05:00</th>\n",
       "      <td>0.523088</td>\n",
       "      <td>0.523088</td>\n",
       "      <td>0.523088</td>\n",
       "      <td>0.523088</td>\n",
       "      <td>0</td>\n",
       "    </tr>\n",
       "    <tr>\n",
       "      <th>1980-01-07 00:00:00-05:00</th>\n",
       "      <td>0.523088</td>\n",
       "      <td>0.523088</td>\n",
       "      <td>0.523088</td>\n",
       "      <td>0.523088</td>\n",
       "      <td>0</td>\n",
       "    </tr>\n",
       "    <tr>\n",
       "      <th>1980-01-08 00:00:00-05:00</th>\n",
       "      <td>0.529474</td>\n",
       "      <td>0.529474</td>\n",
       "      <td>0.529474</td>\n",
       "      <td>0.529474</td>\n",
       "      <td>0</td>\n",
       "    </tr>\n",
       "  </tbody>\n",
       "</table>\n",
       "</div>"
      ],
      "text/plain": [
       "                               Open      High       Low     Close  Volume\n",
       "Date                                                                     \n",
       "1980-01-02 00:00:00-05:00  0.522507  0.522507  0.522507  0.522507       0\n",
       "1980-01-03 00:00:00-05:00  0.520185  0.520185  0.520185  0.520185       0\n",
       "1980-01-04 00:00:00-05:00  0.523088  0.523088  0.523088  0.523088       0\n",
       "1980-01-07 00:00:00-05:00  0.523088  0.523088  0.523088  0.523088       0\n",
       "1980-01-08 00:00:00-05:00  0.529474  0.529474  0.529474  0.529474       0"
      ]
     },
     "execution_count": null,
     "metadata": {},
     "output_type": "execute_result"
    }
   ],
   "source": [
    "price_history = yf.Ticker('VWELX').history(period='max', # valid periods: 1d,5d,1mo,3mo,6mo,1y,2y,5y,10y,ytd,max\n",
    "                                           interval='1d', # valid intervals: 1m,2m,5m,15m,30m,60m,90m,1h,1d,5d,1wk,1mo,3mo\n",
    "                                           actions=False)\n",
    "price_history.head()"
   ]
  },
  {
   "cell_type": "code",
   "execution_count": null,
   "id": "19743465",
   "metadata": {},
   "outputs": [
    {
     "data": {
      "text/plain": [
       "Timestamp('2023-06-23 00:00:00-0400', tz='America/New_York')"
      ]
     },
     "execution_count": null,
     "metadata": {},
     "output_type": "execute_result"
    }
   ],
   "source": [
    "price_history.index[-1]"
   ]
  },
  {
   "cell_type": "markdown",
   "id": "5d865dbd",
   "metadata": {},
   "source": [
    "yfinance appears to be a good option as it has price information. One concern would be what units these are but that doesn't matter as we will convert back to cash at the end."
   ]
  },
  {
   "cell_type": "code",
   "execution_count": null,
   "id": "3e3166b7",
   "metadata": {},
   "outputs": [
    {
     "data": {
      "text/markdown": [
       "---\n",
       "\n",
       "### log_indent_decorator.<locals>.wrapper\n",
       "\n",
       ">      log_indent_decorator.<locals>.wrapper (*args, **kwargs)"
      ],
      "text/plain": [
       "---\n",
       "\n",
       "### log_indent_decorator.<locals>.wrapper\n",
       "\n",
       ">      log_indent_decorator.<locals>.wrapper (*args, **kwargs)"
      ]
     },
     "execution_count": null,
     "metadata": {},
     "output_type": "execute_result"
    }
   ],
   "source": [
    "show_doc(yf.Ticker.history)"
   ]
  },
  {
   "cell_type": "markdown",
   "id": "043bf903",
   "metadata": {},
   "source": [
    "A useful check would be to see what the holding returns if a fund doesn't exist."
   ]
  },
  {
   "cell_type": "code",
   "execution_count": null,
   "id": "c5775f17",
   "metadata": {},
   "outputs": [
    {
     "name": "stderr",
     "output_type": "stream",
     "text": [
      "CATS: No timezone found, symbol may be delisted\n"
     ]
    },
    {
     "data": {
      "text/plain": [
       "0"
      ]
     },
     "execution_count": null,
     "metadata": {},
     "output_type": "execute_result"
    }
   ],
   "source": [
    "price_history = yf.Ticker(\"cats\").history(period='max', # valid periods: 1d,5d,1mo,3mo,6mo,1y,2y,5y,10y,ytd,max\n",
    "                                                    interval='1d', # valid intervals: 1m,2m,5m,15m,30m,60m,90m,1h,1d,5d,1wk,1mo,3mo\n",
    "                                                    actions=False)\n",
    "price_history.shape[0]"
   ]
  },
  {
   "cell_type": "markdown",
   "id": "8a2407df",
   "metadata": {},
   "source": [
    "## Deposits\n",
    "\n",
    "Deposits to our fund could be naturally specified as time series of deposits. A helper function is provided to support the creation of monthly deposits. It is important that these days lie on business days so we use `pd.bdate_range` However, this could be extended to different time periods."
   ]
  },
  {
   "cell_type": "code",
   "execution_count": null,
   "id": "0fb052a2",
   "metadata": {},
   "outputs": [],
   "source": [
    "#| export\n",
    "import pandas as pd\n",
    "from datetime import datetime\n",
    "from tzlocal import get_localzone"
   ]
  },
  {
   "cell_type": "code",
   "execution_count": null,
   "id": "25e4b822",
   "metadata": {},
   "outputs": [],
   "source": [
    "#| export\n",
    "to_datetime = lambda date_string: pytz.timezone(str(get_localzone())).localize(datetime.strptime(date_string,\"%d/%m/%Y\"))\n",
    "def create_monthly_deposits(start:str,        # Date of the first montly deposit.\n",
    "                            end:str,          # Date of the last monthly deposit\n",
    "                            deposit:float):    # Value of monthly deposit\n",
    "    dti = pd.bdate_range(start=to_datetime(start),end=to_datetime(end),freq='BM',tz=str(get_localzone()))\n",
    "    deposits = [deposit]*len(dti)\n",
    "    return pd.Series([deposit]*len(dti), index=dti, name='deposits')"
   ]
  },
  {
   "cell_type": "markdown",
   "id": "1dc78d9a",
   "metadata": {},
   "source": [
    "We call our function as follows."
   ]
  },
  {
   "cell_type": "code",
   "execution_count": null,
   "id": "50dae246",
   "metadata": {},
   "outputs": [
    {
     "data": {
      "text/plain": [
       "2022-01-31 00:00:00+00:00    10\n",
       "2022-02-28 00:00:00+00:00    10\n",
       "2022-03-31 00:00:00+01:00    10\n",
       "2022-04-29 00:00:00+01:00    10\n",
       "2022-05-31 00:00:00+01:00    10\n",
       "2022-06-30 00:00:00+01:00    10\n",
       "2022-07-29 00:00:00+01:00    10\n",
       "2022-08-31 00:00:00+01:00    10\n",
       "2022-09-30 00:00:00+01:00    10\n",
       "2022-10-31 00:00:00+00:00    10\n",
       "2022-11-30 00:00:00+00:00    10\n",
       "2022-12-30 00:00:00+00:00    10\n",
       "2023-01-31 00:00:00+00:00    10\n",
       "2023-02-28 00:00:00+00:00    10\n",
       "2023-03-31 00:00:00+01:00    10\n",
       "Freq: BM, Name: deposits, dtype: int64"
      ]
     },
     "execution_count": null,
     "metadata": {},
     "output_type": "execute_result"
    }
   ],
   "source": [
    "monthly_deposits = create_monthly_deposits('01/01/2022','01/04/2023',10)\n",
    "monthly_deposits"
   ]
  },
  {
   "cell_type": "code",
   "execution_count": null,
   "id": "aa7e9c17",
   "metadata": {},
   "outputs": [
    {
     "data": {
      "text/plain": [
       "2022-01-31 00:00:00+00:00    10\n",
       "2022-02-28 00:00:00+00:00    10\n",
       "2022-03-31 00:00:00+01:00    10\n",
       "2022-04-29 00:00:00+01:00    10\n",
       "2022-05-31 00:00:00+01:00    10\n",
       "2022-06-30 00:00:00+01:00    10\n",
       "2022-07-29 00:00:00+01:00    10\n",
       "2022-08-31 00:00:00+01:00    10\n",
       "2022-09-30 00:00:00+01:00    10\n",
       "2022-10-31 00:00:00+00:00    10\n",
       "2022-11-30 00:00:00+00:00    10\n",
       "2022-12-30 00:00:00+00:00    10\n",
       "2023-01-31 00:00:00+00:00    10\n",
       "2023-02-28 00:00:00+00:00    10\n",
       "2023-03-31 00:00:00+01:00    10\n",
       "Freq: BM, Name: deposits, dtype: int64"
      ]
     },
     "execution_count": null,
     "metadata": {},
     "output_type": "execute_result"
    }
   ],
   "source": [
    "monthly_deposits = create_monthly_deposits('01/01/2022','01/04/2023',10)\n",
    "monthly_deposits"
   ]
  },
  {
   "cell_type": "markdown",
   "id": "cab0e0d0",
   "metadata": {},
   "source": [
    "## Single Holding\n",
    "First we create a portfolio consisting of a single holding that takes a deposits argument. A main potential confusion here is if the deposits predate the commencement of the fund. Let's see the oldest possible date available where we have prices for the Vanguard Life Strategy 100% fund."
   ]
  },
  {
   "cell_type": "code",
   "execution_count": null,
   "id": "c93f50dc",
   "metadata": {},
   "outputs": [
    {
     "data": {
      "text/html": [
       "<div>\n",
       "<style scoped>\n",
       "    .dataframe tbody tr th:only-of-type {\n",
       "        vertical-align: middle;\n",
       "    }\n",
       "\n",
       "    .dataframe tbody tr th {\n",
       "        vertical-align: top;\n",
       "    }\n",
       "\n",
       "    .dataframe thead th {\n",
       "        text-align: right;\n",
       "    }\n",
       "</style>\n",
       "<table border=\"1\" class=\"dataframe\">\n",
       "  <thead>\n",
       "    <tr style=\"text-align: right;\">\n",
       "      <th></th>\n",
       "      <th>Open</th>\n",
       "      <th>High</th>\n",
       "      <th>Low</th>\n",
       "      <th>Close</th>\n",
       "      <th>Volume</th>\n",
       "    </tr>\n",
       "    <tr>\n",
       "      <th>Date</th>\n",
       "      <th></th>\n",
       "      <th></th>\n",
       "      <th></th>\n",
       "      <th></th>\n",
       "      <th></th>\n",
       "    </tr>\n",
       "  </thead>\n",
       "  <tbody>\n",
       "    <tr>\n",
       "      <th>2018-01-02 00:00:00+00:00</th>\n",
       "      <td>20677.300781</td>\n",
       "      <td>20677.300781</td>\n",
       "      <td>20677.300781</td>\n",
       "      <td>20677.300781</td>\n",
       "      <td>0</td>\n",
       "    </tr>\n",
       "    <tr>\n",
       "      <th>2018-01-03 00:00:00+00:00</th>\n",
       "      <td>20863.699219</td>\n",
       "      <td>20863.699219</td>\n",
       "      <td>20863.699219</td>\n",
       "      <td>20863.699219</td>\n",
       "      <td>0</td>\n",
       "    </tr>\n",
       "    <tr>\n",
       "      <th>2018-01-04 00:00:00+00:00</th>\n",
       "      <td>20965.300781</td>\n",
       "      <td>20965.300781</td>\n",
       "      <td>20965.300781</td>\n",
       "      <td>20965.300781</td>\n",
       "      <td>0</td>\n",
       "    </tr>\n",
       "    <tr>\n",
       "      <th>2018-01-05 00:00:00+00:00</th>\n",
       "      <td>21076.099609</td>\n",
       "      <td>21076.099609</td>\n",
       "      <td>21076.099609</td>\n",
       "      <td>21076.099609</td>\n",
       "      <td>0</td>\n",
       "    </tr>\n",
       "    <tr>\n",
       "      <th>2018-01-08 00:00:00+00:00</th>\n",
       "      <td>21060.300781</td>\n",
       "      <td>21060.300781</td>\n",
       "      <td>21060.300781</td>\n",
       "      <td>21060.300781</td>\n",
       "      <td>0</td>\n",
       "    </tr>\n",
       "  </tbody>\n",
       "</table>\n",
       "</div>"
      ],
      "text/plain": [
       "                                   Open          High           Low  \\\n",
       "Date                                                                  \n",
       "2018-01-02 00:00:00+00:00  20677.300781  20677.300781  20677.300781   \n",
       "2018-01-03 00:00:00+00:00  20863.699219  20863.699219  20863.699219   \n",
       "2018-01-04 00:00:00+00:00  20965.300781  20965.300781  20965.300781   \n",
       "2018-01-05 00:00:00+00:00  21076.099609  21076.099609  21076.099609   \n",
       "2018-01-08 00:00:00+00:00  21060.300781  21060.300781  21060.300781   \n",
       "\n",
       "                                  Close  Volume  \n",
       "Date                                             \n",
       "2018-01-02 00:00:00+00:00  20677.300781       0  \n",
       "2018-01-03 00:00:00+00:00  20863.699219       0  \n",
       "2018-01-04 00:00:00+00:00  20965.300781       0  \n",
       "2018-01-05 00:00:00+00:00  21076.099609       0  \n",
       "2018-01-08 00:00:00+00:00  21060.300781       0  "
      ]
     },
     "execution_count": null,
     "metadata": {},
     "output_type": "execute_result"
    }
   ],
   "source": [
    "price_history = yf.Ticker('0P0000TKZO.L').history(period='max', # valid periods: 1d,5d,1mo,3mo,6mo,1y,2y,5y,10y,ytd,max\n",
    "                                           interval='1d', # valid intervals: 1m,2m,5m,15m,30m,60m,90m,1h,1d,5d,1wk,1mo,3mo\n",
    "                                           actions=False)\n",
    "price_history.head()"
   ]
  },
  {
   "cell_type": "markdown",
   "id": "88a880b3",
   "metadata": {},
   "source": [
    "Let's create some deposits that predate these dates slightly. Try \"GB00B4Q5X527.L\" too."
   ]
  },
  {
   "cell_type": "code",
   "execution_count": null,
   "id": "c6b6c011",
   "metadata": {},
   "outputs": [],
   "source": [
    "monthly_deposits = create_monthly_deposits('01/01/2017','01/04/2023',10)"
   ]
  },
  {
   "cell_type": "markdown",
   "id": "e3ca330e",
   "metadata": {},
   "source": [
    "What happens when we join these two tables?"
   ]
  },
  {
   "cell_type": "code",
   "execution_count": null,
   "id": "8e46b426",
   "metadata": {},
   "outputs": [
    {
     "data": {
      "text/html": [
       "<div>\n",
       "<style scoped>\n",
       "    .dataframe tbody tr th:only-of-type {\n",
       "        vertical-align: middle;\n",
       "    }\n",
       "\n",
       "    .dataframe tbody tr th {\n",
       "        vertical-align: top;\n",
       "    }\n",
       "\n",
       "    .dataframe thead th {\n",
       "        text-align: right;\n",
       "    }\n",
       "</style>\n",
       "<table border=\"1\" class=\"dataframe\">\n",
       "  <thead>\n",
       "    <tr style=\"text-align: right;\">\n",
       "      <th></th>\n",
       "      <th>deposits</th>\n",
       "      <th>Open</th>\n",
       "      <th>High</th>\n",
       "      <th>Low</th>\n",
       "      <th>Close</th>\n",
       "      <th>Volume</th>\n",
       "    </tr>\n",
       "  </thead>\n",
       "  <tbody>\n",
       "    <tr>\n",
       "      <th>2017-01-31 00:00:00+00:00</th>\n",
       "      <td>10.0</td>\n",
       "      <td>NaN</td>\n",
       "      <td>NaN</td>\n",
       "      <td>NaN</td>\n",
       "      <td>NaN</td>\n",
       "      <td>NaN</td>\n",
       "    </tr>\n",
       "    <tr>\n",
       "      <th>2017-02-28 00:00:00+00:00</th>\n",
       "      <td>10.0</td>\n",
       "      <td>NaN</td>\n",
       "      <td>NaN</td>\n",
       "      <td>NaN</td>\n",
       "      <td>NaN</td>\n",
       "      <td>NaN</td>\n",
       "    </tr>\n",
       "    <tr>\n",
       "      <th>2017-03-31 00:00:00+01:00</th>\n",
       "      <td>10.0</td>\n",
       "      <td>NaN</td>\n",
       "      <td>NaN</td>\n",
       "      <td>NaN</td>\n",
       "      <td>NaN</td>\n",
       "      <td>NaN</td>\n",
       "    </tr>\n",
       "    <tr>\n",
       "      <th>2017-04-28 00:00:00+01:00</th>\n",
       "      <td>10.0</td>\n",
       "      <td>NaN</td>\n",
       "      <td>NaN</td>\n",
       "      <td>NaN</td>\n",
       "      <td>NaN</td>\n",
       "      <td>NaN</td>\n",
       "    </tr>\n",
       "    <tr>\n",
       "      <th>2017-05-31 00:00:00+01:00</th>\n",
       "      <td>10.0</td>\n",
       "      <td>NaN</td>\n",
       "      <td>NaN</td>\n",
       "      <td>NaN</td>\n",
       "      <td>NaN</td>\n",
       "      <td>NaN</td>\n",
       "    </tr>\n",
       "    <tr>\n",
       "      <th>...</th>\n",
       "      <td>...</td>\n",
       "      <td>...</td>\n",
       "      <td>...</td>\n",
       "      <td>...</td>\n",
       "      <td>...</td>\n",
       "      <td>...</td>\n",
       "    </tr>\n",
       "    <tr>\n",
       "      <th>2023-06-16 00:00:00+01:00</th>\n",
       "      <td>NaN</td>\n",
       "      <td>30315.039062</td>\n",
       "      <td>30315.039062</td>\n",
       "      <td>30315.039062</td>\n",
       "      <td>30315.039062</td>\n",
       "      <td>0.0</td>\n",
       "    </tr>\n",
       "    <tr>\n",
       "      <th>2023-06-19 00:00:00+01:00</th>\n",
       "      <td>NaN</td>\n",
       "      <td>30194.650391</td>\n",
       "      <td>30194.650391</td>\n",
       "      <td>30194.650391</td>\n",
       "      <td>30194.650391</td>\n",
       "      <td>0.0</td>\n",
       "    </tr>\n",
       "    <tr>\n",
       "      <th>2023-06-20 00:00:00+01:00</th>\n",
       "      <td>NaN</td>\n",
       "      <td>30184.279297</td>\n",
       "      <td>30184.279297</td>\n",
       "      <td>30184.279297</td>\n",
       "      <td>30184.279297</td>\n",
       "      <td>0.0</td>\n",
       "    </tr>\n",
       "    <tr>\n",
       "      <th>2023-06-21 00:00:00+01:00</th>\n",
       "      <td>NaN</td>\n",
       "      <td>30042.669922</td>\n",
       "      <td>30042.669922</td>\n",
       "      <td>30042.669922</td>\n",
       "      <td>30042.669922</td>\n",
       "      <td>0.0</td>\n",
       "    </tr>\n",
       "    <tr>\n",
       "      <th>2023-06-22 00:00:00+01:00</th>\n",
       "      <td>NaN</td>\n",
       "      <td>30002.289062</td>\n",
       "      <td>30002.289062</td>\n",
       "      <td>30002.289062</td>\n",
       "      <td>30002.289062</td>\n",
       "      <td>0.0</td>\n",
       "    </tr>\n",
       "  </tbody>\n",
       "</table>\n",
       "<p>1396 rows × 6 columns</p>\n",
       "</div>"
      ],
      "text/plain": [
       "                           deposits          Open          High           Low  \\\n",
       "2017-01-31 00:00:00+00:00      10.0           NaN           NaN           NaN   \n",
       "2017-02-28 00:00:00+00:00      10.0           NaN           NaN           NaN   \n",
       "2017-03-31 00:00:00+01:00      10.0           NaN           NaN           NaN   \n",
       "2017-04-28 00:00:00+01:00      10.0           NaN           NaN           NaN   \n",
       "2017-05-31 00:00:00+01:00      10.0           NaN           NaN           NaN   \n",
       "...                             ...           ...           ...           ...   \n",
       "2023-06-16 00:00:00+01:00       NaN  30315.039062  30315.039062  30315.039062   \n",
       "2023-06-19 00:00:00+01:00       NaN  30194.650391  30194.650391  30194.650391   \n",
       "2023-06-20 00:00:00+01:00       NaN  30184.279297  30184.279297  30184.279297   \n",
       "2023-06-21 00:00:00+01:00       NaN  30042.669922  30042.669922  30042.669922   \n",
       "2023-06-22 00:00:00+01:00       NaN  30002.289062  30002.289062  30002.289062   \n",
       "\n",
       "                                  Close  Volume  \n",
       "2017-01-31 00:00:00+00:00           NaN     NaN  \n",
       "2017-02-28 00:00:00+00:00           NaN     NaN  \n",
       "2017-03-31 00:00:00+01:00           NaN     NaN  \n",
       "2017-04-28 00:00:00+01:00           NaN     NaN  \n",
       "2017-05-31 00:00:00+01:00           NaN     NaN  \n",
       "...                                 ...     ...  \n",
       "2023-06-16 00:00:00+01:00  30315.039062     0.0  \n",
       "2023-06-19 00:00:00+01:00  30194.650391     0.0  \n",
       "2023-06-20 00:00:00+01:00  30184.279297     0.0  \n",
       "2023-06-21 00:00:00+01:00  30042.669922     0.0  \n",
       "2023-06-22 00:00:00+01:00  30002.289062     0.0  \n",
       "\n",
       "[1396 rows x 6 columns]"
      ]
     },
     "execution_count": null,
     "metadata": {},
     "output_type": "execute_result"
    }
   ],
   "source": [
    "price_history = pd.merge(monthly_deposits.to_frame(),price_history,left_index=True,right_index=True,how='outer')\n",
    "price_history"
   ]
  },
  {
   "cell_type": "markdown",
   "id": "27ad1a5e",
   "metadata": {},
   "source": [
    "How do we want this to behave?\n",
    "* When we have a portfolio we are going to be combining funds that don't start on the same dates.\n",
    "* We want funds to all have the same start date - achieved by using the same deposits input.\n",
    "* We fill the price_history with days.\n",
    "* We could save up all deposits until the first business day, but if we've back filled fund's pricing i.e. the price is the same as when the fund opens for all preceding days, then we've effectively achieved this. We won't see spikes in the deposits/fund value to see this but the final calculation will be the same and rebalancing will be easier. This also has the marginal downside that the fees are  incorrect. I would prefer the user to just construct a portfolio with funds that have appropriate start dates than adding in lots of functionality for this edge case."
   ]
  },
  {
   "cell_type": "markdown",
   "id": "fec520a0",
   "metadata": {},
   "source": [
    "Let's start by infilling with days. This is also important to get the fees correct! "
   ]
  },
  {
   "cell_type": "code",
   "execution_count": null,
   "id": "c2b31663",
   "metadata": {},
   "outputs": [],
   "source": [
    "dti = pd.date_range(start=price_history.index[0],end=price_history.index[-1])\n",
    "price_history = price_history.reindex(dti)"
   ]
  },
  {
   "cell_type": "code",
   "execution_count": null,
   "id": "8ef46129",
   "metadata": {},
   "outputs": [
    {
     "data": {
      "text/html": [
       "<div>\n",
       "<style scoped>\n",
       "    .dataframe tbody tr th:only-of-type {\n",
       "        vertical-align: middle;\n",
       "    }\n",
       "\n",
       "    .dataframe tbody tr th {\n",
       "        vertical-align: top;\n",
       "    }\n",
       "\n",
       "    .dataframe thead th {\n",
       "        text-align: right;\n",
       "    }\n",
       "</style>\n",
       "<table border=\"1\" class=\"dataframe\">\n",
       "  <thead>\n",
       "    <tr style=\"text-align: right;\">\n",
       "      <th></th>\n",
       "      <th>deposits</th>\n",
       "      <th>Open</th>\n",
       "      <th>High</th>\n",
       "      <th>Low</th>\n",
       "      <th>Close</th>\n",
       "      <th>Volume</th>\n",
       "    </tr>\n",
       "  </thead>\n",
       "  <tbody>\n",
       "    <tr>\n",
       "      <th>2017-01-31 00:00:00+00:00</th>\n",
       "      <td>10.0</td>\n",
       "      <td>20677.300781</td>\n",
       "      <td>20677.300781</td>\n",
       "      <td>20677.300781</td>\n",
       "      <td>20677.300781</td>\n",
       "      <td>0.0</td>\n",
       "    </tr>\n",
       "    <tr>\n",
       "      <th>2017-02-01 00:00:00+00:00</th>\n",
       "      <td>0.0</td>\n",
       "      <td>20677.300781</td>\n",
       "      <td>20677.300781</td>\n",
       "      <td>20677.300781</td>\n",
       "      <td>20677.300781</td>\n",
       "      <td>0.0</td>\n",
       "    </tr>\n",
       "    <tr>\n",
       "      <th>2017-02-02 00:00:00+00:00</th>\n",
       "      <td>0.0</td>\n",
       "      <td>20677.300781</td>\n",
       "      <td>20677.300781</td>\n",
       "      <td>20677.300781</td>\n",
       "      <td>20677.300781</td>\n",
       "      <td>0.0</td>\n",
       "    </tr>\n",
       "    <tr>\n",
       "      <th>2017-02-03 00:00:00+00:00</th>\n",
       "      <td>0.0</td>\n",
       "      <td>20677.300781</td>\n",
       "      <td>20677.300781</td>\n",
       "      <td>20677.300781</td>\n",
       "      <td>20677.300781</td>\n",
       "      <td>0.0</td>\n",
       "    </tr>\n",
       "    <tr>\n",
       "      <th>2017-02-04 00:00:00+00:00</th>\n",
       "      <td>0.0</td>\n",
       "      <td>20677.300781</td>\n",
       "      <td>20677.300781</td>\n",
       "      <td>20677.300781</td>\n",
       "      <td>20677.300781</td>\n",
       "      <td>0.0</td>\n",
       "    </tr>\n",
       "    <tr>\n",
       "      <th>...</th>\n",
       "      <td>...</td>\n",
       "      <td>...</td>\n",
       "      <td>...</td>\n",
       "      <td>...</td>\n",
       "      <td>...</td>\n",
       "      <td>...</td>\n",
       "    </tr>\n",
       "    <tr>\n",
       "      <th>2023-06-18 00:00:00+01:00</th>\n",
       "      <td>0.0</td>\n",
       "      <td>30194.650391</td>\n",
       "      <td>30194.650391</td>\n",
       "      <td>30194.650391</td>\n",
       "      <td>30194.650391</td>\n",
       "      <td>0.0</td>\n",
       "    </tr>\n",
       "    <tr>\n",
       "      <th>2023-06-19 00:00:00+01:00</th>\n",
       "      <td>0.0</td>\n",
       "      <td>30194.650391</td>\n",
       "      <td>30194.650391</td>\n",
       "      <td>30194.650391</td>\n",
       "      <td>30194.650391</td>\n",
       "      <td>0.0</td>\n",
       "    </tr>\n",
       "    <tr>\n",
       "      <th>2023-06-20 00:00:00+01:00</th>\n",
       "      <td>0.0</td>\n",
       "      <td>30184.279297</td>\n",
       "      <td>30184.279297</td>\n",
       "      <td>30184.279297</td>\n",
       "      <td>30184.279297</td>\n",
       "      <td>0.0</td>\n",
       "    </tr>\n",
       "    <tr>\n",
       "      <th>2023-06-21 00:00:00+01:00</th>\n",
       "      <td>0.0</td>\n",
       "      <td>30042.669922</td>\n",
       "      <td>30042.669922</td>\n",
       "      <td>30042.669922</td>\n",
       "      <td>30042.669922</td>\n",
       "      <td>0.0</td>\n",
       "    </tr>\n",
       "    <tr>\n",
       "      <th>2023-06-22 00:00:00+01:00</th>\n",
       "      <td>0.0</td>\n",
       "      <td>30002.289062</td>\n",
       "      <td>30002.289062</td>\n",
       "      <td>30002.289062</td>\n",
       "      <td>30002.289062</td>\n",
       "      <td>0.0</td>\n",
       "    </tr>\n",
       "  </tbody>\n",
       "</table>\n",
       "<p>2334 rows × 6 columns</p>\n",
       "</div>"
      ],
      "text/plain": [
       "                           deposits          Open          High           Low  \\\n",
       "2017-01-31 00:00:00+00:00      10.0  20677.300781  20677.300781  20677.300781   \n",
       "2017-02-01 00:00:00+00:00       0.0  20677.300781  20677.300781  20677.300781   \n",
       "2017-02-02 00:00:00+00:00       0.0  20677.300781  20677.300781  20677.300781   \n",
       "2017-02-03 00:00:00+00:00       0.0  20677.300781  20677.300781  20677.300781   \n",
       "2017-02-04 00:00:00+00:00       0.0  20677.300781  20677.300781  20677.300781   \n",
       "...                             ...           ...           ...           ...   \n",
       "2023-06-18 00:00:00+01:00       0.0  30194.650391  30194.650391  30194.650391   \n",
       "2023-06-19 00:00:00+01:00       0.0  30194.650391  30194.650391  30194.650391   \n",
       "2023-06-20 00:00:00+01:00       0.0  30184.279297  30184.279297  30184.279297   \n",
       "2023-06-21 00:00:00+01:00       0.0  30042.669922  30042.669922  30042.669922   \n",
       "2023-06-22 00:00:00+01:00       0.0  30002.289062  30002.289062  30002.289062   \n",
       "\n",
       "                                  Close  Volume  \n",
       "2017-01-31 00:00:00+00:00  20677.300781     0.0  \n",
       "2017-02-01 00:00:00+00:00  20677.300781     0.0  \n",
       "2017-02-02 00:00:00+00:00  20677.300781     0.0  \n",
       "2017-02-03 00:00:00+00:00  20677.300781     0.0  \n",
       "2017-02-04 00:00:00+00:00  20677.300781     0.0  \n",
       "...                                 ...     ...  \n",
       "2023-06-18 00:00:00+01:00  30194.650391     0.0  \n",
       "2023-06-19 00:00:00+01:00  30194.650391     0.0  \n",
       "2023-06-20 00:00:00+01:00  30184.279297     0.0  \n",
       "2023-06-21 00:00:00+01:00  30042.669922     0.0  \n",
       "2023-06-22 00:00:00+01:00  30002.289062     0.0  \n",
       "\n",
       "[2334 rows x 6 columns]"
      ]
     },
     "execution_count": null,
     "metadata": {},
     "output_type": "execute_result"
    }
   ],
   "source": [
    "price_history['deposits'] = price_history['deposits'].fillna(0)\n",
    "price_history = price_history.fillna(method='bfill')\n",
    "price_history"
   ]
  },
  {
   "cell_type": "code",
   "execution_count": null,
   "id": "ca55ca20",
   "metadata": {},
   "outputs": [],
   "source": [
    "#| export\n",
    "import warnings"
   ]
  },
  {
   "cell_type": "code",
   "execution_count": null,
   "id": "35791738",
   "metadata": {},
   "outputs": [],
   "source": [
    "#| export\n",
    "class Holding:\n",
    "    \"A holding for fund with data available on yfinance\"\n",
    "    def __init__(self,\n",
    "                 fund:str,                      # Name of the fund\n",
    "                 ticker:str,                    # Ticker symbol for the stock\n",
    "                 product_cost:float,            # Sum of all fees expressed as a percentage\n",
    "                 deposits):                     # Timeseries dataframe of deposits\n",
    "                 \n",
    "        \n",
    "        self.fund = fund\n",
    "        self.product_cost = product_cost\n",
    "        \n",
    "        # Where we've specified a timeseries where values predate the oldest time in our ticker,\n",
    "        # we give a warning and then fill the deposits columns with nans and back-fill all other columns\n",
    "        \n",
    "        price_history = yf.Ticker(ticker).history(period='max', # valid periods: 1d,5d,1mo,3mo,6mo,1y,2y,5y,10y,ytd,max\n",
    "                                                  interval='1d', # valid intervals: 1m,2m,5m,15m,30m,60m,90m,1h,1d,5d,1wk,1mo,3mo\n",
    "                                                  actions=False)\n",
    "        price_history = price_history.tz_convert(str(get_localzone()))\n",
    "        \n",
    "        if price_history.shape[0] == 0:\n",
    "            raise Exception(f\"No fund data available for {ticker}\") \n",
    "        \n",
    "        #TODO: Or if there is no overlap before i.e. code assumes deposits can predate fund only.        \n",
    "        if deposits.index[0] < price_history.index[0]:\n",
    "            warn_msg = f\"\"\"Deposits predate initial date of {price_history.index[0]} where prices are available for {fund}. First pricing data is back-filled.\"\"\" \n",
    "            warnings.warn(warn_msg)\n",
    "        elif deposits.index[0] > price_history.index[-1]:\n",
    "            warn_msg = f\"\"\"{fund} closed on {price_history.index[-1]} before the first deposit on {deposits.index[0]}.\"\"\" \n",
    "            warnings.warn(warn_msg)\n",
    "        \n",
    "        # Trim any fund data that predates deposits\n",
    "        price_history = price_history.iloc[price_history.index >= deposits.index[0]]\n",
    "        \n",
    "        # Join and clean\n",
    "        self.history = pd.merge(deposits,price_history,left_index=True,right_index=True,how='outer')\n",
    "        dti = pd.date_range(start=self.history.index[0],end=pytz.timezone(str(get_localzone())).localize(datetime.now()))\n",
    "        self.history = self.history.reindex(dti)\n",
    "        self.history['deposits'] = self.history['deposits'].fillna(0)\n",
    "        self.history = self.history.fillna(method='bfill')\n",
    "        self.history = self.history.fillna(method='ffill')\n",
    "        \n",
    "        self = self.compute_value()\n",
    "        \n",
    "    def compute_value(self):\n",
    "        \n",
    "        self.history['units']        = self.history['deposits']/self.history['Close']\n",
    "        self.history['cum_units']    = self.history['units'].cumsum()\n",
    "        self.history['cum_value']    = self.history['cum_units']*self.history['Close']\n",
    "        self.history['fees'] = ((1+self.product_cost/100)**(1/365)-1)*self.history['cum_value']\n",
    "        \n",
    "        return self"
   ]
  },
  {
   "cell_type": "markdown",
   "id": "6725e2cd",
   "metadata": {},
   "source": [
    "Let's create our first holding."
   ]
  },
  {
   "cell_type": "code",
   "execution_count": null,
   "id": "bb1fd1dd",
   "metadata": {},
   "outputs": [],
   "source": [
    "single_holding = Holding('Vanguard LifeStrategy 100%','0P0000TKZO.L',0.22,create_monthly_deposits('04/01/2018','01/12/2022',1000))"
   ]
  },
  {
   "cell_type": "markdown",
   "id": "ab7de324",
   "metadata": {},
   "source": [
    "Our holding should have the fund name assigned."
   ]
  },
  {
   "cell_type": "code",
   "execution_count": null,
   "id": "19984749",
   "metadata": {},
   "outputs": [],
   "source": [
    "assert single_holding.fund == 'Vanguard LifeStrategy 100%'"
   ]
  },
  {
   "cell_type": "markdown",
   "id": "ff1f932f",
   "metadata": {},
   "source": [
    "Our holding should have a history dataframe..."
   ]
  },
  {
   "cell_type": "code",
   "execution_count": null,
   "id": "6710ecd1",
   "metadata": {},
   "outputs": [],
   "source": [
    "assert isinstance(single_holding.history, pd.DataFrame)"
   ]
  },
  {
   "cell_type": "markdown",
   "id": "95208f0b",
   "metadata": {},
   "source": [
    "with certain columns..."
   ]
  },
  {
   "cell_type": "code",
   "execution_count": null,
   "id": "d04a5684",
   "metadata": {},
   "outputs": [],
   "source": [
    "assert all([item in single_holding.history.columns for item in ['Open','High','Low','Close','deposits','units','cum_units','cum_value','fees']])"
   ]
  },
  {
   "cell_type": "markdown",
   "id": "8d10358a",
   "metadata": {},
   "source": [
    "Let's check the range of our holdings."
   ]
  },
  {
   "cell_type": "code",
   "execution_count": null,
   "id": "bc6967f0",
   "metadata": {},
   "outputs": [
    {
     "data": {
      "text/html": [
       "<div>\n",
       "<style scoped>\n",
       "    .dataframe tbody tr th:only-of-type {\n",
       "        vertical-align: middle;\n",
       "    }\n",
       "\n",
       "    .dataframe tbody tr th {\n",
       "        vertical-align: top;\n",
       "    }\n",
       "\n",
       "    .dataframe thead th {\n",
       "        text-align: right;\n",
       "    }\n",
       "</style>\n",
       "<table border=\"1\" class=\"dataframe\">\n",
       "  <thead>\n",
       "    <tr style=\"text-align: right;\">\n",
       "      <th></th>\n",
       "      <th>deposits</th>\n",
       "      <th>Open</th>\n",
       "      <th>High</th>\n",
       "      <th>Low</th>\n",
       "      <th>Close</th>\n",
       "      <th>Volume</th>\n",
       "      <th>units</th>\n",
       "      <th>cum_units</th>\n",
       "      <th>cum_value</th>\n",
       "      <th>fees</th>\n",
       "    </tr>\n",
       "  </thead>\n",
       "  <tbody>\n",
       "    <tr>\n",
       "      <th>2018-01-31 00:00:00+00:00</th>\n",
       "      <td>1000.0</td>\n",
       "      <td>20638.800781</td>\n",
       "      <td>20638.800781</td>\n",
       "      <td>20638.800781</td>\n",
       "      <td>20638.800781</td>\n",
       "      <td>0.0</td>\n",
       "      <td>0.048452</td>\n",
       "      <td>0.048452</td>\n",
       "      <td>1000.000000</td>\n",
       "      <td>0.006021</td>\n",
       "    </tr>\n",
       "    <tr>\n",
       "      <th>2018-02-01 00:00:00+00:00</th>\n",
       "      <td>0.0</td>\n",
       "      <td>20603.599609</td>\n",
       "      <td>20603.599609</td>\n",
       "      <td>20603.599609</td>\n",
       "      <td>20603.599609</td>\n",
       "      <td>0.0</td>\n",
       "      <td>0.000000</td>\n",
       "      <td>0.048452</td>\n",
       "      <td>998.294418</td>\n",
       "      <td>0.006011</td>\n",
       "    </tr>\n",
       "    <tr>\n",
       "      <th>2018-02-02 00:00:00+00:00</th>\n",
       "      <td>0.0</td>\n",
       "      <td>20399.000000</td>\n",
       "      <td>20399.000000</td>\n",
       "      <td>20399.000000</td>\n",
       "      <td>20399.000000</td>\n",
       "      <td>0.0</td>\n",
       "      <td>0.000000</td>\n",
       "      <td>0.048452</td>\n",
       "      <td>988.381070</td>\n",
       "      <td>0.005951</td>\n",
       "    </tr>\n",
       "    <tr>\n",
       "      <th>2018-02-03 00:00:00+00:00</th>\n",
       "      <td>0.0</td>\n",
       "      <td>19985.199219</td>\n",
       "      <td>19985.199219</td>\n",
       "      <td>19985.199219</td>\n",
       "      <td>19985.199219</td>\n",
       "      <td>0.0</td>\n",
       "      <td>0.000000</td>\n",
       "      <td>0.048452</td>\n",
       "      <td>968.331418</td>\n",
       "      <td>0.005830</td>\n",
       "    </tr>\n",
       "    <tr>\n",
       "      <th>2018-02-04 00:00:00+00:00</th>\n",
       "      <td>0.0</td>\n",
       "      <td>19985.199219</td>\n",
       "      <td>19985.199219</td>\n",
       "      <td>19985.199219</td>\n",
       "      <td>19985.199219</td>\n",
       "      <td>0.0</td>\n",
       "      <td>0.000000</td>\n",
       "      <td>0.048452</td>\n",
       "      <td>968.331418</td>\n",
       "      <td>0.005830</td>\n",
       "    </tr>\n",
       "  </tbody>\n",
       "</table>\n",
       "</div>"
      ],
      "text/plain": [
       "                           deposits          Open          High           Low  \\\n",
       "2018-01-31 00:00:00+00:00    1000.0  20638.800781  20638.800781  20638.800781   \n",
       "2018-02-01 00:00:00+00:00       0.0  20603.599609  20603.599609  20603.599609   \n",
       "2018-02-02 00:00:00+00:00       0.0  20399.000000  20399.000000  20399.000000   \n",
       "2018-02-03 00:00:00+00:00       0.0  19985.199219  19985.199219  19985.199219   \n",
       "2018-02-04 00:00:00+00:00       0.0  19985.199219  19985.199219  19985.199219   \n",
       "\n",
       "                                  Close  Volume     units  cum_units  \\\n",
       "2018-01-31 00:00:00+00:00  20638.800781     0.0  0.048452   0.048452   \n",
       "2018-02-01 00:00:00+00:00  20603.599609     0.0  0.000000   0.048452   \n",
       "2018-02-02 00:00:00+00:00  20399.000000     0.0  0.000000   0.048452   \n",
       "2018-02-03 00:00:00+00:00  19985.199219     0.0  0.000000   0.048452   \n",
       "2018-02-04 00:00:00+00:00  19985.199219     0.0  0.000000   0.048452   \n",
       "\n",
       "                             cum_value      fees  \n",
       "2018-01-31 00:00:00+00:00  1000.000000  0.006021  \n",
       "2018-02-01 00:00:00+00:00   998.294418  0.006011  \n",
       "2018-02-02 00:00:00+00:00   988.381070  0.005951  \n",
       "2018-02-03 00:00:00+00:00   968.331418  0.005830  \n",
       "2018-02-04 00:00:00+00:00   968.331418  0.005830  "
      ]
     },
     "execution_count": null,
     "metadata": {},
     "output_type": "execute_result"
    }
   ],
   "source": [
    "single_holding.history.head()"
   ]
  },
  {
   "cell_type": "markdown",
   "id": "a264eb52",
   "metadata": {},
   "source": [
    "and the later dates."
   ]
  },
  {
   "cell_type": "code",
   "execution_count": null,
   "id": "756df704",
   "metadata": {},
   "outputs": [
    {
     "data": {
      "text/html": [
       "<div>\n",
       "<style scoped>\n",
       "    .dataframe tbody tr th:only-of-type {\n",
       "        vertical-align: middle;\n",
       "    }\n",
       "\n",
       "    .dataframe tbody tr th {\n",
       "        vertical-align: top;\n",
       "    }\n",
       "\n",
       "    .dataframe thead th {\n",
       "        text-align: right;\n",
       "    }\n",
       "</style>\n",
       "<table border=\"1\" class=\"dataframe\">\n",
       "  <thead>\n",
       "    <tr style=\"text-align: right;\">\n",
       "      <th></th>\n",
       "      <th>deposits</th>\n",
       "      <th>Open</th>\n",
       "      <th>High</th>\n",
       "      <th>Low</th>\n",
       "      <th>Close</th>\n",
       "      <th>Volume</th>\n",
       "      <th>units</th>\n",
       "      <th>cum_units</th>\n",
       "      <th>cum_value</th>\n",
       "      <th>fees</th>\n",
       "    </tr>\n",
       "  </thead>\n",
       "  <tbody>\n",
       "    <tr>\n",
       "      <th>2023-06-20 00:00:00+01:00</th>\n",
       "      <td>0.0</td>\n",
       "      <td>30184.279297</td>\n",
       "      <td>30184.279297</td>\n",
       "      <td>30184.279297</td>\n",
       "      <td>30184.279297</td>\n",
       "      <td>0.0</td>\n",
       "      <td>0.0</td>\n",
       "      <td>2.456569</td>\n",
       "      <td>74149.752530</td>\n",
       "      <td>0.446440</td>\n",
       "    </tr>\n",
       "    <tr>\n",
       "      <th>2023-06-21 00:00:00+01:00</th>\n",
       "      <td>0.0</td>\n",
       "      <td>30042.669922</td>\n",
       "      <td>30042.669922</td>\n",
       "      <td>30042.669922</td>\n",
       "      <td>30042.669922</td>\n",
       "      <td>0.0</td>\n",
       "      <td>0.0</td>\n",
       "      <td>2.456569</td>\n",
       "      <td>73801.879387</td>\n",
       "      <td>0.444346</td>\n",
       "    </tr>\n",
       "    <tr>\n",
       "      <th>2023-06-22 00:00:00+01:00</th>\n",
       "      <td>0.0</td>\n",
       "      <td>30002.289062</td>\n",
       "      <td>30002.289062</td>\n",
       "      <td>30002.289062</td>\n",
       "      <td>30002.289062</td>\n",
       "      <td>0.0</td>\n",
       "      <td>0.0</td>\n",
       "      <td>2.456569</td>\n",
       "      <td>73702.681036</td>\n",
       "      <td>0.443749</td>\n",
       "    </tr>\n",
       "    <tr>\n",
       "      <th>2023-06-23 00:00:00+01:00</th>\n",
       "      <td>0.0</td>\n",
       "      <td>30002.289062</td>\n",
       "      <td>30002.289062</td>\n",
       "      <td>30002.289062</td>\n",
       "      <td>30002.289062</td>\n",
       "      <td>0.0</td>\n",
       "      <td>0.0</td>\n",
       "      <td>2.456569</td>\n",
       "      <td>73702.681036</td>\n",
       "      <td>0.443749</td>\n",
       "    </tr>\n",
       "    <tr>\n",
       "      <th>2023-06-24 00:00:00+01:00</th>\n",
       "      <td>0.0</td>\n",
       "      <td>30002.289062</td>\n",
       "      <td>30002.289062</td>\n",
       "      <td>30002.289062</td>\n",
       "      <td>30002.289062</td>\n",
       "      <td>0.0</td>\n",
       "      <td>0.0</td>\n",
       "      <td>2.456569</td>\n",
       "      <td>73702.681036</td>\n",
       "      <td>0.443749</td>\n",
       "    </tr>\n",
       "  </tbody>\n",
       "</table>\n",
       "</div>"
      ],
      "text/plain": [
       "                           deposits          Open          High           Low  \\\n",
       "2023-06-20 00:00:00+01:00       0.0  30184.279297  30184.279297  30184.279297   \n",
       "2023-06-21 00:00:00+01:00       0.0  30042.669922  30042.669922  30042.669922   \n",
       "2023-06-22 00:00:00+01:00       0.0  30002.289062  30002.289062  30002.289062   \n",
       "2023-06-23 00:00:00+01:00       0.0  30002.289062  30002.289062  30002.289062   \n",
       "2023-06-24 00:00:00+01:00       0.0  30002.289062  30002.289062  30002.289062   \n",
       "\n",
       "                                  Close  Volume  units  cum_units  \\\n",
       "2023-06-20 00:00:00+01:00  30184.279297     0.0    0.0   2.456569   \n",
       "2023-06-21 00:00:00+01:00  30042.669922     0.0    0.0   2.456569   \n",
       "2023-06-22 00:00:00+01:00  30002.289062     0.0    0.0   2.456569   \n",
       "2023-06-23 00:00:00+01:00  30002.289062     0.0    0.0   2.456569   \n",
       "2023-06-24 00:00:00+01:00  30002.289062     0.0    0.0   2.456569   \n",
       "\n",
       "                              cum_value      fees  \n",
       "2023-06-20 00:00:00+01:00  74149.752530  0.446440  \n",
       "2023-06-21 00:00:00+01:00  73801.879387  0.444346  \n",
       "2023-06-22 00:00:00+01:00  73702.681036  0.443749  \n",
       "2023-06-23 00:00:00+01:00  73702.681036  0.443749  \n",
       "2023-06-24 00:00:00+01:00  73702.681036  0.443749  "
      ]
     },
     "execution_count": null,
     "metadata": {},
     "output_type": "execute_result"
    }
   ],
   "source": [
    "single_holding.history.tail()"
   ]
  },
  {
   "cell_type": "markdown",
   "id": "3f4d1ea1",
   "metadata": {},
   "source": [
    "Now, let's check we can define deposits before a fund starts."
   ]
  },
  {
   "cell_type": "code",
   "execution_count": null,
   "id": "9f96a081",
   "metadata": {},
   "outputs": [
    {
     "name": "stderr",
     "output_type": "stream",
     "text": [
      "/tmp/ipykernel_1041/2452922105.py:28: UserWarning: Deposits predate initial date of 2021-09-01 00:00:00+01:00 where prices are available for LF Ruffer Diversified. First pricing data is back-filled.\n",
      "  warnings.warn(warn_msg)\n"
     ]
    }
   ],
   "source": [
    "initial_deposit  = create_monthly_deposits(\"01/01/2018\",\"01/02/2018\",250000)\n",
    "lf_ruffer_diversified = Holding(\"LF Ruffer Diversified\",\"0P0001MKQK.L\",1.12,initial_deposit)"
   ]
  },
  {
   "cell_type": "markdown",
   "id": "3f908f0e",
   "metadata": {},
   "source": [
    "# Portfolio Modelling\n",
    "For portfolio analysis, I'd like to explore the following features:\n",
    "* Modelling a porfolio consisting of multiple funds.\n",
    "* Rebalancing to target allocations.\n",
    "* Rebalancing at given frequency.\n",
    "    \n",
    "Proposed structure would be lists of fund names, tickers, allocations and ongoing charges. A deposit rate would also need to be defined. Rebalancing times could be specified as a date series.\n",
    "\n",
    "Future functionality might include:\n",
    "* Variable allocation in time.\n",
    "* At present if a fund's inception date is after the first deposit then cash deposits are accumulated until the first deposit opportunity. Another possible approach would be to split the capital just between the funds that are open at a given time. Even better would be to enable concatenation of two FixedAllocationPortfolio funds... this might also be an interesting coding challenge."
   ]
  },
  {
   "cell_type": "markdown",
   "id": "aa4d6d64",
   "metadata": {},
   "source": [
    "A main requirement is going to be how we join funds together that have different start dates."
   ]
  },
  {
   "cell_type": "code",
   "execution_count": null,
   "id": "a46c7e7e",
   "metadata": {},
   "outputs": [
    {
     "name": "stderr",
     "output_type": "stream",
     "text": [
      "/tmp/ipykernel_1041/2452922105.py:28: UserWarning: Deposits predate initial date of 2021-09-01 00:00:00+01:00 where prices are available for LF Ruffer Diversified. First pricing data is back-filled.\n",
      "  warnings.warn(warn_msg)\n"
     ]
    },
    {
     "data": {
      "text/html": [
       "<div>\n",
       "<style scoped>\n",
       "    .dataframe tbody tr th:only-of-type {\n",
       "        vertical-align: middle;\n",
       "    }\n",
       "\n",
       "    .dataframe tbody tr th {\n",
       "        vertical-align: top;\n",
       "    }\n",
       "\n",
       "    .dataframe thead th {\n",
       "        text-align: right;\n",
       "    }\n",
       "</style>\n",
       "<table border=\"1\" class=\"dataframe\">\n",
       "  <thead>\n",
       "    <tr style=\"text-align: right;\">\n",
       "      <th></th>\n",
       "      <th>deposits</th>\n",
       "      <th>Open</th>\n",
       "      <th>High</th>\n",
       "      <th>Low</th>\n",
       "      <th>Close</th>\n",
       "      <th>Volume</th>\n",
       "      <th>units</th>\n",
       "      <th>cum_units</th>\n",
       "      <th>cum_value</th>\n",
       "      <th>fees</th>\n",
       "    </tr>\n",
       "  </thead>\n",
       "  <tbody>\n",
       "    <tr>\n",
       "      <th>2023-06-20 00:00:00+01:00</th>\n",
       "      <td>0.0</td>\n",
       "      <td>100.089996</td>\n",
       "      <td>100.089996</td>\n",
       "      <td>100.089996</td>\n",
       "      <td>100.089996</td>\n",
       "      <td>0.0</td>\n",
       "      <td>0.0</td>\n",
       "      <td>2500.0</td>\n",
       "      <td>250224.990845</td>\n",
       "      <td>7.635574</td>\n",
       "    </tr>\n",
       "    <tr>\n",
       "      <th>2023-06-21 00:00:00+01:00</th>\n",
       "      <td>0.0</td>\n",
       "      <td>99.769997</td>\n",
       "      <td>99.769997</td>\n",
       "      <td>99.769997</td>\n",
       "      <td>99.769997</td>\n",
       "      <td>0.0</td>\n",
       "      <td>0.0</td>\n",
       "      <td>2500.0</td>\n",
       "      <td>249424.991608</td>\n",
       "      <td>7.611162</td>\n",
       "    </tr>\n",
       "    <tr>\n",
       "      <th>2023-06-22 00:00:00+01:00</th>\n",
       "      <td>0.0</td>\n",
       "      <td>99.589996</td>\n",
       "      <td>99.589996</td>\n",
       "      <td>99.589996</td>\n",
       "      <td>99.589996</td>\n",
       "      <td>0.0</td>\n",
       "      <td>0.0</td>\n",
       "      <td>2500.0</td>\n",
       "      <td>248974.990845</td>\n",
       "      <td>7.597430</td>\n",
       "    </tr>\n",
       "    <tr>\n",
       "      <th>2023-06-23 00:00:00+01:00</th>\n",
       "      <td>0.0</td>\n",
       "      <td>99.339996</td>\n",
       "      <td>99.339996</td>\n",
       "      <td>99.339996</td>\n",
       "      <td>99.339996</td>\n",
       "      <td>0.0</td>\n",
       "      <td>0.0</td>\n",
       "      <td>2500.0</td>\n",
       "      <td>248349.990845</td>\n",
       "      <td>7.578359</td>\n",
       "    </tr>\n",
       "    <tr>\n",
       "      <th>2023-06-24 00:00:00+01:00</th>\n",
       "      <td>0.0</td>\n",
       "      <td>99.339996</td>\n",
       "      <td>99.339996</td>\n",
       "      <td>99.339996</td>\n",
       "      <td>99.339996</td>\n",
       "      <td>0.0</td>\n",
       "      <td>0.0</td>\n",
       "      <td>2500.0</td>\n",
       "      <td>248349.990845</td>\n",
       "      <td>7.578359</td>\n",
       "    </tr>\n",
       "  </tbody>\n",
       "</table>\n",
       "</div>"
      ],
      "text/plain": [
       "                           deposits        Open        High         Low  \\\n",
       "2023-06-20 00:00:00+01:00       0.0  100.089996  100.089996  100.089996   \n",
       "2023-06-21 00:00:00+01:00       0.0   99.769997   99.769997   99.769997   \n",
       "2023-06-22 00:00:00+01:00       0.0   99.589996   99.589996   99.589996   \n",
       "2023-06-23 00:00:00+01:00       0.0   99.339996   99.339996   99.339996   \n",
       "2023-06-24 00:00:00+01:00       0.0   99.339996   99.339996   99.339996   \n",
       "\n",
       "                                Close  Volume  units  cum_units  \\\n",
       "2023-06-20 00:00:00+01:00  100.089996     0.0    0.0     2500.0   \n",
       "2023-06-21 00:00:00+01:00   99.769997     0.0    0.0     2500.0   \n",
       "2023-06-22 00:00:00+01:00   99.589996     0.0    0.0     2500.0   \n",
       "2023-06-23 00:00:00+01:00   99.339996     0.0    0.0     2500.0   \n",
       "2023-06-24 00:00:00+01:00   99.339996     0.0    0.0     2500.0   \n",
       "\n",
       "                               cum_value      fees  \n",
       "2023-06-20 00:00:00+01:00  250224.990845  7.635574  \n",
       "2023-06-21 00:00:00+01:00  249424.991608  7.611162  \n",
       "2023-06-22 00:00:00+01:00  248974.990845  7.597430  \n",
       "2023-06-23 00:00:00+01:00  248349.990845  7.578359  \n",
       "2023-06-24 00:00:00+01:00  248349.990845  7.578359  "
      ]
     },
     "execution_count": null,
     "metadata": {},
     "output_type": "execute_result"
    }
   ],
   "source": [
    "monthly_deposits = create_monthly_deposits(\"01/01/2018\",date.today().strftime(\"%d/%m/%Y\"),20000/12)\n",
    "lf_ruffer_diversified  = Holding(\"LF Ruffer Diversified\",\"0P0001MKQK.L\",1.12,initial_deposit)\n",
    "lf_ruffer_diversified.history.tail()"
   ]
  },
  {
   "cell_type": "code",
   "execution_count": null,
   "id": "109ec2f6",
   "metadata": {},
   "outputs": [
    {
     "data": {
      "text/html": [
       "<div>\n",
       "<style scoped>\n",
       "    .dataframe tbody tr th:only-of-type {\n",
       "        vertical-align: middle;\n",
       "    }\n",
       "\n",
       "    .dataframe tbody tr th {\n",
       "        vertical-align: top;\n",
       "    }\n",
       "\n",
       "    .dataframe thead th {\n",
       "        text-align: right;\n",
       "    }\n",
       "</style>\n",
       "<table border=\"1\" class=\"dataframe\">\n",
       "  <thead>\n",
       "    <tr style=\"text-align: right;\">\n",
       "      <th></th>\n",
       "      <th>deposits</th>\n",
       "      <th>Open</th>\n",
       "      <th>High</th>\n",
       "      <th>Low</th>\n",
       "      <th>Close</th>\n",
       "      <th>Volume</th>\n",
       "      <th>units</th>\n",
       "      <th>cum_units</th>\n",
       "      <th>cum_value</th>\n",
       "      <th>fees</th>\n",
       "    </tr>\n",
       "  </thead>\n",
       "  <tbody>\n",
       "    <tr>\n",
       "      <th>2023-06-20 00:00:00+01:00</th>\n",
       "      <td>0.0</td>\n",
       "      <td>30184.279297</td>\n",
       "      <td>30184.279297</td>\n",
       "      <td>30184.279297</td>\n",
       "      <td>30184.279297</td>\n",
       "      <td>0.0</td>\n",
       "      <td>0.0</td>\n",
       "      <td>2.456569</td>\n",
       "      <td>74149.752530</td>\n",
       "      <td>0.446440</td>\n",
       "    </tr>\n",
       "    <tr>\n",
       "      <th>2023-06-21 00:00:00+01:00</th>\n",
       "      <td>0.0</td>\n",
       "      <td>30042.669922</td>\n",
       "      <td>30042.669922</td>\n",
       "      <td>30042.669922</td>\n",
       "      <td>30042.669922</td>\n",
       "      <td>0.0</td>\n",
       "      <td>0.0</td>\n",
       "      <td>2.456569</td>\n",
       "      <td>73801.879387</td>\n",
       "      <td>0.444346</td>\n",
       "    </tr>\n",
       "    <tr>\n",
       "      <th>2023-06-22 00:00:00+01:00</th>\n",
       "      <td>0.0</td>\n",
       "      <td>30002.289062</td>\n",
       "      <td>30002.289062</td>\n",
       "      <td>30002.289062</td>\n",
       "      <td>30002.289062</td>\n",
       "      <td>0.0</td>\n",
       "      <td>0.0</td>\n",
       "      <td>2.456569</td>\n",
       "      <td>73702.681036</td>\n",
       "      <td>0.443749</td>\n",
       "    </tr>\n",
       "    <tr>\n",
       "      <th>2023-06-23 00:00:00+01:00</th>\n",
       "      <td>0.0</td>\n",
       "      <td>30002.289062</td>\n",
       "      <td>30002.289062</td>\n",
       "      <td>30002.289062</td>\n",
       "      <td>30002.289062</td>\n",
       "      <td>0.0</td>\n",
       "      <td>0.0</td>\n",
       "      <td>2.456569</td>\n",
       "      <td>73702.681036</td>\n",
       "      <td>0.443749</td>\n",
       "    </tr>\n",
       "    <tr>\n",
       "      <th>2023-06-24 00:00:00+01:00</th>\n",
       "      <td>0.0</td>\n",
       "      <td>30002.289062</td>\n",
       "      <td>30002.289062</td>\n",
       "      <td>30002.289062</td>\n",
       "      <td>30002.289062</td>\n",
       "      <td>0.0</td>\n",
       "      <td>0.0</td>\n",
       "      <td>2.456569</td>\n",
       "      <td>73702.681036</td>\n",
       "      <td>0.443749</td>\n",
       "    </tr>\n",
       "  </tbody>\n",
       "</table>\n",
       "</div>"
      ],
      "text/plain": [
       "                           deposits          Open          High           Low  \\\n",
       "2023-06-20 00:00:00+01:00       0.0  30184.279297  30184.279297  30184.279297   \n",
       "2023-06-21 00:00:00+01:00       0.0  30042.669922  30042.669922  30042.669922   \n",
       "2023-06-22 00:00:00+01:00       0.0  30002.289062  30002.289062  30002.289062   \n",
       "2023-06-23 00:00:00+01:00       0.0  30002.289062  30002.289062  30002.289062   \n",
       "2023-06-24 00:00:00+01:00       0.0  30002.289062  30002.289062  30002.289062   \n",
       "\n",
       "                                  Close  Volume  units  cum_units  \\\n",
       "2023-06-20 00:00:00+01:00  30184.279297     0.0    0.0   2.456569   \n",
       "2023-06-21 00:00:00+01:00  30042.669922     0.0    0.0   2.456569   \n",
       "2023-06-22 00:00:00+01:00  30002.289062     0.0    0.0   2.456569   \n",
       "2023-06-23 00:00:00+01:00  30002.289062     0.0    0.0   2.456569   \n",
       "2023-06-24 00:00:00+01:00  30002.289062     0.0    0.0   2.456569   \n",
       "\n",
       "                              cum_value      fees  \n",
       "2023-06-20 00:00:00+01:00  74149.752530  0.446440  \n",
       "2023-06-21 00:00:00+01:00  73801.879387  0.444346  \n",
       "2023-06-22 00:00:00+01:00  73702.681036  0.443749  \n",
       "2023-06-23 00:00:00+01:00  73702.681036  0.443749  \n",
       "2023-06-24 00:00:00+01:00  73702.681036  0.443749  "
      ]
     },
     "execution_count": null,
     "metadata": {},
     "output_type": "execute_result"
    }
   ],
   "source": [
    "vanguard_life_strategy = Holding('Vanguard LifeStrategy 100%','0P0000TKZO.L',0.22,create_monthly_deposits('04/01/2018','01/12/2022',1000))\n",
    "vanguard_life_strategy.history.tail()"
   ]
  },
  {
   "cell_type": "markdown",
   "id": "945a8238",
   "metadata": {},
   "source": [
    "It's natural to represent our holdings as a list..."
   ]
  },
  {
   "cell_type": "code",
   "execution_count": null,
   "id": "9ffc43ec",
   "metadata": {},
   "outputs": [],
   "source": [
    "holdings = [lf_ruffer_diversified, vanguard_life_strategy]"
   ]
  },
  {
   "cell_type": "markdown",
   "id": "df1a4424",
   "metadata": {},
   "source": [
    "How, many rows does each entry have?"
   ]
  },
  {
   "cell_type": "code",
   "execution_count": null,
   "id": "663f8b6c",
   "metadata": {},
   "outputs": [
    {
     "data": {
      "text/plain": [
       "[1971, 1971]"
      ]
     },
     "execution_count": null,
     "metadata": {},
     "output_type": "execute_result"
    }
   ],
   "source": [
    "n_rows = [holding.history.shape[0] for holding in holdings]\n",
    "n_rows"
   ]
  },
  {
   "cell_type": "markdown",
   "id": "60f776c3",
   "metadata": {},
   "source": [
    "So due to the definition of our holding class, we can use these interchangeably, as the dataframes are the same shape."
   ]
  },
  {
   "cell_type": "code",
   "execution_count": null,
   "id": "3e0964b6",
   "metadata": {},
   "outputs": [],
   "source": [
    "#| export\n",
    "class FixedAllocationPortfolio:\n",
    "    \"A collection of holdings of funds with data available on yfinance with a fixed allocation of each deposit made.\"\n",
    "    def __init__(self,\n",
    "                 fund:list,          # List of fund names\n",
    "                 ticker:list,        # List of fund tickers\n",
    "                 product_cost:list,  # List of fees for each fund expressed as a percentage and comprising all fees for a given fund\n",
    "                 allocation:list,    # Allocation of each deposit as a fraction. Must sum to one.\n",
    "                 deposits):          # Timeseries dataframe of deposits\n",
    "        \n",
    "        # Check fund, ticker, product_cost and allocation are all lists of equal length\n",
    "        assert(all([len(input)==len(fund) for input in [ticker, product_cost, allocation]]))\n",
    "        \n",
    "        # Check that allocation sums to 1\n",
    "        assert(sum(allocation)==1)\n",
    "        \n",
    "        # Record the inputs\n",
    "        self.deposits = deposits\n",
    "        self.allocation = allocation\n",
    "        self.fund = fund\n",
    "        \n",
    "        # Create a holding for each fund\n",
    "        self.holdings = [Holding(fund[i],ticker[i],product_cost[i],deposits*allocation[i]) for i in range(len(fund))]\n",
    "               \n",
    "    def rebalance(self,rebalance_dates):\n",
    "        \n",
    "        # We rebalance on the dates specified. If a rebalancing date is prior a funds \n",
    "        # inception date then the fund's deposit is used in the rebalancing.\n",
    "        \n",
    "        # It is assumed that fees are paid for with an external account and that the fees\n",
    "        # are accrued daily.\n",
    "        \n",
    "        holdings = self.holdings\n",
    "        \n",
    "        # The holdings are identical so we can use any one\n",
    "        matching_rows = holdings[0].history.index.get_indexer(rebalance_dates,method='nearest')\n",
    "        \n",
    "        # Get column references\n",
    "        cum_value_idx = holdings[0].history.columns.get_loc(\"cum_value\")\n",
    "        deposit_idx = holdings[0].history.columns.get_loc(\"deposits\")\n",
    "        \n",
    "        for row in matching_rows:\n",
    "            \n",
    "            # Compute the current allocation\n",
    "            current_allocation = [holdings[i].history.iloc[row].loc['cum_value']\n",
    "                                 for i in range(len(holdings))]\n",
    "            \n",
    "            # Compute target allocations based on asset weightings\n",
    "            total_value = sum(current_allocation)\n",
    "            target_allocation = [fraction*total_value for fraction in self.allocation]\n",
    "            \n",
    "            for i in range(len(holdings)):\n",
    "                holdings[i].history.iloc[row,deposit_idx] = holdings[i].history.iloc[row,deposit_idx] \\\n",
    "                                                                   + (target_allocation[i] - holdings[i].history.iloc[row,cum_value_idx])\n",
    "                holdings[i].compute_value()\n",
    "            \n",
    "        self.holdings = holdings\n",
    "        return self"
   ]
  },
  {
   "cell_type": "markdown",
   "id": "c69308cb",
   "metadata": {},
   "source": [
    "A method to test that everything is working would be to create a portfolio that consists of only the same funds and compare the cumulate value to a holding."
   ]
  },
  {
   "cell_type": "code",
   "execution_count": null,
   "id": "462091c1",
   "metadata": {},
   "outputs": [],
   "source": [
    "fixed_allocation_portfolio = FixedAllocationPortfolio(['Vanguard LifeStrategy 100%','Vanguard LifeStrategy 100%'], \\\n",
    "                                                      ['0P0000TKZO.L','0P0000TKZO.L'], \\\n",
    "                                                      [0.22, 0.22],\\\n",
    "                                                      [0.5,0.5], \\\n",
    "                                                      create_monthly_deposits('01/01/2018','01/12/2022',1000))"
   ]
  },
  {
   "cell_type": "markdown",
   "id": "d10141ed",
   "metadata": {},
   "source": [
    "We don't need to rebalance to check the cumulative value as the funds are the same."
   ]
  },
  {
   "cell_type": "markdown",
   "id": "6b1f791b",
   "metadata": {},
   "source": [
    "We define a common interface to convert a selection of holdings into a single returns object. We can use the returns object to commonise plotting and visualisation of results. One thing we need is a method to determine whether we have a single holding or a fixed allocation portfolio."
   ]
  },
  {
   "cell_type": "code",
   "execution_count": null,
   "id": "b449e988",
   "metadata": {},
   "outputs": [],
   "source": [
    "#| export\n",
    "class Returns:\n",
    "    def __init__(self,\n",
    "                 name:    str ,   # Description of the returns - typically used as title\n",
    "                 holdings: list):  # List of holdings\n",
    "    \n",
    "            self.name = name\n",
    "            self.history = holdings[0].history[[\"deposits\",\"cum_value\",\"fees\"]]\n",
    "            for i in range(1,len(holdings)):\n",
    "                self.history += holdings[i].history[[\"deposits\",\"cum_value\",\"fees\"]]"
   ]
  },
  {
   "cell_type": "markdown",
   "id": "02ff6fca",
   "metadata": {},
   "source": [
    "Let's add methods to our `Holding` and `FixedAllocationPortfolio` classes to generate a `Returns` object."
   ]
  },
  {
   "cell_type": "code",
   "execution_count": null,
   "id": "b345b943",
   "metadata": {},
   "outputs": [],
   "source": [
    "#| export\n",
    "@patch\n",
    "def to_returns(self:Holding):\n",
    "    return Returns(self.fund,[self])"
   ]
  },
  {
   "cell_type": "markdown",
   "id": "1cdfbee0",
   "metadata": {},
   "source": [
    "Can we generate our returns for our single holding?"
   ]
  },
  {
   "cell_type": "code",
   "execution_count": null,
   "id": "15fe65cf",
   "metadata": {},
   "outputs": [
    {
     "data": {
      "text/plain": [
       "'Vanguard LifeStrategy 100%'"
      ]
     },
     "execution_count": null,
     "metadata": {},
     "output_type": "execute_result"
    }
   ],
   "source": [
    "single_holding_returns= single_holding.to_returns()\n",
    "single_holding_returns.name"
   ]
  },
  {
   "cell_type": "code",
   "execution_count": null,
   "id": "3692e0a2",
   "metadata": {},
   "outputs": [
    {
     "data": {
      "text/html": [
       "<div>\n",
       "<style scoped>\n",
       "    .dataframe tbody tr th:only-of-type {\n",
       "        vertical-align: middle;\n",
       "    }\n",
       "\n",
       "    .dataframe tbody tr th {\n",
       "        vertical-align: top;\n",
       "    }\n",
       "\n",
       "    .dataframe thead th {\n",
       "        text-align: right;\n",
       "    }\n",
       "</style>\n",
       "<table border=\"1\" class=\"dataframe\">\n",
       "  <thead>\n",
       "    <tr style=\"text-align: right;\">\n",
       "      <th></th>\n",
       "      <th>deposits</th>\n",
       "      <th>cum_value</th>\n",
       "      <th>fees</th>\n",
       "    </tr>\n",
       "  </thead>\n",
       "  <tbody>\n",
       "    <tr>\n",
       "      <th>2018-01-31 00:00:00+00:00</th>\n",
       "      <td>1000.0</td>\n",
       "      <td>1000.000000</td>\n",
       "      <td>0.006021</td>\n",
       "    </tr>\n",
       "    <tr>\n",
       "      <th>2018-02-01 00:00:00+00:00</th>\n",
       "      <td>0.0</td>\n",
       "      <td>998.294418</td>\n",
       "      <td>0.006011</td>\n",
       "    </tr>\n",
       "    <tr>\n",
       "      <th>2018-02-02 00:00:00+00:00</th>\n",
       "      <td>0.0</td>\n",
       "      <td>988.381070</td>\n",
       "      <td>0.005951</td>\n",
       "    </tr>\n",
       "    <tr>\n",
       "      <th>2018-02-03 00:00:00+00:00</th>\n",
       "      <td>0.0</td>\n",
       "      <td>968.331418</td>\n",
       "      <td>0.005830</td>\n",
       "    </tr>\n",
       "    <tr>\n",
       "      <th>2018-02-04 00:00:00+00:00</th>\n",
       "      <td>0.0</td>\n",
       "      <td>968.331418</td>\n",
       "      <td>0.005830</td>\n",
       "    </tr>\n",
       "  </tbody>\n",
       "</table>\n",
       "</div>"
      ],
      "text/plain": [
       "                           deposits    cum_value      fees\n",
       "2018-01-31 00:00:00+00:00    1000.0  1000.000000  0.006021\n",
       "2018-02-01 00:00:00+00:00       0.0   998.294418  0.006011\n",
       "2018-02-02 00:00:00+00:00       0.0   988.381070  0.005951\n",
       "2018-02-03 00:00:00+00:00       0.0   968.331418  0.005830\n",
       "2018-02-04 00:00:00+00:00       0.0   968.331418  0.005830"
      ]
     },
     "execution_count": null,
     "metadata": {},
     "output_type": "execute_result"
    }
   ],
   "source": [
    "single_holding_returns.history.head()"
   ]
  },
  {
   "cell_type": "markdown",
   "id": "5d0ac36a",
   "metadata": {},
   "source": [
    "Now, let's do something similar fo the `FixedAllocationPortfolio` class."
   ]
  },
  {
   "cell_type": "code",
   "execution_count": null,
   "id": "0b793162",
   "metadata": {},
   "outputs": [],
   "source": [
    "#| export\n",
    "@patch\n",
    "def to_returns(self:FixedAllocationPortfolio):\n",
    "    \n",
    "    name = f\"{100*self.allocation[0]}% {self.fund[0]}\"\n",
    "    for i in range(1,len(self.holdings)):\n",
    "        name += f\", {100*self.allocation[i]}% {self.fund[i]}\"\n",
    "\n",
    "    return Returns(name,self.holdings)"
   ]
  },
  {
   "cell_type": "markdown",
   "id": "4b16d1da",
   "metadata": {},
   "source": [
    "Similarly, does it work?"
   ]
  },
  {
   "cell_type": "code",
   "execution_count": null,
   "id": "6cc569c8",
   "metadata": {},
   "outputs": [
    {
     "data": {
      "text/plain": [
       "'50.0% Vanguard LifeStrategy 100%, 50.0% Vanguard LifeStrategy 100%'"
      ]
     },
     "execution_count": null,
     "metadata": {},
     "output_type": "execute_result"
    }
   ],
   "source": [
    "fixed_allocation_portfolio_returns = fixed_allocation_portfolio.to_returns()\n",
    "fixed_allocation_portfolio_returns.name"
   ]
  },
  {
   "cell_type": "code",
   "execution_count": null,
   "id": "43e7439f",
   "metadata": {},
   "outputs": [
    {
     "data": {
      "text/html": [
       "<div>\n",
       "<style scoped>\n",
       "    .dataframe tbody tr th:only-of-type {\n",
       "        vertical-align: middle;\n",
       "    }\n",
       "\n",
       "    .dataframe tbody tr th {\n",
       "        vertical-align: top;\n",
       "    }\n",
       "\n",
       "    .dataframe thead th {\n",
       "        text-align: right;\n",
       "    }\n",
       "</style>\n",
       "<table border=\"1\" class=\"dataframe\">\n",
       "  <thead>\n",
       "    <tr style=\"text-align: right;\">\n",
       "      <th></th>\n",
       "      <th>deposits</th>\n",
       "      <th>cum_value</th>\n",
       "      <th>fees</th>\n",
       "    </tr>\n",
       "  </thead>\n",
       "  <tbody>\n",
       "    <tr>\n",
       "      <th>2018-01-31 00:00:00+00:00</th>\n",
       "      <td>1000.0</td>\n",
       "      <td>1000.000000</td>\n",
       "      <td>0.006021</td>\n",
       "    </tr>\n",
       "    <tr>\n",
       "      <th>2018-02-01 00:00:00+00:00</th>\n",
       "      <td>0.0</td>\n",
       "      <td>998.294418</td>\n",
       "      <td>0.006011</td>\n",
       "    </tr>\n",
       "    <tr>\n",
       "      <th>2018-02-02 00:00:00+00:00</th>\n",
       "      <td>0.0</td>\n",
       "      <td>988.381070</td>\n",
       "      <td>0.005951</td>\n",
       "    </tr>\n",
       "    <tr>\n",
       "      <th>2018-02-03 00:00:00+00:00</th>\n",
       "      <td>0.0</td>\n",
       "      <td>968.331418</td>\n",
       "      <td>0.005830</td>\n",
       "    </tr>\n",
       "    <tr>\n",
       "      <th>2018-02-04 00:00:00+00:00</th>\n",
       "      <td>0.0</td>\n",
       "      <td>968.331418</td>\n",
       "      <td>0.005830</td>\n",
       "    </tr>\n",
       "  </tbody>\n",
       "</table>\n",
       "</div>"
      ],
      "text/plain": [
       "                           deposits    cum_value      fees\n",
       "2018-01-31 00:00:00+00:00    1000.0  1000.000000  0.006021\n",
       "2018-02-01 00:00:00+00:00       0.0   998.294418  0.006011\n",
       "2018-02-02 00:00:00+00:00       0.0   988.381070  0.005951\n",
       "2018-02-03 00:00:00+00:00       0.0   968.331418  0.005830\n",
       "2018-02-04 00:00:00+00:00       0.0   968.331418  0.005830"
      ]
     },
     "execution_count": null,
     "metadata": {},
     "output_type": "execute_result"
    }
   ],
   "source": [
    "fixed_allocation_portfolio_returns.history.head()"
   ]
  },
  {
   "cell_type": "markdown",
   "id": "e6b2d547",
   "metadata": {},
   "source": [
    "One of the most basic things we might want to do is determine our proft...."
   ]
  },
  {
   "cell_type": "code",
   "execution_count": null,
   "id": "718ad129",
   "metadata": {},
   "outputs": [],
   "source": [
    "#| export\n",
    "@patch\n",
    "def profit(self:Returns):\n",
    "    \n",
    "    if self.history.iloc[-1].isnull().sum() == 3:\n",
    "        return self.history['cum_value'][-2]-sum(self.history['deposits'][:-1])-sum(self.history['fees'][:-1])\n",
    "    \n",
    "    return self.history['cum_value'][-1]-sum(self.history['deposits'])-sum(self.history['fees'])"
   ]
  },
  {
   "cell_type": "markdown",
   "id": "a1fe7351",
   "metadata": {},
   "source": [
    "and let's see if this works for our single holding and our portfolio. Let's start with the the single holding."
   ]
  },
  {
   "cell_type": "code",
   "execution_count": null,
   "id": "f78b2ed4",
   "metadata": {},
   "outputs": [
    {
     "data": {
      "text/plain": [
       "14246.28341653979"
      ]
     },
     "execution_count": null,
     "metadata": {},
     "output_type": "execute_result"
    }
   ],
   "source": [
    "single_holding_returns.profit()"
   ]
  },
  {
   "cell_type": "markdown",
   "id": "edf7c212",
   "metadata": {},
   "source": [
    "Here, we can check our `FixedAllocationPortfolio` and `Holding` classes give the same result for identical fund allocations."
   ]
  },
  {
   "cell_type": "code",
   "execution_count": null,
   "id": "0cfcb62a",
   "metadata": {},
   "outputs": [],
   "source": [
    "assert(single_holding_returns.profit()==fixed_allocation_portfolio_returns.profit())"
   ]
  },
  {
   "cell_type": "markdown",
   "id": "e426734f",
   "metadata": {},
   "source": [
    "In theory, rebalancing here should make no difference. Let's create a helper function to create a monthly rebalancing schedule..."
   ]
  },
  {
   "cell_type": "code",
   "execution_count": null,
   "id": "2a9a8626",
   "metadata": {},
   "outputs": [],
   "source": [
    "#| export\n",
    "create_monthly_rebalance_dates =  lambda start, end: pd.bdate_range(start=to_datetime(start),end=to_datetime(end),freq='BM',tz = str(get_localzone()))"
   ]
  },
  {
   "cell_type": "code",
   "execution_count": null,
   "id": "10890eaa",
   "metadata": {},
   "outputs": [
    {
     "data": {
      "text/plain": [
       "DatetimeIndex(['2018-01-31 00:00:00+00:00', '2018-02-28 00:00:00+00:00',\n",
       "               '2018-03-30 00:00:00+01:00', '2018-04-30 00:00:00+01:00',\n",
       "               '2018-05-31 00:00:00+01:00', '2018-06-29 00:00:00+01:00',\n",
       "               '2018-07-31 00:00:00+01:00', '2018-08-31 00:00:00+01:00',\n",
       "               '2018-09-28 00:00:00+01:00', '2018-10-31 00:00:00+00:00',\n",
       "               '2018-11-30 00:00:00+00:00', '2018-12-31 00:00:00+00:00',\n",
       "               '2019-01-31 00:00:00+00:00', '2019-02-28 00:00:00+00:00',\n",
       "               '2019-03-29 00:00:00+00:00', '2019-04-30 00:00:00+01:00',\n",
       "               '2019-05-31 00:00:00+01:00', '2019-06-28 00:00:00+01:00',\n",
       "               '2019-07-31 00:00:00+01:00', '2019-08-30 00:00:00+01:00',\n",
       "               '2019-09-30 00:00:00+01:00', '2019-10-31 00:00:00+00:00',\n",
       "               '2019-11-29 00:00:00+00:00', '2019-12-31 00:00:00+00:00',\n",
       "               '2020-01-31 00:00:00+00:00', '2020-02-28 00:00:00+00:00',\n",
       "               '2020-03-31 00:00:00+01:00', '2020-04-30 00:00:00+01:00',\n",
       "               '2020-05-29 00:00:00+01:00', '2020-06-30 00:00:00+01:00',\n",
       "               '2020-07-31 00:00:00+01:00', '2020-08-31 00:00:00+01:00',\n",
       "               '2020-09-30 00:00:00+01:00', '2020-10-30 00:00:00+00:00',\n",
       "               '2020-11-30 00:00:00+00:00', '2020-12-31 00:00:00+00:00',\n",
       "               '2021-01-29 00:00:00+00:00', '2021-02-26 00:00:00+00:00',\n",
       "               '2021-03-31 00:00:00+01:00', '2021-04-30 00:00:00+01:00',\n",
       "               '2021-05-31 00:00:00+01:00', '2021-06-30 00:00:00+01:00',\n",
       "               '2021-07-30 00:00:00+01:00', '2021-08-31 00:00:00+01:00',\n",
       "               '2021-09-30 00:00:00+01:00', '2021-10-29 00:00:00+01:00',\n",
       "               '2021-11-30 00:00:00+00:00', '2021-12-31 00:00:00+00:00',\n",
       "               '2022-01-31 00:00:00+00:00', '2022-02-28 00:00:00+00:00',\n",
       "               '2022-03-31 00:00:00+01:00', '2022-04-29 00:00:00+01:00',\n",
       "               '2022-05-31 00:00:00+01:00', '2022-06-30 00:00:00+01:00',\n",
       "               '2022-07-29 00:00:00+01:00', '2022-08-31 00:00:00+01:00',\n",
       "               '2022-09-30 00:00:00+01:00', '2022-10-31 00:00:00+00:00',\n",
       "               '2022-11-30 00:00:00+00:00'],\n",
       "              dtype='datetime64[ns, Europe/London]', freq='BM')"
      ]
     },
     "execution_count": null,
     "metadata": {},
     "output_type": "execute_result"
    }
   ],
   "source": [
    "create_monthly_rebalance_dates('01/01/2018','01/12/2022')"
   ]
  },
  {
   "cell_type": "markdown",
   "id": "ce6b3f35",
   "metadata": {},
   "source": [
    "... and check our profit does not change."
   ]
  },
  {
   "cell_type": "code",
   "execution_count": null,
   "id": "7751dd19",
   "metadata": {},
   "outputs": [],
   "source": [
    "fixed_allocation_portfolio_rebalanced = fixed_allocation_portfolio.rebalance(create_monthly_rebalance_dates('01/01/2018','01/12/2022'))\n",
    "assert(single_holding_returns.profit() == fixed_allocation_portfolio_rebalanced.to_returns().profit())"
   ]
  },
  {
   "cell_type": "markdown",
   "id": "4d54d1b6",
   "metadata": {},
   "source": [
    "This was quite an easy test as the funds were identical. Let see if we can use a single `FixedAllocationPortfolio` to give the same profit as two holdings where we have done a manual rebalance. Let's check how the rebalance and deposit dates align so tha we have an identical computation."
   ]
  },
  {
   "cell_type": "code",
   "execution_count": null,
   "id": "1cd1358f",
   "metadata": {},
   "outputs": [
    {
     "data": {
      "text/plain": [
       "DatetimeIndex(['2021-01-29 00:00:00+00:00'], dtype='datetime64[ns, Europe/London]', freq='BM')"
      ]
     },
     "execution_count": null,
     "metadata": {},
     "output_type": "execute_result"
    }
   ],
   "source": [
    "create_monthly_rebalance_dates('01/01/2021','29/01/2021')"
   ]
  },
  {
   "cell_type": "code",
   "execution_count": null,
   "id": "47967c90",
   "metadata": {},
   "outputs": [
    {
     "data": {
      "text/plain": [
       "2020-11-30 00:00:00+00:00    800.0\n",
       "2020-12-31 00:00:00+00:00    800.0\n",
       "2021-01-29 00:00:00+00:00    800.0\n",
       "Freq: BM, Name: deposits, dtype: float64"
      ]
     },
     "execution_count": null,
     "metadata": {},
     "output_type": "execute_result"
    }
   ],
   "source": [
    "create_monthly_deposits('30/11/2020','01/02/2021',0.8*1000)"
   ]
  },
  {
   "cell_type": "markdown",
   "id": "31c0a8d9",
   "metadata": {},
   "source": [
    "Now, we create our desposits..."
   ]
  },
  {
   "cell_type": "code",
   "execution_count": null,
   "id": "d9482c4b",
   "metadata": {},
   "outputs": [],
   "source": [
    "holding_one_deposits = create_monthly_deposits('01/01/2018','31/12/2020',0.8*1000)"
   ]
  },
  {
   "cell_type": "markdown",
   "id": "d446e7ef",
   "metadata": {},
   "source": [
    "but also note the length of this array as we are going to do our final rebalance on the day that would be the next monthl deposit."
   ]
  },
  {
   "cell_type": "code",
   "execution_count": null,
   "id": "c9201fbf",
   "metadata": {},
   "outputs": [],
   "source": [
    "rebalance_row = holding_one_deposits.shape[0]"
   ]
  },
  {
   "cell_type": "markdown",
   "id": "f2f29ffe",
   "metadata": {},
   "source": [
    "We create our holdings with the deposit time series..."
   ]
  },
  {
   "cell_type": "code",
   "execution_count": null,
   "id": "52e230c8",
   "metadata": {},
   "outputs": [],
   "source": [
    "holding_one = Holding(\"Scottish Mortgage Ord\",\"GB00BLDYK618\",0.1,holding_one_deposits)"
   ]
  },
  {
   "cell_type": "markdown",
   "id": "b82b8902",
   "metadata": {},
   "source": [
    "and also note the row where our next deposit it will be. The reader should be aware that holdings track from the date of the first deposit to the present day."
   ]
  },
  {
   "cell_type": "code",
   "execution_count": null,
   "id": "5f7d311d",
   "metadata": {},
   "outputs": [
    {
     "data": {
      "text/plain": [
       "1094"
      ]
     },
     "execution_count": null,
     "metadata": {},
     "output_type": "execute_result"
    }
   ],
   "source": [
    "row = holding_one.history.index.get_indexer([to_datetime('29/01/2021')], method='nearest')[0]\n",
    "row"
   ]
  },
  {
   "cell_type": "code",
   "execution_count": null,
   "id": "dd0d1afa",
   "metadata": {},
   "outputs": [
    {
     "data": {
      "text/plain": [
       "Timestamp('2021-01-29 00:00:00+0000', tz='Europe/London', freq='D')"
      ]
     },
     "execution_count": null,
     "metadata": {},
     "output_type": "execute_result"
    }
   ],
   "source": [
    "holding_one.history.index[row]"
   ]
  },
  {
   "cell_type": "code",
   "execution_count": null,
   "id": "b07eed58",
   "metadata": {},
   "outputs": [
    {
     "data": {
      "text/plain": [
       "63657.74753088376"
      ]
     },
     "execution_count": null,
     "metadata": {},
     "output_type": "execute_result"
    }
   ],
   "source": [
    "holding_one_value  = holding_one.history.cum_value[row]\n",
    "holding_one_value"
   ]
  },
  {
   "cell_type": "code",
   "execution_count": null,
   "id": "9da4e0cf",
   "metadata": {},
   "outputs": [
    {
     "data": {
      "text/plain": [
       "8919.56425989645"
      ]
     },
     "execution_count": null,
     "metadata": {},
     "output_type": "execute_result"
    }
   ],
   "source": [
    "holding_two = Holding(\"Fundsmith Equity I Acc\",\"GB00B41YBW71\",0.1,create_monthly_deposits('01/01/2018','31/12/2020',0.2*1000))\n",
    "holding_two_value  = holding_two.history.cum_value[row]\n",
    "holding_two_value"
   ]
  },
  {
   "cell_type": "code",
   "execution_count": null,
   "id": "0cbed16f",
   "metadata": {},
   "outputs": [
    {
     "data": {
      "text/plain": [
       "72577.31179078021"
      ]
     },
     "execution_count": null,
     "metadata": {},
     "output_type": "execute_result"
    }
   ],
   "source": [
    "total_value = holding_one_value + holding_two_value\n",
    "total_value"
   ]
  },
  {
   "cell_type": "markdown",
   "id": "9c0c67bc",
   "metadata": {},
   "source": [
    "Now, let's make create two holdings for our whole duration and update the deposits to do the manual rebalance..."
   ]
  },
  {
   "cell_type": "code",
   "execution_count": null,
   "id": "a8c2d6c0",
   "metadata": {},
   "outputs": [],
   "source": [
    "holding_one_deposits = create_monthly_deposits('01/01/2018','31/12/2022',0.8*1000)\n",
    "holding_one_deposits[rebalance_row] = holding_one_deposits[rebalance_row]+(0.8*total_value-holding_one_value)\n",
    "holding_one = Holding(\"Scottish Mortgage Ord\",\"GB00BLDYK618\",0.1,holding_one_deposits)\n",
    "holding_two_deposits = create_monthly_deposits('01/01/2018','31/12/2022',0.2*1000)\n",
    "holding_two_deposits[rebalance_row] = holding_two_deposits[rebalance_row]+(0.2*total_value-holding_two_value)\n",
    "holding_two = Holding(\"Fundsmith Equity I Acc\",\"GB00B41YBW71\",0.1,holding_two_deposits)"
   ]
  },
  {
   "cell_type": "markdown",
   "id": "4254a626",
   "metadata": {},
   "source": [
    "and do the same with our `FixedAllocationPortfolio`."
   ]
  },
  {
   "cell_type": "code",
   "execution_count": null,
   "id": "08c46175",
   "metadata": {},
   "outputs": [],
   "source": [
    "multi_holding_portfolio = FixedAllocationPortfolio([\"Scottish Mortgage Ord\",\"Fundsmith Equity I Acc\"],\n",
    "                                                   [\"GB00BLDYK618\",\"GB00B41YBW71\"],\n",
    "                                                   [0.1, 0.1],\n",
    "                                                   [0.8, 0.2],\n",
    "                                                   create_monthly_deposits('01/01/2018','31/12/2022',1000))\n",
    "rebalanced_multi_holding_portfolio = multi_holding_portfolio.rebalance(create_monthly_rebalance_dates('01/01/2021','29/01/2021'))"
   ]
  },
  {
   "cell_type": "code",
   "execution_count": null,
   "id": "8441092b",
   "metadata": {},
   "outputs": [],
   "source": [
    "assert(holding_one.to_returns().profit() + holding_two.to_returns().profit() - rebalanced_multi_holding_portfolio.to_returns().profit() < 0.01)"
   ]
  },
  {
   "cell_type": "code",
   "execution_count": null,
   "id": "3e9a8582",
   "metadata": {},
   "outputs": [],
   "source": [
    "#| hide\n",
    "import nbdev; nbdev.nbdev_export()"
   ]
  }
 ],
 "metadata": {
  "kernelspec": {
   "display_name": "python3",
   "language": "python",
   "name": "python3"
  }
 },
 "nbformat": 4,
 "nbformat_minor": 5
}
