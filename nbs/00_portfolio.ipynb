{
 "cells": [
  {
   "cell_type": "markdown",
   "id": "caaab754",
   "metadata": {},
   "source": [
    "# portfolio\n",
    "\n",
    "> A module to model a portfolio's performance over the available time-scale including the impact of fees.\n",
    "\n",
    "A notebook to explore different investment portfolio ideas and compare their historic returns, inclusive of fees"
   ]
  },
  {
   "cell_type": "code",
   "execution_count": 1,
   "id": "225debc8",
   "metadata": {},
   "outputs": [],
   "source": [
    "#| default_exp portfolio"
   ]
  },
  {
   "cell_type": "code",
   "execution_count": 2,
   "id": "88040eaa",
   "metadata": {},
   "outputs": [],
   "source": [
    "#| hide\n",
    "from nbdev.showdoc import *\n",
    "from fastcore.test import *\n",
    "import pdb\n",
    "from datetime import date"
   ]
  },
  {
   "cell_type": "code",
   "execution_count": 3,
   "id": "269ffa28",
   "metadata": {},
   "outputs": [],
   "source": [
    "#| export\n",
    "from fastcore.utils import *"
   ]
  },
  {
   "cell_type": "code",
   "execution_count": 4,
   "id": "1f86dcda",
   "metadata": {},
   "outputs": [],
   "source": [
    "#| export\n",
    "import pendulum"
   ]
  },
  {
   "cell_type": "markdown",
   "id": "c274b552",
   "metadata": {},
   "source": [
    "# Holding\n",
    "A holding is an asset that can be bought. We need to track it's value and how much of it we own over time. We therefore need financial data which can be provided by yfinance for free."
   ]
  },
  {
   "cell_type": "markdown",
   "id": "54ad90c8",
   "metadata": {},
   "source": [
    "Let's import the package and have a play. Remembering that when we are using `nbdev` we have to have imports in their own cells."
   ]
  },
  {
   "cell_type": "code",
   "execution_count": 5,
   "id": "7f4c5806",
   "metadata": {},
   "outputs": [],
   "source": [
    "#| export\n",
    "import yfinance as yf"
   ]
  },
  {
   "cell_type": "code",
   "execution_count": 6,
   "id": "83d0007f",
   "metadata": {},
   "outputs": [
    {
     "data": {
      "text/html": [
       "<div>\n",
       "<style scoped>\n",
       "    .dataframe tbody tr th:only-of-type {\n",
       "        vertical-align: middle;\n",
       "    }\n",
       "\n",
       "    .dataframe tbody tr th {\n",
       "        vertical-align: top;\n",
       "    }\n",
       "\n",
       "    .dataframe thead th {\n",
       "        text-align: right;\n",
       "    }\n",
       "</style>\n",
       "<table border=\"1\" class=\"dataframe\">\n",
       "  <thead>\n",
       "    <tr style=\"text-align: right;\">\n",
       "      <th></th>\n",
       "      <th>Open</th>\n",
       "      <th>High</th>\n",
       "      <th>Low</th>\n",
       "      <th>Close</th>\n",
       "      <th>Volume</th>\n",
       "    </tr>\n",
       "    <tr>\n",
       "      <th>Date</th>\n",
       "      <th></th>\n",
       "      <th></th>\n",
       "      <th></th>\n",
       "      <th></th>\n",
       "      <th></th>\n",
       "    </tr>\n",
       "  </thead>\n",
       "  <tbody>\n",
       "    <tr>\n",
       "      <th>1980-01-02</th>\n",
       "      <td>0.522507</td>\n",
       "      <td>0.522507</td>\n",
       "      <td>0.522507</td>\n",
       "      <td>0.522507</td>\n",
       "      <td>0</td>\n",
       "    </tr>\n",
       "    <tr>\n",
       "      <th>1980-01-03</th>\n",
       "      <td>0.520185</td>\n",
       "      <td>0.520185</td>\n",
       "      <td>0.520185</td>\n",
       "      <td>0.520185</td>\n",
       "      <td>0</td>\n",
       "    </tr>\n",
       "    <tr>\n",
       "      <th>1980-01-04</th>\n",
       "      <td>0.523088</td>\n",
       "      <td>0.523088</td>\n",
       "      <td>0.523088</td>\n",
       "      <td>0.523088</td>\n",
       "      <td>0</td>\n",
       "    </tr>\n",
       "    <tr>\n",
       "      <th>1980-01-07</th>\n",
       "      <td>0.523088</td>\n",
       "      <td>0.523088</td>\n",
       "      <td>0.523088</td>\n",
       "      <td>0.523088</td>\n",
       "      <td>0</td>\n",
       "    </tr>\n",
       "    <tr>\n",
       "      <th>1980-01-08</th>\n",
       "      <td>0.529474</td>\n",
       "      <td>0.529474</td>\n",
       "      <td>0.529474</td>\n",
       "      <td>0.529474</td>\n",
       "      <td>0</td>\n",
       "    </tr>\n",
       "  </tbody>\n",
       "</table>\n",
       "</div>"
      ],
      "text/plain": [
       "                Open      High       Low     Close  Volume\n",
       "Date                                                      \n",
       "1980-01-02  0.522507  0.522507  0.522507  0.522507       0\n",
       "1980-01-03  0.520185  0.520185  0.520185  0.520185       0\n",
       "1980-01-04  0.523088  0.523088  0.523088  0.523088       0\n",
       "1980-01-07  0.523088  0.523088  0.523088  0.523088       0\n",
       "1980-01-08  0.529474  0.529474  0.529474  0.529474       0"
      ]
     },
     "execution_count": 6,
     "metadata": {},
     "output_type": "execute_result"
    }
   ],
   "source": [
    "price_history = yf.Ticker('VWELX').history(period='max', # valid periods: 1d,5d,1mo,3mo,6mo,1y,2y,5y,10y,ytd,max\n",
    "                                           interval='1d', # valid intervals: 1m,2m,5m,15m,30m,60m,90m,1h,1d,5d,1wk,1mo,3mo\n",
    "                                           actions=False)\n",
    "price_history.head()"
   ]
  },
  {
   "cell_type": "code",
   "execution_count": 7,
   "id": "19743465",
   "metadata": {},
   "outputs": [
    {
     "data": {
      "text/plain": [
       "Timestamp('2023-06-02 00:00:00')"
      ]
     },
     "execution_count": 7,
     "metadata": {},
     "output_type": "execute_result"
    }
   ],
   "source": [
    "price_history.index[-1]"
   ]
  },
  {
   "cell_type": "markdown",
   "id": "5d865dbd",
   "metadata": {},
   "source": [
    "yfinance appears to be a good option as it has price information. One concern would be what units these are but that doesn't matter as we will convert back to cash at the end."
   ]
  },
  {
   "cell_type": "code",
   "execution_count": 8,
   "id": "3e3166b7",
   "metadata": {},
   "outputs": [
    {
     "data": {
      "text/markdown": [
       "---\n",
       "\n",
       "### TickerBase.history\n",
       "\n",
       ">      TickerBase.history (period='1mo', interval='1d', start=None, end=None,\n",
       ">                          prepost=False, actions=True, auto_adjust=True,\n",
       ">                          back_adjust=False, proxy=None, rounding=False,\n",
       ">                          tz=None, timeout=None, **kwargs)\n",
       "\n",
       ":Parameters:\n",
       "    period : str\n",
       "        Valid periods: 1d,5d,1mo,3mo,6mo,1y,2y,5y,10y,ytd,max\n",
       "        Either Use period parameter or use start and end\n",
       "    interval : str\n",
       "        Valid intervals: 1m,2m,5m,15m,30m,60m,90m,1h,1d,5d,1wk,1mo,3mo\n",
       "        Intraday data cannot extend last 60 days\n",
       "    start: str\n",
       "        Download start date string (YYYY-MM-DD) or _datetime.\n",
       "        Default is 1900-01-01\n",
       "    end: str\n",
       "        Download end date string (YYYY-MM-DD) or _datetime.\n",
       "        Default is now\n",
       "    prepost : bool\n",
       "        Include Pre and Post market data in results?\n",
       "        Default is False\n",
       "    auto_adjust: bool\n",
       "        Adjust all OHLC automatically? Default is True\n",
       "    back_adjust: bool\n",
       "        Back-adjusted data to mimic true historical prices\n",
       "    proxy: str\n",
       "        Optional. Proxy server URL scheme. Default is None\n",
       "    rounding: bool\n",
       "        Round values to 2 decimal places?\n",
       "        Optional. Default is False = precision suggested by Yahoo!\n",
       "    tz: str\n",
       "        Optional timezone locale for dates.\n",
       "        (default data is returned as non-localized dates)\n",
       "    timeout: None or float\n",
       "        If not None stops waiting for a response after given number of\n",
       "        seconds. (Can also be a fraction of a second e.g. 0.01)\n",
       "        Default is None.\n",
       "    **kwargs: dict\n",
       "        debug: bool\n",
       "            Optional. If passed as False, will suppress\n",
       "            error message printing to console."
      ],
      "text/plain": [
       "---\n",
       "\n",
       "### TickerBase.history\n",
       "\n",
       ">      TickerBase.history (period='1mo', interval='1d', start=None, end=None,\n",
       ">                          prepost=False, actions=True, auto_adjust=True,\n",
       ">                          back_adjust=False, proxy=None, rounding=False,\n",
       ">                          tz=None, timeout=None, **kwargs)\n",
       "\n",
       ":Parameters:\n",
       "    period : str\n",
       "        Valid periods: 1d,5d,1mo,3mo,6mo,1y,2y,5y,10y,ytd,max\n",
       "        Either Use period parameter or use start and end\n",
       "    interval : str\n",
       "        Valid intervals: 1m,2m,5m,15m,30m,60m,90m,1h,1d,5d,1wk,1mo,3mo\n",
       "        Intraday data cannot extend last 60 days\n",
       "    start: str\n",
       "        Download start date string (YYYY-MM-DD) or _datetime.\n",
       "        Default is 1900-01-01\n",
       "    end: str\n",
       "        Download end date string (YYYY-MM-DD) or _datetime.\n",
       "        Default is now\n",
       "    prepost : bool\n",
       "        Include Pre and Post market data in results?\n",
       "        Default is False\n",
       "    auto_adjust: bool\n",
       "        Adjust all OHLC automatically? Default is True\n",
       "    back_adjust: bool\n",
       "        Back-adjusted data to mimic true historical prices\n",
       "    proxy: str\n",
       "        Optional. Proxy server URL scheme. Default is None\n",
       "    rounding: bool\n",
       "        Round values to 2 decimal places?\n",
       "        Optional. Default is False = precision suggested by Yahoo!\n",
       "    tz: str\n",
       "        Optional timezone locale for dates.\n",
       "        (default data is returned as non-localized dates)\n",
       "    timeout: None or float\n",
       "        If not None stops waiting for a response after given number of\n",
       "        seconds. (Can also be a fraction of a second e.g. 0.01)\n",
       "        Default is None.\n",
       "    **kwargs: dict\n",
       "        debug: bool\n",
       "            Optional. If passed as False, will suppress\n",
       "            error message printing to console."
      ]
     },
     "execution_count": 8,
     "metadata": {},
     "output_type": "execute_result"
    }
   ],
   "source": [
    "show_doc(yf.Ticker.history)"
   ]
  },
  {
   "cell_type": "markdown",
   "id": "8a2407df",
   "metadata": {},
   "source": [
    "## Deposits\n",
    "\n",
    "Deposits to our fund could be naturally specified as time series of deposits. A helper function is provided to support the creation of monthly deposits. It is important that these days lie on business days so we use `pd.bdate_range` However, this could be extended to different time periods."
   ]
  },
  {
   "cell_type": "code",
   "execution_count": 9,
   "id": "0fb052a2",
   "metadata": {},
   "outputs": [],
   "source": [
    "#| export\n",
    "import pandas as pd\n",
    "from datetime import datetime"
   ]
  },
  {
   "cell_type": "code",
   "execution_count": 10,
   "id": "25e4b822",
   "metadata": {},
   "outputs": [],
   "source": [
    "#| export\n",
    "to_datetime = lambda date_string: datetime.strptime(date_string,\"%d/%m/%Y\")\n",
    "def create_monthly_deposits(start:str,        # Date of the first montly deposit.\n",
    "                            end:str,          # Date of the last monthly deposit\n",
    "                            deposit:float):    # Value of monthly deposit\n",
    "    dti = pd.bdate_range(start=to_datetime(start),end=to_datetime(end),freq='BM')\n",
    "    deposits = [deposit]*len(dti)\n",
    "    return pd.Series([deposit]*len(dti), index=dti, name='deposits')"
   ]
  },
  {
   "cell_type": "markdown",
   "id": "1dc78d9a",
   "metadata": {},
   "source": [
    "We call our function as follows."
   ]
  },
  {
   "cell_type": "code",
   "execution_count": 11,
   "id": "50dae246",
   "metadata": {},
   "outputs": [
    {
     "data": {
      "text/plain": [
       "2022-01-31    10\n",
       "2022-02-28    10\n",
       "2022-03-31    10\n",
       "2022-04-29    10\n",
       "2022-05-31    10\n",
       "2022-06-30    10\n",
       "2022-07-29    10\n",
       "2022-08-31    10\n",
       "2022-09-30    10\n",
       "2022-10-31    10\n",
       "2022-11-30    10\n",
       "2022-12-30    10\n",
       "2023-01-31    10\n",
       "2023-02-28    10\n",
       "2023-03-31    10\n",
       "Freq: BM, Name: deposits, dtype: int64"
      ]
     },
     "execution_count": 11,
     "metadata": {},
     "output_type": "execute_result"
    }
   ],
   "source": [
    "monthly_deposits = create_monthly_deposits('01/01/2022','01/04/2023',10)\n",
    "monthly_deposits"
   ]
  },
  {
   "cell_type": "markdown",
   "id": "cab0e0d0",
   "metadata": {},
   "source": [
    "## Single Holding\n",
    "First we create a portfolio consisting of a single holding that takes a deposits argument. A main potential confusion here is if the deposits predate the commencement of the fund. Let's see the oldest possible date available where we have prices for the Vanguard Life Strategy 100% fund."
   ]
  },
  {
   "cell_type": "code",
   "execution_count": 81,
   "id": "c93f50dc",
   "metadata": {},
   "outputs": [
    {
     "data": {
      "text/html": [
       "<div>\n",
       "<style scoped>\n",
       "    .dataframe tbody tr th:only-of-type {\n",
       "        vertical-align: middle;\n",
       "    }\n",
       "\n",
       "    .dataframe tbody tr th {\n",
       "        vertical-align: top;\n",
       "    }\n",
       "\n",
       "    .dataframe thead th {\n",
       "        text-align: right;\n",
       "    }\n",
       "</style>\n",
       "<table border=\"1\" class=\"dataframe\">\n",
       "  <thead>\n",
       "    <tr style=\"text-align: right;\">\n",
       "      <th></th>\n",
       "      <th>Open</th>\n",
       "      <th>High</th>\n",
       "      <th>Low</th>\n",
       "      <th>Close</th>\n",
       "      <th>Volume</th>\n",
       "    </tr>\n",
       "    <tr>\n",
       "      <th>Date</th>\n",
       "      <th></th>\n",
       "      <th></th>\n",
       "      <th></th>\n",
       "      <th></th>\n",
       "      <th></th>\n",
       "    </tr>\n",
       "  </thead>\n",
       "  <tbody>\n",
       "    <tr>\n",
       "      <th>2018-01-02</th>\n",
       "      <td>20677.300781</td>\n",
       "      <td>20677.300781</td>\n",
       "      <td>20677.300781</td>\n",
       "      <td>20677.300781</td>\n",
       "      <td>0</td>\n",
       "    </tr>\n",
       "    <tr>\n",
       "      <th>2018-01-03</th>\n",
       "      <td>20863.699219</td>\n",
       "      <td>20863.699219</td>\n",
       "      <td>20863.699219</td>\n",
       "      <td>20863.699219</td>\n",
       "      <td>0</td>\n",
       "    </tr>\n",
       "    <tr>\n",
       "      <th>2018-01-04</th>\n",
       "      <td>20965.300781</td>\n",
       "      <td>20965.300781</td>\n",
       "      <td>20965.300781</td>\n",
       "      <td>20965.300781</td>\n",
       "      <td>0</td>\n",
       "    </tr>\n",
       "    <tr>\n",
       "      <th>2018-01-05</th>\n",
       "      <td>21076.099609</td>\n",
       "      <td>21076.099609</td>\n",
       "      <td>21076.099609</td>\n",
       "      <td>21076.099609</td>\n",
       "      <td>0</td>\n",
       "    </tr>\n",
       "    <tr>\n",
       "      <th>2018-01-08</th>\n",
       "      <td>21060.300781</td>\n",
       "      <td>21060.300781</td>\n",
       "      <td>21060.300781</td>\n",
       "      <td>21060.300781</td>\n",
       "      <td>0</td>\n",
       "    </tr>\n",
       "  </tbody>\n",
       "</table>\n",
       "</div>"
      ],
      "text/plain": [
       "                    Open          High           Low         Close  Volume\n",
       "Date                                                                      \n",
       "2018-01-02  20677.300781  20677.300781  20677.300781  20677.300781       0\n",
       "2018-01-03  20863.699219  20863.699219  20863.699219  20863.699219       0\n",
       "2018-01-04  20965.300781  20965.300781  20965.300781  20965.300781       0\n",
       "2018-01-05  21076.099609  21076.099609  21076.099609  21076.099609       0\n",
       "2018-01-08  21060.300781  21060.300781  21060.300781  21060.300781       0"
      ]
     },
     "execution_count": 81,
     "metadata": {},
     "output_type": "execute_result"
    }
   ],
   "source": [
    "price_history = yf.Ticker('0P0000TKZO.L').history(period='max', # valid periods: 1d,5d,1mo,3mo,6mo,1y,2y,5y,10y,ytd,max\n",
    "                                           interval='1d', # valid intervals: 1m,2m,5m,15m,30m,60m,90m,1h,1d,5d,1wk,1mo,3mo\n",
    "                                           actions=False)\n",
    "price_history.head()"
   ]
  },
  {
   "cell_type": "markdown",
   "id": "88a880b3",
   "metadata": {},
   "source": [
    "Let's create some deposits that predate these dates slightly."
   ]
  },
  {
   "cell_type": "code",
   "execution_count": 82,
   "id": "c6b6c011",
   "metadata": {},
   "outputs": [],
   "source": [
    "monthly_deposits = create_monthly_deposits('01/01/2017','01/04/2023',10)"
   ]
  },
  {
   "cell_type": "markdown",
   "id": "e3ca330e",
   "metadata": {},
   "source": [
    "What happens when we join these two tables?"
   ]
  },
  {
   "cell_type": "code",
   "execution_count": 83,
   "id": "8e46b426",
   "metadata": {},
   "outputs": [
    {
     "data": {
      "text/html": [
       "<div>\n",
       "<style scoped>\n",
       "    .dataframe tbody tr th:only-of-type {\n",
       "        vertical-align: middle;\n",
       "    }\n",
       "\n",
       "    .dataframe tbody tr th {\n",
       "        vertical-align: top;\n",
       "    }\n",
       "\n",
       "    .dataframe thead th {\n",
       "        text-align: right;\n",
       "    }\n",
       "</style>\n",
       "<table border=\"1\" class=\"dataframe\">\n",
       "  <thead>\n",
       "    <tr style=\"text-align: right;\">\n",
       "      <th></th>\n",
       "      <th>deposits</th>\n",
       "      <th>Open</th>\n",
       "      <th>High</th>\n",
       "      <th>Low</th>\n",
       "      <th>Close</th>\n",
       "      <th>Volume</th>\n",
       "    </tr>\n",
       "  </thead>\n",
       "  <tbody>\n",
       "    <tr>\n",
       "      <th>2017-01-31</th>\n",
       "      <td>10.0</td>\n",
       "      <td>NaN</td>\n",
       "      <td>NaN</td>\n",
       "      <td>NaN</td>\n",
       "      <td>NaN</td>\n",
       "      <td>NaN</td>\n",
       "    </tr>\n",
       "    <tr>\n",
       "      <th>2017-02-28</th>\n",
       "      <td>10.0</td>\n",
       "      <td>NaN</td>\n",
       "      <td>NaN</td>\n",
       "      <td>NaN</td>\n",
       "      <td>NaN</td>\n",
       "      <td>NaN</td>\n",
       "    </tr>\n",
       "    <tr>\n",
       "      <th>2017-03-31</th>\n",
       "      <td>10.0</td>\n",
       "      <td>NaN</td>\n",
       "      <td>NaN</td>\n",
       "      <td>NaN</td>\n",
       "      <td>NaN</td>\n",
       "      <td>NaN</td>\n",
       "    </tr>\n",
       "    <tr>\n",
       "      <th>2017-04-28</th>\n",
       "      <td>10.0</td>\n",
       "      <td>NaN</td>\n",
       "      <td>NaN</td>\n",
       "      <td>NaN</td>\n",
       "      <td>NaN</td>\n",
       "      <td>NaN</td>\n",
       "    </tr>\n",
       "    <tr>\n",
       "      <th>2017-05-31</th>\n",
       "      <td>10.0</td>\n",
       "      <td>NaN</td>\n",
       "      <td>NaN</td>\n",
       "      <td>NaN</td>\n",
       "      <td>NaN</td>\n",
       "      <td>NaN</td>\n",
       "    </tr>\n",
       "    <tr>\n",
       "      <th>...</th>\n",
       "      <td>...</td>\n",
       "      <td>...</td>\n",
       "      <td>...</td>\n",
       "      <td>...</td>\n",
       "      <td>...</td>\n",
       "      <td>...</td>\n",
       "    </tr>\n",
       "    <tr>\n",
       "      <th>2023-05-31</th>\n",
       "      <td>NaN</td>\n",
       "      <td>29536.349609</td>\n",
       "      <td>29536.349609</td>\n",
       "      <td>29536.349609</td>\n",
       "      <td>29536.349609</td>\n",
       "      <td>0.0</td>\n",
       "    </tr>\n",
       "    <tr>\n",
       "      <th>2023-06-01</th>\n",
       "      <td>NaN</td>\n",
       "      <td>29590.519531</td>\n",
       "      <td>29590.519531</td>\n",
       "      <td>29590.519531</td>\n",
       "      <td>29590.519531</td>\n",
       "      <td>0.0</td>\n",
       "    </tr>\n",
       "    <tr>\n",
       "      <th>2023-06-02</th>\n",
       "      <td>NaN</td>\n",
       "      <td>30129.669922</td>\n",
       "      <td>30129.669922</td>\n",
       "      <td>30129.669922</td>\n",
       "      <td>30129.669922</td>\n",
       "      <td>0.0</td>\n",
       "    </tr>\n",
       "    <tr>\n",
       "      <th>2023-06-05</th>\n",
       "      <td>NaN</td>\n",
       "      <td>30243.570312</td>\n",
       "      <td>30243.570312</td>\n",
       "      <td>30243.570312</td>\n",
       "      <td>30243.570312</td>\n",
       "      <td>0.0</td>\n",
       "    </tr>\n",
       "    <tr>\n",
       "      <th>2023-06-06</th>\n",
       "      <td>NaN</td>\n",
       "      <td>30345.429688</td>\n",
       "      <td>30345.429688</td>\n",
       "      <td>30345.429688</td>\n",
       "      <td>30345.429688</td>\n",
       "      <td>0.0</td>\n",
       "    </tr>\n",
       "  </tbody>\n",
       "</table>\n",
       "<p>1384 rows × 6 columns</p>\n",
       "</div>"
      ],
      "text/plain": [
       "            deposits          Open          High           Low         Close  \\\n",
       "2017-01-31      10.0           NaN           NaN           NaN           NaN   \n",
       "2017-02-28      10.0           NaN           NaN           NaN           NaN   \n",
       "2017-03-31      10.0           NaN           NaN           NaN           NaN   \n",
       "2017-04-28      10.0           NaN           NaN           NaN           NaN   \n",
       "2017-05-31      10.0           NaN           NaN           NaN           NaN   \n",
       "...              ...           ...           ...           ...           ...   \n",
       "2023-05-31       NaN  29536.349609  29536.349609  29536.349609  29536.349609   \n",
       "2023-06-01       NaN  29590.519531  29590.519531  29590.519531  29590.519531   \n",
       "2023-06-02       NaN  30129.669922  30129.669922  30129.669922  30129.669922   \n",
       "2023-06-05       NaN  30243.570312  30243.570312  30243.570312  30243.570312   \n",
       "2023-06-06       NaN  30345.429688  30345.429688  30345.429688  30345.429688   \n",
       "\n",
       "            Volume  \n",
       "2017-01-31     NaN  \n",
       "2017-02-28     NaN  \n",
       "2017-03-31     NaN  \n",
       "2017-04-28     NaN  \n",
       "2017-05-31     NaN  \n",
       "...            ...  \n",
       "2023-05-31     0.0  \n",
       "2023-06-01     0.0  \n",
       "2023-06-02     0.0  \n",
       "2023-06-05     0.0  \n",
       "2023-06-06     0.0  \n",
       "\n",
       "[1384 rows x 6 columns]"
      ]
     },
     "execution_count": 83,
     "metadata": {},
     "output_type": "execute_result"
    }
   ],
   "source": [
    "price_history = pd.merge(monthly_deposits.to_frame(),price_history,left_index=True,right_index=True,how='outer')\n",
    "price_history"
   ]
  },
  {
   "cell_type": "markdown",
   "id": "27ad1a5e",
   "metadata": {},
   "source": [
    "How do we want this to behave?\n",
    "* When we have a portfolio we are going to be combining funds that don't start on the same dates.\n",
    "* We want funds to all have the same start date - achieved by using the same deposits input.\n",
    "* We fill the price_history with days.\n",
    "* We could save up all deposits until the first business day, but if we've back filled fund's pricing i.e. the price is the same as when the fund opens for all preceding days, then we've effectively achieved this. We won't see spikes in the deposits/fund value to see this but the final calculation will be the same and rebalancing will be easier. This also has the marginal downside that the fees are  incorrect. (Maybe this is a next development step)."
   ]
  },
  {
   "cell_type": "markdown",
   "id": "0b9e9d67",
   "metadata": {},
   "source": [
    "Let's start by infilling with days. This is also important to get the fees correct! "
   ]
  },
  {
   "cell_type": "code",
   "execution_count": 84,
   "id": "c2b31663",
   "metadata": {},
   "outputs": [],
   "source": [
    "dti = pd.date_range(start=price_history.index[0],end=price_history.index[-1])\n",
    "price_history = price_history.reindex(dti)"
   ]
  },
  {
   "cell_type": "code",
   "execution_count": 85,
   "id": "3766d363",
   "metadata": {},
   "outputs": [
    {
     "data": {
      "text/html": [
       "<div>\n",
       "<style scoped>\n",
       "    .dataframe tbody tr th:only-of-type {\n",
       "        vertical-align: middle;\n",
       "    }\n",
       "\n",
       "    .dataframe tbody tr th {\n",
       "        vertical-align: top;\n",
       "    }\n",
       "\n",
       "    .dataframe thead th {\n",
       "        text-align: right;\n",
       "    }\n",
       "</style>\n",
       "<table border=\"1\" class=\"dataframe\">\n",
       "  <thead>\n",
       "    <tr style=\"text-align: right;\">\n",
       "      <th></th>\n",
       "      <th>deposits</th>\n",
       "      <th>Open</th>\n",
       "      <th>High</th>\n",
       "      <th>Low</th>\n",
       "      <th>Close</th>\n",
       "      <th>Volume</th>\n",
       "    </tr>\n",
       "  </thead>\n",
       "  <tbody>\n",
       "    <tr>\n",
       "      <th>2017-01-31</th>\n",
       "      <td>10.0</td>\n",
       "      <td>20677.300781</td>\n",
       "      <td>20677.300781</td>\n",
       "      <td>20677.300781</td>\n",
       "      <td>20677.300781</td>\n",
       "      <td>0.0</td>\n",
       "    </tr>\n",
       "    <tr>\n",
       "      <th>2017-02-01</th>\n",
       "      <td>0.0</td>\n",
       "      <td>20677.300781</td>\n",
       "      <td>20677.300781</td>\n",
       "      <td>20677.300781</td>\n",
       "      <td>20677.300781</td>\n",
       "      <td>0.0</td>\n",
       "    </tr>\n",
       "    <tr>\n",
       "      <th>2017-02-02</th>\n",
       "      <td>0.0</td>\n",
       "      <td>20677.300781</td>\n",
       "      <td>20677.300781</td>\n",
       "      <td>20677.300781</td>\n",
       "      <td>20677.300781</td>\n",
       "      <td>0.0</td>\n",
       "    </tr>\n",
       "    <tr>\n",
       "      <th>2017-02-03</th>\n",
       "      <td>0.0</td>\n",
       "      <td>20677.300781</td>\n",
       "      <td>20677.300781</td>\n",
       "      <td>20677.300781</td>\n",
       "      <td>20677.300781</td>\n",
       "      <td>0.0</td>\n",
       "    </tr>\n",
       "    <tr>\n",
       "      <th>2017-02-06</th>\n",
       "      <td>0.0</td>\n",
       "      <td>20677.300781</td>\n",
       "      <td>20677.300781</td>\n",
       "      <td>20677.300781</td>\n",
       "      <td>20677.300781</td>\n",
       "      <td>0.0</td>\n",
       "    </tr>\n",
       "    <tr>\n",
       "      <th>...</th>\n",
       "      <td>...</td>\n",
       "      <td>...</td>\n",
       "      <td>...</td>\n",
       "      <td>...</td>\n",
       "      <td>...</td>\n",
       "      <td>...</td>\n",
       "    </tr>\n",
       "    <tr>\n",
       "      <th>2023-05-31</th>\n",
       "      <td>0.0</td>\n",
       "      <td>29536.349609</td>\n",
       "      <td>29536.349609</td>\n",
       "      <td>29536.349609</td>\n",
       "      <td>29536.349609</td>\n",
       "      <td>0.0</td>\n",
       "    </tr>\n",
       "    <tr>\n",
       "      <th>2023-06-01</th>\n",
       "      <td>0.0</td>\n",
       "      <td>29590.519531</td>\n",
       "      <td>29590.519531</td>\n",
       "      <td>29590.519531</td>\n",
       "      <td>29590.519531</td>\n",
       "      <td>0.0</td>\n",
       "    </tr>\n",
       "    <tr>\n",
       "      <th>2023-06-02</th>\n",
       "      <td>0.0</td>\n",
       "      <td>30129.669922</td>\n",
       "      <td>30129.669922</td>\n",
       "      <td>30129.669922</td>\n",
       "      <td>30129.669922</td>\n",
       "      <td>0.0</td>\n",
       "    </tr>\n",
       "    <tr>\n",
       "      <th>2023-06-05</th>\n",
       "      <td>0.0</td>\n",
       "      <td>30243.570312</td>\n",
       "      <td>30243.570312</td>\n",
       "      <td>30243.570312</td>\n",
       "      <td>30243.570312</td>\n",
       "      <td>0.0</td>\n",
       "    </tr>\n",
       "    <tr>\n",
       "      <th>2023-06-06</th>\n",
       "      <td>0.0</td>\n",
       "      <td>30345.429688</td>\n",
       "      <td>30345.429688</td>\n",
       "      <td>30345.429688</td>\n",
       "      <td>30345.429688</td>\n",
       "      <td>0.0</td>\n",
       "    </tr>\n",
       "  </tbody>\n",
       "</table>\n",
       "<p>1656 rows × 6 columns</p>\n",
       "</div>"
      ],
      "text/plain": [
       "            deposits          Open          High           Low         Close  \\\n",
       "2017-01-31      10.0  20677.300781  20677.300781  20677.300781  20677.300781   \n",
       "2017-02-01       0.0  20677.300781  20677.300781  20677.300781  20677.300781   \n",
       "2017-02-02       0.0  20677.300781  20677.300781  20677.300781  20677.300781   \n",
       "2017-02-03       0.0  20677.300781  20677.300781  20677.300781  20677.300781   \n",
       "2017-02-06       0.0  20677.300781  20677.300781  20677.300781  20677.300781   \n",
       "...              ...           ...           ...           ...           ...   \n",
       "2023-05-31       0.0  29536.349609  29536.349609  29536.349609  29536.349609   \n",
       "2023-06-01       0.0  29590.519531  29590.519531  29590.519531  29590.519531   \n",
       "2023-06-02       0.0  30129.669922  30129.669922  30129.669922  30129.669922   \n",
       "2023-06-05       0.0  30243.570312  30243.570312  30243.570312  30243.570312   \n",
       "2023-06-06       0.0  30345.429688  30345.429688  30345.429688  30345.429688   \n",
       "\n",
       "            Volume  \n",
       "2017-01-31     0.0  \n",
       "2017-02-01     0.0  \n",
       "2017-02-02     0.0  \n",
       "2017-02-03     0.0  \n",
       "2017-02-06     0.0  \n",
       "...            ...  \n",
       "2023-05-31     0.0  \n",
       "2023-06-01     0.0  \n",
       "2023-06-02     0.0  \n",
       "2023-06-05     0.0  \n",
       "2023-06-06     0.0  \n",
       "\n",
       "[1656 rows x 6 columns]"
      ]
     },
     "execution_count": 85,
     "metadata": {},
     "output_type": "execute_result"
    }
   ],
   "source": [
    "price_history['deposits'] = price_history['deposits'].fillna(0)\n",
    "price_history = price_history.fillna(method='bfill')\n",
    "price_history"
   ]
  },
  {
   "cell_type": "code",
   "execution_count": 86,
   "id": "ca55ca20",
   "metadata": {},
   "outputs": [],
   "source": [
    "#| export\n",
    "import warnings"
   ]
  },
  {
   "cell_type": "code",
   "execution_count": 211,
   "id": "35791738",
   "metadata": {},
   "outputs": [],
   "source": [
    "#| export\n",
    "class Holding:\n",
    "    \"A holding for fund with data available on yfinance\"\n",
    "    def __init__(self,\n",
    "                 fund:str,                      # Name of the fund\n",
    "                 ticker:str,                    # Ticker symbol for the stock\n",
    "                 product_cost:float,            # Sum of all fees expressed as a percentage\n",
    "                 deposits):                     # Timeseries dataframe of deposits\n",
    "                 \n",
    "        \n",
    "        self.fund = fund\n",
    "        self.product_cost = product_cost\n",
    "        \n",
    "        # Where we've specified a timeseries where values predate the oldest time in our ticker,\n",
    "        # we give a warning and then fill the deposits columns with nans and back-fill all other columns\n",
    "        \n",
    "        price_history = yf.Ticker(ticker).history(period='max', # valid periods: 1d,5d,1mo,3mo,6mo,1y,2y,5y,10y,ytd,max\n",
    "                                                  interval='1d', # valid intervals: 1m,2m,5m,15m,30m,60m,90m,1h,1d,5d,1wk,1mo,3mo\n",
    "                                                  actions=False)\n",
    "        \n",
    "        \n",
    "        #TODO: This doesn't work if there are no deposits after the fund opened\n",
    "        if deposits.index[0] < price_history.index[0]:\n",
    "                warn_msg = f\"\"\"Deposits predate initial date of {price_history.index[0]} where prices are available for {fund}. First pricing data is back-filled.\"\"\" \n",
    "                warnings.warn(warn_msg)\n",
    "        \n",
    "        # Trim any fund data that predates deposits\n",
    "        price_history = price_history.iloc[price_history.index >= deposits.index[0]]\n",
    "        \n",
    "        # Join and clean\n",
    "        self.history = pd.merge(deposits.to_frame(),price_history,left_index=True,right_index=True,how='outer')\n",
    "        dti = pd.date_range(start=self.history.index[0],end=datetime.now())\n",
    "        self.history = self.history.reindex(dti)\n",
    "        self.history['deposits'] = self.history['deposits'].fillna(0)\n",
    "        self.history = self.history.fillna(method='bfill')\n",
    "        self.history = self.history.fillna(method='ffill')\n",
    "        \n",
    "        self = self.compute_value()\n",
    "        \n",
    "        # A holding can never have cumulative deposits less than zero.\n",
    "        \n",
    "    def compute_value(self):\n",
    "        \n",
    "        self.history['units']        = self.history['deposits']/self.history['Close']\n",
    "        self.history['cum_units']    = self.history['units'].cumsum()\n",
    "        self.history['cum_value']    = self.history['cum_units']*self.history['Close']\n",
    "        self.history['fees'] = ((1+self.product_cost/100)**(1/365)-1)*self.history['cum_value']\n",
    "        \n",
    "        return self"
   ]
  },
  {
   "cell_type": "markdown",
   "id": "6725e2cd",
   "metadata": {},
   "source": [
    "Let's create our first holding."
   ]
  },
  {
   "cell_type": "code",
   "execution_count": 212,
   "id": "bb1fd1dd",
   "metadata": {},
   "outputs": [],
   "source": [
    "single_holding = Holding('Vanguard LifeStrategy 100%','0P0000TKZO.L',0.22,create_monthly_deposits('04/01/2018','01/12/2022',1000))"
   ]
  },
  {
   "cell_type": "markdown",
   "id": "ab7de324",
   "metadata": {},
   "source": [
    "Our holding should have the fund name assigned."
   ]
  },
  {
   "cell_type": "code",
   "execution_count": 213,
   "id": "19984749",
   "metadata": {},
   "outputs": [],
   "source": [
    "assert single_holding.fund == 'Vanguard LifeStrategy 100%'"
   ]
  },
  {
   "cell_type": "markdown",
   "id": "ff1f932f",
   "metadata": {},
   "source": [
    "Our holding should have a history dataframe..."
   ]
  },
  {
   "cell_type": "code",
   "execution_count": 214,
   "id": "6710ecd1",
   "metadata": {},
   "outputs": [],
   "source": [
    "assert isinstance(single_holding.history, pd.DataFrame)"
   ]
  },
  {
   "cell_type": "markdown",
   "id": "95208f0b",
   "metadata": {},
   "source": [
    "with certain columns..."
   ]
  },
  {
   "cell_type": "code",
   "execution_count": 215,
   "id": "d04a5684",
   "metadata": {},
   "outputs": [],
   "source": [
    "assert all([item in single_holding.history.columns for item in ['Open','High','Low','Close','deposits','units','cum_units','cum_value','fees']])"
   ]
  },
  {
   "cell_type": "markdown",
   "id": "b04f4aba",
   "metadata": {},
   "source": [
    "We could try and create a condition based on length of the dataframe but as the market is close on weekends we see that this is difficult."
   ]
  },
  {
   "cell_type": "code",
   "execution_count": 216,
   "id": "d4e4d664",
   "metadata": {},
   "outputs": [
    {
     "data": {
      "text/plain": [
       "1954"
      ]
     },
     "execution_count": 216,
     "metadata": {},
     "output_type": "execute_result"
    }
   ],
   "source": [
    "len(single_holding.history)"
   ]
  },
  {
   "cell_type": "code",
   "execution_count": 217,
   "id": "e7b20c6e",
   "metadata": {},
   "outputs": [
    {
     "data": {
      "text/plain": [
       "1979"
      ]
     },
     "execution_count": 217,
     "metadata": {},
     "output_type": "execute_result"
    }
   ],
   "source": [
    "(yf.Ticker('0P0000TKZO.L').history(period='max',interval='1d',actions=False).index[-1]-to_datetime('04/01/2018')).days"
   ]
  },
  {
   "cell_type": "markdown",
   "id": "8d10358a",
   "metadata": {},
   "source": [
    "We can instead check the early dates in the history..."
   ]
  },
  {
   "cell_type": "code",
   "execution_count": 218,
   "id": "bc6967f0",
   "metadata": {},
   "outputs": [
    {
     "data": {
      "text/html": [
       "<div>\n",
       "<style scoped>\n",
       "    .dataframe tbody tr th:only-of-type {\n",
       "        vertical-align: middle;\n",
       "    }\n",
       "\n",
       "    .dataframe tbody tr th {\n",
       "        vertical-align: top;\n",
       "    }\n",
       "\n",
       "    .dataframe thead th {\n",
       "        text-align: right;\n",
       "    }\n",
       "</style>\n",
       "<table border=\"1\" class=\"dataframe\">\n",
       "  <thead>\n",
       "    <tr style=\"text-align: right;\">\n",
       "      <th></th>\n",
       "      <th>deposits</th>\n",
       "      <th>Open</th>\n",
       "      <th>High</th>\n",
       "      <th>Low</th>\n",
       "      <th>Close</th>\n",
       "      <th>Volume</th>\n",
       "      <th>units</th>\n",
       "      <th>cum_units</th>\n",
       "      <th>cum_value</th>\n",
       "      <th>fees</th>\n",
       "    </tr>\n",
       "  </thead>\n",
       "  <tbody>\n",
       "    <tr>\n",
       "      <th>2018-01-31</th>\n",
       "      <td>1000.0</td>\n",
       "      <td>20638.800781</td>\n",
       "      <td>20638.800781</td>\n",
       "      <td>20638.800781</td>\n",
       "      <td>20638.800781</td>\n",
       "      <td>0.0</td>\n",
       "      <td>0.048452</td>\n",
       "      <td>0.048452</td>\n",
       "      <td>1000.000000</td>\n",
       "      <td>0.006021</td>\n",
       "    </tr>\n",
       "    <tr>\n",
       "      <th>2018-02-01</th>\n",
       "      <td>0.0</td>\n",
       "      <td>20603.599609</td>\n",
       "      <td>20603.599609</td>\n",
       "      <td>20603.599609</td>\n",
       "      <td>20603.599609</td>\n",
       "      <td>0.0</td>\n",
       "      <td>0.000000</td>\n",
       "      <td>0.048452</td>\n",
       "      <td>998.294418</td>\n",
       "      <td>0.006011</td>\n",
       "    </tr>\n",
       "    <tr>\n",
       "      <th>2018-02-02</th>\n",
       "      <td>0.0</td>\n",
       "      <td>20399.000000</td>\n",
       "      <td>20399.000000</td>\n",
       "      <td>20399.000000</td>\n",
       "      <td>20399.000000</td>\n",
       "      <td>0.0</td>\n",
       "      <td>0.000000</td>\n",
       "      <td>0.048452</td>\n",
       "      <td>988.381070</td>\n",
       "      <td>0.005951</td>\n",
       "    </tr>\n",
       "    <tr>\n",
       "      <th>2018-02-03</th>\n",
       "      <td>0.0</td>\n",
       "      <td>19985.199219</td>\n",
       "      <td>19985.199219</td>\n",
       "      <td>19985.199219</td>\n",
       "      <td>19985.199219</td>\n",
       "      <td>0.0</td>\n",
       "      <td>0.000000</td>\n",
       "      <td>0.048452</td>\n",
       "      <td>968.331418</td>\n",
       "      <td>0.005830</td>\n",
       "    </tr>\n",
       "    <tr>\n",
       "      <th>2018-02-04</th>\n",
       "      <td>0.0</td>\n",
       "      <td>19985.199219</td>\n",
       "      <td>19985.199219</td>\n",
       "      <td>19985.199219</td>\n",
       "      <td>19985.199219</td>\n",
       "      <td>0.0</td>\n",
       "      <td>0.000000</td>\n",
       "      <td>0.048452</td>\n",
       "      <td>968.331418</td>\n",
       "      <td>0.005830</td>\n",
       "    </tr>\n",
       "    <tr>\n",
       "      <th>...</th>\n",
       "      <td>...</td>\n",
       "      <td>...</td>\n",
       "      <td>...</td>\n",
       "      <td>...</td>\n",
       "      <td>...</td>\n",
       "      <td>...</td>\n",
       "      <td>...</td>\n",
       "      <td>...</td>\n",
       "      <td>...</td>\n",
       "      <td>...</td>\n",
       "    </tr>\n",
       "    <tr>\n",
       "      <th>2023-06-03</th>\n",
       "      <td>0.0</td>\n",
       "      <td>30243.570312</td>\n",
       "      <td>30243.570312</td>\n",
       "      <td>30243.570312</td>\n",
       "      <td>30243.570312</td>\n",
       "      <td>0.0</td>\n",
       "      <td>0.000000</td>\n",
       "      <td>2.456569</td>\n",
       "      <td>74295.404977</td>\n",
       "      <td>0.447317</td>\n",
       "    </tr>\n",
       "    <tr>\n",
       "      <th>2023-06-04</th>\n",
       "      <td>0.0</td>\n",
       "      <td>30243.570312</td>\n",
       "      <td>30243.570312</td>\n",
       "      <td>30243.570312</td>\n",
       "      <td>30243.570312</td>\n",
       "      <td>0.0</td>\n",
       "      <td>0.000000</td>\n",
       "      <td>2.456569</td>\n",
       "      <td>74295.404977</td>\n",
       "      <td>0.447317</td>\n",
       "    </tr>\n",
       "    <tr>\n",
       "      <th>2023-06-05</th>\n",
       "      <td>0.0</td>\n",
       "      <td>30243.570312</td>\n",
       "      <td>30243.570312</td>\n",
       "      <td>30243.570312</td>\n",
       "      <td>30243.570312</td>\n",
       "      <td>0.0</td>\n",
       "      <td>0.000000</td>\n",
       "      <td>2.456569</td>\n",
       "      <td>74295.404977</td>\n",
       "      <td>0.447317</td>\n",
       "    </tr>\n",
       "    <tr>\n",
       "      <th>2023-06-06</th>\n",
       "      <td>0.0</td>\n",
       "      <td>30345.429688</td>\n",
       "      <td>30345.429688</td>\n",
       "      <td>30345.429688</td>\n",
       "      <td>30345.429688</td>\n",
       "      <td>0.0</td>\n",
       "      <td>0.000000</td>\n",
       "      <td>2.456569</td>\n",
       "      <td>74545.629518</td>\n",
       "      <td>0.448824</td>\n",
       "    </tr>\n",
       "    <tr>\n",
       "      <th>2023-06-07</th>\n",
       "      <td>0.0</td>\n",
       "      <td>30345.429688</td>\n",
       "      <td>30345.429688</td>\n",
       "      <td>30345.429688</td>\n",
       "      <td>30345.429688</td>\n",
       "      <td>0.0</td>\n",
       "      <td>0.000000</td>\n",
       "      <td>2.456569</td>\n",
       "      <td>74545.629518</td>\n",
       "      <td>0.448824</td>\n",
       "    </tr>\n",
       "  </tbody>\n",
       "</table>\n",
       "<p>1954 rows × 10 columns</p>\n",
       "</div>"
      ],
      "text/plain": [
       "            deposits          Open          High           Low         Close  \\\n",
       "2018-01-31    1000.0  20638.800781  20638.800781  20638.800781  20638.800781   \n",
       "2018-02-01       0.0  20603.599609  20603.599609  20603.599609  20603.599609   \n",
       "2018-02-02       0.0  20399.000000  20399.000000  20399.000000  20399.000000   \n",
       "2018-02-03       0.0  19985.199219  19985.199219  19985.199219  19985.199219   \n",
       "2018-02-04       0.0  19985.199219  19985.199219  19985.199219  19985.199219   \n",
       "...              ...           ...           ...           ...           ...   \n",
       "2023-06-03       0.0  30243.570312  30243.570312  30243.570312  30243.570312   \n",
       "2023-06-04       0.0  30243.570312  30243.570312  30243.570312  30243.570312   \n",
       "2023-06-05       0.0  30243.570312  30243.570312  30243.570312  30243.570312   \n",
       "2023-06-06       0.0  30345.429688  30345.429688  30345.429688  30345.429688   \n",
       "2023-06-07       0.0  30345.429688  30345.429688  30345.429688  30345.429688   \n",
       "\n",
       "            Volume     units  cum_units     cum_value      fees  \n",
       "2018-01-31     0.0  0.048452   0.048452   1000.000000  0.006021  \n",
       "2018-02-01     0.0  0.000000   0.048452    998.294418  0.006011  \n",
       "2018-02-02     0.0  0.000000   0.048452    988.381070  0.005951  \n",
       "2018-02-03     0.0  0.000000   0.048452    968.331418  0.005830  \n",
       "2018-02-04     0.0  0.000000   0.048452    968.331418  0.005830  \n",
       "...            ...       ...        ...           ...       ...  \n",
       "2023-06-03     0.0  0.000000   2.456569  74295.404977  0.447317  \n",
       "2023-06-04     0.0  0.000000   2.456569  74295.404977  0.447317  \n",
       "2023-06-05     0.0  0.000000   2.456569  74295.404977  0.447317  \n",
       "2023-06-06     0.0  0.000000   2.456569  74545.629518  0.448824  \n",
       "2023-06-07     0.0  0.000000   2.456569  74545.629518  0.448824  \n",
       "\n",
       "[1954 rows x 10 columns]"
      ]
     },
     "execution_count": 218,
     "metadata": {},
     "output_type": "execute_result"
    }
   ],
   "source": [
    "single_holding.history"
   ]
  },
  {
   "cell_type": "markdown",
   "id": "a264eb52",
   "metadata": {},
   "source": [
    "and the later dates."
   ]
  },
  {
   "cell_type": "code",
   "execution_count": 219,
   "id": "756df704",
   "metadata": {},
   "outputs": [
    {
     "data": {
      "text/html": [
       "<div>\n",
       "<style scoped>\n",
       "    .dataframe tbody tr th:only-of-type {\n",
       "        vertical-align: middle;\n",
       "    }\n",
       "\n",
       "    .dataframe tbody tr th {\n",
       "        vertical-align: top;\n",
       "    }\n",
       "\n",
       "    .dataframe thead th {\n",
       "        text-align: right;\n",
       "    }\n",
       "</style>\n",
       "<table border=\"1\" class=\"dataframe\">\n",
       "  <thead>\n",
       "    <tr style=\"text-align: right;\">\n",
       "      <th></th>\n",
       "      <th>deposits</th>\n",
       "      <th>Open</th>\n",
       "      <th>High</th>\n",
       "      <th>Low</th>\n",
       "      <th>Close</th>\n",
       "      <th>Volume</th>\n",
       "      <th>units</th>\n",
       "      <th>cum_units</th>\n",
       "      <th>cum_value</th>\n",
       "      <th>fees</th>\n",
       "    </tr>\n",
       "  </thead>\n",
       "  <tbody>\n",
       "    <tr>\n",
       "      <th>2023-06-03</th>\n",
       "      <td>0.0</td>\n",
       "      <td>30243.570312</td>\n",
       "      <td>30243.570312</td>\n",
       "      <td>30243.570312</td>\n",
       "      <td>30243.570312</td>\n",
       "      <td>0.0</td>\n",
       "      <td>0.0</td>\n",
       "      <td>2.456569</td>\n",
       "      <td>74295.404977</td>\n",
       "      <td>0.447317</td>\n",
       "    </tr>\n",
       "    <tr>\n",
       "      <th>2023-06-04</th>\n",
       "      <td>0.0</td>\n",
       "      <td>30243.570312</td>\n",
       "      <td>30243.570312</td>\n",
       "      <td>30243.570312</td>\n",
       "      <td>30243.570312</td>\n",
       "      <td>0.0</td>\n",
       "      <td>0.0</td>\n",
       "      <td>2.456569</td>\n",
       "      <td>74295.404977</td>\n",
       "      <td>0.447317</td>\n",
       "    </tr>\n",
       "    <tr>\n",
       "      <th>2023-06-05</th>\n",
       "      <td>0.0</td>\n",
       "      <td>30243.570312</td>\n",
       "      <td>30243.570312</td>\n",
       "      <td>30243.570312</td>\n",
       "      <td>30243.570312</td>\n",
       "      <td>0.0</td>\n",
       "      <td>0.0</td>\n",
       "      <td>2.456569</td>\n",
       "      <td>74295.404977</td>\n",
       "      <td>0.447317</td>\n",
       "    </tr>\n",
       "    <tr>\n",
       "      <th>2023-06-06</th>\n",
       "      <td>0.0</td>\n",
       "      <td>30345.429688</td>\n",
       "      <td>30345.429688</td>\n",
       "      <td>30345.429688</td>\n",
       "      <td>30345.429688</td>\n",
       "      <td>0.0</td>\n",
       "      <td>0.0</td>\n",
       "      <td>2.456569</td>\n",
       "      <td>74545.629518</td>\n",
       "      <td>0.448824</td>\n",
       "    </tr>\n",
       "    <tr>\n",
       "      <th>2023-06-07</th>\n",
       "      <td>0.0</td>\n",
       "      <td>30345.429688</td>\n",
       "      <td>30345.429688</td>\n",
       "      <td>30345.429688</td>\n",
       "      <td>30345.429688</td>\n",
       "      <td>0.0</td>\n",
       "      <td>0.0</td>\n",
       "      <td>2.456569</td>\n",
       "      <td>74545.629518</td>\n",
       "      <td>0.448824</td>\n",
       "    </tr>\n",
       "  </tbody>\n",
       "</table>\n",
       "</div>"
      ],
      "text/plain": [
       "            deposits          Open          High           Low         Close  \\\n",
       "2023-06-03       0.0  30243.570312  30243.570312  30243.570312  30243.570312   \n",
       "2023-06-04       0.0  30243.570312  30243.570312  30243.570312  30243.570312   \n",
       "2023-06-05       0.0  30243.570312  30243.570312  30243.570312  30243.570312   \n",
       "2023-06-06       0.0  30345.429688  30345.429688  30345.429688  30345.429688   \n",
       "2023-06-07       0.0  30345.429688  30345.429688  30345.429688  30345.429688   \n",
       "\n",
       "            Volume  units  cum_units     cum_value      fees  \n",
       "2023-06-03     0.0    0.0   2.456569  74295.404977  0.447317  \n",
       "2023-06-04     0.0    0.0   2.456569  74295.404977  0.447317  \n",
       "2023-06-05     0.0    0.0   2.456569  74295.404977  0.447317  \n",
       "2023-06-06     0.0    0.0   2.456569  74545.629518  0.448824  \n",
       "2023-06-07     0.0    0.0   2.456569  74545.629518  0.448824  "
      ]
     },
     "execution_count": 219,
     "metadata": {},
     "output_type": "execute_result"
    }
   ],
   "source": [
    "single_holding.history.tail()"
   ]
  },
  {
   "cell_type": "markdown",
   "id": "3f4d1ea1",
   "metadata": {},
   "source": [
    "Now, let's check we can define deposits before a fund starts."
   ]
  },
  {
   "cell_type": "code",
   "execution_count": 220,
   "id": "9f96a081",
   "metadata": {},
   "outputs": [
    {
     "name": "stderr",
     "output_type": "stream",
     "text": [
      "C:\\Users\\Ryan\\AppData\\Local\\Temp\\ipykernel_3636\\1165269027.py:25: UserWarning: Deposits predate initial date of 2021-09-01 00:00:00 where prices are available for LF Ruffer Diversified. First pricing data is back-filled.\n",
      "  warnings.warn(warn_msg)\n"
     ]
    }
   ],
   "source": [
    "initial_deposit  = create_monthly_deposits(\"01/01/2018\",\"01/02/2018\",250000)\n",
    "lf_ruffer_diversified = Holding(\"LF Ruffer Diversified\",\"0P0001MKQK.L\",1.12,initial_deposit)"
   ]
  },
  {
   "cell_type": "markdown",
   "id": "3f908f0e",
   "metadata": {},
   "source": [
    "# Portfolio Modelling\n",
    "For portfolio analysis, I'd like to explore the following features:\n",
    "* Modelling a porfolio consisting of multiple funds.\n",
    "* Rebalancing to target allocations.\n",
    "* Rebalancing at given frequency.\n",
    "    \n",
    "Proposed structure would be lists of fund names, tickers, allocations and ongoing charges. A deposit rate would also need to be defined. Rebalancing times could be specified as a date series.\n",
    "\n",
    "Future functionality might include:\n",
    "* Variable allocation in time.\n",
    "* At present if a fund's inception date is after the first deposit then cash deposits are accumulated until the first deposit opportunity. Another possible approach would be to split the capital just between the funds that are open at a given time. Even better would be to enable concatenation of two FixedAllocationPortfolio funds... this might also be an interesting coding challenge."
   ]
  },
  {
   "cell_type": "markdown",
   "id": "aa4d6d64",
   "metadata": {},
   "source": [
    "A main requirement is going to be how we join funds together that have different start dates."
   ]
  },
  {
   "cell_type": "code",
   "execution_count": 221,
   "id": "a46c7e7e",
   "metadata": {},
   "outputs": [
    {
     "name": "stderr",
     "output_type": "stream",
     "text": [
      "C:\\Users\\Ryan\\AppData\\Local\\Temp\\ipykernel_3636\\1165269027.py:25: UserWarning: Deposits predate initial date of 2021-09-01 00:00:00 where prices are available for LF Ruffer Diversified. First pricing data is back-filled.\n",
      "  warnings.warn(warn_msg)\n"
     ]
    },
    {
     "data": {
      "text/html": [
       "<div>\n",
       "<style scoped>\n",
       "    .dataframe tbody tr th:only-of-type {\n",
       "        vertical-align: middle;\n",
       "    }\n",
       "\n",
       "    .dataframe tbody tr th {\n",
       "        vertical-align: top;\n",
       "    }\n",
       "\n",
       "    .dataframe thead th {\n",
       "        text-align: right;\n",
       "    }\n",
       "</style>\n",
       "<table border=\"1\" class=\"dataframe\">\n",
       "  <thead>\n",
       "    <tr style=\"text-align: right;\">\n",
       "      <th></th>\n",
       "      <th>deposits</th>\n",
       "      <th>Open</th>\n",
       "      <th>High</th>\n",
       "      <th>Low</th>\n",
       "      <th>Close</th>\n",
       "      <th>Volume</th>\n",
       "      <th>units</th>\n",
       "      <th>cum_units</th>\n",
       "      <th>cum_value</th>\n",
       "      <th>fees</th>\n",
       "    </tr>\n",
       "  </thead>\n",
       "  <tbody>\n",
       "    <tr>\n",
       "      <th>2023-06-03</th>\n",
       "      <td>0.0</td>\n",
       "      <td>100.470001</td>\n",
       "      <td>100.470001</td>\n",
       "      <td>100.470001</td>\n",
       "      <td>100.470001</td>\n",
       "      <td>0.0</td>\n",
       "      <td>0.0</td>\n",
       "      <td>2500.0</td>\n",
       "      <td>251175.003052</td>\n",
       "      <td>7.664563</td>\n",
       "    </tr>\n",
       "    <tr>\n",
       "      <th>2023-06-04</th>\n",
       "      <td>0.0</td>\n",
       "      <td>100.470001</td>\n",
       "      <td>100.470001</td>\n",
       "      <td>100.470001</td>\n",
       "      <td>100.470001</td>\n",
       "      <td>0.0</td>\n",
       "      <td>0.0</td>\n",
       "      <td>2500.0</td>\n",
       "      <td>251175.003052</td>\n",
       "      <td>7.664563</td>\n",
       "    </tr>\n",
       "    <tr>\n",
       "      <th>2023-06-05</th>\n",
       "      <td>0.0</td>\n",
       "      <td>100.470001</td>\n",
       "      <td>100.470001</td>\n",
       "      <td>100.470001</td>\n",
       "      <td>100.470001</td>\n",
       "      <td>0.0</td>\n",
       "      <td>0.0</td>\n",
       "      <td>2500.0</td>\n",
       "      <td>251175.003052</td>\n",
       "      <td>7.664563</td>\n",
       "    </tr>\n",
       "    <tr>\n",
       "      <th>2023-06-06</th>\n",
       "      <td>0.0</td>\n",
       "      <td>100.500000</td>\n",
       "      <td>100.500000</td>\n",
       "      <td>100.500000</td>\n",
       "      <td>100.500000</td>\n",
       "      <td>0.0</td>\n",
       "      <td>0.0</td>\n",
       "      <td>2500.0</td>\n",
       "      <td>251250.000000</td>\n",
       "      <td>7.666852</td>\n",
       "    </tr>\n",
       "    <tr>\n",
       "      <th>2023-06-07</th>\n",
       "      <td>0.0</td>\n",
       "      <td>101.040001</td>\n",
       "      <td>101.040001</td>\n",
       "      <td>101.040001</td>\n",
       "      <td>101.040001</td>\n",
       "      <td>0.0</td>\n",
       "      <td>0.0</td>\n",
       "      <td>2500.0</td>\n",
       "      <td>252600.002289</td>\n",
       "      <td>7.708047</td>\n",
       "    </tr>\n",
       "  </tbody>\n",
       "</table>\n",
       "</div>"
      ],
      "text/plain": [
       "            deposits        Open        High         Low       Close  Volume  \\\n",
       "2023-06-03       0.0  100.470001  100.470001  100.470001  100.470001     0.0   \n",
       "2023-06-04       0.0  100.470001  100.470001  100.470001  100.470001     0.0   \n",
       "2023-06-05       0.0  100.470001  100.470001  100.470001  100.470001     0.0   \n",
       "2023-06-06       0.0  100.500000  100.500000  100.500000  100.500000     0.0   \n",
       "2023-06-07       0.0  101.040001  101.040001  101.040001  101.040001     0.0   \n",
       "\n",
       "            units  cum_units      cum_value      fees  \n",
       "2023-06-03    0.0     2500.0  251175.003052  7.664563  \n",
       "2023-06-04    0.0     2500.0  251175.003052  7.664563  \n",
       "2023-06-05    0.0     2500.0  251175.003052  7.664563  \n",
       "2023-06-06    0.0     2500.0  251250.000000  7.666852  \n",
       "2023-06-07    0.0     2500.0  252600.002289  7.708047  "
      ]
     },
     "execution_count": 221,
     "metadata": {},
     "output_type": "execute_result"
    }
   ],
   "source": [
    "monthly_deposits = create_monthly_deposits(\"01/01/2018\",date.today().strftime(\"%d/%m/%Y\"),20000/12)\n",
    "lf_ruffer_diversified  = Holding(\"LF Ruffer Diversified\",\"0P0001MKQK.L\",1.12,initial_deposit)\n",
    "lf_ruffer_diversified.history.tail()"
   ]
  },
  {
   "cell_type": "code",
   "execution_count": 222,
   "id": "109ec2f6",
   "metadata": {},
   "outputs": [
    {
     "data": {
      "text/html": [
       "<div>\n",
       "<style scoped>\n",
       "    .dataframe tbody tr th:only-of-type {\n",
       "        vertical-align: middle;\n",
       "    }\n",
       "\n",
       "    .dataframe tbody tr th {\n",
       "        vertical-align: top;\n",
       "    }\n",
       "\n",
       "    .dataframe thead th {\n",
       "        text-align: right;\n",
       "    }\n",
       "</style>\n",
       "<table border=\"1\" class=\"dataframe\">\n",
       "  <thead>\n",
       "    <tr style=\"text-align: right;\">\n",
       "      <th></th>\n",
       "      <th>deposits</th>\n",
       "      <th>Open</th>\n",
       "      <th>High</th>\n",
       "      <th>Low</th>\n",
       "      <th>Close</th>\n",
       "      <th>Volume</th>\n",
       "      <th>units</th>\n",
       "      <th>cum_units</th>\n",
       "      <th>cum_value</th>\n",
       "      <th>fees</th>\n",
       "    </tr>\n",
       "  </thead>\n",
       "  <tbody>\n",
       "    <tr>\n",
       "      <th>2023-06-03</th>\n",
       "      <td>0.0</td>\n",
       "      <td>30243.570312</td>\n",
       "      <td>30243.570312</td>\n",
       "      <td>30243.570312</td>\n",
       "      <td>30243.570312</td>\n",
       "      <td>0.0</td>\n",
       "      <td>0.0</td>\n",
       "      <td>2.456569</td>\n",
       "      <td>74295.404977</td>\n",
       "      <td>0.447317</td>\n",
       "    </tr>\n",
       "    <tr>\n",
       "      <th>2023-06-04</th>\n",
       "      <td>0.0</td>\n",
       "      <td>30243.570312</td>\n",
       "      <td>30243.570312</td>\n",
       "      <td>30243.570312</td>\n",
       "      <td>30243.570312</td>\n",
       "      <td>0.0</td>\n",
       "      <td>0.0</td>\n",
       "      <td>2.456569</td>\n",
       "      <td>74295.404977</td>\n",
       "      <td>0.447317</td>\n",
       "    </tr>\n",
       "    <tr>\n",
       "      <th>2023-06-05</th>\n",
       "      <td>0.0</td>\n",
       "      <td>30243.570312</td>\n",
       "      <td>30243.570312</td>\n",
       "      <td>30243.570312</td>\n",
       "      <td>30243.570312</td>\n",
       "      <td>0.0</td>\n",
       "      <td>0.0</td>\n",
       "      <td>2.456569</td>\n",
       "      <td>74295.404977</td>\n",
       "      <td>0.447317</td>\n",
       "    </tr>\n",
       "    <tr>\n",
       "      <th>2023-06-06</th>\n",
       "      <td>0.0</td>\n",
       "      <td>30345.429688</td>\n",
       "      <td>30345.429688</td>\n",
       "      <td>30345.429688</td>\n",
       "      <td>30345.429688</td>\n",
       "      <td>0.0</td>\n",
       "      <td>0.0</td>\n",
       "      <td>2.456569</td>\n",
       "      <td>74545.629518</td>\n",
       "      <td>0.448824</td>\n",
       "    </tr>\n",
       "    <tr>\n",
       "      <th>2023-06-07</th>\n",
       "      <td>0.0</td>\n",
       "      <td>30345.429688</td>\n",
       "      <td>30345.429688</td>\n",
       "      <td>30345.429688</td>\n",
       "      <td>30345.429688</td>\n",
       "      <td>0.0</td>\n",
       "      <td>0.0</td>\n",
       "      <td>2.456569</td>\n",
       "      <td>74545.629518</td>\n",
       "      <td>0.448824</td>\n",
       "    </tr>\n",
       "  </tbody>\n",
       "</table>\n",
       "</div>"
      ],
      "text/plain": [
       "            deposits          Open          High           Low         Close  \\\n",
       "2023-06-03       0.0  30243.570312  30243.570312  30243.570312  30243.570312   \n",
       "2023-06-04       0.0  30243.570312  30243.570312  30243.570312  30243.570312   \n",
       "2023-06-05       0.0  30243.570312  30243.570312  30243.570312  30243.570312   \n",
       "2023-06-06       0.0  30345.429688  30345.429688  30345.429688  30345.429688   \n",
       "2023-06-07       0.0  30345.429688  30345.429688  30345.429688  30345.429688   \n",
       "\n",
       "            Volume  units  cum_units     cum_value      fees  \n",
       "2023-06-03     0.0    0.0   2.456569  74295.404977  0.447317  \n",
       "2023-06-04     0.0    0.0   2.456569  74295.404977  0.447317  \n",
       "2023-06-05     0.0    0.0   2.456569  74295.404977  0.447317  \n",
       "2023-06-06     0.0    0.0   2.456569  74545.629518  0.448824  \n",
       "2023-06-07     0.0    0.0   2.456569  74545.629518  0.448824  "
      ]
     },
     "execution_count": 222,
     "metadata": {},
     "output_type": "execute_result"
    }
   ],
   "source": [
    "vanguard_life_strategy = Holding('Vanguard LifeStrategy 100%','0P0000TKZO.L',0.22,create_monthly_deposits('04/01/2018','01/12/2022',1000))\n",
    "vanguard_life_strategy.history.tail()"
   ]
  },
  {
   "cell_type": "markdown",
   "id": "945a8238",
   "metadata": {},
   "source": [
    "It's natural to represent our holdings as a list..."
   ]
  },
  {
   "cell_type": "code",
   "execution_count": 223,
   "id": "9ffc43ec",
   "metadata": {},
   "outputs": [],
   "source": [
    "holdings = [lf_ruffer_diversified, vanguard_life_strategy]"
   ]
  },
  {
   "cell_type": "markdown",
   "id": "df1a4424",
   "metadata": {},
   "source": [
    "How, many rows does each entry have?"
   ]
  },
  {
   "cell_type": "code",
   "execution_count": 224,
   "id": "663f8b6c",
   "metadata": {},
   "outputs": [
    {
     "data": {
      "text/plain": [
       "[1954, 1954]"
      ]
     },
     "execution_count": 224,
     "metadata": {},
     "output_type": "execute_result"
    }
   ],
   "source": [
    "n_rows = [holding.history.shape[0] for holding in holdings]\n",
    "n_rows"
   ]
  },
  {
   "cell_type": "markdown",
   "id": "60f776c3",
   "metadata": {},
   "source": [
    "So due to the definition of our holding class, we can use these interchangeably, as the dataframes are the same shape."
   ]
  },
  {
   "cell_type": "code",
   "execution_count": 240,
   "id": "3e0964b6",
   "metadata": {},
   "outputs": [],
   "source": [
    "#| export\n",
    "class FixedAllocationPortfolio:\n",
    "    \"A collection of holdings of funds with data available on yfinance with a fixed allocation of each deposit made.\"\n",
    "    def __init__(self,\n",
    "                 fund:list,          # List of fund names\n",
    "                 ticker:list,        # List of fund tickers\n",
    "                 product_cost:list,  # List of fees for each fund expressed as a percentage and comprising all fees for a given fund\n",
    "                 allocation:list,    # Allocation of each deposit as a fraction. Must sum to one.\n",
    "                 deposits):          # Timeseries dataframe of deposits\n",
    "        \n",
    "        # Check fund, ticker, product_cost and allocation are all lists of equal length\n",
    "        assert(all([len(input)==len(fund) for input in [ticker, product_cost, allocation]]))\n",
    "        \n",
    "        # Check that allocation sums to 1\n",
    "        assert(sum(allocation)==1)\n",
    "        \n",
    "        # Record the inputs\n",
    "        self.deposits = deposits\n",
    "        self.allocation = allocation\n",
    "        self.fund = fund\n",
    "        \n",
    "        # Create a holding for each fund\n",
    "        self.holdings = [Holding(fund[i],ticker[i],product_cost[i],deposits*allocation[i]) for i in range(len(fund))]\n",
    "               \n",
    "    def rebalance(self,rebalance_dates):\n",
    "        \n",
    "        # We rebalance on the dates specified. If a rebalancing date is prior a funds \n",
    "        # inception date then the fund's deposit is used in the rebalancing.\n",
    "        \n",
    "        # It is assumed that fees are paid for with an external account and that the fees\n",
    "        # are accrued daily.\n",
    "        \n",
    "        holdings = self.holdings\n",
    "        \n",
    "        # The holdings are identical so we can use any one\n",
    "        matching_rows = holdings[0].history.index.get_indexer(rebalance_dates,method='nearest')\n",
    "        \n",
    "        # Get column references\n",
    "        cum_value_idx = holdings[0].history.columns.get_loc(\"cum_value\")\n",
    "        deposit_idx = holdings[0].history.columns.get_loc(\"deposits\")\n",
    "        \n",
    "        for row in matching_rows:\n",
    "            \n",
    "            # Compute the current allocation\n",
    "            current_allocation = list()\n",
    "            for i in range(len(holdings)):\n",
    "                cum_value = holdings[i].history.iloc[row].loc['cum_value'];\n",
    "                if cum_value == \"nan\":\n",
    "                    # If the deposits pre-date the fund, we use the deposit value in \n",
    "                    # the allocation computation.\n",
    "                    cum_value = holdings[i].history.iloc[row].loc['cum_deposits'];\n",
    "                current_allocation.append(cum_value)\n",
    "                \n",
    "            # Compute target allocations based on asset weightings\n",
    "            total_value = sum(current_allocation)\n",
    "            target_allocation = [fraction*total_value for fraction in self.allocation]\n",
    "            \n",
    "            for i in range(len(holdings)):\n",
    "                holdings[i].history.iloc[row,deposit_idx] = holdings[i].history.iloc[row,deposit_idx] \\\n",
    "                                                                   + (target_allocation[i] - holdings[i].history.iloc[row,cum_value_idx])\n",
    "                holdings[i].compute_value()\n",
    "            \n",
    "        self.holdings = holdings\n",
    "        return self"
   ]
  },
  {
   "cell_type": "markdown",
   "id": "c69308cb",
   "metadata": {},
   "source": [
    "A method to test that everything is working would be to create a portfolio that consists of only the same funds and compare the cumulate value to a holding."
   ]
  },
  {
   "cell_type": "code",
   "execution_count": 226,
   "id": "462091c1",
   "metadata": {},
   "outputs": [],
   "source": [
    "fixed_allocation_portfolio = FixedAllocationPortfolio(['Vanguard LifeStrategy 100%','Vanguard LifeStrategy 100%'], \\\n",
    "                                                      ['0P0000TKZO.L','0P0000TKZO.L'], \\\n",
    "                                                      [0.22, 0.22],\\\n",
    "                                                      [0.5,0.5], \\\n",
    "                                                      create_monthly_deposits('01/01/2018','01/12/2022',1000))"
   ]
  },
  {
   "cell_type": "markdown",
   "id": "d10141ed",
   "metadata": {},
   "source": [
    "We don't need to rebalance to check the cumulative value as the funds are the same."
   ]
  },
  {
   "cell_type": "markdown",
   "id": "6b1f791b",
   "metadata": {},
   "source": [
    "We define a common interface to convert a selection of holdings into a single returns object. We can use the returns object to commonise plotting and visualisation of results. One thing we need is a method to determine whether we have a single holding or a fixed allocation portfolio."
   ]
  },
  {
   "cell_type": "code",
   "execution_count": 227,
   "id": "b449e988",
   "metadata": {},
   "outputs": [],
   "source": [
    "#| export\n",
    "class Returns:\n",
    "    def __init__(self,\n",
    "                 name:    str ,   # Description of the returns - typically used as title\n",
    "                 holdings: list):  # List of holdings\n",
    "    \n",
    "            self.name = name\n",
    "            self.history = holdings[0].history[[\"deposits\",\"cum_value\",\"fees\"]]\n",
    "            for i in range(1,len(holdings)):\n",
    "                self.history += holdings[i].history[[\"deposits\",\"cum_value\",\"fees\"]]"
   ]
  },
  {
   "cell_type": "markdown",
   "id": "02ff6fca",
   "metadata": {},
   "source": [
    "Let's add methods to our `Holding` and `FixedAllocationPortfolio` classes to generate a `Returns` object."
   ]
  },
  {
   "cell_type": "code",
   "execution_count": 228,
   "id": "b345b943",
   "metadata": {},
   "outputs": [],
   "source": [
    "#| export\n",
    "@patch\n",
    "def to_returns(self:Holding):\n",
    "    return Returns(self.fund,[self])"
   ]
  },
  {
   "cell_type": "markdown",
   "id": "1cdfbee0",
   "metadata": {},
   "source": [
    "Can we generate our returns for our single holding?"
   ]
  },
  {
   "cell_type": "code",
   "execution_count": 229,
   "id": "15fe65cf",
   "metadata": {},
   "outputs": [
    {
     "data": {
      "text/plain": [
       "'Vanguard LifeStrategy 100%'"
      ]
     },
     "execution_count": 229,
     "metadata": {},
     "output_type": "execute_result"
    }
   ],
   "source": [
    "single_holding_returns= single_holding.to_returns()\n",
    "single_holding_returns.name"
   ]
  },
  {
   "cell_type": "code",
   "execution_count": 230,
   "id": "3692e0a2",
   "metadata": {},
   "outputs": [
    {
     "data": {
      "text/html": [
       "<div>\n",
       "<style scoped>\n",
       "    .dataframe tbody tr th:only-of-type {\n",
       "        vertical-align: middle;\n",
       "    }\n",
       "\n",
       "    .dataframe tbody tr th {\n",
       "        vertical-align: top;\n",
       "    }\n",
       "\n",
       "    .dataframe thead th {\n",
       "        text-align: right;\n",
       "    }\n",
       "</style>\n",
       "<table border=\"1\" class=\"dataframe\">\n",
       "  <thead>\n",
       "    <tr style=\"text-align: right;\">\n",
       "      <th></th>\n",
       "      <th>deposits</th>\n",
       "      <th>cum_value</th>\n",
       "      <th>fees</th>\n",
       "    </tr>\n",
       "  </thead>\n",
       "  <tbody>\n",
       "    <tr>\n",
       "      <th>2018-01-31</th>\n",
       "      <td>1000.0</td>\n",
       "      <td>1000.000000</td>\n",
       "      <td>0.006021</td>\n",
       "    </tr>\n",
       "    <tr>\n",
       "      <th>2018-02-01</th>\n",
       "      <td>0.0</td>\n",
       "      <td>998.294418</td>\n",
       "      <td>0.006011</td>\n",
       "    </tr>\n",
       "    <tr>\n",
       "      <th>2018-02-02</th>\n",
       "      <td>0.0</td>\n",
       "      <td>988.381070</td>\n",
       "      <td>0.005951</td>\n",
       "    </tr>\n",
       "    <tr>\n",
       "      <th>2018-02-03</th>\n",
       "      <td>0.0</td>\n",
       "      <td>968.331418</td>\n",
       "      <td>0.005830</td>\n",
       "    </tr>\n",
       "    <tr>\n",
       "      <th>2018-02-04</th>\n",
       "      <td>0.0</td>\n",
       "      <td>968.331418</td>\n",
       "      <td>0.005830</td>\n",
       "    </tr>\n",
       "  </tbody>\n",
       "</table>\n",
       "</div>"
      ],
      "text/plain": [
       "            deposits    cum_value      fees\n",
       "2018-01-31    1000.0  1000.000000  0.006021\n",
       "2018-02-01       0.0   998.294418  0.006011\n",
       "2018-02-02       0.0   988.381070  0.005951\n",
       "2018-02-03       0.0   968.331418  0.005830\n",
       "2018-02-04       0.0   968.331418  0.005830"
      ]
     },
     "execution_count": 230,
     "metadata": {},
     "output_type": "execute_result"
    }
   ],
   "source": [
    "single_holding_returns.history.head()"
   ]
  },
  {
   "cell_type": "markdown",
   "id": "5d0ac36a",
   "metadata": {},
   "source": [
    "Now, let's do something similar fo the `FixedAllocationPortfolio` class."
   ]
  },
  {
   "cell_type": "code",
   "execution_count": 231,
   "id": "0b793162",
   "metadata": {},
   "outputs": [],
   "source": [
    "#| export\n",
    "@patch\n",
    "def to_returns(self:FixedAllocationPortfolio):\n",
    "    \n",
    "    name = f\"{100*self.allocation[0]}% {self.fund[0]}\"\n",
    "    for i in range(1,len(self.holdings)):\n",
    "        name += f\", {100*self.allocation[i]}% {self.fund[i]}\"\n",
    "\n",
    "    return Returns(name,self.holdings)"
   ]
  },
  {
   "cell_type": "markdown",
   "id": "4b16d1da",
   "metadata": {},
   "source": [
    "Similarly, does it work?"
   ]
  },
  {
   "cell_type": "code",
   "execution_count": 232,
   "id": "6cc569c8",
   "metadata": {},
   "outputs": [
    {
     "data": {
      "text/plain": [
       "'50.0% Vanguard LifeStrategy 100%, 50.0% Vanguard LifeStrategy 100%'"
      ]
     },
     "execution_count": 232,
     "metadata": {},
     "output_type": "execute_result"
    }
   ],
   "source": [
    "fixed_allocation_portfolio_returns = fixed_allocation_portfolio.to_returns()\n",
    "fixed_allocation_portfolio_returns.name"
   ]
  },
  {
   "cell_type": "code",
   "execution_count": 233,
   "id": "43e7439f",
   "metadata": {},
   "outputs": [
    {
     "data": {
      "text/html": [
       "<div>\n",
       "<style scoped>\n",
       "    .dataframe tbody tr th:only-of-type {\n",
       "        vertical-align: middle;\n",
       "    }\n",
       "\n",
       "    .dataframe tbody tr th {\n",
       "        vertical-align: top;\n",
       "    }\n",
       "\n",
       "    .dataframe thead th {\n",
       "        text-align: right;\n",
       "    }\n",
       "</style>\n",
       "<table border=\"1\" class=\"dataframe\">\n",
       "  <thead>\n",
       "    <tr style=\"text-align: right;\">\n",
       "      <th></th>\n",
       "      <th>deposits</th>\n",
       "      <th>cum_value</th>\n",
       "      <th>fees</th>\n",
       "    </tr>\n",
       "  </thead>\n",
       "  <tbody>\n",
       "    <tr>\n",
       "      <th>2018-01-31</th>\n",
       "      <td>1000.0</td>\n",
       "      <td>1000.000000</td>\n",
       "      <td>0.006021</td>\n",
       "    </tr>\n",
       "    <tr>\n",
       "      <th>2018-02-01</th>\n",
       "      <td>0.0</td>\n",
       "      <td>998.294418</td>\n",
       "      <td>0.006011</td>\n",
       "    </tr>\n",
       "    <tr>\n",
       "      <th>2018-02-02</th>\n",
       "      <td>0.0</td>\n",
       "      <td>988.381070</td>\n",
       "      <td>0.005951</td>\n",
       "    </tr>\n",
       "    <tr>\n",
       "      <th>2018-02-03</th>\n",
       "      <td>0.0</td>\n",
       "      <td>968.331418</td>\n",
       "      <td>0.005830</td>\n",
       "    </tr>\n",
       "    <tr>\n",
       "      <th>2018-02-04</th>\n",
       "      <td>0.0</td>\n",
       "      <td>968.331418</td>\n",
       "      <td>0.005830</td>\n",
       "    </tr>\n",
       "  </tbody>\n",
       "</table>\n",
       "</div>"
      ],
      "text/plain": [
       "            deposits    cum_value      fees\n",
       "2018-01-31    1000.0  1000.000000  0.006021\n",
       "2018-02-01       0.0   998.294418  0.006011\n",
       "2018-02-02       0.0   988.381070  0.005951\n",
       "2018-02-03       0.0   968.331418  0.005830\n",
       "2018-02-04       0.0   968.331418  0.005830"
      ]
     },
     "execution_count": 233,
     "metadata": {},
     "output_type": "execute_result"
    }
   ],
   "source": [
    "fixed_allocation_portfolio_returns.history.head()"
   ]
  },
  {
   "cell_type": "markdown",
   "id": "e6b2d547",
   "metadata": {},
   "source": [
    "One of the most basic things we might want to do is determine our proft...."
   ]
  },
  {
   "cell_type": "code",
   "execution_count": 234,
   "id": "718ad129",
   "metadata": {},
   "outputs": [],
   "source": [
    "#| export\n",
    "@patch\n",
    "def profit(self:Returns):\n",
    "    \n",
    "    if self.history.iloc[-1].isnull().sum() == 3:\n",
    "        return self.history['cum_value'][-2]-sum(self.history['deposits'][:-1])-sum(self.history['fees'][:-1])\n",
    "    \n",
    "    return self.history['cum_value'][-1]-sum(self.history['deposits'])-sum(self.history['fees'])"
   ]
  },
  {
   "cell_type": "markdown",
   "id": "a1fe7351",
   "metadata": {},
   "source": [
    "and let's see if this works for our single holding and our portfolio. Let's start with the the single holding."
   ]
  },
  {
   "cell_type": "code",
   "execution_count": 235,
   "id": "f78b2ed4",
   "metadata": {},
   "outputs": [
    {
     "data": {
      "text/plain": [
       "15096.82456538198"
      ]
     },
     "execution_count": 235,
     "metadata": {},
     "output_type": "execute_result"
    }
   ],
   "source": [
    "single_holding_returns.profit()"
   ]
  },
  {
   "cell_type": "markdown",
   "id": "edf7c212",
   "metadata": {},
   "source": [
    "Here, we can check our `FixedAllocationPortfolio` and `Holding` classes give the same result for identical fund allocations."
   ]
  },
  {
   "cell_type": "raw",
   "id": "28a074c9",
   "metadata": {},
   "source": [
    "assert(single_holding_returns.profit()==fixed_allocation_portfolio_returns.profit())"
   ]
  },
  {
   "cell_type": "markdown",
   "id": "e426734f",
   "metadata": {},
   "source": [
    "In theory, rebalancing here should make no difference. Let's create a helper function to create a monthly rebalancing schedule..."
   ]
  },
  {
   "cell_type": "code",
   "execution_count": 236,
   "id": "2a9a8626",
   "metadata": {},
   "outputs": [],
   "source": [
    "#| export\n",
    "create_monthly_rebalance_dates =  lambda start, end: pd.bdate_range(start=to_datetime(start),end=to_datetime(end),freq='BM')"
   ]
  },
  {
   "cell_type": "code",
   "execution_count": 237,
   "id": "10890eaa",
   "metadata": {},
   "outputs": [
    {
     "data": {
      "text/plain": [
       "DatetimeIndex(['2018-01-31', '2018-02-28', '2018-03-30', '2018-04-30',\n",
       "               '2018-05-31', '2018-06-29', '2018-07-31', '2018-08-31',\n",
       "               '2018-09-28', '2018-10-31', '2018-11-30', '2018-12-31',\n",
       "               '2019-01-31', '2019-02-28', '2019-03-29', '2019-04-30',\n",
       "               '2019-05-31', '2019-06-28', '2019-07-31', '2019-08-30',\n",
       "               '2019-09-30', '2019-10-31', '2019-11-29', '2019-12-31',\n",
       "               '2020-01-31', '2020-02-28', '2020-03-31', '2020-04-30',\n",
       "               '2020-05-29', '2020-06-30', '2020-07-31', '2020-08-31',\n",
       "               '2020-09-30', '2020-10-30', '2020-11-30', '2020-12-31',\n",
       "               '2021-01-29', '2021-02-26', '2021-03-31', '2021-04-30',\n",
       "               '2021-05-31', '2021-06-30', '2021-07-30', '2021-08-31',\n",
       "               '2021-09-30', '2021-10-29', '2021-11-30', '2021-12-31',\n",
       "               '2022-01-31', '2022-02-28', '2022-03-31', '2022-04-29',\n",
       "               '2022-05-31', '2022-06-30', '2022-07-29', '2022-08-31',\n",
       "               '2022-09-30', '2022-10-31', '2022-11-30'],\n",
       "              dtype='datetime64[ns]', freq='BM')"
      ]
     },
     "execution_count": 237,
     "metadata": {},
     "output_type": "execute_result"
    }
   ],
   "source": [
    "create_monthly_rebalance_dates('01/01/2018','01/12/2022')"
   ]
  },
  {
   "cell_type": "markdown",
   "id": "ce6b3f35",
   "metadata": {},
   "source": [
    "... and check our profit does not change."
   ]
  },
  {
   "cell_type": "code",
   "execution_count": 238,
   "id": "7751dd19",
   "metadata": {},
   "outputs": [
    {
     "ename": "UnboundLocalError",
     "evalue": "local variable 'i' referenced before assignment",
     "output_type": "error",
     "traceback": [
      "\u001b[1;31m---------------------------------------------------------------------------\u001b[0m",
      "\u001b[1;31mUnboundLocalError\u001b[0m                         Traceback (most recent call last)",
      "Input \u001b[1;32mIn [238]\u001b[0m, in \u001b[0;36m<cell line: 1>\u001b[1;34m()\u001b[0m\n\u001b[1;32m----> 1\u001b[0m fixed_allocation_portfolio_rebalanced \u001b[38;5;241m=\u001b[39m \u001b[43mfixed_allocation_portfolio\u001b[49m\u001b[38;5;241;43m.\u001b[39;49m\u001b[43mrebalance\u001b[49m\u001b[43m(\u001b[49m\u001b[43mcreate_monthly_rebalance_dates\u001b[49m\u001b[43m(\u001b[49m\u001b[38;5;124;43m'\u001b[39;49m\u001b[38;5;124;43m01/01/2018\u001b[39;49m\u001b[38;5;124;43m'\u001b[39;49m\u001b[43m,\u001b[49m\u001b[38;5;124;43m'\u001b[39;49m\u001b[38;5;124;43m01/12/2022\u001b[39;49m\u001b[38;5;124;43m'\u001b[39;49m\u001b[43m)\u001b[49m\u001b[43m)\u001b[49m\n\u001b[0;32m      2\u001b[0m \u001b[38;5;28;01massert\u001b[39;00m(single_holding_returns\u001b[38;5;241m.\u001b[39mprofit() \u001b[38;5;241m==\u001b[39m fixed_allocation_portfolio_rebalanced\u001b[38;5;241m.\u001b[39mto_returns()\u001b[38;5;241m.\u001b[39mprofit())\n",
      "Input \u001b[1;32mIn [225]\u001b[0m, in \u001b[0;36mFixedAllocationPortfolio.rebalance\u001b[1;34m(self, rebalance_dates)\u001b[0m\n\u001b[0;32m     46\u001b[0m target_allocation \u001b[38;5;241m=\u001b[39m [fraction\u001b[38;5;241m*\u001b[39mtotal_value \u001b[38;5;28;01mfor\u001b[39;00m fraction \u001b[38;5;129;01min\u001b[39;00m \u001b[38;5;28mself\u001b[39m\u001b[38;5;241m.\u001b[39mallocation]\n\u001b[0;32m     48\u001b[0m \u001b[38;5;66;03m# Update units, cum_units and cum_value in light of the new breakdown\u001b[39;00m\n\u001b[1;32m---> 49\u001b[0m cum_value_idx \u001b[38;5;241m=\u001b[39m holdings[\u001b[43mi\u001b[49m]\u001b[38;5;241m.\u001b[39mhistory\u001b[38;5;241m.\u001b[39mcolumns\u001b[38;5;241m.\u001b[39mget_loc(\u001b[38;5;124m\"\u001b[39m\u001b[38;5;124mcum_value\u001b[39m\u001b[38;5;124m\"\u001b[39m)\n\u001b[0;32m     50\u001b[0m deposit_idx \u001b[38;5;241m=\u001b[39m holdings[i]\u001b[38;5;241m.\u001b[39mhistory\u001b[38;5;241m.\u001b[39mcolumns\u001b[38;5;241m.\u001b[39mget_loc(\u001b[38;5;124m\"\u001b[39m\u001b[38;5;124mdeposits\u001b[39m\u001b[38;5;124m\"\u001b[39m)\n\u001b[0;32m     52\u001b[0m \u001b[38;5;28;01mfor\u001b[39;00m i \u001b[38;5;129;01min\u001b[39;00m \u001b[38;5;28mrange\u001b[39m(\u001b[38;5;28mlen\u001b[39m(holdings)):\n",
      "\u001b[1;31mUnboundLocalError\u001b[0m: local variable 'i' referenced before assignment"
     ]
    }
   ],
   "source": [
    "fixed_allocation_portfolio_rebalanced = fixed_allocation_portfolio.rebalance(create_monthly_rebalance_dates('01/01/2018','01/12/2022'))\n",
    "assert(single_holding_returns.profit() == fixed_allocation_portfolio_rebalanced.to_returns().profit())"
   ]
  },
  {
   "cell_type": "markdown",
   "id": "4d54d1b6",
   "metadata": {},
   "source": [
    "This was quite an easy test as the funds were identical. Let see if we can use a single `FixedAllocationPortfolio` to give the same profit as two holdings where we have done a manual rebalance. Let's check how the rebalance and deposit dates align so tha we have an identical computation."
   ]
  },
  {
   "cell_type": "code",
   "execution_count": 37,
   "id": "1cd1358f",
   "metadata": {},
   "outputs": [
    {
     "data": {
      "text/plain": [
       "DatetimeIndex(['2021-01-29'], dtype='datetime64[ns]', freq='BM')"
      ]
     },
     "execution_count": 37,
     "metadata": {},
     "output_type": "execute_result"
    }
   ],
   "source": [
    "create_monthly_rebalance_dates('01/01/2021','29/01/2021')"
   ]
  },
  {
   "cell_type": "code",
   "execution_count": 38,
   "id": "47967c90",
   "metadata": {},
   "outputs": [
    {
     "data": {
      "text/plain": [
       "2020-11-30    800.0\n",
       "2020-12-31    800.0\n",
       "2021-01-29    800.0\n",
       "Freq: BM, Name: deposits, dtype: float64"
      ]
     },
     "execution_count": 38,
     "metadata": {},
     "output_type": "execute_result"
    }
   ],
   "source": [
    "create_monthly_deposits('30/11/2020','01/02/2021',0.8*1000)"
   ]
  },
  {
   "cell_type": "markdown",
   "id": "31c0a8d9",
   "metadata": {},
   "source": [
    "Now, we create our desposits..."
   ]
  },
  {
   "cell_type": "code",
   "execution_count": 39,
   "id": "d9482c4b",
   "metadata": {},
   "outputs": [],
   "source": [
    "holding_one_deposits = create_monthly_deposits('01/01/2018','31/12/2020',0.8*1000)"
   ]
  },
  {
   "cell_type": "markdown",
   "id": "d446e7ef",
   "metadata": {},
   "source": [
    "but also note the length of this array as we are going to do our final rebalance on the day that would be the next monthl deposit."
   ]
  },
  {
   "cell_type": "code",
   "execution_count": 40,
   "id": "c9201fbf",
   "metadata": {},
   "outputs": [],
   "source": [
    "rebalance_row = holding_one_deposits.shape[0]"
   ]
  },
  {
   "cell_type": "markdown",
   "id": "f2f29ffe",
   "metadata": {},
   "source": [
    "We create our holdings with the deposit time series..."
   ]
  },
  {
   "cell_type": "code",
   "execution_count": 41,
   "id": "52e230c8",
   "metadata": {},
   "outputs": [],
   "source": [
    "holding_one = Holding(\"Scottish Mortgage Ord\",\"GB00BLDYK618\",0.1,holding_one_deposits)"
   ]
  },
  {
   "cell_type": "markdown",
   "id": "b82b8902",
   "metadata": {},
   "source": [
    "and also note the row where our next deposit it will be. The reader should be aware that holdings track from the date of the first deposit to the present day."
   ]
  },
  {
   "cell_type": "code",
   "execution_count": 42,
   "id": "5f7d311d",
   "metadata": {},
   "outputs": [
    {
     "data": {
      "text/plain": [
       "758"
      ]
     },
     "execution_count": 42,
     "metadata": {},
     "output_type": "execute_result"
    }
   ],
   "source": [
    "row = holding_one.history.index.get_indexer([to_datetime('29/01/2021')], method='nearest')[0]\n",
    "row"
   ]
  },
  {
   "cell_type": "code",
   "execution_count": 43,
   "id": "dd0d1afa",
   "metadata": {},
   "outputs": [
    {
     "data": {
      "text/plain": [
       "Timestamp('2021-01-29 00:00:00')"
      ]
     },
     "execution_count": 43,
     "metadata": {},
     "output_type": "execute_result"
    }
   ],
   "source": [
    "holding_one.history.index[row]"
   ]
  },
  {
   "cell_type": "code",
   "execution_count": 44,
   "id": "b07eed58",
   "metadata": {},
   "outputs": [
    {
     "data": {
      "text/plain": [
       "60231.05934582623"
      ]
     },
     "execution_count": 44,
     "metadata": {},
     "output_type": "execute_result"
    }
   ],
   "source": [
    "holding_one_value  = holding_one.history.cum_value[row]\n",
    "holding_one_value"
   ]
  },
  {
   "cell_type": "code",
   "execution_count": 45,
   "id": "9da4e0cf",
   "metadata": {},
   "outputs": [
    {
     "data": {
      "text/plain": [
       "8399.1920909121"
      ]
     },
     "execution_count": 45,
     "metadata": {},
     "output_type": "execute_result"
    }
   ],
   "source": [
    "holding_two = Holding(\"Fundsmith Equity I Acc\",\"GB00B41YBW71\",0.1,create_monthly_deposits('01/01/2018','31/12/2020',0.2*1000))\n",
    "holding_two_value  = holding_two.history.cum_value[row]\n",
    "holding_two_value"
   ]
  },
  {
   "cell_type": "code",
   "execution_count": 46,
   "id": "0cbed16f",
   "metadata": {},
   "outputs": [
    {
     "data": {
      "text/plain": [
       "68630.25143673833"
      ]
     },
     "execution_count": 46,
     "metadata": {},
     "output_type": "execute_result"
    }
   ],
   "source": [
    "total_value = holding_one_value + holding_two_value\n",
    "total_value"
   ]
  },
  {
   "cell_type": "markdown",
   "id": "9c0c67bc",
   "metadata": {},
   "source": [
    "Now, let's make create two holdings for our whole duration and update the deposits to do the manual rebalance..."
   ]
  },
  {
   "cell_type": "code",
   "execution_count": 47,
   "id": "a8c2d6c0",
   "metadata": {},
   "outputs": [],
   "source": [
    "holding_one_deposits = create_monthly_deposits('01/01/2018','31/12/2022',0.8*1000)\n",
    "holding_one_deposits[rebalance_row] = holding_one_deposits[rebalance_row]+(0.8*total_value-holding_one_value)\n",
    "holding_one = Holding(\"Scottish Mortgage Ord\",\"GB00BLDYK618\",0.1,holding_one_deposits)\n",
    "holding_two_deposits = create_monthly_deposits('01/01/2018','31/12/2022',0.2*1000)\n",
    "holding_two_deposits[rebalance_row] = holding_two_deposits[rebalance_row]+(0.2*total_value-holding_two_value)\n",
    "holding_two = Holding(\"Fundsmith Equity I Acc\",\"GB00B41YBW71\",0.1,holding_two_deposits)"
   ]
  },
  {
   "cell_type": "markdown",
   "id": "4254a626",
   "metadata": {},
   "source": [
    "and do the same with our `FixedAllocationPortfolio`."
   ]
  },
  {
   "cell_type": "code",
   "execution_count": 48,
   "id": "08c46175",
   "metadata": {},
   "outputs": [],
   "source": [
    "multi_holding_portfolio = FixedAllocationPortfolio([\"Scottish Mortgage Ord\",\"Fundsmith Equity I Acc\"],\n",
    "                                                   [\"GB00BLDYK618\",\"GB00B41YBW71\"],\n",
    "                                                   [0.1, 0.1],\n",
    "                                                   [0.8, 0.2],\n",
    "                                                   create_monthly_deposits('01/01/2018','31/12/2022',1000))\n",
    "rebalanced_multi_holding_portfolio = multi_holding_portfolio.rebalance(create_monthly_rebalance_dates('01/01/2021','29/01/2021'))\n"
   ]
  },
  {
   "cell_type": "code",
   "execution_count": 49,
   "id": "8441092b",
   "metadata": {},
   "outputs": [],
   "source": [
    "assert(holding_one.to_returns().profit() + holding_two.to_returns().profit() - rebalanced_multi_holding_portfolio.to_returns().profit() < 0.01)"
   ]
  },
  {
   "cell_type": "code",
   "execution_count": 71,
   "id": "4b73c93e",
   "metadata": {},
   "outputs": [
    {
     "name": "stderr",
     "output_type": "stream",
     "text": [
      "C:\\Users\\Ryan\\AppData\\Local\\Temp\\ipykernel_1484\\955690272.py:25: FutureWarning: Comparison of Timestamp with datetime.date is deprecated in order to match the standard library behavior. In a future version these will be considered non-comparable. Use 'ts == pd.Timestamp(date)' or 'ts.date() == date' instead.\n",
      "  if not deposits.empty and deposits.index[0].date() == self.history.index[0]:\n",
      "C:\\Users\\Ryan\\AppData\\Local\\Temp\\ipykernel_1484\\955690272.py:31: UserWarning: Deposits predate initial date of 2021-09-01 00:00:00 where prices are available for LF Ruffer Diversified. Accumulated deposit of 3666.666666666668 deposited on this date.\n",
      "  warnings.warn(warn_msg)\n"
     ]
    }
   ],
   "source": [
    "\n",
    "active_growth = FixedAllocationPortfolio([\"Jupiter UK Special Situations Acc\",\n",
    "                                    \"Ninety One UK Alpha Acc\",\n",
    "                                    \"Scottish Mortgage Ord\",\n",
    "                                    \"Fidelity Global Dividend W Acc\",\n",
    "                                    \"Fundsmith Equity\",\n",
    "                                    \"F&C Investment Trust\",\n",
    "                                    \"Vanguard U.S. Equity\",\n",
    "                                    \"JPMorgan Emerging Markets\",\n",
    "                                    \"Capital Gearing Ord\",\n",
    "                                    \"LF Ruffer Diversified\",\n",
    "                                    \"abrdn Private Equity Opportunities\"],\n",
    "                                               [\"0P0000K9EK.L\",\n",
    "                                                \"0P00012K82.L\",\n",
    "                                                \"SMT.L\",\n",
    "                                                \"0P0000WUT3.L\",\n",
    "                                                \"GB00B4Q5X527.L\",\n",
    "                                               \"FCIT.L\",\n",
    "                                               \"0P0000KSPA.L\",\n",
    "                                               \"JMG.L\",\n",
    "                                               \"CGT.L\",\n",
    "                                               \"0P0001MKQK.L\",\n",
    "                                               \"APEO.L\"],\n",
    "                                               [0.76,0.74,0.84,0.91,0.94,0.83,0.1,0.86,0.66,1.12,6.25],\n",
    "                                               [0.1 , 0.1,0.12, 0.1,0.13, 0.1,0.1,0.05,0.10,0.05,0.05],\n",
    "                                               monthly_deposits)"
   ]
  },
  {
   "cell_type": "code",
   "execution_count": 51,
   "id": "b5a3aa42",
   "metadata": {},
   "outputs": [
    {
     "data": {
      "text/html": [
       "<div>\n",
       "<style scoped>\n",
       "    .dataframe tbody tr th:only-of-type {\n",
       "        vertical-align: middle;\n",
       "    }\n",
       "\n",
       "    .dataframe tbody tr th {\n",
       "        vertical-align: top;\n",
       "    }\n",
       "\n",
       "    .dataframe thead th {\n",
       "        text-align: right;\n",
       "    }\n",
       "</style>\n",
       "<table border=\"1\" class=\"dataframe\">\n",
       "  <thead>\n",
       "    <tr style=\"text-align: right;\">\n",
       "      <th></th>\n",
       "      <th>Open</th>\n",
       "      <th>High</th>\n",
       "      <th>Low</th>\n",
       "      <th>Close</th>\n",
       "      <th>Volume</th>\n",
       "      <th>deposits</th>\n",
       "      <th>cum_deposits</th>\n",
       "      <th>units</th>\n",
       "      <th>cum_units</th>\n",
       "      <th>cum_value</th>\n",
       "      <th>fees</th>\n",
       "    </tr>\n",
       "    <tr>\n",
       "      <th>Date</th>\n",
       "      <th></th>\n",
       "      <th></th>\n",
       "      <th></th>\n",
       "      <th></th>\n",
       "      <th></th>\n",
       "      <th></th>\n",
       "      <th></th>\n",
       "      <th></th>\n",
       "      <th></th>\n",
       "      <th></th>\n",
       "      <th></th>\n",
       "    </tr>\n",
       "  </thead>\n",
       "  <tbody>\n",
       "    <tr>\n",
       "      <th>2018-01-31</th>\n",
       "      <td>240.399994</td>\n",
       "      <td>240.399994</td>\n",
       "      <td>240.399994</td>\n",
       "      <td>240.399994</td>\n",
       "      <td>0</td>\n",
       "      <td>166.666667</td>\n",
       "      <td>166.666667</td>\n",
       "      <td>0.693289</td>\n",
       "      <td>0.693289</td>\n",
       "      <td>166.666667</td>\n",
       "      <td>0.003457</td>\n",
       "    </tr>\n",
       "    <tr>\n",
       "      <th>2018-02-01</th>\n",
       "      <td>238.929993</td>\n",
       "      <td>238.929993</td>\n",
       "      <td>238.929993</td>\n",
       "      <td>238.929993</td>\n",
       "      <td>0</td>\n",
       "      <td>0.000000</td>\n",
       "      <td>166.666667</td>\n",
       "      <td>0.000000</td>\n",
       "      <td>0.693289</td>\n",
       "      <td>165.647531</td>\n",
       "      <td>0.003436</td>\n",
       "    </tr>\n",
       "    <tr>\n",
       "      <th>2018-02-02</th>\n",
       "      <td>236.949997</td>\n",
       "      <td>236.949997</td>\n",
       "      <td>236.949997</td>\n",
       "      <td>236.949997</td>\n",
       "      <td>0</td>\n",
       "      <td>0.000000</td>\n",
       "      <td>166.666667</td>\n",
       "      <td>0.000000</td>\n",
       "      <td>0.693289</td>\n",
       "      <td>164.274822</td>\n",
       "      <td>0.003408</td>\n",
       "    </tr>\n",
       "    <tr>\n",
       "      <th>2018-02-05</th>\n",
       "      <td>233.899994</td>\n",
       "      <td>233.899994</td>\n",
       "      <td>233.899994</td>\n",
       "      <td>233.899994</td>\n",
       "      <td>0</td>\n",
       "      <td>0.000000</td>\n",
       "      <td>166.666667</td>\n",
       "      <td>0.000000</td>\n",
       "      <td>0.693289</td>\n",
       "      <td>162.160288</td>\n",
       "      <td>0.003364</td>\n",
       "    </tr>\n",
       "    <tr>\n",
       "      <th>2018-02-06</th>\n",
       "      <td>229.160004</td>\n",
       "      <td>229.160004</td>\n",
       "      <td>229.160004</td>\n",
       "      <td>229.160004</td>\n",
       "      <td>0</td>\n",
       "      <td>0.000000</td>\n",
       "      <td>166.666667</td>\n",
       "      <td>0.000000</td>\n",
       "      <td>0.693289</td>\n",
       "      <td>158.874105</td>\n",
       "      <td>0.003296</td>\n",
       "    </tr>\n",
       "  </tbody>\n",
       "</table>\n",
       "</div>"
      ],
      "text/plain": [
       "                  Open        High         Low       Close  Volume  \\\n",
       "Date                                                                 \n",
       "2018-01-31  240.399994  240.399994  240.399994  240.399994       0   \n",
       "2018-02-01  238.929993  238.929993  238.929993  238.929993       0   \n",
       "2018-02-02  236.949997  236.949997  236.949997  236.949997       0   \n",
       "2018-02-05  233.899994  233.899994  233.899994  233.899994       0   \n",
       "2018-02-06  229.160004  229.160004  229.160004  229.160004       0   \n",
       "\n",
       "              deposits  cum_deposits     units  cum_units   cum_value  \\\n",
       "Date                                                                    \n",
       "2018-01-31  166.666667    166.666667  0.693289   0.693289  166.666667   \n",
       "2018-02-01    0.000000    166.666667  0.000000   0.693289  165.647531   \n",
       "2018-02-02    0.000000    166.666667  0.000000   0.693289  164.274822   \n",
       "2018-02-05    0.000000    166.666667  0.000000   0.693289  162.160288   \n",
       "2018-02-06    0.000000    166.666667  0.000000   0.693289  158.874105   \n",
       "\n",
       "                fees  \n",
       "Date                  \n",
       "2018-01-31  0.003457  \n",
       "2018-02-01  0.003436  \n",
       "2018-02-02  0.003408  \n",
       "2018-02-05  0.003364  \n",
       "2018-02-06  0.003296  "
      ]
     },
     "execution_count": 51,
     "metadata": {},
     "output_type": "execute_result"
    }
   ],
   "source": [
    "active_growth.holdings[0].history.head()"
   ]
  },
  {
   "cell_type": "code",
   "execution_count": 52,
   "id": "01ae06c8",
   "metadata": {},
   "outputs": [
    {
     "ename": "NameError",
     "evalue": "name 'rebalance_dates' is not defined",
     "output_type": "error",
     "traceback": [
      "\u001b[1;31m---------------------------------------------------------------------------\u001b[0m",
      "\u001b[1;31mNameError\u001b[0m                                 Traceback (most recent call last)",
      "Input \u001b[1;32mIn [52]\u001b[0m, in \u001b[0;36m<cell line: 2>\u001b[1;34m()\u001b[0m\n\u001b[0;32m      1\u001b[0m active_growth_rebalanced \u001b[38;5;241m=\u001b[39m create_monthly_rebalance_dates(\u001b[38;5;124m\"\u001b[39m\u001b[38;5;124m01/01/2018\u001b[39m\u001b[38;5;124m\"\u001b[39m,date\u001b[38;5;241m.\u001b[39mtoday()\u001b[38;5;241m.\u001b[39mstrftime(\u001b[38;5;124m\"\u001b[39m\u001b[38;5;132;01m%d\u001b[39;00m\u001b[38;5;124m/\u001b[39m\u001b[38;5;124m%\u001b[39m\u001b[38;5;124mm/\u001b[39m\u001b[38;5;124m%\u001b[39m\u001b[38;5;124mY\u001b[39m\u001b[38;5;124m\"\u001b[39m))\n\u001b[1;32m----> 2\u001b[0m active_growth_rebalanced \u001b[38;5;241m=\u001b[39m active_growth\u001b[38;5;241m.\u001b[39mrebalance(\u001b[43mrebalance_dates\u001b[49m)\n",
      "\u001b[1;31mNameError\u001b[0m: name 'rebalance_dates' is not defined"
     ]
    }
   ],
   "source": [
    "rebalance_dates = create_monthly_rebalance_dates(\"01/01/2018\",date.today().strftime(\"%d/%m/%Y\"))\n",
    "active_growth_rebalanced = active_growth.rebalance(rebalance_dates)"
   ]
  },
  {
   "cell_type": "code",
   "execution_count": 65,
   "id": "2d4eae93",
   "metadata": {},
   "outputs": [
    {
     "data": {
      "text/html": [
       "<div>\n",
       "<style scoped>\n",
       "    .dataframe tbody tr th:only-of-type {\n",
       "        vertical-align: middle;\n",
       "    }\n",
       "\n",
       "    .dataframe tbody tr th {\n",
       "        vertical-align: top;\n",
       "    }\n",
       "\n",
       "    .dataframe thead th {\n",
       "        text-align: right;\n",
       "    }\n",
       "</style>\n",
       "<table border=\"1\" class=\"dataframe\">\n",
       "  <thead>\n",
       "    <tr style=\"text-align: right;\">\n",
       "      <th></th>\n",
       "      <th>Open</th>\n",
       "      <th>High</th>\n",
       "      <th>Low</th>\n",
       "      <th>Close</th>\n",
       "      <th>Volume</th>\n",
       "      <th>deposits</th>\n",
       "      <th>cum_deposits</th>\n",
       "      <th>units</th>\n",
       "      <th>cum_units</th>\n",
       "      <th>cum_value</th>\n",
       "      <th>fees</th>\n",
       "    </tr>\n",
       "    <tr>\n",
       "      <th>Date</th>\n",
       "      <th></th>\n",
       "      <th></th>\n",
       "      <th></th>\n",
       "      <th></th>\n",
       "      <th></th>\n",
       "      <th></th>\n",
       "      <th></th>\n",
       "      <th></th>\n",
       "      <th></th>\n",
       "      <th></th>\n",
       "      <th></th>\n",
       "    </tr>\n",
       "  </thead>\n",
       "  <tbody>\n",
       "    <tr>\n",
       "      <th>2018-01-31</th>\n",
       "      <td>NaN</td>\n",
       "      <td>NaN</td>\n",
       "      <td>NaN</td>\n",
       "      <td>NaN</td>\n",
       "      <td>NaN</td>\n",
       "      <td>NaN</td>\n",
       "      <td>NaN</td>\n",
       "      <td>NaN</td>\n",
       "      <td>NaN</td>\n",
       "      <td>NaN</td>\n",
       "      <td>NaN</td>\n",
       "    </tr>\n",
       "    <tr>\n",
       "      <th>2018-02-01</th>\n",
       "      <td>NaN</td>\n",
       "      <td>NaN</td>\n",
       "      <td>NaN</td>\n",
       "      <td>NaN</td>\n",
       "      <td>NaN</td>\n",
       "      <td>NaN</td>\n",
       "      <td>NaN</td>\n",
       "      <td>NaN</td>\n",
       "      <td>NaN</td>\n",
       "      <td>NaN</td>\n",
       "      <td>NaN</td>\n",
       "    </tr>\n",
       "    <tr>\n",
       "      <th>2018-02-02</th>\n",
       "      <td>NaN</td>\n",
       "      <td>NaN</td>\n",
       "      <td>NaN</td>\n",
       "      <td>NaN</td>\n",
       "      <td>NaN</td>\n",
       "      <td>NaN</td>\n",
       "      <td>NaN</td>\n",
       "      <td>NaN</td>\n",
       "      <td>NaN</td>\n",
       "      <td>NaN</td>\n",
       "      <td>NaN</td>\n",
       "    </tr>\n",
       "    <tr>\n",
       "      <th>2018-02-05</th>\n",
       "      <td>NaN</td>\n",
       "      <td>NaN</td>\n",
       "      <td>NaN</td>\n",
       "      <td>NaN</td>\n",
       "      <td>NaN</td>\n",
       "      <td>NaN</td>\n",
       "      <td>NaN</td>\n",
       "      <td>NaN</td>\n",
       "      <td>NaN</td>\n",
       "      <td>NaN</td>\n",
       "      <td>NaN</td>\n",
       "    </tr>\n",
       "    <tr>\n",
       "      <th>2018-02-06</th>\n",
       "      <td>NaN</td>\n",
       "      <td>NaN</td>\n",
       "      <td>NaN</td>\n",
       "      <td>NaN</td>\n",
       "      <td>NaN</td>\n",
       "      <td>NaN</td>\n",
       "      <td>NaN</td>\n",
       "      <td>NaN</td>\n",
       "      <td>NaN</td>\n",
       "      <td>NaN</td>\n",
       "      <td>NaN</td>\n",
       "    </tr>\n",
       "    <tr>\n",
       "      <th>...</th>\n",
       "      <td>...</td>\n",
       "      <td>...</td>\n",
       "      <td>...</td>\n",
       "      <td>...</td>\n",
       "      <td>...</td>\n",
       "      <td>...</td>\n",
       "      <td>...</td>\n",
       "      <td>...</td>\n",
       "      <td>...</td>\n",
       "      <td>...</td>\n",
       "      <td>...</td>\n",
       "    </tr>\n",
       "    <tr>\n",
       "      <th>2023-04-28</th>\n",
       "      <td>103.110001</td>\n",
       "      <td>103.110001</td>\n",
       "      <td>103.110001</td>\n",
       "      <td>103.110001</td>\n",
       "      <td>0.0</td>\n",
       "      <td>83.333333</td>\n",
       "      <td>5333.333333</td>\n",
       "      <td>0.808198</td>\n",
       "      <td>52.69137</td>\n",
       "      <td>5433.007179</td>\n",
       "      <td>0.165787</td>\n",
       "    </tr>\n",
       "    <tr>\n",
       "      <th>2023-05-02</th>\n",
       "      <td>102.760002</td>\n",
       "      <td>102.760002</td>\n",
       "      <td>102.760002</td>\n",
       "      <td>102.760002</td>\n",
       "      <td>0.0</td>\n",
       "      <td>0.000000</td>\n",
       "      <td>5333.333333</td>\n",
       "      <td>0.000000</td>\n",
       "      <td>52.69137</td>\n",
       "      <td>5414.565280</td>\n",
       "      <td>0.165225</td>\n",
       "    </tr>\n",
       "    <tr>\n",
       "      <th>2023-05-03</th>\n",
       "      <td>102.830002</td>\n",
       "      <td>102.830002</td>\n",
       "      <td>102.830002</td>\n",
       "      <td>102.830002</td>\n",
       "      <td>0.0</td>\n",
       "      <td>0.000000</td>\n",
       "      <td>5333.333333</td>\n",
       "      <td>0.000000</td>\n",
       "      <td>52.69137</td>\n",
       "      <td>5418.253660</td>\n",
       "      <td>0.165337</td>\n",
       "    </tr>\n",
       "    <tr>\n",
       "      <th>2023-05-04</th>\n",
       "      <td>102.800003</td>\n",
       "      <td>102.800003</td>\n",
       "      <td>102.800003</td>\n",
       "      <td>102.800003</td>\n",
       "      <td>0.0</td>\n",
       "      <td>0.000000</td>\n",
       "      <td>5333.333333</td>\n",
       "      <td>0.000000</td>\n",
       "      <td>52.69137</td>\n",
       "      <td>5416.672983</td>\n",
       "      <td>0.165289</td>\n",
       "    </tr>\n",
       "    <tr>\n",
       "      <th>2023-05-05</th>\n",
       "      <td>102.959999</td>\n",
       "      <td>102.959999</td>\n",
       "      <td>102.959999</td>\n",
       "      <td>102.959999</td>\n",
       "      <td>0.0</td>\n",
       "      <td>0.000000</td>\n",
       "      <td>5333.333333</td>\n",
       "      <td>0.000000</td>\n",
       "      <td>52.69137</td>\n",
       "      <td>5425.103394</td>\n",
       "      <td>0.165546</td>\n",
       "    </tr>\n",
       "  </tbody>\n",
       "</table>\n",
       "<p>1328 rows × 11 columns</p>\n",
       "</div>"
      ],
      "text/plain": [
       "                  Open        High         Low       Close  Volume   deposits  \\\n",
       "Date                                                                            \n",
       "2018-01-31         NaN         NaN         NaN         NaN     NaN        NaN   \n",
       "2018-02-01         NaN         NaN         NaN         NaN     NaN        NaN   \n",
       "2018-02-02         NaN         NaN         NaN         NaN     NaN        NaN   \n",
       "2018-02-05         NaN         NaN         NaN         NaN     NaN        NaN   \n",
       "2018-02-06         NaN         NaN         NaN         NaN     NaN        NaN   \n",
       "...                ...         ...         ...         ...     ...        ...   \n",
       "2023-04-28  103.110001  103.110001  103.110001  103.110001     0.0  83.333333   \n",
       "2023-05-02  102.760002  102.760002  102.760002  102.760002     0.0   0.000000   \n",
       "2023-05-03  102.830002  102.830002  102.830002  102.830002     0.0   0.000000   \n",
       "2023-05-04  102.800003  102.800003  102.800003  102.800003     0.0   0.000000   \n",
       "2023-05-05  102.959999  102.959999  102.959999  102.959999     0.0   0.000000   \n",
       "\n",
       "            cum_deposits     units  cum_units    cum_value      fees  \n",
       "Date                                                                  \n",
       "2018-01-31           NaN       NaN        NaN          NaN       NaN  \n",
       "2018-02-01           NaN       NaN        NaN          NaN       NaN  \n",
       "2018-02-02           NaN       NaN        NaN          NaN       NaN  \n",
       "2018-02-05           NaN       NaN        NaN          NaN       NaN  \n",
       "2018-02-06           NaN       NaN        NaN          NaN       NaN  \n",
       "...                  ...       ...        ...          ...       ...  \n",
       "2023-04-28   5333.333333  0.808198   52.69137  5433.007179  0.165787  \n",
       "2023-05-02   5333.333333  0.000000   52.69137  5414.565280  0.165225  \n",
       "2023-05-03   5333.333333  0.000000   52.69137  5418.253660  0.165337  \n",
       "2023-05-04   5333.333333  0.000000   52.69137  5416.672983  0.165289  \n",
       "2023-05-05   5333.333333  0.000000   52.69137  5425.103394  0.165546  \n",
       "\n",
       "[1328 rows x 11 columns]"
      ]
     },
     "execution_count": 65,
     "metadata": {},
     "output_type": "execute_result"
    }
   ],
   "source": [
    "active_growth.holdings[9].history"
   ]
  },
  {
   "cell_type": "code",
   "execution_count": null,
   "id": "e3319263",
   "metadata": {},
   "outputs": [],
   "source": [
    "rebalance_dates"
   ]
  },
  {
   "cell_type": "markdown",
   "id": "4e31674a",
   "metadata": {},
   "source": [
    "We might be interested in plotting the value of a holding over time. Let's patch in a method for that. `yfinfance` and `matplotlib` can be used if we want to just the price of a stock over time."
   ]
  },
  {
   "cell_type": "code",
   "execution_count": null,
   "id": "e2837b9c",
   "metadata": {},
   "outputs": [],
   "source": [
    "# def plot(holding):\n",
    "#     'Plot value of the holding'\n",
    "#     plt.plot(holding.history['cum_value'])\n",
    "#     plt.xticks(rotation = 90)\n",
    "#     plt.title(holding.fund)\n",
    "#     return plt"
   ]
  },
  {
   "cell_type": "markdown",
   "id": "2114e8db",
   "metadata": {},
   "source": [
    "We use the `MonthLocator` to set the xtick positions."
   ]
  },
  {
   "cell_type": "code",
   "execution_count": null,
   "id": "74671675",
   "metadata": {},
   "outputs": [],
   "source": [
    "# from matplotlib.dates import MonthLocator\n",
    "# plt = plot(single_holding)\n",
    "# ax = plt.gca()\n",
    "# ax.xaxis.set_major_locator(MonthLocator([1,7]))"
   ]
  },
  {
   "cell_type": "code",
   "execution_count": 241,
   "id": "3e9a8582",
   "metadata": {},
   "outputs": [],
   "source": [
    "#| hide\n",
    "import nbdev; nbdev.nbdev_export()"
   ]
  },
  {
   "cell_type": "code",
   "execution_count": 69,
   "id": "6443cdea",
   "metadata": {},
   "outputs": [],
   "source": [
    "test = Holding(\"Capital Gearing Ord\", \"CGT.L\",0.1,create_monthly_deposits(\"01/01/2018\",date.today().strftime(\"%d/%m/%Y\"),1))"
   ]
  },
  {
   "cell_type": "code",
   "execution_count": 70,
   "id": "42ac1552",
   "metadata": {},
   "outputs": [
    {
     "data": {
      "text/html": [
       "<div>\n",
       "<style scoped>\n",
       "    .dataframe tbody tr th:only-of-type {\n",
       "        vertical-align: middle;\n",
       "    }\n",
       "\n",
       "    .dataframe tbody tr th {\n",
       "        vertical-align: top;\n",
       "    }\n",
       "\n",
       "    .dataframe thead th {\n",
       "        text-align: right;\n",
       "    }\n",
       "</style>\n",
       "<table border=\"1\" class=\"dataframe\">\n",
       "  <thead>\n",
       "    <tr style=\"text-align: right;\">\n",
       "      <th></th>\n",
       "      <th>Open</th>\n",
       "      <th>High</th>\n",
       "      <th>Low</th>\n",
       "      <th>Close</th>\n",
       "      <th>Volume</th>\n",
       "      <th>deposits</th>\n",
       "      <th>cum_deposits</th>\n",
       "      <th>units</th>\n",
       "      <th>cum_units</th>\n",
       "      <th>cum_value</th>\n",
       "      <th>fees</th>\n",
       "    </tr>\n",
       "    <tr>\n",
       "      <th>Date</th>\n",
       "      <th></th>\n",
       "      <th></th>\n",
       "      <th></th>\n",
       "      <th></th>\n",
       "      <th></th>\n",
       "      <th></th>\n",
       "      <th></th>\n",
       "      <th></th>\n",
       "      <th></th>\n",
       "      <th></th>\n",
       "      <th></th>\n",
       "    </tr>\n",
       "  </thead>\n",
       "  <tbody>\n",
       "    <tr>\n",
       "      <th>2018-01-31</th>\n",
       "      <td>3808.194580</td>\n",
       "      <td>3808.194580</td>\n",
       "      <td>3808.194580</td>\n",
       "      <td>3808.194580</td>\n",
       "      <td>11959</td>\n",
       "      <td>1.0</td>\n",
       "      <td>1.0</td>\n",
       "      <td>0.000263</td>\n",
       "      <td>0.000263</td>\n",
       "      <td>1.000000</td>\n",
       "      <td>0.000003</td>\n",
       "    </tr>\n",
       "    <tr>\n",
       "      <th>2018-02-01</th>\n",
       "      <td>3798.454834</td>\n",
       "      <td>3798.454834</td>\n",
       "      <td>3778.975578</td>\n",
       "      <td>3798.454834</td>\n",
       "      <td>8009</td>\n",
       "      <td>0.0</td>\n",
       "      <td>1.0</td>\n",
       "      <td>0.000000</td>\n",
       "      <td>0.000263</td>\n",
       "      <td>0.997442</td>\n",
       "      <td>0.000003</td>\n",
       "    </tr>\n",
       "    <tr>\n",
       "      <th>2018-02-02</th>\n",
       "      <td>3778.976191</td>\n",
       "      <td>3778.976191</td>\n",
       "      <td>3769.236562</td>\n",
       "      <td>3788.715820</td>\n",
       "      <td>9109</td>\n",
       "      <td>0.0</td>\n",
       "      <td>1.0</td>\n",
       "      <td>0.000000</td>\n",
       "      <td>0.000263</td>\n",
       "      <td>0.994885</td>\n",
       "      <td>0.000003</td>\n",
       "    </tr>\n",
       "    <tr>\n",
       "      <th>2018-02-05</th>\n",
       "      <td>3759.496816</td>\n",
       "      <td>3759.496816</td>\n",
       "      <td>3759.496816</td>\n",
       "      <td>3778.976074</td>\n",
       "      <td>21677</td>\n",
       "      <td>0.0</td>\n",
       "      <td>1.0</td>\n",
       "      <td>0.000000</td>\n",
       "      <td>0.000263</td>\n",
       "      <td>0.992327</td>\n",
       "      <td>0.000003</td>\n",
       "    </tr>\n",
       "    <tr>\n",
       "      <th>2018-02-06</th>\n",
       "      <td>3701.058703</td>\n",
       "      <td>3730.277588</td>\n",
       "      <td>3691.319075</td>\n",
       "      <td>3730.277588</td>\n",
       "      <td>10609</td>\n",
       "      <td>0.0</td>\n",
       "      <td>1.0</td>\n",
       "      <td>0.000000</td>\n",
       "      <td>0.000263</td>\n",
       "      <td>0.979540</td>\n",
       "      <td>0.000003</td>\n",
       "    </tr>\n",
       "  </tbody>\n",
       "</table>\n",
       "</div>"
      ],
      "text/plain": [
       "                   Open         High          Low        Close  Volume  \\\n",
       "Date                                                                     \n",
       "2018-01-31  3808.194580  3808.194580  3808.194580  3808.194580   11959   \n",
       "2018-02-01  3798.454834  3798.454834  3778.975578  3798.454834    8009   \n",
       "2018-02-02  3778.976191  3778.976191  3769.236562  3788.715820    9109   \n",
       "2018-02-05  3759.496816  3759.496816  3759.496816  3778.976074   21677   \n",
       "2018-02-06  3701.058703  3730.277588  3691.319075  3730.277588   10609   \n",
       "\n",
       "            deposits  cum_deposits     units  cum_units  cum_value      fees  \n",
       "Date                                                                          \n",
       "2018-01-31       1.0           1.0  0.000263   0.000263   1.000000  0.000003  \n",
       "2018-02-01       0.0           1.0  0.000000   0.000263   0.997442  0.000003  \n",
       "2018-02-02       0.0           1.0  0.000000   0.000263   0.994885  0.000003  \n",
       "2018-02-05       0.0           1.0  0.000000   0.000263   0.992327  0.000003  \n",
       "2018-02-06       0.0           1.0  0.000000   0.000263   0.979540  0.000003  "
      ]
     },
     "execution_count": 70,
     "metadata": {},
     "output_type": "execute_result"
    }
   ],
   "source": [
    "test.history.head()"
   ]
  },
  {
   "cell_type": "code",
   "execution_count": null,
   "id": "7428f442",
   "metadata": {},
   "outputs": [],
   "source": []
  }
 ],
 "metadata": {
  "kernelspec": {
   "display_name": "Python 3 (ipykernel)",
   "language": "python",
   "name": "python3"
  },
  "language_info": {
   "codemirror_mode": {
    "name": "ipython",
    "version": 3
   },
   "file_extension": ".py",
   "mimetype": "text/x-python",
   "name": "python",
   "nbconvert_exporter": "python",
   "pygments_lexer": "ipython3",
   "version": "3.10.7"
  }
 },
 "nbformat": 4,
 "nbformat_minor": 5
}
