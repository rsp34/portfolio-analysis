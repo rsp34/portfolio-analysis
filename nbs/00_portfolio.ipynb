{
 "cells": [
  {
   "cell_type": "markdown",
   "id": "caaab754",
   "metadata": {},
   "source": [
    "# portfolio\n",
    "\n",
    "> A module to model a portfolio's performance over the available time-scale including the impact of fees.\n",
    "\n",
    "A notebook to explore different investment portfolio ideas and compare their historic returns, inclusive of fees"
   ]
  },
  {
   "cell_type": "code",
   "execution_count": 1,
   "id": "225debc8",
   "metadata": {},
   "outputs": [],
   "source": [
    "#| default_exp portfolio"
   ]
  },
  {
   "cell_type": "code",
   "execution_count": 115,
   "id": "88040eaa",
   "metadata": {},
   "outputs": [],
   "source": [
    "#| hide\n",
    "from nbdev.showdoc import *\n",
    "from fastcore.test import *"
   ]
  },
  {
   "cell_type": "code",
   "execution_count": 116,
   "id": "269ffa28",
   "metadata": {},
   "outputs": [],
   "source": [
    "#| export\n",
    "from fastcore.utils import *"
   ]
  },
  {
   "cell_type": "code",
   "execution_count": 3,
   "id": "1f86dcda",
   "metadata": {},
   "outputs": [],
   "source": [
    "import yfinance as yf\n",
    "import pendulum\n",
    "%matplotlib inline"
   ]
  },
  {
   "cell_type": "markdown",
   "id": "c274b552",
   "metadata": {},
   "source": [
    "# Holding\n",
    "A holding is an asset that can be bought. We need to track it's value and how much of it we own over time. We therefore need financial data which can be provided by yfinance for free."
   ]
  },
  {
   "cell_type": "markdown",
   "id": "54ad90c8",
   "metadata": {},
   "source": [
    "Let's import the package and have a play. Remembering that when we are using `nbdev` we have to have imports in their own cells."
   ]
  },
  {
   "cell_type": "code",
   "execution_count": 4,
   "id": "7f4c5806",
   "metadata": {},
   "outputs": [],
   "source": [
    "import yfinance as yf"
   ]
  },
  {
   "cell_type": "code",
   "execution_count": 5,
   "id": "83d0007f",
   "metadata": {},
   "outputs": [
    {
     "data": {
      "text/html": [
       "<div>\n",
       "<style scoped>\n",
       "    .dataframe tbody tr th:only-of-type {\n",
       "        vertical-align: middle;\n",
       "    }\n",
       "\n",
       "    .dataframe tbody tr th {\n",
       "        vertical-align: top;\n",
       "    }\n",
       "\n",
       "    .dataframe thead th {\n",
       "        text-align: right;\n",
       "    }\n",
       "</style>\n",
       "<table border=\"1\" class=\"dataframe\">\n",
       "  <thead>\n",
       "    <tr style=\"text-align: right;\">\n",
       "      <th></th>\n",
       "      <th>Open</th>\n",
       "      <th>High</th>\n",
       "      <th>Low</th>\n",
       "      <th>Close</th>\n",
       "      <th>Volume</th>\n",
       "    </tr>\n",
       "    <tr>\n",
       "      <th>Date</th>\n",
       "      <th></th>\n",
       "      <th></th>\n",
       "      <th></th>\n",
       "      <th></th>\n",
       "      <th></th>\n",
       "    </tr>\n",
       "  </thead>\n",
       "  <tbody>\n",
       "    <tr>\n",
       "      <th>1980-01-02</th>\n",
       "      <td>0.560007</td>\n",
       "      <td>0.560007</td>\n",
       "      <td>0.560007</td>\n",
       "      <td>0.560007</td>\n",
       "      <td>0</td>\n",
       "    </tr>\n",
       "    <tr>\n",
       "      <th>1980-01-03</th>\n",
       "      <td>0.557518</td>\n",
       "      <td>0.557518</td>\n",
       "      <td>0.557518</td>\n",
       "      <td>0.557518</td>\n",
       "      <td>0</td>\n",
       "    </tr>\n",
       "    <tr>\n",
       "      <th>1980-01-04</th>\n",
       "      <td>0.560629</td>\n",
       "      <td>0.560629</td>\n",
       "      <td>0.560629</td>\n",
       "      <td>0.560629</td>\n",
       "      <td>0</td>\n",
       "    </tr>\n",
       "    <tr>\n",
       "      <th>1980-01-07</th>\n",
       "      <td>0.560629</td>\n",
       "      <td>0.560629</td>\n",
       "      <td>0.560629</td>\n",
       "      <td>0.560629</td>\n",
       "      <td>0</td>\n",
       "    </tr>\n",
       "    <tr>\n",
       "      <th>1980-01-08</th>\n",
       "      <td>0.567474</td>\n",
       "      <td>0.567474</td>\n",
       "      <td>0.567474</td>\n",
       "      <td>0.567474</td>\n",
       "      <td>0</td>\n",
       "    </tr>\n",
       "  </tbody>\n",
       "</table>\n",
       "</div>"
      ],
      "text/plain": [
       "                Open      High       Low     Close  Volume\n",
       "Date                                                      \n",
       "1980-01-02  0.560007  0.560007  0.560007  0.560007       0\n",
       "1980-01-03  0.557518  0.557518  0.557518  0.557518       0\n",
       "1980-01-04  0.560629  0.560629  0.560629  0.560629       0\n",
       "1980-01-07  0.560629  0.560629  0.560629  0.560629       0\n",
       "1980-01-08  0.567474  0.567474  0.567474  0.567474       0"
      ]
     },
     "execution_count": 5,
     "metadata": {},
     "output_type": "execute_result"
    }
   ],
   "source": [
    "price_history = yf.Ticker('VWELX').history(period='max', # valid periods: 1d,5d,1mo,3mo,6mo,1y,2y,5y,10y,ytd,max\n",
    "                                           interval='1d', # valid intervals: 1m,2m,5m,15m,30m,60m,90m,1h,1d,5d,1wk,1mo,3mo\n",
    "                                           actions=False)\n",
    "price_history.head()"
   ]
  },
  {
   "cell_type": "code",
   "execution_count": 84,
   "id": "19743465",
   "metadata": {},
   "outputs": [
    {
     "data": {
      "text/plain": [
       "Timestamp('2023-01-03 00:00:00')"
      ]
     },
     "execution_count": 84,
     "metadata": {},
     "output_type": "execute_result"
    }
   ],
   "source": [
    "price_history.index[-1]"
   ]
  },
  {
   "cell_type": "markdown",
   "id": "5d865dbd",
   "metadata": {},
   "source": [
    "yfinance appears to be a good option as it has price information. One concern would be what units these are but that doesn't matter as we will convert back to cash at the end."
   ]
  },
  {
   "cell_type": "code",
   "execution_count": 6,
   "id": "3e3166b7",
   "metadata": {},
   "outputs": [
    {
     "data": {
      "text/markdown": [
       "---\n",
       "\n",
       "### TickerBase.history\n",
       "\n",
       ">      TickerBase.history (period='1mo', interval='1d', start=None, end=None,\n",
       ">                          prepost=False, actions=True, auto_adjust=True,\n",
       ">                          back_adjust=False, proxy=None, rounding=False,\n",
       ">                          tz=None, timeout=None, **kwargs)\n",
       "\n",
       ":Parameters:\n",
       "    period : str\n",
       "        Valid periods: 1d,5d,1mo,3mo,6mo,1y,2y,5y,10y,ytd,max\n",
       "        Either Use period parameter or use start and end\n",
       "    interval : str\n",
       "        Valid intervals: 1m,2m,5m,15m,30m,60m,90m,1h,1d,5d,1wk,1mo,3mo\n",
       "        Intraday data cannot extend last 60 days\n",
       "    start: str\n",
       "        Download start date string (YYYY-MM-DD) or _datetime.\n",
       "        Default is 1900-01-01\n",
       "    end: str\n",
       "        Download end date string (YYYY-MM-DD) or _datetime.\n",
       "        Default is now\n",
       "    prepost : bool\n",
       "        Include Pre and Post market data in results?\n",
       "        Default is False\n",
       "    auto_adjust: bool\n",
       "        Adjust all OHLC automatically? Default is True\n",
       "    back_adjust: bool\n",
       "        Back-adjusted data to mimic true historical prices\n",
       "    proxy: str\n",
       "        Optional. Proxy server URL scheme. Default is None\n",
       "    rounding: bool\n",
       "        Round values to 2 decimal places?\n",
       "        Optional. Default is False = precision suggested by Yahoo!\n",
       "    tz: str\n",
       "        Optional timezone locale for dates.\n",
       "        (default data is returned as non-localized dates)\n",
       "    timeout: None or float\n",
       "        If not None stops waiting for a response after given number of\n",
       "        seconds. (Can also be a fraction of a second e.g. 0.01)\n",
       "        Default is None.\n",
       "    **kwargs: dict\n",
       "        debug: bool\n",
       "            Optional. If passed as False, will suppress\n",
       "            error message printing to console."
      ],
      "text/plain": [
       "---\n",
       "\n",
       "### TickerBase.history\n",
       "\n",
       ">      TickerBase.history (period='1mo', interval='1d', start=None, end=None,\n",
       ">                          prepost=False, actions=True, auto_adjust=True,\n",
       ">                          back_adjust=False, proxy=None, rounding=False,\n",
       ">                          tz=None, timeout=None, **kwargs)\n",
       "\n",
       ":Parameters:\n",
       "    period : str\n",
       "        Valid periods: 1d,5d,1mo,3mo,6mo,1y,2y,5y,10y,ytd,max\n",
       "        Either Use period parameter or use start and end\n",
       "    interval : str\n",
       "        Valid intervals: 1m,2m,5m,15m,30m,60m,90m,1h,1d,5d,1wk,1mo,3mo\n",
       "        Intraday data cannot extend last 60 days\n",
       "    start: str\n",
       "        Download start date string (YYYY-MM-DD) or _datetime.\n",
       "        Default is 1900-01-01\n",
       "    end: str\n",
       "        Download end date string (YYYY-MM-DD) or _datetime.\n",
       "        Default is now\n",
       "    prepost : bool\n",
       "        Include Pre and Post market data in results?\n",
       "        Default is False\n",
       "    auto_adjust: bool\n",
       "        Adjust all OHLC automatically? Default is True\n",
       "    back_adjust: bool\n",
       "        Back-adjusted data to mimic true historical prices\n",
       "    proxy: str\n",
       "        Optional. Proxy server URL scheme. Default is None\n",
       "    rounding: bool\n",
       "        Round values to 2 decimal places?\n",
       "        Optional. Default is False = precision suggested by Yahoo!\n",
       "    tz: str\n",
       "        Optional timezone locale for dates.\n",
       "        (default data is returned as non-localized dates)\n",
       "    timeout: None or float\n",
       "        If not None stops waiting for a response after given number of\n",
       "        seconds. (Can also be a fraction of a second e.g. 0.01)\n",
       "        Default is None.\n",
       "    **kwargs: dict\n",
       "        debug: bool\n",
       "            Optional. If passed as False, will suppress\n",
       "            error message printing to console."
      ]
     },
     "execution_count": 6,
     "metadata": {},
     "output_type": "execute_result"
    }
   ],
   "source": [
    "show_doc(yf.Ticker.history)"
   ]
  },
  {
   "cell_type": "markdown",
   "id": "8a2407df",
   "metadata": {},
   "source": [
    "## Deposits\n",
    "\n",
    "Deposits to our fund could be naturally specified as time series of deposits. A helper function is provided to support the creation of monthly deposits. However, this could be extended to different time periods."
   ]
  },
  {
   "cell_type": "code",
   "execution_count": 7,
   "id": "0fb052a2",
   "metadata": {},
   "outputs": [],
   "source": [
    "import pandas as pd\n",
    "from datetime import datetime"
   ]
  },
  {
   "cell_type": "code",
   "execution_count": 91,
   "id": "25e4b822",
   "metadata": {},
   "outputs": [],
   "source": [
    "to_datetime = lambda date_string: datetime.strptime(date_string,\"%d/%m/%Y\")\n",
    "def create_monthly_deposits(start:str,        # Date of the first montly deposit.\n",
    "                            end:str,          # Date of the last monthly deposit\n",
    "                            deposit:float):    # Value of monthly deposit\n",
    "    dti = pd.date_range(start=to_datetime(start),end=to_datetime(end),freq='M')\n",
    "    deposits = [deposit]*len(dti)\n",
    "    return pd.Series([deposit]*len(dti), index=dti, name='deposits')"
   ]
  },
  {
   "cell_type": "markdown",
   "id": "1dc78d9a",
   "metadata": {},
   "source": [
    "We call our function as follows."
   ]
  },
  {
   "cell_type": "code",
   "execution_count": 137,
   "id": "50dae246",
   "metadata": {},
   "outputs": [
    {
     "data": {
      "text/plain": [
       "1999-01-31    100\n",
       "1999-02-28    100\n",
       "1999-03-31    100\n",
       "1999-04-30    100\n",
       "1999-05-31    100\n",
       "             ... \n",
       "2022-06-30    100\n",
       "2022-07-31    100\n",
       "2022-08-31    100\n",
       "2022-09-30    100\n",
       "2022-10-31    100\n",
       "Freq: M, Name: deposits, Length: 286, dtype: int64"
      ]
     },
     "execution_count": 137,
     "metadata": {},
     "output_type": "execute_result"
    }
   ],
   "source": [
    "monthly_deposits = create_monthly_deposits('21/01/1999','02/11/2022',10)\n",
    "monthly_deposits"
   ]
  },
  {
   "cell_type": "markdown",
   "id": "cab0e0d0",
   "metadata": {},
   "source": [
    "## Single Holding\n",
    "First we create a portfolio consisting of a single holding."
   ]
  },
  {
   "cell_type": "code",
   "execution_count": 23,
   "id": "ca55ca20",
   "metadata": {},
   "outputs": [],
   "source": [
    "import matplotlib.pyplot as plt\n",
    "import warnings"
   ]
  },
  {
   "cell_type": "code",
   "execution_count": 119,
   "id": "35791738",
   "metadata": {},
   "outputs": [],
   "source": [
    "class Holding:\n",
    "    \"A holding for fund with data available on yfinance\"\n",
    "    def __init__(self,\n",
    "                 fund:str,                      # Name of the fund\n",
    "                 ticker:str,                    # Ticker symbol for the stock\n",
    "                 product_cost:float,            # Sum of all fees expressed as a percentage\n",
    "                 deposits):                     # Timeseries dataframe of deposits\n",
    "                 \n",
    "        \n",
    "        self.fund = fund\n",
    "        self.history = yf.Ticker(ticker).history(period='max', # valid periods: 1d,5d,1mo,3mo,6mo,1y,2y,5y,10y,ytd,max\n",
    "                                                 interval='1d', # valid intervals: 1m,2m,5m,15m,30m,60m,90m,1h,1d,5d,1wk,1mo,3mo\n",
    "                                                 actions=False)\n",
    "        \n",
    "        # Where we've specified a timeseries where values predate the oldest time in our ticker,\n",
    "        # we give a warning and then assume that the accumulated lump sum was invested at the earliest\n",
    "        # possible date.\n",
    "        if self.history.index[0] > deposits.index[0]:\n",
    "            initial_deposit = deposits[deposits.index <= self.history.index[0]].sum()\n",
    "            deposits = deposits[deposits.index <= self.history.index[0]]\n",
    "            deposits.iat[0,0] = initial_deposit\n",
    "            warnings.warn(f\"\"\"Deposits predate initial date of {self.history.index[0]} where prices are available for {fund}.\n",
    "                              Accumulated deposit of {initial_deposit} deposited on this date.\"\"\")\n",
    "        else:\n",
    "             self.history = self.history.iloc[self.history.index >= deposits.index[0]]\n",
    "            \n",
    "        self.history['deposits']  =  deposits\n",
    "        self.history['deposits']  = self.history['deposits'].fillna(0) \n",
    "        self.history['units']     = self.history['deposits']/self.history['Close']\n",
    "        self.history['cum_units'] = self.history['units'].cumsum()\n",
    "        self.history['cum_value'] = self.history['cum_units']*self.history['Close']\n",
    "        self.history['fees'] = ((1+product_cost/100)**(1/365)-1)*self.history['cum_value']"
   ]
  },
  {
   "cell_type": "markdown",
   "id": "6725e2cd",
   "metadata": {},
   "source": [
    "Let's create our first holding."
   ]
  },
  {
   "cell_type": "code",
   "execution_count": 101,
   "id": "bb1fd1dd",
   "metadata": {},
   "outputs": [],
   "source": [
    "single_holding = Holding('Vanguard LifeStrategy 100%','0P0000TKZO.L',0.22,create_monthly_deposits('01/01/2018','01/12/2022',1000))"
   ]
  },
  {
   "cell_type": "markdown",
   "id": "ab7de324",
   "metadata": {},
   "source": [
    "Our holding should have the fund name assigned."
   ]
  },
  {
   "cell_type": "code",
   "execution_count": 102,
   "id": "19984749",
   "metadata": {},
   "outputs": [],
   "source": [
    "assert single_holding.fund == 'Vanguard LifeStrategy 100%'"
   ]
  },
  {
   "cell_type": "markdown",
   "id": "ff1f932f",
   "metadata": {},
   "source": [
    "Our holding should have a history dataframe..."
   ]
  },
  {
   "cell_type": "code",
   "execution_count": 103,
   "id": "6710ecd1",
   "metadata": {},
   "outputs": [],
   "source": [
    "assert isinstance(single_holding.history, pd.DataFrame)"
   ]
  },
  {
   "cell_type": "markdown",
   "id": "95208f0b",
   "metadata": {},
   "source": [
    "with certain columns..."
   ]
  },
  {
   "cell_type": "code",
   "execution_count": 105,
   "id": "d04a5684",
   "metadata": {},
   "outputs": [],
   "source": [
    "assert all([item in single_holding.history.columns for item in ['Open','High','Low','Close','deposits','units','cum_units','cum_value','fees']])"
   ]
  },
  {
   "cell_type": "markdown",
   "id": "b04f4aba",
   "metadata": {},
   "source": [
    "We could try and create a condition based on length of the dataframe but as the market is close on weekends we see that this is difficult."
   ]
  },
  {
   "cell_type": "code",
   "execution_count": 107,
   "id": "d4e4d664",
   "metadata": {},
   "outputs": [
    {
     "data": {
      "text/plain": [
       "1242"
      ]
     },
     "execution_count": 107,
     "metadata": {},
     "output_type": "execute_result"
    }
   ],
   "source": [
    "len(single_holding.history)"
   ]
  },
  {
   "cell_type": "code",
   "execution_count": 109,
   "id": "e7b20c6e",
   "metadata": {},
   "outputs": [
    {
     "data": {
      "text/plain": [
       "1821"
      ]
     },
     "execution_count": 109,
     "metadata": {},
     "output_type": "execute_result"
    }
   ],
   "source": [
    "(yf.Ticker('0P0000TKZO.L').history(period='max',interval='1d',actions=False).index[-1]-to_datetime('04/01/2018')).days"
   ]
  },
  {
   "cell_type": "markdown",
   "id": "8d10358a",
   "metadata": {},
   "source": [
    "We can instead check the early dates in the history..."
   ]
  },
  {
   "cell_type": "code",
   "execution_count": 111,
   "id": "bc6967f0",
   "metadata": {},
   "outputs": [
    {
     "data": {
      "text/html": [
       "<div>\n",
       "<style scoped>\n",
       "    .dataframe tbody tr th:only-of-type {\n",
       "        vertical-align: middle;\n",
       "    }\n",
       "\n",
       "    .dataframe tbody tr th {\n",
       "        vertical-align: top;\n",
       "    }\n",
       "\n",
       "    .dataframe thead th {\n",
       "        text-align: right;\n",
       "    }\n",
       "</style>\n",
       "<table border=\"1\" class=\"dataframe\">\n",
       "  <thead>\n",
       "    <tr style=\"text-align: right;\">\n",
       "      <th></th>\n",
       "      <th>Open</th>\n",
       "      <th>High</th>\n",
       "      <th>Low</th>\n",
       "      <th>Close</th>\n",
       "      <th>Volume</th>\n",
       "      <th>deposits</th>\n",
       "      <th>units</th>\n",
       "      <th>cum_units</th>\n",
       "      <th>cum_value</th>\n",
       "      <th>fees</th>\n",
       "    </tr>\n",
       "    <tr>\n",
       "      <th>Date</th>\n",
       "      <th></th>\n",
       "      <th></th>\n",
       "      <th></th>\n",
       "      <th></th>\n",
       "      <th></th>\n",
       "      <th></th>\n",
       "      <th></th>\n",
       "      <th></th>\n",
       "      <th></th>\n",
       "      <th></th>\n",
       "    </tr>\n",
       "  </thead>\n",
       "  <tbody>\n",
       "    <tr>\n",
       "      <th>2018-01-31</th>\n",
       "      <td>20638.800781</td>\n",
       "      <td>20638.800781</td>\n",
       "      <td>20638.800781</td>\n",
       "      <td>20638.800781</td>\n",
       "      <td>0</td>\n",
       "      <td>1000.0</td>\n",
       "      <td>0.048452</td>\n",
       "      <td>0.048452</td>\n",
       "      <td>1000.000000</td>\n",
       "      <td>0.006021</td>\n",
       "    </tr>\n",
       "    <tr>\n",
       "      <th>2018-02-01</th>\n",
       "      <td>20603.599609</td>\n",
       "      <td>20603.599609</td>\n",
       "      <td>20603.599609</td>\n",
       "      <td>20603.599609</td>\n",
       "      <td>0</td>\n",
       "      <td>0.0</td>\n",
       "      <td>0.000000</td>\n",
       "      <td>0.048452</td>\n",
       "      <td>998.294418</td>\n",
       "      <td>0.006011</td>\n",
       "    </tr>\n",
       "    <tr>\n",
       "      <th>2018-02-02</th>\n",
       "      <td>20399.000000</td>\n",
       "      <td>20399.000000</td>\n",
       "      <td>20399.000000</td>\n",
       "      <td>20399.000000</td>\n",
       "      <td>0</td>\n",
       "      <td>0.0</td>\n",
       "      <td>0.000000</td>\n",
       "      <td>0.048452</td>\n",
       "      <td>988.381070</td>\n",
       "      <td>0.005951</td>\n",
       "    </tr>\n",
       "    <tr>\n",
       "      <th>2018-02-05</th>\n",
       "      <td>19985.199219</td>\n",
       "      <td>19985.199219</td>\n",
       "      <td>19985.199219</td>\n",
       "      <td>19985.199219</td>\n",
       "      <td>0</td>\n",
       "      <td>0.0</td>\n",
       "      <td>0.000000</td>\n",
       "      <td>0.048452</td>\n",
       "      <td>968.331418</td>\n",
       "      <td>0.005830</td>\n",
       "    </tr>\n",
       "    <tr>\n",
       "      <th>2018-02-06</th>\n",
       "      <td>19911.099609</td>\n",
       "      <td>19911.099609</td>\n",
       "      <td>19911.099609</td>\n",
       "      <td>19911.099609</td>\n",
       "      <td>0</td>\n",
       "      <td>0.0</td>\n",
       "      <td>0.000000</td>\n",
       "      <td>0.048452</td>\n",
       "      <td>964.741112</td>\n",
       "      <td>0.005809</td>\n",
       "    </tr>\n",
       "  </tbody>\n",
       "</table>\n",
       "</div>"
      ],
      "text/plain": [
       "                    Open          High           Low         Close  Volume  \\\n",
       "Date                                                                         \n",
       "2018-01-31  20638.800781  20638.800781  20638.800781  20638.800781       0   \n",
       "2018-02-01  20603.599609  20603.599609  20603.599609  20603.599609       0   \n",
       "2018-02-02  20399.000000  20399.000000  20399.000000  20399.000000       0   \n",
       "2018-02-05  19985.199219  19985.199219  19985.199219  19985.199219       0   \n",
       "2018-02-06  19911.099609  19911.099609  19911.099609  19911.099609       0   \n",
       "\n",
       "            deposits     units  cum_units    cum_value      fees  \n",
       "Date                                                              \n",
       "2018-01-31    1000.0  0.048452   0.048452  1000.000000  0.006021  \n",
       "2018-02-01       0.0  0.000000   0.048452   998.294418  0.006011  \n",
       "2018-02-02       0.0  0.000000   0.048452   988.381070  0.005951  \n",
       "2018-02-05       0.0  0.000000   0.048452   968.331418  0.005830  \n",
       "2018-02-06       0.0  0.000000   0.048452   964.741112  0.005809  "
      ]
     },
     "execution_count": 111,
     "metadata": {},
     "output_type": "execute_result"
    }
   ],
   "source": [
    "single_holding.history.head()"
   ]
  },
  {
   "cell_type": "markdown",
   "id": "a264eb52",
   "metadata": {},
   "source": [
    "and the later dates."
   ]
  },
  {
   "cell_type": "code",
   "execution_count": 112,
   "id": "756df704",
   "metadata": {},
   "outputs": [
    {
     "data": {
      "text/html": [
       "<div>\n",
       "<style scoped>\n",
       "    .dataframe tbody tr th:only-of-type {\n",
       "        vertical-align: middle;\n",
       "    }\n",
       "\n",
       "    .dataframe tbody tr th {\n",
       "        vertical-align: top;\n",
       "    }\n",
       "\n",
       "    .dataframe thead th {\n",
       "        text-align: right;\n",
       "    }\n",
       "</style>\n",
       "<table border=\"1\" class=\"dataframe\">\n",
       "  <thead>\n",
       "    <tr style=\"text-align: right;\">\n",
       "      <th></th>\n",
       "      <th>Open</th>\n",
       "      <th>High</th>\n",
       "      <th>Low</th>\n",
       "      <th>Close</th>\n",
       "      <th>Volume</th>\n",
       "      <th>deposits</th>\n",
       "      <th>units</th>\n",
       "      <th>cum_units</th>\n",
       "      <th>cum_value</th>\n",
       "      <th>fees</th>\n",
       "    </tr>\n",
       "    <tr>\n",
       "      <th>Date</th>\n",
       "      <th></th>\n",
       "      <th></th>\n",
       "      <th></th>\n",
       "      <th></th>\n",
       "      <th></th>\n",
       "      <th></th>\n",
       "      <th></th>\n",
       "      <th></th>\n",
       "      <th></th>\n",
       "      <th></th>\n",
       "    </tr>\n",
       "  </thead>\n",
       "  <tbody>\n",
       "    <tr>\n",
       "      <th>2022-12-22</th>\n",
       "      <td>28378.429688</td>\n",
       "      <td>28378.429688</td>\n",
       "      <td>28378.429688</td>\n",
       "      <td>28378.429688</td>\n",
       "      <td>0</td>\n",
       "      <td>0.0</td>\n",
       "      <td>0.0</td>\n",
       "      <td>1.704366</td>\n",
       "      <td>48367.240102</td>\n",
       "      <td>0.291209</td>\n",
       "    </tr>\n",
       "    <tr>\n",
       "      <th>2022-12-23</th>\n",
       "      <td>28373.210938</td>\n",
       "      <td>28373.210938</td>\n",
       "      <td>28373.210938</td>\n",
       "      <td>28373.210938</td>\n",
       "      <td>0</td>\n",
       "      <td>0.0</td>\n",
       "      <td>0.0</td>\n",
       "      <td>1.704366</td>\n",
       "      <td>48358.345441</td>\n",
       "      <td>0.291156</td>\n",
       "    </tr>\n",
       "    <tr>\n",
       "      <th>2022-12-28</th>\n",
       "      <td>28231.150391</td>\n",
       "      <td>28231.150391</td>\n",
       "      <td>28231.150391</td>\n",
       "      <td>28231.150391</td>\n",
       "      <td>0</td>\n",
       "      <td>0.0</td>\n",
       "      <td>0.0</td>\n",
       "      <td>1.704366</td>\n",
       "      <td>48116.222227</td>\n",
       "      <td>0.289698</td>\n",
       "    </tr>\n",
       "    <tr>\n",
       "      <th>2022-12-29</th>\n",
       "      <td>28488.980469</td>\n",
       "      <td>28488.980469</td>\n",
       "      <td>28488.980469</td>\n",
       "      <td>28488.980469</td>\n",
       "      <td>0</td>\n",
       "      <td>0.0</td>\n",
       "      <td>0.0</td>\n",
       "      <td>1.704366</td>\n",
       "      <td>48555.659132</td>\n",
       "      <td>0.292344</td>\n",
       "    </tr>\n",
       "    <tr>\n",
       "      <th>2022-12-30</th>\n",
       "      <td>28414.650391</td>\n",
       "      <td>28414.650391</td>\n",
       "      <td>28414.650391</td>\n",
       "      <td>28414.650391</td>\n",
       "      <td>0</td>\n",
       "      <td>0.0</td>\n",
       "      <td>0.0</td>\n",
       "      <td>1.704366</td>\n",
       "      <td>48428.973449</td>\n",
       "      <td>0.291581</td>\n",
       "    </tr>\n",
       "  </tbody>\n",
       "</table>\n",
       "</div>"
      ],
      "text/plain": [
       "                    Open          High           Low         Close  Volume  \\\n",
       "Date                                                                         \n",
       "2022-12-22  28378.429688  28378.429688  28378.429688  28378.429688       0   \n",
       "2022-12-23  28373.210938  28373.210938  28373.210938  28373.210938       0   \n",
       "2022-12-28  28231.150391  28231.150391  28231.150391  28231.150391       0   \n",
       "2022-12-29  28488.980469  28488.980469  28488.980469  28488.980469       0   \n",
       "2022-12-30  28414.650391  28414.650391  28414.650391  28414.650391       0   \n",
       "\n",
       "            deposits  units  cum_units     cum_value      fees  \n",
       "Date                                                            \n",
       "2022-12-22       0.0    0.0   1.704366  48367.240102  0.291209  \n",
       "2022-12-23       0.0    0.0   1.704366  48358.345441  0.291156  \n",
       "2022-12-28       0.0    0.0   1.704366  48116.222227  0.289698  \n",
       "2022-12-29       0.0    0.0   1.704366  48555.659132  0.292344  \n",
       "2022-12-30       0.0    0.0   1.704366  48428.973449  0.291581  "
      ]
     },
     "execution_count": 112,
     "metadata": {},
     "output_type": "execute_result"
    }
   ],
   "source": [
    "single_holding.history.tail()"
   ]
  },
  {
   "cell_type": "markdown",
   "id": "e64eb116",
   "metadata": {},
   "source": [
    "We might be interested in plotting the value of a holding over time. Let's patch in a method for that. `yfinfance` and `matplotlib` can be used if we want to just the price of a stock over time."
   ]
  },
  {
   "cell_type": "code",
   "execution_count": 121,
   "id": "10b81767",
   "metadata": {},
   "outputs": [],
   "source": [
    "@patch\n",
    "def plot(self:Holding):\n",
    "    'Plot value of the holding'\n",
    "    plt.plot(self.history['cum_value'])\n",
    "    plt.xticks(rotation = 90)\n",
    "    plt.title(self.fund)\n",
    "    return plt"
   ]
  },
  {
   "cell_type": "markdown",
   "id": "74df8355",
   "metadata": {},
   "source": [
    "We use the `MonthLocator` to set the xtick positions."
   ]
  },
  {
   "cell_type": "code",
   "execution_count": 132,
   "id": "3cd097ae",
   "metadata": {},
   "outputs": [
    {
     "data": {
      "image/png": "[encoded data removed]",
      "text/plain": [
       "<Figure size 432x288 with 1 Axes>"
      ]
     },
     "metadata": {
      "needs_background": "light"
     },
     "output_type": "display_data"
    }
   ],
   "source": [
    "from matplotlib.dates import MonthLocator\n",
    "plt = single_holding.plot()\n",
    "ax = plt.gca()\n",
    "ax.xaxis.set_major_locator(MonthLocator([1,7]))"
   ]
  },
  {
   "cell_type": "markdown",
   "id": "66ab2104",
   "metadata": {},
   "source": [
    "It would also be interesting to know our profit..."
   ]
  },
  {
   "cell_type": "code",
   "execution_count": 135,
   "id": "367d42d6",
   "metadata": {},
   "outputs": [],
   "source": [
    "@patch\n",
    "def profit(self:Holding):\n",
    "    return self.history['cum_value'][-1]-sum(self.history['deposits'])"
   ]
  },
  {
   "cell_type": "code",
   "execution_count": 136,
   "id": "8bbd5005",
   "metadata": {},
   "outputs": [
    {
     "data": {
      "text/plain": [
       "7429"
      ]
     },
     "execution_count": 136,
     "metadata": {},
     "output_type": "execute_result"
    }
   ],
   "source": [
    "round(single_holding.profit())"
   ]
  },
  {
   "cell_type": "markdown",
   "id": "3f908f0e",
   "metadata": {},
   "source": [
    "# Portfolio Modelling\n",
    "For portfolio analysis, I'd like to explore the following features:\n",
    "* Modelling a porfolio consisting of multiple funds.\n",
    "* Rebalancing to target allocations.\n",
    "* Rebalancing at given frequency.\n",
    "    \n",
    "Proposed structure would be lists of fund names, tickers, allocations and ongoing charges. A deposit rate would also need to be defined. Rebalancing times could be specified as a date series.\n",
    "\n",
    "Future functionality might include:\n",
    "* Variable allocation in time.\n",
    "* At present if a fund's inception date is after the first deposit then cash deposits are accumulated until the first deposit opportunity. Another possible approach would be to split the capital just between the funds that are open at a given time. I think this is best handled by concatenating two FixedAllocationPortfolio funds."
   ]
  },
  {
   "cell_type": "code",
   "execution_count": null,
   "id": "3e0964b6",
   "metadata": {},
   "outputs": [],
   "source": [
    "class FixedAllocationPortolio:\n",
    "    \"A collection of holdings of funds with data available on yfinance with a fixed allocation of each deposit made.\"\n",
    "    def __init__(self,\n",
    "                 fund:list,          # List of fund names\n",
    "                 ticker:list,        # List of fund tickers\n",
    "                 product_cost:list,  # List of fees for each fund expressed as a percentage and comprising all fees for a given fund\n",
    "                 allocation:list,    # Allocation of each deposit as a fraction. Must sum to one.\n",
    "                 deposits):          # Timeseries dataframe of deposits\n",
    "        \n",
    "        # Check fund, ticker, product_cost and allocation are all lists of equal length\n",
    "        \n",
    "        # Check that allocation sums to 1\n",
    "        \n",
    "        # Create a holding for each fund\n",
    "        self.holdings = [Holding(fund[i],ticker[i],product_cost[i],deposits*allocation[i]) for i in range(len(fund))]\n",
    "        \n",
    "    def rebalance(self,rebalance_dates):\n",
    "        \n",
    "        # We rebalance on the dates specified. If a rebalancing date is prior a funds \n",
    "        # inception date then the fund is ignore in the rebalancing.\n",
    "        \n",
    "        # It is assumed that fees are paid for with an external account and that the fees are accrued daily.\n",
    "        \n",
    "        for date in rebalance_dates:\n",
    "            \n",
    "            # Find row closest to the rebalance date target\n",
    "            matching_row = self.holdings[1].index.get_indexer([rebalance_dates[i_date]],method='nearest')[0]\n",
    "            \n",
    "            # Differences of 1 day are expected if our rebalance day falls on a weekend.\n",
    "            \n",
    "            # Compute the current allocation\n",
    "            current_allocation = list()\n",
    "            for i in range(len(self.holdings)):\n",
    "                current_allocation.append(self.holdings[i].iloc[matching_row].loc['cum_value'])\n",
    "                \n",
    "            # Compute target allocations based on asset weightings\n",
    "            # NaNs are skipped\n",
    "            total_value = sum([element for element in current_allocation if str(element) != \"nan\"])\n",
    "            target_allocation = [allocation*sum(value_breakdown) for allocation_fraction in allocation]\n",
    "            \n",
    "            # Update units, cum_units and cum_value in light of the new breakdown\n",
    "            # These are really properties of the holding...\n",
    "            cum_value_idx = self.holdings[i].columns.get_loc(\"cum_value\")\n",
    "            units_idx = self.holdings[i].columns.get_loc(\"units\")\n",
    "            cum_units_idx = self.holdings[i].columns.get_loc(\"cum_units\")\n",
    "            \n",
    "            for i in range(len(self.holdings)):\n",
    "                # Compute units deviation from the target\n",
    "                units_delta = (self.holdings[i].iloc[matching_row,cum_value_idx] - target_allocation[i])/self.holdings[i].iloc[matching_row]['Close']\n",
    "        \n",
    "                # Update units entry to match target allocation\n",
    "                self.holdings[i].iloc[matching_row,units_idx] -= units_delta\n",
    "         \n",
    "                # Update remaining rows\n",
    "                self.holdings[i]['cum_units'] = self.holdings[i]['units'].cumsum()        \n",
    "                self.holdings[i]['cum_value'] =  self.holdings[i]['cum_units']*self.holdings[i]['Close']\n",
    "                self.holdings[i]['fees'] = ((1+product_cost[i]/100)**(1/365)-1)*self.holdings[i]['cum_value']"
   ]
  },
  {
   "cell_type": "code",
   "execution_count": 140,
   "id": "6c6b6c03",
   "metadata": {},
   "outputs": [],
   "source": [
    "funds = [\"Scottish Mortgage Ord\",\"Fundsmith Equity I Acc\"];\n",
    "tickers = [\"GB00BLDYK618\",\"GB00B41YBW71\"]\n",
    "allocation = [0.5, 0.5]\n",
    "annual_deposit = 20000\n",
    "rebalance_rate = \"monthly\"\n",
    "product_cost = [0.66, 0.99]\n",
    "\n",
    "# Create data frames for each allocation\n",
    "price_history_list = list()\n",
    "for i in range(len(funds)):\n",
    "    price_history = yf.Ticker(tickers[i]).history(period='max', # valid periods: 1d,5d,1mo,3mo,6mo,1y,2y,5y,10y,ytd,max\n",
    "                                                  interval='1d', # valid intervals: 1m,2m,5m,15m,30m,60m,90m,1h,1d,5d,1wk,1mo,3mo\n",
    "                                                  actions=False)\n",
    "    price_history['deposits']=[annual_deposit/365*allocation[i],]*len(price_history)\n",
    "    price_history['units'] = price_history['deposits']/price_history['Close']\n",
    "    price_history_list.append(price_history)\n",
    "\n",
    "# Trim price_history_list to earliest date in portfolio\n",
    "# Start by finding the first date data was available for each portfolio\n",
    "first_timestamp = list ()\n",
    "for price_history in price_history_list:\n",
    "    first_timestamp.append(price_history.index[1])\n",
    "start_date = max(first_timestamp)\n",
    "    \n",
    "# Now trim data and compute cumulutative values\n",
    "for i in range(len(price_history_list)):\n",
    "    price_history_list[i] = price_history_list[i][price_history_list[i].index >= start_date]\n",
    "    price_history_list[i].insert(0,'cum_units',price_history_list[i]['units'].cumsum())\n",
    "    price_history_list[i].insert(0,'cum_value',price_history_list[i]['cum_units']*price_history_list[i]['Close'])\n",
    "\n",
    "# Rebalance\n",
    "# Start by creating rebalance series\n",
    "from datetime import datetime\n",
    "import pandas as pd\n",
    "rebalance_dates = pd.date_range(start_date,datetime.now(tz=None), freq='M')\n",
    "\n",
    "# Find allocation of rebalance dates\n",
    "for i_date in range(len(rebalance_dates)):\n",
    "    \n",
    "    # Find current asset allocation\n",
    "    value_breakdown = list()\n",
    "    for i_fund in range(len(price_history_list)):\n",
    "        price_history = price_history_list[i_fund]\n",
    "        matching_row = price_history.index.get_indexer([rebalance_dates[i_date]],method='nearest')[0]\n",
    "        value_breakdown.append(price_history.iloc[matching_row].loc['cum_value']) # Include fees here?\n",
    "\n",
    "    # Computer targer allocations based on asset weightings\n",
    "    target_allocation = [allocation_fraction*sum(value_breakdown) for allocation_fraction in allocation]\n",
    "    \n",
    "    # Update units, cum_units and cum_value in light of the new breakdown\n",
    "    for i_fund in range(len(price_history_list)):\n",
    "        \n",
    "        # Extract df of interest\n",
    "        price_history = price_history_list[i_fund]\n",
    "        \n",
    "        # Find index locations for cells of interest\n",
    "        matching_row = price_history.index.get_indexer([rebalance_dates[i_date]],method='nearest')[0]\n",
    "        cum_value_idx = price_history.columns.get_loc(\"cum_value\")\n",
    "        units_idx = price_history.columns.get_loc(\"units\")\n",
    "        cum_units_idx = price_history.columns.get_loc(\"cum_units\")\n",
    "        \n",
    "        # Compute units deviation from the target\n",
    "        units_delta = (price_history.iloc[matching_row,cum_value_idx] - target_allocation[i_fund])/price_history.iloc[matching_row]['Close']\n",
    "        \n",
    "        # Update units entry to match target allocation\n",
    "        price_history.iloc[matching_row,units_idx] -= units_delta\n",
    "         \n",
    "        # Update remaining rows\n",
    "        price_history['cum_units'] = price_history['units'].cumsum()        \n",
    "        price_history['cum_value'] =  price_history['cum_units']*price_history['Close']\n",
    "        price_history['fees'] = ((1+product_cost[i_fund]/100)**(1/365)-1)*price_history['cum_value']\n",
    "        \n",
    "        # Update list with data frame including the new \n",
    "        price_history_list[i_fund] = price_history"
   ]
  },
  {
   "cell_type": "code",
   "execution_count": null,
   "id": "9638a383",
   "metadata": {},
   "outputs": [],
   "source": [
    "plt.plot(price_history_list[0].cum_units)"
   ]
  },
  {
   "cell_type": "code",
   "execution_count": null,
   "id": "fc1dece5",
   "metadata": {},
   "outputs": [],
   "source": [
    "# Compute final value\n",
    "price_history = price_history_list[0]\n",
    "for i_fund in range(1,len(price_history_list)):\n",
    "    price_history['cum_value'] += price_history_list[i_fund]['cum_value']\n",
    "    price_history['fees'] += price_history_list[i_fund]['fees']\n",
    "    price_history['deposits'] += price_history_list[i_fund]['deposits']\n",
    "    \n",
    "price_history.head()"
   ]
  },
  {
   "cell_type": "code",
   "execution_count": null,
   "id": "1c7c8fee",
   "metadata": {},
   "outputs": [],
   "source": [
    "plt.plot(price_history['cum_value'])\n",
    "plt.plot()\n",
    "plt.plot(price_history['deposits'].cumsum())\n",
    "plt.xticks(rotation = 90)\n",
    "plt.title('Current Portfolio')\n",
    "ax = plt.gca()\n",
    "ax.xaxis.set_major_locator(MonthLocator(1,6))\n",
    "profit = price_history[\"cum_value\"][-2]-price_history['deposits'].sum()-price_history['fees'].sum()\n",
    "print(profit)"
   ]
  }
 ],
 "metadata": {
  "kernelspec": {
   "display_name": "Python 3 (ipykernel)",
   "language": "python",
   "name": "python3"
  },
  "language_info": {
   "codemirror_mode": {
    "name": "ipython",
    "version": 3
   },
   "file_extension": ".py",
   "mimetype": "text/x-python",
   "name": "python",
   "nbconvert_exporter": "python",
   "pygments_lexer": "ipython3",
   "version": "3.10.7"
  }
 },
 "nbformat": 4,
 "nbformat_minor": 5
}
