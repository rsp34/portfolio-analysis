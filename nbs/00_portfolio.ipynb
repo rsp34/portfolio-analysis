{
 "cells": [
  {
   "cell_type": "markdown",
   "id": "caaab754",
   "metadata": {},
   "source": [
    "# portfolio\n",
    "\n",
    "> A module to model a portfolio's performance over the available time-scale including the impact of fees.\n",
    "\n",
    "A notebook to explore different investment portfolio ideas and compare their historic returns, inclusive of fees"
   ]
  },
  {
   "cell_type": "code",
   "execution_count": 1,
   "id": "225debc8",
   "metadata": {},
   "outputs": [],
   "source": [
    "#| default_exp portfolio"
   ]
  },
  {
   "cell_type": "code",
   "execution_count": 2,
   "id": "88040eaa",
   "metadata": {},
   "outputs": [],
   "source": [
    "#| hide\n",
    "from nbdev.showdoc import *\n",
    "from fastcore.test import *"
   ]
  },
  {
   "cell_type": "code",
   "execution_count": 3,
   "id": "269ffa28",
   "metadata": {},
   "outputs": [],
   "source": [
    "#| export\n",
    "from fastcore.utils import *"
   ]
  },
  {
   "cell_type": "code",
   "execution_count": 4,
   "id": "1f86dcda",
   "metadata": {},
   "outputs": [],
   "source": [
    "#| export\n",
    "import pendulum"
   ]
  },
  {
   "cell_type": "markdown",
   "id": "c274b552",
   "metadata": {},
   "source": [
    "# Holding\n",
    "A holding is an asset that can be bought. We need to track it's value and how much of it we own over time. We therefore need financial data which can be provided by yfinance for free."
   ]
  },
  {
   "cell_type": "markdown",
   "id": "54ad90c8",
   "metadata": {},
   "source": [
    "Let's import the package and have a play. Remembering that when we are using `nbdev` we have to have imports in their own cells."
   ]
  },
  {
   "cell_type": "code",
   "execution_count": 5,
   "id": "7f4c5806",
   "metadata": {},
   "outputs": [],
   "source": [
    "#| export\n",
    "import yfinance as yf"
   ]
  },
  {
   "cell_type": "code",
   "execution_count": 6,
   "id": "83d0007f",
   "metadata": {},
   "outputs": [
    {
     "data": {
      "text/html": [
       "<div>\n",
       "<style scoped>\n",
       "    .dataframe tbody tr th:only-of-type {\n",
       "        vertical-align: middle;\n",
       "    }\n",
       "\n",
       "    .dataframe tbody tr th {\n",
       "        vertical-align: top;\n",
       "    }\n",
       "\n",
       "    .dataframe thead th {\n",
       "        text-align: right;\n",
       "    }\n",
       "</style>\n",
       "<table border=\"1\" class=\"dataframe\">\n",
       "  <thead>\n",
       "    <tr style=\"text-align: right;\">\n",
       "      <th></th>\n",
       "      <th>Open</th>\n",
       "      <th>High</th>\n",
       "      <th>Low</th>\n",
       "      <th>Close</th>\n",
       "      <th>Volume</th>\n",
       "    </tr>\n",
       "    <tr>\n",
       "      <th>Date</th>\n",
       "      <th></th>\n",
       "      <th></th>\n",
       "      <th></th>\n",
       "      <th></th>\n",
       "      <th></th>\n",
       "    </tr>\n",
       "  </thead>\n",
       "  <tbody>\n",
       "    <tr>\n",
       "      <th>1980-01-02</th>\n",
       "      <td>0.522507</td>\n",
       "      <td>0.522507</td>\n",
       "      <td>0.522507</td>\n",
       "      <td>0.522507</td>\n",
       "      <td>0</td>\n",
       "    </tr>\n",
       "    <tr>\n",
       "      <th>1980-01-03</th>\n",
       "      <td>0.520185</td>\n",
       "      <td>0.520185</td>\n",
       "      <td>0.520185</td>\n",
       "      <td>0.520185</td>\n",
       "      <td>0</td>\n",
       "    </tr>\n",
       "    <tr>\n",
       "      <th>1980-01-04</th>\n",
       "      <td>0.523088</td>\n",
       "      <td>0.523088</td>\n",
       "      <td>0.523088</td>\n",
       "      <td>0.523088</td>\n",
       "      <td>0</td>\n",
       "    </tr>\n",
       "    <tr>\n",
       "      <th>1980-01-07</th>\n",
       "      <td>0.523088</td>\n",
       "      <td>0.523088</td>\n",
       "      <td>0.523088</td>\n",
       "      <td>0.523088</td>\n",
       "      <td>0</td>\n",
       "    </tr>\n",
       "    <tr>\n",
       "      <th>1980-01-08</th>\n",
       "      <td>0.529474</td>\n",
       "      <td>0.529474</td>\n",
       "      <td>0.529474</td>\n",
       "      <td>0.529474</td>\n",
       "      <td>0</td>\n",
       "    </tr>\n",
       "  </tbody>\n",
       "</table>\n",
       "</div>"
      ],
      "text/plain": [
       "                Open      High       Low     Close  Volume\n",
       "Date                                                      \n",
       "1980-01-02  0.522507  0.522507  0.522507  0.522507       0\n",
       "1980-01-03  0.520185  0.520185  0.520185  0.520185       0\n",
       "1980-01-04  0.523088  0.523088  0.523088  0.523088       0\n",
       "1980-01-07  0.523088  0.523088  0.523088  0.523088       0\n",
       "1980-01-08  0.529474  0.529474  0.529474  0.529474       0"
      ]
     },
     "execution_count": 6,
     "metadata": {},
     "output_type": "execute_result"
    }
   ],
   "source": [
    "price_history = yf.Ticker('VWELX').history(period='max', # valid periods: 1d,5d,1mo,3mo,6mo,1y,2y,5y,10y,ytd,max\n",
    "                                           interval='1d', # valid intervals: 1m,2m,5m,15m,30m,60m,90m,1h,1d,5d,1wk,1mo,3mo\n",
    "                                           actions=False)\n",
    "price_history.head()"
   ]
  },
  {
   "cell_type": "code",
   "execution_count": 7,
   "id": "19743465",
   "metadata": {},
   "outputs": [
    {
     "data": {
      "text/plain": [
       "Timestamp('2023-04-14 00:00:00')"
      ]
     },
     "execution_count": 7,
     "metadata": {},
     "output_type": "execute_result"
    }
   ],
   "source": [
    "price_history.index[-1]"
   ]
  },
  {
   "cell_type": "markdown",
   "id": "5d865dbd",
   "metadata": {},
   "source": [
    "yfinance appears to be a good option as it has price information. One concern would be what units these are but that doesn't matter as we will convert back to cash at the end."
   ]
  },
  {
   "cell_type": "code",
   "execution_count": 8,
   "id": "3e3166b7",
   "metadata": {},
   "outputs": [
    {
     "data": {
      "text/markdown": [
       "---\n",
       "\n",
       "### TickerBase.history\n",
       "\n",
       ">      TickerBase.history (period='1mo', interval='1d', start=None, end=None,\n",
       ">                          prepost=False, actions=True, auto_adjust=True,\n",
       ">                          back_adjust=False, proxy=None, rounding=False,\n",
       ">                          tz=None, timeout=None, **kwargs)\n",
       "\n",
       ":Parameters:\n",
       "    period : str\n",
       "        Valid periods: 1d,5d,1mo,3mo,6mo,1y,2y,5y,10y,ytd,max\n",
       "        Either Use period parameter or use start and end\n",
       "    interval : str\n",
       "        Valid intervals: 1m,2m,5m,15m,30m,60m,90m,1h,1d,5d,1wk,1mo,3mo\n",
       "        Intraday data cannot extend last 60 days\n",
       "    start: str\n",
       "        Download start date string (YYYY-MM-DD) or _datetime.\n",
       "        Default is 1900-01-01\n",
       "    end: str\n",
       "        Download end date string (YYYY-MM-DD) or _datetime.\n",
       "        Default is now\n",
       "    prepost : bool\n",
       "        Include Pre and Post market data in results?\n",
       "        Default is False\n",
       "    auto_adjust: bool\n",
       "        Adjust all OHLC automatically? Default is True\n",
       "    back_adjust: bool\n",
       "        Back-adjusted data to mimic true historical prices\n",
       "    proxy: str\n",
       "        Optional. Proxy server URL scheme. Default is None\n",
       "    rounding: bool\n",
       "        Round values to 2 decimal places?\n",
       "        Optional. Default is False = precision suggested by Yahoo!\n",
       "    tz: str\n",
       "        Optional timezone locale for dates.\n",
       "        (default data is returned as non-localized dates)\n",
       "    timeout: None or float\n",
       "        If not None stops waiting for a response after given number of\n",
       "        seconds. (Can also be a fraction of a second e.g. 0.01)\n",
       "        Default is None.\n",
       "    **kwargs: dict\n",
       "        debug: bool\n",
       "            Optional. If passed as False, will suppress\n",
       "            error message printing to console."
      ],
      "text/plain": [
       "---\n",
       "\n",
       "### TickerBase.history\n",
       "\n",
       ">      TickerBase.history (period='1mo', interval='1d', start=None, end=None,\n",
       ">                          prepost=False, actions=True, auto_adjust=True,\n",
       ">                          back_adjust=False, proxy=None, rounding=False,\n",
       ">                          tz=None, timeout=None, **kwargs)\n",
       "\n",
       ":Parameters:\n",
       "    period : str\n",
       "        Valid periods: 1d,5d,1mo,3mo,6mo,1y,2y,5y,10y,ytd,max\n",
       "        Either Use period parameter or use start and end\n",
       "    interval : str\n",
       "        Valid intervals: 1m,2m,5m,15m,30m,60m,90m,1h,1d,5d,1wk,1mo,3mo\n",
       "        Intraday data cannot extend last 60 days\n",
       "    start: str\n",
       "        Download start date string (YYYY-MM-DD) or _datetime.\n",
       "        Default is 1900-01-01\n",
       "    end: str\n",
       "        Download end date string (YYYY-MM-DD) or _datetime.\n",
       "        Default is now\n",
       "    prepost : bool\n",
       "        Include Pre and Post market data in results?\n",
       "        Default is False\n",
       "    auto_adjust: bool\n",
       "        Adjust all OHLC automatically? Default is True\n",
       "    back_adjust: bool\n",
       "        Back-adjusted data to mimic true historical prices\n",
       "    proxy: str\n",
       "        Optional. Proxy server URL scheme. Default is None\n",
       "    rounding: bool\n",
       "        Round values to 2 decimal places?\n",
       "        Optional. Default is False = precision suggested by Yahoo!\n",
       "    tz: str\n",
       "        Optional timezone locale for dates.\n",
       "        (default data is returned as non-localized dates)\n",
       "    timeout: None or float\n",
       "        If not None stops waiting for a response after given number of\n",
       "        seconds. (Can also be a fraction of a second e.g. 0.01)\n",
       "        Default is None.\n",
       "    **kwargs: dict\n",
       "        debug: bool\n",
       "            Optional. If passed as False, will suppress\n",
       "            error message printing to console."
      ]
     },
     "execution_count": 8,
     "metadata": {},
     "output_type": "execute_result"
    }
   ],
   "source": [
    "show_doc(yf.Ticker.history)"
   ]
  },
  {
   "cell_type": "markdown",
   "id": "8a2407df",
   "metadata": {},
   "source": [
    "## Deposits\n",
    "\n",
    "Deposits to our fund could be naturally specified as time series of deposits. A helper function is provided to support the creation of monthly deposits. It is important that these days lie on business days so we use `pd.bdate_range` However, this could be extended to different time periods."
   ]
  },
  {
   "cell_type": "code",
   "execution_count": 9,
   "id": "0fb052a2",
   "metadata": {},
   "outputs": [],
   "source": [
    "#| export\n",
    "import pandas as pd\n",
    "from datetime import datetime"
   ]
  },
  {
   "cell_type": "code",
   "execution_count": 10,
   "id": "25e4b822",
   "metadata": {},
   "outputs": [],
   "source": [
    "#| export\n",
    "to_datetime = lambda date_string: datetime.strptime(date_string,\"%d/%m/%Y\")\n",
    "def create_monthly_deposits(start:str,        # Date of the first montly deposit.\n",
    "                            end:str,          # Date of the last monthly deposit\n",
    "                            deposit:float):    # Value of monthly deposit\n",
    "    dti = pd.bdate_range(start=to_datetime(start),end=to_datetime(end),freq='BM')\n",
    "    deposits = [deposit]*len(dti)\n",
    "    return pd.Series([deposit]*len(dti), index=dti, name='deposits')"
   ]
  },
  {
   "cell_type": "markdown",
   "id": "1dc78d9a",
   "metadata": {},
   "source": [
    "We call our function as follows."
   ]
  },
  {
   "cell_type": "code",
   "execution_count": 11,
   "id": "50dae246",
   "metadata": {},
   "outputs": [
    {
     "data": {
      "text/plain": [
       "2022-01-31    10\n",
       "2022-02-28    10\n",
       "2022-03-31    10\n",
       "2022-04-29    10\n",
       "2022-05-31    10\n",
       "2022-06-30    10\n",
       "2022-07-29    10\n",
       "2022-08-31    10\n",
       "2022-09-30    10\n",
       "2022-10-31    10\n",
       "2022-11-30    10\n",
       "2022-12-30    10\n",
       "2023-01-31    10\n",
       "2023-02-28    10\n",
       "2023-03-31    10\n",
       "Freq: BM, Name: deposits, dtype: int64"
      ]
     },
     "execution_count": 11,
     "metadata": {},
     "output_type": "execute_result"
    }
   ],
   "source": [
    "monthly_deposits = create_monthly_deposits('01/01/2022','01/04/2023',10)\n",
    "monthly_deposits"
   ]
  },
  {
   "cell_type": "markdown",
   "id": "cab0e0d0",
   "metadata": {},
   "source": [
    "## Single Holding\n",
    "First we create a portfolio consisting of a single holding."
   ]
  },
  {
   "cell_type": "code",
   "execution_count": 12,
   "id": "ca55ca20",
   "metadata": {},
   "outputs": [],
   "source": [
    "#| export\n",
    "import matplotlib.pyplot as plt\n",
    "import warnings"
   ]
  },
  {
   "cell_type": "code",
   "execution_count": 13,
   "id": "35791738",
   "metadata": {},
   "outputs": [],
   "source": [
    "#| export\n",
    "class Holding:\n",
    "    \"A holding for fund with data available on yfinance\"\n",
    "    def __init__(self,\n",
    "                 fund:str,                      # Name of the fund\n",
    "                 ticker:str,                    # Ticker symbol for the stock\n",
    "                 product_cost:float,            # Sum of all fees expressed as a percentage\n",
    "                 deposits):                     # Timeseries dataframe of deposits\n",
    "                 \n",
    "        \n",
    "        self.fund = fund\n",
    "        self.history = yf.Ticker(ticker).history(period='max', # valid periods: 1d,5d,1mo,3mo,6mo,1y,2y,5y,10y,ytd,max\n",
    "                                                 interval='1d', # valid intervals: 1m,2m,5m,15m,30m,60m,90m,1h,1d,5d,1wk,1mo,3mo\n",
    "                                                 actions=False)\n",
    "        self.product_cost = product_cost\n",
    "        \n",
    "        # Where we've specified a timeseries where values predate the oldest time in our ticker,\n",
    "        # we give a warning and then assume that the accumulated lump sum was invested at the earliest\n",
    "        # possible date.\n",
    "        if self.history.index[0] > deposits.index[0]:\n",
    "            initial_deposit = deposits[deposits.index <= self.history.index[0]].sum()\n",
    "            deposits = deposits[deposits.index <= self.history.index[0]]\n",
    "            deposits.iat[0,0] = initial_deposit\n",
    "            warnings.warn(f\"\"\"Deposits predate initial date of {self.history.index[0]} where prices are available for {fund}.\n",
    "                              Accumulated deposit of {initial_deposit} deposited on this date.\"\"\")\n",
    "        else:\n",
    "             self.history = self.history.iloc[self.history.index >= deposits.index[0]]\n",
    "            \n",
    "        self.history['deposits']  = deposits\n",
    "        self.history['deposits']  = self.history['deposits'].fillna(0)\n",
    "        \n",
    "        self = self.compute_value()\n",
    "        \n",
    "        # A holding can never have cumulative deposits less than zero.\n",
    "        \n",
    "    def compute_value(self):\n",
    "        \n",
    "        self.history['cum_deposits'] = self.history['deposits'].cumsum()\n",
    "        self.history['units']        = self.history['deposits']/self.history['Close']\n",
    "        self.history['cum_units']    = self.history['units'].cumsum()\n",
    "        self.history['cum_value']    = self.history['cum_units']*self.history['Close']\n",
    "        self.history['fees'] = ((1+self.product_cost/100)**(1/365)-1)*self.history['cum_value']\n",
    "        \n",
    "        return self"
   ]
  },
  {
   "cell_type": "markdown",
   "id": "6725e2cd",
   "metadata": {},
   "source": [
    "Let's create our first holding."
   ]
  },
  {
   "cell_type": "code",
   "execution_count": 14,
   "id": "bb1fd1dd",
   "metadata": {},
   "outputs": [],
   "source": [
    "single_holding = Holding('Vanguard LifeStrategy 100%','0P0000TKZO.L',0.22,create_monthly_deposits('04/01/2018','01/12/2022',1000))"
   ]
  },
  {
   "cell_type": "markdown",
   "id": "ab7de324",
   "metadata": {},
   "source": [
    "Our holding should have the fund name assigned."
   ]
  },
  {
   "cell_type": "code",
   "execution_count": 15,
   "id": "19984749",
   "metadata": {},
   "outputs": [],
   "source": [
    "assert single_holding.fund == 'Vanguard LifeStrategy 100%'"
   ]
  },
  {
   "cell_type": "markdown",
   "id": "ff1f932f",
   "metadata": {},
   "source": [
    "Our holding should have a history dataframe..."
   ]
  },
  {
   "cell_type": "code",
   "execution_count": 16,
   "id": "6710ecd1",
   "metadata": {},
   "outputs": [],
   "source": [
    "assert isinstance(single_holding.history, pd.DataFrame)"
   ]
  },
  {
   "cell_type": "markdown",
   "id": "95208f0b",
   "metadata": {},
   "source": [
    "with certain columns..."
   ]
  },
  {
   "cell_type": "code",
   "execution_count": 17,
   "id": "d04a5684",
   "metadata": {},
   "outputs": [],
   "source": [
    "assert all([item in single_holding.history.columns for item in ['Open','High','Low','Close','deposits','units','cum_units','cum_value','fees']])"
   ]
  },
  {
   "cell_type": "markdown",
   "id": "b04f4aba",
   "metadata": {},
   "source": [
    "We could try and create a condition based on length of the dataframe but as the market is close on weekends we see that this is difficult."
   ]
  },
  {
   "cell_type": "code",
   "execution_count": 18,
   "id": "d4e4d664",
   "metadata": {},
   "outputs": [
    {
     "data": {
      "text/plain": [
       "1313"
      ]
     },
     "execution_count": 18,
     "metadata": {},
     "output_type": "execute_result"
    }
   ],
   "source": [
    "len(single_holding.history)"
   ]
  },
  {
   "cell_type": "code",
   "execution_count": 19,
   "id": "e7b20c6e",
   "metadata": {},
   "outputs": [
    {
     "data": {
      "text/plain": [
       "1925"
      ]
     },
     "execution_count": 19,
     "metadata": {},
     "output_type": "execute_result"
    }
   ],
   "source": [
    "(yf.Ticker('0P0000TKZO.L').history(period='max',interval='1d',actions=False).index[-1]-to_datetime('04/01/2018')).days"
   ]
  },
  {
   "cell_type": "markdown",
   "id": "8d10358a",
   "metadata": {},
   "source": [
    "We can instead check the early dates in the history..."
   ]
  },
  {
   "cell_type": "code",
   "execution_count": 20,
   "id": "bc6967f0",
   "metadata": {},
   "outputs": [
    {
     "data": {
      "text/html": [
       "<div>\n",
       "<style scoped>\n",
       "    .dataframe tbody tr th:only-of-type {\n",
       "        vertical-align: middle;\n",
       "    }\n",
       "\n",
       "    .dataframe tbody tr th {\n",
       "        vertical-align: top;\n",
       "    }\n",
       "\n",
       "    .dataframe thead th {\n",
       "        text-align: right;\n",
       "    }\n",
       "</style>\n",
       "<table border=\"1\" class=\"dataframe\">\n",
       "  <thead>\n",
       "    <tr style=\"text-align: right;\">\n",
       "      <th></th>\n",
       "      <th>Open</th>\n",
       "      <th>High</th>\n",
       "      <th>Low</th>\n",
       "      <th>Close</th>\n",
       "      <th>Volume</th>\n",
       "      <th>deposits</th>\n",
       "      <th>cum_deposits</th>\n",
       "      <th>units</th>\n",
       "      <th>cum_units</th>\n",
       "      <th>cum_value</th>\n",
       "      <th>fees</th>\n",
       "    </tr>\n",
       "    <tr>\n",
       "      <th>Date</th>\n",
       "      <th></th>\n",
       "      <th></th>\n",
       "      <th></th>\n",
       "      <th></th>\n",
       "      <th></th>\n",
       "      <th></th>\n",
       "      <th></th>\n",
       "      <th></th>\n",
       "      <th></th>\n",
       "      <th></th>\n",
       "      <th></th>\n",
       "    </tr>\n",
       "  </thead>\n",
       "  <tbody>\n",
       "    <tr>\n",
       "      <th>2018-01-31</th>\n",
       "      <td>20638.800781</td>\n",
       "      <td>20638.800781</td>\n",
       "      <td>20638.800781</td>\n",
       "      <td>20638.800781</td>\n",
       "      <td>0</td>\n",
       "      <td>1000.0</td>\n",
       "      <td>1000.0</td>\n",
       "      <td>0.048452</td>\n",
       "      <td>0.048452</td>\n",
       "      <td>1000.000000</td>\n",
       "      <td>0.006021</td>\n",
       "    </tr>\n",
       "    <tr>\n",
       "      <th>2018-02-01</th>\n",
       "      <td>20603.599609</td>\n",
       "      <td>20603.599609</td>\n",
       "      <td>20603.599609</td>\n",
       "      <td>20603.599609</td>\n",
       "      <td>0</td>\n",
       "      <td>0.0</td>\n",
       "      <td>1000.0</td>\n",
       "      <td>0.000000</td>\n",
       "      <td>0.048452</td>\n",
       "      <td>998.294418</td>\n",
       "      <td>0.006011</td>\n",
       "    </tr>\n",
       "    <tr>\n",
       "      <th>2018-02-02</th>\n",
       "      <td>20399.000000</td>\n",
       "      <td>20399.000000</td>\n",
       "      <td>20399.000000</td>\n",
       "      <td>20399.000000</td>\n",
       "      <td>0</td>\n",
       "      <td>0.0</td>\n",
       "      <td>1000.0</td>\n",
       "      <td>0.000000</td>\n",
       "      <td>0.048452</td>\n",
       "      <td>988.381070</td>\n",
       "      <td>0.005951</td>\n",
       "    </tr>\n",
       "    <tr>\n",
       "      <th>2018-02-05</th>\n",
       "      <td>19985.199219</td>\n",
       "      <td>19985.199219</td>\n",
       "      <td>19985.199219</td>\n",
       "      <td>19985.199219</td>\n",
       "      <td>0</td>\n",
       "      <td>0.0</td>\n",
       "      <td>1000.0</td>\n",
       "      <td>0.000000</td>\n",
       "      <td>0.048452</td>\n",
       "      <td>968.331418</td>\n",
       "      <td>0.005830</td>\n",
       "    </tr>\n",
       "    <tr>\n",
       "      <th>2018-02-06</th>\n",
       "      <td>19911.099609</td>\n",
       "      <td>19911.099609</td>\n",
       "      <td>19911.099609</td>\n",
       "      <td>19911.099609</td>\n",
       "      <td>0</td>\n",
       "      <td>0.0</td>\n",
       "      <td>1000.0</td>\n",
       "      <td>0.000000</td>\n",
       "      <td>0.048452</td>\n",
       "      <td>964.741112</td>\n",
       "      <td>0.005809</td>\n",
       "    </tr>\n",
       "  </tbody>\n",
       "</table>\n",
       "</div>"
      ],
      "text/plain": [
       "                    Open          High           Low         Close  Volume  \\\n",
       "Date                                                                         \n",
       "2018-01-31  20638.800781  20638.800781  20638.800781  20638.800781       0   \n",
       "2018-02-01  20603.599609  20603.599609  20603.599609  20603.599609       0   \n",
       "2018-02-02  20399.000000  20399.000000  20399.000000  20399.000000       0   \n",
       "2018-02-05  19985.199219  19985.199219  19985.199219  19985.199219       0   \n",
       "2018-02-06  19911.099609  19911.099609  19911.099609  19911.099609       0   \n",
       "\n",
       "            deposits  cum_deposits     units  cum_units    cum_value      fees  \n",
       "Date                                                                            \n",
       "2018-01-31    1000.0        1000.0  0.048452   0.048452  1000.000000  0.006021  \n",
       "2018-02-01       0.0        1000.0  0.000000   0.048452   998.294418  0.006011  \n",
       "2018-02-02       0.0        1000.0  0.000000   0.048452   988.381070  0.005951  \n",
       "2018-02-05       0.0        1000.0  0.000000   0.048452   968.331418  0.005830  \n",
       "2018-02-06       0.0        1000.0  0.000000   0.048452   964.741112  0.005809  "
      ]
     },
     "execution_count": 20,
     "metadata": {},
     "output_type": "execute_result"
    }
   ],
   "source": [
    "single_holding.history.head()"
   ]
  },
  {
   "cell_type": "markdown",
   "id": "a264eb52",
   "metadata": {},
   "source": [
    "and the later dates."
   ]
  },
  {
   "cell_type": "code",
   "execution_count": 21,
   "id": "756df704",
   "metadata": {},
   "outputs": [
    {
     "data": {
      "text/html": [
       "<div>\n",
       "<style scoped>\n",
       "    .dataframe tbody tr th:only-of-type {\n",
       "        vertical-align: middle;\n",
       "    }\n",
       "\n",
       "    .dataframe tbody tr th {\n",
       "        vertical-align: top;\n",
       "    }\n",
       "\n",
       "    .dataframe thead th {\n",
       "        text-align: right;\n",
       "    }\n",
       "</style>\n",
       "<table border=\"1\" class=\"dataframe\">\n",
       "  <thead>\n",
       "    <tr style=\"text-align: right;\">\n",
       "      <th></th>\n",
       "      <th>Open</th>\n",
       "      <th>High</th>\n",
       "      <th>Low</th>\n",
       "      <th>Close</th>\n",
       "      <th>Volume</th>\n",
       "      <th>deposits</th>\n",
       "      <th>cum_deposits</th>\n",
       "      <th>units</th>\n",
       "      <th>cum_units</th>\n",
       "      <th>cum_value</th>\n",
       "      <th>fees</th>\n",
       "    </tr>\n",
       "    <tr>\n",
       "      <th>Date</th>\n",
       "      <th></th>\n",
       "      <th></th>\n",
       "      <th></th>\n",
       "      <th></th>\n",
       "      <th></th>\n",
       "      <th></th>\n",
       "      <th></th>\n",
       "      <th></th>\n",
       "      <th></th>\n",
       "      <th></th>\n",
       "      <th></th>\n",
       "    </tr>\n",
       "  </thead>\n",
       "  <tbody>\n",
       "    <tr>\n",
       "      <th>2023-04-05</th>\n",
       "      <td>29374.869141</td>\n",
       "      <td>29374.869141</td>\n",
       "      <td>29374.869141</td>\n",
       "      <td>29374.869141</td>\n",
       "      <td>0</td>\n",
       "      <td>0.0</td>\n",
       "      <td>56000.0</td>\n",
       "      <td>0.0</td>\n",
       "      <td>2.325957</td>\n",
       "      <td>68324.691236</td>\n",
       "      <td>0.411369</td>\n",
       "    </tr>\n",
       "    <tr>\n",
       "      <th>2023-04-06</th>\n",
       "      <td>29511.089844</td>\n",
       "      <td>29511.089844</td>\n",
       "      <td>29511.089844</td>\n",
       "      <td>29511.089844</td>\n",
       "      <td>0</td>\n",
       "      <td>0.0</td>\n",
       "      <td>56000.0</td>\n",
       "      <td>0.0</td>\n",
       "      <td>2.325957</td>\n",
       "      <td>68641.534774</td>\n",
       "      <td>0.413277</td>\n",
       "    </tr>\n",
       "    <tr>\n",
       "      <th>2023-04-11</th>\n",
       "      <td>29616.279297</td>\n",
       "      <td>29616.279297</td>\n",
       "      <td>29616.279297</td>\n",
       "      <td>29616.279297</td>\n",
       "      <td>0</td>\n",
       "      <td>0.0</td>\n",
       "      <td>56000.0</td>\n",
       "      <td>0.0</td>\n",
       "      <td>2.325957</td>\n",
       "      <td>68886.200950</td>\n",
       "      <td>0.414750</td>\n",
       "    </tr>\n",
       "    <tr>\n",
       "      <th>2023-04-12</th>\n",
       "      <td>29594.109375</td>\n",
       "      <td>29594.109375</td>\n",
       "      <td>29594.109375</td>\n",
       "      <td>29594.109375</td>\n",
       "      <td>0</td>\n",
       "      <td>0.0</td>\n",
       "      <td>56000.0</td>\n",
       "      <td>0.0</td>\n",
       "      <td>2.325957</td>\n",
       "      <td>68834.634659</td>\n",
       "      <td>0.414439</td>\n",
       "    </tr>\n",
       "    <tr>\n",
       "      <th>2023-04-13</th>\n",
       "      <td>29765.269531</td>\n",
       "      <td>29765.269531</td>\n",
       "      <td>29765.269531</td>\n",
       "      <td>29765.269531</td>\n",
       "      <td>0</td>\n",
       "      <td>0.0</td>\n",
       "      <td>56000.0</td>\n",
       "      <td>0.0</td>\n",
       "      <td>2.325957</td>\n",
       "      <td>69232.745873</td>\n",
       "      <td>0.416836</td>\n",
       "    </tr>\n",
       "  </tbody>\n",
       "</table>\n",
       "</div>"
      ],
      "text/plain": [
       "                    Open          High           Low         Close  Volume  \\\n",
       "Date                                                                         \n",
       "2023-04-05  29374.869141  29374.869141  29374.869141  29374.869141       0   \n",
       "2023-04-06  29511.089844  29511.089844  29511.089844  29511.089844       0   \n",
       "2023-04-11  29616.279297  29616.279297  29616.279297  29616.279297       0   \n",
       "2023-04-12  29594.109375  29594.109375  29594.109375  29594.109375       0   \n",
       "2023-04-13  29765.269531  29765.269531  29765.269531  29765.269531       0   \n",
       "\n",
       "            deposits  cum_deposits  units  cum_units     cum_value      fees  \n",
       "Date                                                                          \n",
       "2023-04-05       0.0       56000.0    0.0   2.325957  68324.691236  0.411369  \n",
       "2023-04-06       0.0       56000.0    0.0   2.325957  68641.534774  0.413277  \n",
       "2023-04-11       0.0       56000.0    0.0   2.325957  68886.200950  0.414750  \n",
       "2023-04-12       0.0       56000.0    0.0   2.325957  68834.634659  0.414439  \n",
       "2023-04-13       0.0       56000.0    0.0   2.325957  69232.745873  0.416836  "
      ]
     },
     "execution_count": 21,
     "metadata": {},
     "output_type": "execute_result"
    }
   ],
   "source": [
    "single_holding.history.tail()"
   ]
  },
  {
   "cell_type": "markdown",
   "id": "3f908f0e",
   "metadata": {},
   "source": [
    "# Portfolio Modelling\n",
    "For portfolio analysis, I'd like to explore the following features:\n",
    "* Modelling a porfolio consisting of multiple funds.\n",
    "* Rebalancing to target allocations.\n",
    "* Rebalancing at given frequency.\n",
    "    \n",
    "Proposed structure would be lists of fund names, tickers, allocations and ongoing charges. A deposit rate would also need to be defined. Rebalancing times could be specified as a date series.\n",
    "\n",
    "Future functionality might include:\n",
    "* Variable allocation in time.\n",
    "* At present if a fund's inception date is after the first deposit then cash deposits are accumulated until the first deposit opportunity. Another possible approach would be to split the capital just between the funds that are open at a given time. Even better would be to enable concatenation of two FixedAllocationPortfolio funds... this might also be an interesting coding challenge."
   ]
  },
  {
   "cell_type": "code",
   "execution_count": 22,
   "id": "3e0964b6",
   "metadata": {},
   "outputs": [],
   "source": [
    "#| export\n",
    "class FixedAllocationPortfolio:\n",
    "    \"A collection of holdings of funds with data available on yfinance with a fixed allocation of each deposit made.\"\n",
    "    def __init__(self,\n",
    "                 fund:list,          # List of fund names\n",
    "                 ticker:list,        # List of fund tickers\n",
    "                 product_cost:list,  # List of fees for each fund expressed as a percentage and comprising all fees for a given fund\n",
    "                 allocation:list,    # Allocation of each deposit as a fraction. Must sum to one.\n",
    "                 deposits):          # Timeseries dataframe of deposits\n",
    "        \n",
    "        # Check fund, ticker, product_cost and allocation are all lists of equal length\n",
    "        assert(all([len(input)==len(fund) for input in [ticker, product_cost, allocation]]))\n",
    "        \n",
    "        # Check that allocation sums to 1\n",
    "        assert(sum(allocation)==1)\n",
    "        \n",
    "        # Record the inputs\n",
    "        self.deposits = deposits\n",
    "        self.allocation = allocation\n",
    "        self.fund = fund\n",
    "        \n",
    "        # Create a holding for each fund\n",
    "        self.holdings = [Holding(fund[i],ticker[i],product_cost[i],deposits*allocation[i]) for i in range(len(fund))]\n",
    "        \n",
    "        \n",
    "    def rebalance(self,rebalance_dates):\n",
    "        \n",
    "        # We rebalance on the dates specified. If a rebalancing date is prior a funds \n",
    "        # inception date then the fund is ignore in the rebalancing.\n",
    "        \n",
    "        # It is assumed that fees are paid for with an external account and that the fees\n",
    "        # are accrued daily.\n",
    "        \n",
    "        holdings = self.holdings\n",
    "        \n",
    "        matching_rows = holdings[0].history.index.get_indexer(rebalance_dates,method='nearest')\n",
    "        \n",
    "        for row in matching_rows:\n",
    "            \n",
    "            # Compute the current allocation\n",
    "            current_allocation = list()\n",
    "            for i in range(len(holdings)):\n",
    "                cum_value = holdings[i].history.iloc[row].loc['cum_value'];\n",
    "                if cum_value == \"nan\":\n",
    "                    # If the deposits pre-date the fund, we use the deposit value in \n",
    "                    # the allocation computation.\n",
    "                    cum_value = holdings[i].history.iloc[row].loc['cum_deposits'];\n",
    "                current_allocation.append(cum_value)\n",
    "                \n",
    "            # Compute target allocations based on asset weightings\n",
    "            total_value = sum(current_allocation)\n",
    "            target_allocation = [fraction*total_value for fraction in self.allocation]\n",
    "            \n",
    "            # Update units, cum_units and cum_value in light of the new breakdown\n",
    "            # These are really properties of the holding...\n",
    "            cum_value_idx = holdings[i].history.columns.get_loc(\"cum_value\")\n",
    "            deposit_idx = holdings[i].history.columns.get_loc(\"deposits\")\n",
    "            \n",
    "            for i in range(len(holdings)):\n",
    "                # Some special, consideration needs to \n",
    "                holdings[i].history.iloc[row,deposit_idx] = holdings[i].history.iloc[row,deposit_idx] \\\n",
    "                                                                   + (target_allocation[i] - holdings[i].history.iloc[row,cum_value_idx])\n",
    "                holdings[i].compute_value()\n",
    "            \n",
    "            self.holdings = holdings\n",
    "            return self"
   ]
  },
  {
   "cell_type": "markdown",
   "id": "9e46ff3b",
   "metadata": {},
   "source": [
    "Let's check we throw errors in the right conditions..."
   ]
  },
  {
   "cell_type": "markdown",
   "id": "c69308cb",
   "metadata": {},
   "source": [
    "A method to test that everything is working would be to create a portfolio that consists of only the same funds and compare the cumulate value to a holding."
   ]
  },
  {
   "cell_type": "code",
   "execution_count": 23,
   "id": "462091c1",
   "metadata": {},
   "outputs": [],
   "source": [
    "fixed_allocation_portfolio = FixedAllocationPortfolio(['Vanguard LifeStrategy 100%','Vanguard LifeStrategy 100%'], \\\n",
    "                                                      ['0P0000TKZO.L','0P0000TKZO.L'], \\\n",
    "                                                      [0.22, 0.22],\\\n",
    "                                                      [0.5,0.5], \\\n",
    "                                                      create_monthly_deposits('01/01/2018','01/12/2022',1000))"
   ]
  },
  {
   "cell_type": "markdown",
   "id": "d10141ed",
   "metadata": {},
   "source": [
    "We don't need to rebalance to check the cumulative value as the funds are the same."
   ]
  },
  {
   "cell_type": "markdown",
   "id": "6b1f791b",
   "metadata": {},
   "source": [
    "We define a common interface to convert a selection of holdings into a single returns object. We can use the returns object to commonise plotting and visualisation of results. One thing we need is a method to determine whether we have a single holding or a fixed allocation portfolio."
   ]
  },
  {
   "cell_type": "code",
   "execution_count": 24,
   "id": "b449e988",
   "metadata": {},
   "outputs": [],
   "source": [
    "#| export\n",
    "class Returns:\n",
    "    def __init__(self,\n",
    "                 name:    str ,   # Description of the returns - typically used as title\n",
    "                 holdings: list):  # List of holdings\n",
    "    \n",
    "            self.name = name\n",
    "            self.history = holdings[0].history[[\"deposits\",\"cum_value\",\"fees\"]]\n",
    "            for i in range(1,len(holdings)):\n",
    "                self.history += holdings[i].history[[\"deposits\",\"cum_value\",\"fees\"]]"
   ]
  },
  {
   "cell_type": "markdown",
   "id": "02ff6fca",
   "metadata": {},
   "source": [
    "Let's add methods to our `Holding` and `FixedAllocationPortfolio` classes to generate a `Returns` object."
   ]
  },
  {
   "cell_type": "code",
   "execution_count": 25,
   "id": "b345b943",
   "metadata": {},
   "outputs": [],
   "source": [
    "#| export\n",
    "@patch\n",
    "def to_returns(self:Holding):\n",
    "    return Returns(self.fund,[self])"
   ]
  },
  {
   "cell_type": "markdown",
   "id": "1cdfbee0",
   "metadata": {},
   "source": [
    "Can we generate our returns for our single holding?"
   ]
  },
  {
   "cell_type": "code",
   "execution_count": 26,
   "id": "15fe65cf",
   "metadata": {},
   "outputs": [
    {
     "data": {
      "text/plain": [
       "'Vanguard LifeStrategy 100%'"
      ]
     },
     "execution_count": 26,
     "metadata": {},
     "output_type": "execute_result"
    }
   ],
   "source": [
    "single_holding_returns= single_holding.to_returns()\n",
    "single_holding_returns.name"
   ]
  },
  {
   "cell_type": "code",
   "execution_count": 27,
   "id": "3692e0a2",
   "metadata": {},
   "outputs": [
    {
     "data": {
      "text/html": [
       "<div>\n",
       "<style scoped>\n",
       "    .dataframe tbody tr th:only-of-type {\n",
       "        vertical-align: middle;\n",
       "    }\n",
       "\n",
       "    .dataframe tbody tr th {\n",
       "        vertical-align: top;\n",
       "    }\n",
       "\n",
       "    .dataframe thead th {\n",
       "        text-align: right;\n",
       "    }\n",
       "</style>\n",
       "<table border=\"1\" class=\"dataframe\">\n",
       "  <thead>\n",
       "    <tr style=\"text-align: right;\">\n",
       "      <th></th>\n",
       "      <th>deposits</th>\n",
       "      <th>cum_value</th>\n",
       "      <th>fees</th>\n",
       "    </tr>\n",
       "    <tr>\n",
       "      <th>Date</th>\n",
       "      <th></th>\n",
       "      <th></th>\n",
       "      <th></th>\n",
       "    </tr>\n",
       "  </thead>\n",
       "  <tbody>\n",
       "    <tr>\n",
       "      <th>2018-01-31</th>\n",
       "      <td>1000.0</td>\n",
       "      <td>1000.000000</td>\n",
       "      <td>0.006021</td>\n",
       "    </tr>\n",
       "    <tr>\n",
       "      <th>2018-02-01</th>\n",
       "      <td>0.0</td>\n",
       "      <td>998.294418</td>\n",
       "      <td>0.006011</td>\n",
       "    </tr>\n",
       "    <tr>\n",
       "      <th>2018-02-02</th>\n",
       "      <td>0.0</td>\n",
       "      <td>988.381070</td>\n",
       "      <td>0.005951</td>\n",
       "    </tr>\n",
       "    <tr>\n",
       "      <th>2018-02-05</th>\n",
       "      <td>0.0</td>\n",
       "      <td>968.331418</td>\n",
       "      <td>0.005830</td>\n",
       "    </tr>\n",
       "    <tr>\n",
       "      <th>2018-02-06</th>\n",
       "      <td>0.0</td>\n",
       "      <td>964.741112</td>\n",
       "      <td>0.005809</td>\n",
       "    </tr>\n",
       "  </tbody>\n",
       "</table>\n",
       "</div>"
      ],
      "text/plain": [
       "            deposits    cum_value      fees\n",
       "Date                                       \n",
       "2018-01-31    1000.0  1000.000000  0.006021\n",
       "2018-02-01       0.0   998.294418  0.006011\n",
       "2018-02-02       0.0   988.381070  0.005951\n",
       "2018-02-05       0.0   968.331418  0.005830\n",
       "2018-02-06       0.0   964.741112  0.005809"
      ]
     },
     "execution_count": 27,
     "metadata": {},
     "output_type": "execute_result"
    }
   ],
   "source": [
    "single_holding_returns.history.head()"
   ]
  },
  {
   "cell_type": "markdown",
   "id": "5d0ac36a",
   "metadata": {},
   "source": [
    "Now, let's do something similar fo the `FixedAllocationPortfolio` class."
   ]
  },
  {
   "cell_type": "code",
   "execution_count": 28,
   "id": "0b793162",
   "metadata": {},
   "outputs": [],
   "source": [
    "#| export\n",
    "@patch\n",
    "def to_returns(self:FixedAllocationPortfolio):\n",
    "    \n",
    "    name = f\"{100*self.allocation[0]}% {self.fund[0]}\"\n",
    "    for i in range(1,len(self.holdings)):\n",
    "        name += f\", {100*self.allocation[i]}% {self.fund[i]}\"\n",
    "\n",
    "    return Returns(name,self.holdings)"
   ]
  },
  {
   "cell_type": "markdown",
   "id": "4b16d1da",
   "metadata": {},
   "source": [
    "Similarly, does it work?"
   ]
  },
  {
   "cell_type": "code",
   "execution_count": 29,
   "id": "6cc569c8",
   "metadata": {},
   "outputs": [
    {
     "data": {
      "text/plain": [
       "'50.0% Vanguard LifeStrategy 100%, 50.0% Vanguard LifeStrategy 100%'"
      ]
     },
     "execution_count": 29,
     "metadata": {},
     "output_type": "execute_result"
    }
   ],
   "source": [
    "fixed_allocation_portfolio_returns = fixed_allocation_portfolio.to_returns()\n",
    "fixed_allocation_portfolio_returns.name"
   ]
  },
  {
   "cell_type": "code",
   "execution_count": 30,
   "id": "43e7439f",
   "metadata": {},
   "outputs": [
    {
     "data": {
      "text/html": [
       "<div>\n",
       "<style scoped>\n",
       "    .dataframe tbody tr th:only-of-type {\n",
       "        vertical-align: middle;\n",
       "    }\n",
       "\n",
       "    .dataframe tbody tr th {\n",
       "        vertical-align: top;\n",
       "    }\n",
       "\n",
       "    .dataframe thead th {\n",
       "        text-align: right;\n",
       "    }\n",
       "</style>\n",
       "<table border=\"1\" class=\"dataframe\">\n",
       "  <thead>\n",
       "    <tr style=\"text-align: right;\">\n",
       "      <th></th>\n",
       "      <th>deposits</th>\n",
       "      <th>cum_value</th>\n",
       "      <th>fees</th>\n",
       "    </tr>\n",
       "    <tr>\n",
       "      <th>Date</th>\n",
       "      <th></th>\n",
       "      <th></th>\n",
       "      <th></th>\n",
       "    </tr>\n",
       "  </thead>\n",
       "  <tbody>\n",
       "    <tr>\n",
       "      <th>2018-01-31</th>\n",
       "      <td>1000.0</td>\n",
       "      <td>1000.000000</td>\n",
       "      <td>0.006021</td>\n",
       "    </tr>\n",
       "    <tr>\n",
       "      <th>2018-02-01</th>\n",
       "      <td>0.0</td>\n",
       "      <td>998.294418</td>\n",
       "      <td>0.006011</td>\n",
       "    </tr>\n",
       "    <tr>\n",
       "      <th>2018-02-02</th>\n",
       "      <td>0.0</td>\n",
       "      <td>988.381070</td>\n",
       "      <td>0.005951</td>\n",
       "    </tr>\n",
       "    <tr>\n",
       "      <th>2018-02-05</th>\n",
       "      <td>0.0</td>\n",
       "      <td>968.331418</td>\n",
       "      <td>0.005830</td>\n",
       "    </tr>\n",
       "    <tr>\n",
       "      <th>2018-02-06</th>\n",
       "      <td>0.0</td>\n",
       "      <td>964.741112</td>\n",
       "      <td>0.005809</td>\n",
       "    </tr>\n",
       "  </tbody>\n",
       "</table>\n",
       "</div>"
      ],
      "text/plain": [
       "            deposits    cum_value      fees\n",
       "Date                                       \n",
       "2018-01-31    1000.0  1000.000000  0.006021\n",
       "2018-02-01       0.0   998.294418  0.006011\n",
       "2018-02-02       0.0   988.381070  0.005951\n",
       "2018-02-05       0.0   968.331418  0.005830\n",
       "2018-02-06       0.0   964.741112  0.005809"
      ]
     },
     "execution_count": 30,
     "metadata": {},
     "output_type": "execute_result"
    }
   ],
   "source": [
    "fixed_allocation_portfolio_returns.history.head()"
   ]
  },
  {
   "cell_type": "markdown",
   "id": "e6b2d547",
   "metadata": {},
   "source": [
    "One of the most basic things we might want to do is determine our proft...."
   ]
  },
  {
   "cell_type": "code",
   "execution_count": 31,
   "id": "718ad129",
   "metadata": {},
   "outputs": [],
   "source": [
    "#| export\n",
    "@patch\n",
    "def profit(self:Returns):\n",
    "    \n",
    "    if self.history.iloc[-1].isnull().sum() == 3:\n",
    "        return self.history['cum_value'][-2]-sum(self.history['deposits'][:-1])-sum(self.history['fees'][:-1])\n",
    "    \n",
    "    return self.history['cum_value'][-1]-sum(self.history['deposits'])-sum(self.history['fees'])"
   ]
  },
  {
   "cell_type": "markdown",
   "id": "a1fe7351",
   "metadata": {},
   "source": [
    "and let's see if this works for our single holding and our portfolio. Let's start with the the single holding."
   ]
  },
  {
   "cell_type": "code",
   "execution_count": 32,
   "id": "f78b2ed4",
   "metadata": {},
   "outputs": [
    {
     "data": {
      "text/plain": [
       "12956.917099876278"
      ]
     },
     "execution_count": 32,
     "metadata": {},
     "output_type": "execute_result"
    }
   ],
   "source": [
    "single_holding_returns.profit()"
   ]
  },
  {
   "cell_type": "markdown",
   "id": "edf7c212",
   "metadata": {},
   "source": [
    "Here, we can check our `FixedAllocationPortfolio` and `Holding` classes give the same result for identical fund allocations."
   ]
  },
  {
   "cell_type": "raw",
   "id": "28a074c9",
   "metadata": {},
   "source": [
    "assert(single_holding_returns.profit()==fixed_allocation_portfolio_returns.profit())"
   ]
  },
  {
   "cell_type": "markdown",
   "id": "e426734f",
   "metadata": {},
   "source": [
    "In theory, rebalancing here should make no difference. Let's create a helper function to create a monthly rebalancing schedule..."
   ]
  },
  {
   "cell_type": "code",
   "execution_count": 33,
   "id": "e96addf0",
   "metadata": {},
   "outputs": [],
   "source": [
    "#| export\n",
    "create_monthly_rebalance_dates =  lambda start, end: pd.bdate_range(start=to_datetime(start),end=to_datetime(end),freq='BM')"
   ]
  },
  {
   "cell_type": "code",
   "execution_count": 34,
   "id": "10890eaa",
   "metadata": {},
   "outputs": [
    {
     "data": {
      "text/plain": [
       "DatetimeIndex(['2018-01-31', '2018-02-28', '2018-03-30', '2018-04-30',\n",
       "               '2018-05-31', '2018-06-29', '2018-07-31', '2018-08-31',\n",
       "               '2018-09-28', '2018-10-31', '2018-11-30', '2018-12-31',\n",
       "               '2019-01-31', '2019-02-28', '2019-03-29', '2019-04-30',\n",
       "               '2019-05-31', '2019-06-28', '2019-07-31', '2019-08-30',\n",
       "               '2019-09-30', '2019-10-31', '2019-11-29', '2019-12-31',\n",
       "               '2020-01-31', '2020-02-28', '2020-03-31', '2020-04-30',\n",
       "               '2020-05-29', '2020-06-30', '2020-07-31', '2020-08-31',\n",
       "               '2020-09-30', '2020-10-30', '2020-11-30', '2020-12-31',\n",
       "               '2021-01-29', '2021-02-26', '2021-03-31', '2021-04-30',\n",
       "               '2021-05-31', '2021-06-30', '2021-07-30', '2021-08-31',\n",
       "               '2021-09-30', '2021-10-29', '2021-11-30', '2021-12-31',\n",
       "               '2022-01-31', '2022-02-28', '2022-03-31', '2022-04-29',\n",
       "               '2022-05-31', '2022-06-30', '2022-07-29', '2022-08-31',\n",
       "               '2022-09-30', '2022-10-31', '2022-11-30'],\n",
       "              dtype='datetime64[ns]', freq='BM')"
      ]
     },
     "execution_count": 34,
     "metadata": {},
     "output_type": "execute_result"
    }
   ],
   "source": [
    "create_monthly_rebalance_dates('01/01/2018','01/12/2022')"
   ]
  },
  {
   "cell_type": "markdown",
   "id": "ce6b3f35",
   "metadata": {},
   "source": [
    "... and check our profit does not change."
   ]
  },
  {
   "cell_type": "code",
   "execution_count": 35,
   "id": "7751dd19",
   "metadata": {},
   "outputs": [],
   "source": [
    "fixed_allocation_portfolio_rebalanced = fixed_allocation_portfolio.rebalance(create_monthly_rebalance_dates('01/01/2018','01/12/2022'))\n",
    "assert(single_holding_returns.profit() == fixed_allocation_portfolio_rebalanced.to_returns().profit())"
   ]
  },
  {
   "cell_type": "markdown",
   "id": "4d54d1b6",
   "metadata": {},
   "source": [
    "This was quite an easy test as the funds were identical. Let see if we can use a single `FixedAllocationPortfolio` to give the same profit as two holdings where we have done a manual rebalance. Let's check how the rebalance and deposit dates align so tha we have an identical computation."
   ]
  },
  {
   "cell_type": "code",
   "execution_count": 36,
   "id": "1cd1358f",
   "metadata": {},
   "outputs": [
    {
     "data": {
      "text/plain": [
       "DatetimeIndex(['2021-01-29'], dtype='datetime64[ns]', freq='BM')"
      ]
     },
     "execution_count": 36,
     "metadata": {},
     "output_type": "execute_result"
    }
   ],
   "source": [
    "create_monthly_rebalance_dates('01/01/2021','29/01/2021')"
   ]
  },
  {
   "cell_type": "code",
   "execution_count": 37,
   "id": "47967c90",
   "metadata": {},
   "outputs": [
    {
     "data": {
      "text/plain": [
       "2020-11-30    800.0\n",
       "2020-12-31    800.0\n",
       "2021-01-29    800.0\n",
       "Freq: BM, Name: deposits, dtype: float64"
      ]
     },
     "execution_count": 37,
     "metadata": {},
     "output_type": "execute_result"
    }
   ],
   "source": [
    "create_monthly_deposits('30/11/2020','01/02/2021',0.8*1000)"
   ]
  },
  {
   "cell_type": "markdown",
   "id": "64947fba",
   "metadata": {},
   "source": [
    "Now, we create our desposits..."
   ]
  },
  {
   "cell_type": "code",
   "execution_count": 38,
   "id": "303e4171",
   "metadata": {},
   "outputs": [],
   "source": [
    "holding_one_deposits = create_monthly_deposits('01/01/2018','31/12/2020',0.8*1000)"
   ]
  },
  {
   "cell_type": "markdown",
   "id": "278e3b80",
   "metadata": {},
   "source": [
    "but also note the length of this array as we are going to do our final rebalance on the day that would be the next monthl deposit."
   ]
  },
  {
   "cell_type": "code",
   "execution_count": 39,
   "id": "969371bd",
   "metadata": {},
   "outputs": [],
   "source": [
    "rebalance_row = holding_one_deposits.shape[0]"
   ]
  },
  {
   "cell_type": "markdown",
   "id": "5c543d2a",
   "metadata": {},
   "source": [
    "We create our holdings with the deposit time series..."
   ]
  },
  {
   "cell_type": "code",
   "execution_count": 40,
   "id": "52e230c8",
   "metadata": {},
   "outputs": [],
   "source": [
    "holding_one = Holding(\"Scottish Mortgage Ord\",\"GB00BLDYK618\",0.1,holding_one_deposits)"
   ]
  },
  {
   "cell_type": "markdown",
   "id": "263308f8",
   "metadata": {},
   "source": [
    "and also note the row where our next deposit it will be. The reader should be aware that holdings track from the date of the first deposit to the present day."
   ]
  },
  {
   "cell_type": "code",
   "execution_count": 41,
   "id": "2ff35785",
   "metadata": {},
   "outputs": [
    {
     "data": {
      "text/plain": [
       "758"
      ]
     },
     "execution_count": 41,
     "metadata": {},
     "output_type": "execute_result"
    }
   ],
   "source": [
    "row = holding_one.history.index.get_indexer([to_datetime('29/01/2021')], method='nearest')[0]\n",
    "row"
   ]
  },
  {
   "cell_type": "code",
   "execution_count": 42,
   "id": "ad0f8542",
   "metadata": {},
   "outputs": [
    {
     "data": {
      "text/plain": [
       "Timestamp('2021-01-29 00:00:00')"
      ]
     },
     "execution_count": 42,
     "metadata": {},
     "output_type": "execute_result"
    }
   ],
   "source": [
    "holding_one.history.index[row]"
   ]
  },
  {
   "cell_type": "code",
   "execution_count": 43,
   "id": "b07eed58",
   "metadata": {},
   "outputs": [
    {
     "data": {
      "text/plain": [
       "60231.05181756526"
      ]
     },
     "execution_count": 43,
     "metadata": {},
     "output_type": "execute_result"
    }
   ],
   "source": [
    "holding_one_value  = holding_one.history.cum_value[row]\n",
    "holding_one_value"
   ]
  },
  {
   "cell_type": "code",
   "execution_count": 44,
   "id": "9da4e0cf",
   "metadata": {},
   "outputs": [
    {
     "data": {
      "text/plain": [
       "8399.1920909121"
      ]
     },
     "execution_count": 44,
     "metadata": {},
     "output_type": "execute_result"
    }
   ],
   "source": [
    "holding_two = Holding(\"Fundsmith Equity I Acc\",\"GB00B41YBW71\",0.1,create_monthly_deposits('01/01/2018','31/12/2020',0.2*1000))\n",
    "holding_two_value  = holding_two.history.cum_value[row]\n",
    "holding_two_value"
   ]
  },
  {
   "cell_type": "code",
   "execution_count": 45,
   "id": "0cbed16f",
   "metadata": {},
   "outputs": [
    {
     "data": {
      "text/plain": [
       "68630.24390847737"
      ]
     },
     "execution_count": 45,
     "metadata": {},
     "output_type": "execute_result"
    }
   ],
   "source": [
    "total_value = holding_one_value + holding_two_value\n",
    "total_value"
   ]
  },
  {
   "cell_type": "markdown",
   "id": "5adf999f",
   "metadata": {},
   "source": [
    "Now, let's make create two holdings for our whole duration and update the deposits to do the manual rebalance..."
   ]
  },
  {
   "cell_type": "code",
   "execution_count": 46,
   "id": "7a3ecb59",
   "metadata": {},
   "outputs": [],
   "source": [
    "holding_one_deposits = create_monthly_deposits('01/01/2018','31/12/2022',0.8*1000)\n",
    "holding_one_deposits[rebalance_row] = holding_one_deposits[rebalance_row]+(0.8*total_value-holding_one_value)\n",
    "holding_one = Holding(\"Scottish Mortgage Ord\",\"GB00BLDYK618\",0.1,holding_one_deposits)\n",
    "holding_two_deposits = create_monthly_deposits('01/01/2018','31/12/2022',0.2*1000)\n",
    "holding_two_deposits[rebalance_row] = holding_two_deposits[rebalance_row]+(0.2*total_value-holding_two_value)\n",
    "holding_two = Holding(\"Fundsmith Equity I Acc\",\"GB00B41YBW71\",0.1,holding_two_deposits)"
   ]
  },
  {
   "cell_type": "markdown",
   "id": "7565a50d",
   "metadata": {},
   "source": [
    "and do the same with our `FixedAllocationPortfolio`."
   ]
  },
  {
   "cell_type": "code",
   "execution_count": 47,
   "id": "08c46175",
   "metadata": {},
   "outputs": [],
   "source": [
    "multi_holding_portfolio = FixedAllocationPortfolio([\"Scottish Mortgage Ord\",\"Fundsmith Equity I Acc\"],\n",
    "                                                   [\"GB00BLDYK618\",\"GB00B41YBW71\"],\n",
    "                                                   [0.1, 0.1],\n",
    "                                                   [0.8, 0.2],\n",
    "                                                   create_monthly_deposits('01/01/2018','31/12/2022',1000))\n",
    "rebalanced_multi_holding_portfolio = multi_holding_portfolio.rebalance(create_monthly_rebalance_dates('01/01/2021','29/01/2021'))\n"
   ]
  },
  {
   "cell_type": "code",
   "execution_count": 48,
   "id": "93df764a",
   "metadata": {},
   "outputs": [],
   "source": [
    "assert(holding_one.to_returns().profit() + holding_two.to_returns().profit() - rebalanced_multi_holding_portfolio.to_returns().profit() < 0.01)"
   ]
  },
  {
   "cell_type": "markdown",
   "id": "4e31674a",
   "metadata": {},
   "source": [
    "We might be interested in plotting the value of a holding over time. Let's patch in a method for that. `yfinfance` and `matplotlib` can be used if we want to just the price of a stock over time."
   ]
  },
  {
   "cell_type": "code",
   "execution_count": 49,
   "id": "e2837b9c",
   "metadata": {},
   "outputs": [],
   "source": [
    "# def plot(holding):\n",
    "#     'Plot value of the holding'\n",
    "#     plt.plot(holding.history['cum_value'])\n",
    "#     plt.xticks(rotation = 90)\n",
    "#     plt.title(holding.fund)\n",
    "#     return plt"
   ]
  },
  {
   "cell_type": "markdown",
   "id": "2114e8db",
   "metadata": {},
   "source": [
    "We use the `MonthLocator` to set the xtick positions."
   ]
  },
  {
   "cell_type": "code",
   "execution_count": 50,
   "id": "74671675",
   "metadata": {},
   "outputs": [],
   "source": [
    "# from matplotlib.dates import MonthLocator\n",
    "# plt = plot(single_holding)\n",
    "# ax = plt.gca()\n",
    "# ax.xaxis.set_major_locator(MonthLocator([1,7]))"
   ]
  },
  {
   "cell_type": "code",
   "execution_count": 51,
   "id": "7687224e",
   "metadata": {},
   "outputs": [],
   "source": [
    "#| hide\n",
    "import nbdev; nbdev.nbdev_export()"
   ]
  }
 ],
 "metadata": {
  "kernelspec": {
   "display_name": "Python 3 (ipykernel)",
   "language": "python",
   "name": "python3"
  },
  "language_info": {
   "codemirror_mode": {
    "name": "ipython",
    "version": 3
   },
   "file_extension": ".py",
   "mimetype": "text/x-python",
   "name": "python",
   "nbconvert_exporter": "python",
   "pygments_lexer": "ipython3",
   "version": "3.10.7"
  }
 },
 "nbformat": 4,
 "nbformat_minor": 5
}
