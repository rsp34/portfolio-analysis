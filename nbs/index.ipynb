{
 "cells": [
  {
   "cell_type": "code",
   "execution_count": null,
   "metadata": {},
   "outputs": [],
   "source": [
    "#| hide\n",
    "# Remember \"pip install -e .\" in the project file\n",
    "from portfolio_analysis.portfolio import *\n",
    "from datetime import date"
   ]
  },
  {
   "cell_type": "markdown",
   "metadata": {},
   "source": [
    "# portfolio-analysis\n",
    "\n",
    "> A repository to trace an investment portfolio back in time including fees and rebalancing."
   ]
  },
  {
   "cell_type": "markdown",
   "metadata": {},
   "source": [
    "This file will become your README and also the index of your documentation."
   ]
  },
  {
   "cell_type": "markdown",
   "metadata": {},
   "source": [
    "## Install"
   ]
  },
  {
   "cell_type": "markdown",
   "metadata": {},
   "source": [
    "```sh\n",
    "pip install portfolio_analysis\n",
    "```"
   ]
  },
  {
   "cell_type": "markdown",
   "metadata": {},
   "source": [
    "## How to use\n",
    "\n",
    "Let's explore a few different potential portfolios, recommended by various platform, to compared investment ideas assuming we started investing 5 years ago..."
   ]
  },
  {
   "cell_type": "code",
   "execution_count": null,
   "metadata": {},
   "outputs": [],
   "source": [
    "monthly_deposits = create_monthly_deposits(\"01/01/2018\",date.today().strftime(\"%d/%m/%Y\"),20000/12)"
   ]
  },
  {
   "cell_type": "markdown",
   "metadata": {},
   "source": [
    "and that we rebalance monthly for multi-asset portfolios."
   ]
  },
  {
   "cell_type": "code",
   "execution_count": null,
   "metadata": {},
   "outputs": [],
   "source": [
    "rebalance_dates = create_monthly_rebalance_dates(\"01/01/2018\",date.today().strftime(\"%d/%m/%Y\"))"
   ]
  },
  {
   "cell_type": "markdown",
   "metadata": {},
   "source": [
    "Let's also see how an initial deposit of £250,000 would have faired. Then compare these to the performances of [MoneyFarm](https://www.moneyfarm.com/uk/portfolios/) and [Nutmeg](https://www.nutmeg.com/fully-managed-portfolios)."
   ]
  },
  {
   "cell_type": "code",
   "execution_count": null,
   "metadata": {},
   "outputs": [],
   "source": [
    "initial_deposit  = create_monthly_deposits(\"01/01/2018\",\"01/02/2018\",250000)"
   ]
  },
  {
   "cell_type": "markdown",
   "metadata": {},
   "source": [
    "### Vanguard Life Strategy 100%\n",
    "Sources: https://uk.finance.yahoo.com/quote/0P0000TKZO.L?p=0P0000TKZO.L&.tsrc=fin-srch, https://www.vanguardinvestor.co.uk/what-we-offer/all-products"
   ]
  },
  {
   "cell_type": "code",
   "execution_count": null,
   "metadata": {},
   "outputs": [
    {
     "data": {
      "text/plain": [
       "23933.89491594279"
      ]
     },
     "execution_count": null,
     "metadata": {},
     "output_type": "execute_result"
    }
   ],
   "source": [
    "vanguard_life_strategy = Holding('Vanguard LifeStrategy 100%','0P0000TKZO.L',0.22,monthly_deposits)\n",
    "vanguard_life_strategy.to_returns().profit()"
   ]
  },
  {
   "cell_type": "code",
   "execution_count": null,
   "metadata": {},
   "outputs": [
    {
     "data": {
      "text/plain": [
       "107372.11443456807"
      ]
     },
     "execution_count": null,
     "metadata": {},
     "output_type": "execute_result"
    }
   ],
   "source": [
    "vanguard_life_strategy = Holding('Vanguard LifeStrategy 100%','0P0000TKZO.L',0.22+0.15,initial_deposit)\n",
    "vanguard_life_strategy.to_returns().profit()"
   ]
  },
  {
   "cell_type": "markdown",
   "metadata": {},
   "source": [
    "### Vanguard Global All Cap\n",
    "Sources: https://finance.yahoo.com/quote/0P00018XAR.L?p=0P00018XAR.L&.tsrc=fin-srch, https://www.vanguardinvestor.co.uk/investments/vanguard-ftse-global-all-cap-index-fund-gbp-acc/overview"
   ]
  },
  {
   "cell_type": "code",
   "execution_count": null,
   "metadata": {},
   "outputs": [
    {
     "data": {
      "text/plain": [
       "25024.61858661359"
      ]
     },
     "execution_count": null,
     "metadata": {},
     "output_type": "execute_result"
    }
   ],
   "source": [
    "vanguard_life_strategy = Holding('Vanguard FTSE Global All Cap Index Fund GBP Acc','0P00018XAR.L',0.23,monthly_deposits)\n",
    "vanguard_life_strategy.to_returns().profit()"
   ]
  },
  {
   "cell_type": "code",
   "execution_count": null,
   "metadata": {},
   "outputs": [
    {
     "data": {
      "text/plain": [
       "120444.68172907135"
      ]
     },
     "execution_count": null,
     "metadata": {},
     "output_type": "execute_result"
    }
   ],
   "source": [
    "vanguard_life_strategy = Holding('Vanguard FTSE Global All Cap Index Fund GBP Acc','0P00018XAR.L',0.23+0.15,initial_deposit)\n",
    "vanguard_life_strategy.to_returns().profit()"
   ]
  },
  {
   "cell_type": "markdown",
   "metadata": {},
   "source": [
    "### AJ Bell Ready-Made Portfolios\n",
    "Sources:"
   ]
  },
  {
   "cell_type": "code",
   "execution_count": null,
   "metadata": {},
   "outputs": [
    {
     "data": {
      "text/plain": [
       "5037.1349889412595"
      ]
     },
     "execution_count": null,
     "metadata": {},
     "output_type": "execute_result"
    }
   ],
   "source": [
    "aj_bell_adventurous = FixedAllocationPortfolio([\"abrdn Global Smaller Companies\",\n",
    "                                                \"Artemis Strategic Bond Acc\",# Different date?\n",
    "                                                \"Fidelity Global Special Sits Acc\",\n",
    "                                                \"Janus Henderson Absolute Return Acc\",\n",
    "                                                \"Jupiter UK Special Situations Acc\",\n",
    "                                                \"Ninety One UK Alpha Acc\",\n",
    "                                                \"Trojan Global Income Acc\"],# Different date?\n",
    "                                               [\"0P0000V4D1.L\",\n",
    "                                                \"0P00012OVS.L\",\n",
    "                                                \"0P0000WUT6.L\",\n",
    "                                                \"0P0001HG38.L\",\n",
    "                                                \"0P0000K9EK.L\",\n",
    "                                                \"0P00012K82.L\",\n",
    "                                                \"0P00012OVS.L\"],\n",
    "                                               [0.94,0.59,0.92,1.07,0.76,0.74,0.89],\n",
    "                                               [0.1,0.08,0.28,0.03,0.08,0.15,0.28],\n",
    "                                               monthly_deposits)\n",
    "aj_bell_adventurous_rebalanced = aj_bell_adventurous.rebalance(rebalance_dates)\n",
    "aj_bell_adventurous_rebalanced.to_returns().profit()"
   ]
  },
  {
   "cell_type": "code",
   "execution_count": null,
   "metadata": {},
   "outputs": [
    {
     "data": {
      "text/plain": [
       "34544.59194952766"
      ]
     },
     "execution_count": null,
     "metadata": {},
     "output_type": "execute_result"
    }
   ],
   "source": [
    "aj_bell_adventurous = FixedAllocationPortfolio([\"abrdn Global Smaller Companies\",\n",
    "                                                \"Artemis Strategic Bond Acc\",# Different date?\n",
    "                                                \"Fidelity Global Special Sits Acc\",\n",
    "                                                \"Janus Henderson Absolute Return Acc\",\n",
    "                                                \"Jupiter UK Special Situations Acc\",\n",
    "                                                \"Ninety One UK Alpha Acc\",\n",
    "                                                \"Trojan Global Income Acc\"],# Different date?\n",
    "                                               [\"0P0000V4D1.L\",\n",
    "                                                \"0P00012OVS.L\",\n",
    "                                                \"0P0000WUT6.L\",\n",
    "                                                \"0P0001HG38.L\",\n",
    "                                                \"0P0000K9EK.L\",\n",
    "                                                \"0P00012K82.L\",\n",
    "                                                \"0P00012OVS.L\"],\n",
    "                                               [0.94,0.59,0.92,1.07,0.76,0.74,0.89],\n",
    "                                               [0.1,0.08,0.28,0.03,0.08,0.15,0.28],\n",
    "                                               initial_deposit)\n",
    "aj_bell_adventurous_rebalanced = aj_bell_adventurous.rebalance(rebalance_dates)\n",
    "aj_bell_adventurous_rebalanced.to_returns().profit()"
   ]
  },
  {
   "cell_type": "markdown",
   "metadata": {},
   "source": [
    "### Interactive-Investor Portfolios"
   ]
  },
  {
   "cell_type": "code",
   "execution_count": null,
   "metadata": {},
   "outputs": [
    {
     "name": "stderr",
     "output_type": "stream",
     "text": [
      "c:\\users\\ryan\\portfolio-analysis\\portfolio_analysis\\portfolio.py:57: UserWarning: Deposits predate initial date of 2021-09-01 00:00:00 where prices are available for LF Ruffer Diversified. First pricing data is back-filled.\n",
      "  warnings.warn(warn_msg)\n"
     ]
    },
    {
     "data": {
      "text/plain": [
       "12905.323944822485"
      ]
     },
     "execution_count": null,
     "metadata": {},
     "output_type": "execute_result"
    }
   ],
   "source": [
    "active_growth = FixedAllocationPortfolio([\"Jupiter UK Special Situations Acc\",\n",
    "                                    \"Ninety One UK Alpha Acc\",\n",
    "                                    \"Scottish Mortgage Ord\",\n",
    "                                    \"Fidelity Global Dividend W Acc\",\n",
    "                                    \"Fundsmith Equity\",\n",
    "                                    \"F&C Investment Trust\",\n",
    "                                    \"Vanguard U.S. Equity\",\n",
    "                                    \"JPMorgan Emerging Markets\",\n",
    "                                    \"Capital Gearing Ord\",\n",
    "                                    \"LF Ruffer Diversified\",\n",
    "                                    \"abrdn Private Equity Opportunities\"],\n",
    "                                               [\"0P0000K9EK.L\",\n",
    "                                                \"0P00012K82.L\",\n",
    "                                                \"SMT.L\",\n",
    "                                                \"0P0000WUT3.L\",\n",
    "                                                \"0P0000RU81.L\",\n",
    "                                                \"FCIT.L\",\n",
    "                                                \"0P0000KSPA.L\",\n",
    "                                                \"JMG.L\",\n",
    "                                                \"CGT.L\",\n",
    "                                                \"0P0001MKQK.L\",\n",
    "                                                \"APEO.L\"],\n",
    "                                               [0.76,0.74,0.84,0.91,0.94,0.83,0.1,0.86,0.66,1.12,6.25],\n",
    "                                               [0.1 , 0.1,0.12, 0.1,0.13, 0.1,0.1,0.05,0.10,0.05,0.05],\n",
    "                                               monthly_deposits)\n",
    "\n",
    "active_growth_rebalanced = active_growth.rebalance(rebalance_dates)\n",
    "active_growth_rebalanced.to_returns().profit()"
   ]
  },
  {
   "cell_type": "code",
   "execution_count": null,
   "metadata": {},
   "outputs": [
    {
     "name": "stderr",
     "output_type": "stream",
     "text": [
      "c:\\users\\ryan\\portfolio-analysis\\portfolio_analysis\\portfolio.py:57: UserWarning: Deposits predate initial date of 2021-09-01 00:00:00 where prices are available for LF Ruffer Diversified. First pricing data is back-filled.\n",
      "  warnings.warn(warn_msg)\n"
     ]
    },
    {
     "data": {
      "text/plain": [
       "91056.05058932351"
      ]
     },
     "execution_count": null,
     "metadata": {},
     "output_type": "execute_result"
    }
   ],
   "source": [
    "active_growth = FixedAllocationPortfolio([\"Jupiter UK Special Situations Acc\",\n",
    "                                    \"Ninety One UK Alpha Acc\",\n",
    "                                    \"Scottish Mortgage Ord\",\n",
    "                                    \"Fidelity Global Dividend W Acc\",\n",
    "                                    \"Fundsmith Equity\",\n",
    "                                    \"F&C Investment Trust\",\n",
    "                                    \"Vanguard U.S. Equity\",\n",
    "                                    \"JPMorgan Emerging Markets\",\n",
    "                                    \"Capital Gearing Ord\",\n",
    "                                    \"LF Ruffer Diversified\",\n",
    "                                    \"abrdn Private Equity Opportunities\"],\n",
    "                                               [\"0P0000K9EK.L\",\n",
    "                                                \"0P00012K82.L\",\n",
    "                                                \"SMT.L\",\n",
    "                                                \"0P0000WUT3.L\",\n",
    "                                                \"0P0000RU81.L\",\n",
    "                                                \"FCIT.L\",\n",
    "                                                \"0P0000KSPA.L\",\n",
    "                                                \"JMG.L\",\n",
    "                                                \"CGT.L\",\n",
    "                                                \"0P0001MKQK.L\",\n",
    "                                                \"APEO.L\"],\n",
    "                                               [0.76,0.74,0.84,0.91,0.94,0.83,0.1,0.86,0.66,1.12,6.25],\n",
    "                                               [0.1 , 0.1,0.12, 0.1,0.13, 0.1,0.1,0.05,0.10,0.05,0.05],\n",
    "                                               initial_deposit)\n",
    "\n",
    "active_growth_rebalanced = active_growth.rebalance(rebalance_dates)\n",
    "active_growth_rebalanced.to_returns().profit()"
   ]
  },
  {
   "cell_type": "markdown",
   "metadata": {},
   "source": [
    "### Invest Engine Portfolios"
   ]
  },
  {
   "cell_type": "code",
   "execution_count": null,
   "metadata": {},
   "outputs": [
    {
     "ename": "SyntaxError",
     "evalue": "invalid syntax (3032707284.py, line 1)",
     "output_type": "error",
     "traceback": [
      "\u001b[1;36m  Input \u001b[1;32mIn [13]\u001b[1;36m\u001b[0m\n\u001b[1;33m    growth_10 =\u001b[0m\n\u001b[1;37m                ^\u001b[0m\n\u001b[1;31mSyntaxError\u001b[0m\u001b[1;31m:\u001b[0m invalid syntax\n"
     ]
    }
   ],
   "source": [
    "growth_10 = "
   ]
  },
  {
   "cell_type": "markdown",
   "metadata": {},
   "source": [
    "### Fidelity Portfolio Recommendations "
   ]
  },
  {
   "cell_type": "markdown",
   "metadata": {},
   "source": [
    "# Development Ideas\n",
    "Ultimately, the project can broadly answer the questions I was originally interested in, namely, once fees and rebalancing are included in porfolio modelling how do different fund recommendations compare. To develop this project further I would:\n",
    "* Look at refactoring the notebooks to improve the documentation site that has been created. I wanted to test out using `nbdev` on a small software project and, unfortunately, I don't think the resulting documentation site is that clear or readable. I think this is how I have structured the notebooks rather than the fault of the `nbdev` approach.\n",
    "* Add more tests to increase confidence that the modelling software is working as hoped.\n",
    "* Extend analytics and visualisations for the `Returns` class e.g. plots, tables or alternate metrics like the integrated fund value.\n",
    "* Add a functionality for variable allocations, variable fund portfolio e.g. a `Portfolio` class that could do things like reduce exposure to stocks as a portfolio over time or try investing only at certain times of the year.\n",
    "* Architect general method to integrate holding data other than `yfinance` as different users may want to pull data from different sources. I am broadly happy with yfinance as it's free and does what I need!"
   ]
  }
 ],
 "metadata": {
  "kernelspec": {
   "display_name": "Python 3 (ipykernel)",
   "language": "python",
   "name": "python3"
  },
  "language_info": {
   "codemirror_mode": {
    "name": "ipython",
    "version": 3
   },
   "file_extension": ".py",
   "mimetype": "text/x-python",
   "name": "python",
   "nbconvert_exporter": "python",
   "pygments_lexer": "ipython3",
   "version": "3.10.7"
  }
 },
 "nbformat": 4,
 "nbformat_minor": 4
}
