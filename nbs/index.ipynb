{
 "cells": [
  {
   "cell_type": "code",
   "execution_count": 1,
   "metadata": {},
   "outputs": [],
   "source": [
    "#| hide\n",
    "# Remember \"pip install -e .\" in the project file\n",
    "from portfolio_analysis.portfolio import *\n",
    "from datetime import date"
   ]
  },
  {
   "cell_type": "markdown",
   "metadata": {},
   "source": [
    "# portfolio-analysis\n",
    "\n",
    "> A repository to trace an investment portfolio back in time including fees and rebalancing."
   ]
  },
  {
   "cell_type": "markdown",
   "metadata": {},
   "source": [
    "This file will become your README and also the index of your documentation."
   ]
  },
  {
   "cell_type": "markdown",
   "metadata": {},
   "source": [
    "## Install"
   ]
  },
  {
   "cell_type": "markdown",
   "metadata": {},
   "source": [
    "```sh\n",
    "pip install portfolio_analysis\n",
    "```"
   ]
  },
  {
   "cell_type": "markdown",
   "metadata": {},
   "source": [
    "## How to use\n",
    "\n",
    "Let's explore a few different potential portfolios, recommended by various platform, to compared investment ideas assuming we started investing 5 years ago..."
   ]
  },
  {
   "cell_type": "code",
   "execution_count": 2,
   "metadata": {},
   "outputs": [],
   "source": [
    "monthly_deposits = create_monthly_deposits(\"01/01/2018\",date.today().strftime(\"%d/%m/%Y\"),20000/12)"
   ]
  },
  {
   "cell_type": "markdown",
   "metadata": {},
   "source": [
    "and that we rebalance monthly for multi-asset portfolios."
   ]
  },
  {
   "cell_type": "code",
   "execution_count": 3,
   "metadata": {},
   "outputs": [],
   "source": [
    "rebalance_dates = create_monthly_rebalance_dates(\"01/01/2018\",date.today().strftime(\"%d/%m/%Y\"))"
   ]
  },
  {
   "cell_type": "markdown",
   "metadata": {},
   "source": [
    "Let's also see how an initial deposit of £250,000 would have faired. The compare these to the performances of [MoneyFarm](https://www.moneyfarm.com/uk/portfolios/) and [Nutmeg](https://www.nutmeg.com/fully-managed-portfolios)."
   ]
  },
  {
   "cell_type": "code",
   "execution_count": 4,
   "metadata": {},
   "outputs": [],
   "source": [
    "initial_deposit  = create_monthly_deposits(\"01/01/2018\",\"01/02/2018\",250000)"
   ]
  },
  {
   "cell_type": "markdown",
   "metadata": {},
   "source": [
    "### Vanguard Life Strategy 100%\n",
    "Sources: https://uk.finance.yahoo.com/quote/0P0000TKZO.L?p=0P0000TKZO.L&.tsrc=fin-srch, https://www.vanguardinvestor.co.uk/what-we-offer/all-products"
   ]
  },
  {
   "cell_type": "code",
   "execution_count": 5,
   "metadata": {},
   "outputs": [
    {
     "data": {
      "text/plain": [
       "21468.62722728374"
      ]
     },
     "execution_count": 5,
     "metadata": {},
     "output_type": "execute_result"
    }
   ],
   "source": [
    "vanguard_life_strategy = Holding('Vanguard LifeStrategy 100%','0P0000TKZO.L',0.22,monthly_deposits)\n",
    "vanguard_life_strategy.to_returns().profit()"
   ]
  },
  {
   "cell_type": "code",
   "execution_count": 6,
   "metadata": {},
   "outputs": [
    {
     "data": {
      "text/plain": [
       "105866.92785547086"
      ]
     },
     "execution_count": 6,
     "metadata": {},
     "output_type": "execute_result"
    }
   ],
   "source": [
    "vanguard_life_strategy = Holding('Vanguard LifeStrategy 100%','0P0000TKZO.L',0.22+0.15,initial_deposit)\n",
    "vanguard_life_strategy.to_returns().profit()"
   ]
  },
  {
   "cell_type": "markdown",
   "metadata": {},
   "source": [
    "### Vanguard Global All Cap\n",
    "Sources: https://finance.yahoo.com/quote/0P00018XAR.L?p=0P00018XAR.L&.tsrc=fin-srch, https://www.vanguardinvestor.co.uk/investments/vanguard-ftse-global-all-cap-index-fund-gbp-acc/overview"
   ]
  },
  {
   "cell_type": "code",
   "execution_count": 7,
   "metadata": {},
   "outputs": [
    {
     "data": {
      "text/plain": [
       "21320.415453727554"
      ]
     },
     "execution_count": 7,
     "metadata": {},
     "output_type": "execute_result"
    }
   ],
   "source": [
    "vanguard_life_strategy = Holding('Vanguard FTSE Global All Cap Index Fund GBP Acc','0P00018XAR.L',0.23,monthly_deposits)\n",
    "vanguard_life_strategy.to_returns().profit()"
   ]
  },
  {
   "cell_type": "code",
   "execution_count": 8,
   "metadata": {},
   "outputs": [
    {
     "data": {
      "text/plain": [
       "115297.28074612707"
      ]
     },
     "execution_count": 8,
     "metadata": {},
     "output_type": "execute_result"
    }
   ],
   "source": [
    "vanguard_life_strategy = Holding('Vanguard FTSE Global All Cap Index Fund GBP Acc','0P00018XAR.L',0.23+0.15,initial_deposit)\n",
    "vanguard_life_strategy.to_returns().profit()"
   ]
  },
  {
   "cell_type": "markdown",
   "metadata": {},
   "source": [
    "### AJ Bell Ready-Made Portfolios\n",
    "Sources:"
   ]
  },
  {
   "cell_type": "code",
   "execution_count": 9,
   "metadata": {},
   "outputs": [
    {
     "data": {
      "text/plain": [
       "7032.533564851899"
      ]
     },
     "execution_count": 9,
     "metadata": {},
     "output_type": "execute_result"
    }
   ],
   "source": [
    "aj_bell_adventurous = FixedAllocationPortfolio([\"abrdn Global Smaller Companies\",\n",
    "                                                \"Artemis Strategic Bond Acc\",# Different date?\n",
    "                                                \"Fidelity Global Special Sits Acc\",\n",
    "                                                \"Janus Henderson Absolute Return Acc\",\n",
    "                                                \"Jupiter UK Special Situations Acc\",\n",
    "                                                \"Ninety One UK Alpha Acc\",\n",
    "                                                \"Trojan Global Income Acc\"],# Different date?\n",
    "                                               [\"0P0000V4D1.L\",\n",
    "                                                \"0P00012OVS.L\",\n",
    "                                                \"0P0000WUT6.L\",\n",
    "                                                \"0P0001HG38.L\",\n",
    "                                                \"0P0000K9EK.L\",\n",
    "                                                \"0P00012K82.L\",\n",
    "                                                \"0P00012OVS.L\"],\n",
    "                                               [0.94,0.59,0.92,1.07,0.76,0.74,0.89],\n",
    "                                               [0.1,0.08,0.28,0.03,0.08,0.15,0.28],\n",
    "                                               monthly_deposits)\n",
    "aj_bell_adventurous_rebalanced = aj_bell_adventurous.rebalance(rebalance_dates)\n",
    "aj_bell_adventurous_rebalanced.to_returns().profit()"
   ]
  },
  {
   "cell_type": "code",
   "execution_count": 10,
   "metadata": {},
   "outputs": [
    {
     "data": {
      "text/plain": [
       "40979.44563334679"
      ]
     },
     "execution_count": 10,
     "metadata": {},
     "output_type": "execute_result"
    }
   ],
   "source": [
    "aj_bell_adventurous = FixedAllocationPortfolio([\"abrdn Global Smaller Companies\",\n",
    "                                                \"Artemis Strategic Bond Acc\",# Different date?\n",
    "                                                \"Fidelity Global Special Sits Acc\",\n",
    "                                                \"Janus Henderson Absolute Return Acc\",\n",
    "                                                \"Jupiter UK Special Situations Acc\",\n",
    "                                                \"Ninety One UK Alpha Acc\",\n",
    "                                                \"Trojan Global Income Acc\"],# Different date?\n",
    "                                               [\"0P0000V4D1.L\",\n",
    "                                                \"0P00012OVS.L\",\n",
    "                                                \"0P0000WUT6.L\",\n",
    "                                                \"0P0001HG38.L\",\n",
    "                                                \"0P0000K9EK.L\",\n",
    "                                                \"0P00012K82.L\",\n",
    "                                                \"0P00012OVS.L\"],\n",
    "                                               [0.94,0.59,0.92,1.07,0.76,0.74,0.89],\n",
    "                                               [0.1,0.08,0.28,0.03,0.08,0.15,0.28],\n",
    "                                               initial_deposit)\n",
    "aj_bell_adventurous_rebalanced = aj_bell_adventurous.rebalance(rebalance_dates)\n",
    "aj_bell_adventurous_rebalanced.to_returns().profit()"
   ]
  },
  {
   "cell_type": "markdown",
   "metadata": {},
   "source": [
    "### Interactive-Investor Portfolios"
   ]
  },
  {
   "cell_type": "code",
   "execution_count": 11,
   "metadata": {},
   "outputs": [
    {
     "name": "stderr",
     "output_type": "stream",
     "text": [
      "c:\\users\\ryan\\portfolio-analysis\\portfolio_analysis\\portfolio.py:57: FutureWarning: Comparison of Timestamp with datetime.date is deprecated in order to match the standard library behavior. In a future version these will be considered non-comparable. Use 'ts == pd.Timestamp(date)' or 'ts.date() == date' instead.\n",
      "  if not deposits.empty and deposits.index[0].date() == self.history.index[0]:\n",
      "c:\\users\\ryan\\portfolio-analysis\\portfolio_analysis\\portfolio.py:63: UserWarning: Deposits predate initial date of 2021-09-01 00:00:00 where prices are available for LF Ruffer Diversified. Accumulated deposit of 3666.666666666668 deposited on this date.\n",
      "  warnings.warn(warn_msg)\n"
     ]
    },
    {
     "data": {
      "text/plain": [
       "nan"
      ]
     },
     "execution_count": 11,
     "metadata": {},
     "output_type": "execute_result"
    }
   ],
   "source": [
    "active_growth = FixedAllocationPortfolio([\"Jupiter UK Special Situations Acc\",\n",
    "                                    \"Ninety One UK Alpha Acc\",\n",
    "                                    \"Scottish Mortgage Ord\",\n",
    "                                    \"Fidelity Global Dividend W Acc\",\n",
    "                                    \"Fundsmith Equity\",\n",
    "                                    \"F&C Investment Trust\",\n",
    "                                    \"Vanguard U.S. Equity\",\n",
    "                                    \"JPMorgan Emerging Markets\",\n",
    "                                    \"Capital Gearing Ord\",\n",
    "                                    \"LF Ruffer Diversified\",\n",
    "                                    \"abrdn Private Equity Opportunities\"],\n",
    "                                               [\"0P0000K9EK.L\",\n",
    "                                                \"0P00012K82.L\",\n",
    "                                                \"SMT.L\",\n",
    "                                                \"0P0000WUT3.L\",\n",
    "                                                \"GB00B4Q5X527.L\",\n",
    "                                               \"FCIT.L\",\n",
    "                                               \"0P0000KSPA.L\",\n",
    "                                               \"JMG.L\",\n",
    "                                               \"CGT.L\",\n",
    "                                               \"0P0001MKQK.L\",\n",
    "                                               \"APEO.L\"],\n",
    "                                               [0.76,0.74,0.84,0.91,0.94,0.83,0.1,0.86,0.66,1.12,6.25],\n",
    "                                               [0.1 , 0.1,0.12, 0.1,0.13, 0.1,0.1,0.05,0.10,0.05,0.05],\n",
    "                                               monthly_deposits)\n",
    "\n",
    "active_growth_rebalanced = active_growth.rebalance(rebalance_dates)\n",
    "active_growth_rebalanced.to_returns().profit()"
   ]
  },
  {
   "cell_type": "code",
   "execution_count": 32,
   "metadata": {},
   "outputs": [
    {
     "data": {
      "text/html": [
       "<div>\n",
       "<style scoped>\n",
       "    .dataframe tbody tr th:only-of-type {\n",
       "        vertical-align: middle;\n",
       "    }\n",
       "\n",
       "    .dataframe tbody tr th {\n",
       "        vertical-align: top;\n",
       "    }\n",
       "\n",
       "    .dataframe thead th {\n",
       "        text-align: right;\n",
       "    }\n",
       "</style>\n",
       "<table border=\"1\" class=\"dataframe\">\n",
       "  <thead>\n",
       "    <tr style=\"text-align: right;\">\n",
       "      <th></th>\n",
       "      <th>Open</th>\n",
       "      <th>High</th>\n",
       "      <th>Low</th>\n",
       "      <th>Close</th>\n",
       "      <th>Volume</th>\n",
       "      <th>deposits</th>\n",
       "      <th>cum_deposits</th>\n",
       "      <th>units</th>\n",
       "      <th>cum_units</th>\n",
       "      <th>cum_value</th>\n",
       "      <th>fees</th>\n",
       "    </tr>\n",
       "    <tr>\n",
       "      <th>Date</th>\n",
       "      <th></th>\n",
       "      <th></th>\n",
       "      <th></th>\n",
       "      <th></th>\n",
       "      <th></th>\n",
       "      <th></th>\n",
       "      <th></th>\n",
       "      <th></th>\n",
       "      <th></th>\n",
       "      <th></th>\n",
       "      <th></th>\n",
       "    </tr>\n",
       "  </thead>\n",
       "  <tbody>\n",
       "    <tr>\n",
       "      <th>2018-01-31</th>\n",
       "      <td>NaN</td>\n",
       "      <td>NaN</td>\n",
       "      <td>NaN</td>\n",
       "      <td>NaN</td>\n",
       "      <td>NaN</td>\n",
       "      <td>NaN</td>\n",
       "      <td>NaN</td>\n",
       "      <td>NaN</td>\n",
       "      <td>NaN</td>\n",
       "      <td>NaN</td>\n",
       "      <td>NaN</td>\n",
       "    </tr>\n",
       "    <tr>\n",
       "      <th>2018-02-01</th>\n",
       "      <td>NaN</td>\n",
       "      <td>NaN</td>\n",
       "      <td>NaN</td>\n",
       "      <td>NaN</td>\n",
       "      <td>NaN</td>\n",
       "      <td>216.666667</td>\n",
       "      <td>216.666667</td>\n",
       "      <td>NaN</td>\n",
       "      <td>NaN</td>\n",
       "      <td>NaN</td>\n",
       "      <td>NaN</td>\n",
       "    </tr>\n",
       "    <tr>\n",
       "      <th>2018-02-02</th>\n",
       "      <td>NaN</td>\n",
       "      <td>NaN</td>\n",
       "      <td>NaN</td>\n",
       "      <td>NaN</td>\n",
       "      <td>NaN</td>\n",
       "      <td>216.666667</td>\n",
       "      <td>433.333333</td>\n",
       "      <td>NaN</td>\n",
       "      <td>NaN</td>\n",
       "      <td>NaN</td>\n",
       "      <td>NaN</td>\n",
       "    </tr>\n",
       "    <tr>\n",
       "      <th>2018-02-05</th>\n",
       "      <td>NaN</td>\n",
       "      <td>NaN</td>\n",
       "      <td>NaN</td>\n",
       "      <td>NaN</td>\n",
       "      <td>NaN</td>\n",
       "      <td>216.666667</td>\n",
       "      <td>650.000000</td>\n",
       "      <td>NaN</td>\n",
       "      <td>NaN</td>\n",
       "      <td>NaN</td>\n",
       "      <td>NaN</td>\n",
       "    </tr>\n",
       "    <tr>\n",
       "      <th>2018-02-06</th>\n",
       "      <td>NaN</td>\n",
       "      <td>NaN</td>\n",
       "      <td>NaN</td>\n",
       "      <td>NaN</td>\n",
       "      <td>NaN</td>\n",
       "      <td>216.666667</td>\n",
       "      <td>866.666667</td>\n",
       "      <td>NaN</td>\n",
       "      <td>NaN</td>\n",
       "      <td>NaN</td>\n",
       "      <td>NaN</td>\n",
       "    </tr>\n",
       "  </tbody>\n",
       "</table>\n",
       "</div>"
      ],
      "text/plain": [
       "            Open  High  Low  Close  Volume    deposits  cum_deposits  units  \\\n",
       "Date                                                                          \n",
       "2018-01-31   NaN   NaN  NaN    NaN     NaN         NaN           NaN    NaN   \n",
       "2018-02-01   NaN   NaN  NaN    NaN     NaN  216.666667    216.666667    NaN   \n",
       "2018-02-02   NaN   NaN  NaN    NaN     NaN  216.666667    433.333333    NaN   \n",
       "2018-02-05   NaN   NaN  NaN    NaN     NaN  216.666667    650.000000    NaN   \n",
       "2018-02-06   NaN   NaN  NaN    NaN     NaN  216.666667    866.666667    NaN   \n",
       "\n",
       "            cum_units  cum_value  fees  \n",
       "Date                                    \n",
       "2018-01-31        NaN        NaN   NaN  \n",
       "2018-02-01        NaN        NaN   NaN  \n",
       "2018-02-02        NaN        NaN   NaN  \n",
       "2018-02-05        NaN        NaN   NaN  \n",
       "2018-02-06        NaN        NaN   NaN  "
      ]
     },
     "execution_count": 32,
     "metadata": {},
     "output_type": "execute_result"
    }
   ],
   "source": [
    "active_growth.holdings[4].history.head()"
   ]
  },
  {
   "cell_type": "markdown",
   "metadata": {},
   "source": [
    "##### Invest Engine Portfolios"
   ]
  },
  {
   "cell_type": "markdown",
   "metadata": {},
   "source": [
    "### Fidelity Portfolio Recommendations "
   ]
  }
 ],
 "metadata": {
  "kernelspec": {
   "display_name": "Python 3 (ipykernel)",
   "language": "python",
   "name": "python3"
  },
  "language_info": {
   "codemirror_mode": {
    "name": "ipython",
    "version": 3
   },
   "file_extension": ".py",
   "mimetype": "text/x-python",
   "name": "python",
   "nbconvert_exporter": "python",
   "pygments_lexer": "ipython3",
   "version": "3.10.7"
  }
 },
 "nbformat": 4,
 "nbformat_minor": 4
}
